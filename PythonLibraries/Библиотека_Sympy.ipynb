{
  "nbformat": 4,
  "nbformat_minor": 0,
  "metadata": {
    "colab": {
      "provenance": [],
      "include_colab_link": true
    },
    "kernelspec": {
      "name": "python3",
      "display_name": "Python 3"
    },
    "language_info": {
      "name": "python"
    }
  },
  "cells": [
    {
      "cell_type": "markdown",
      "metadata": {
        "id": "view-in-github",
        "colab_type": "text"
      },
      "source": [
        "<a href=\"https://colab.research.google.com/github/CodeHunterOfficial/ABC_DataMining/blob/main/PythonLibraries/%D0%91%D0%B8%D0%B1%D0%BB%D0%B8%D0%BE%D1%82%D0%B5%D0%BA%D0%B0_Sympy.ipynb\" target=\"_parent\"><img src=\"https://colab.research.google.com/assets/colab-badge.svg\" alt=\"Open In Colab\"/></a>"
      ]
    },
    {
      "cell_type": "markdown",
      "source": [
        "# **Библиотека Sympy**\n",
        "\n",
        "Введение\n",
        "SymPy — это библиотека для символьных вычислений на языке Python, предоставляющая мощные инструменты для работы с математическими выражениями. В отличие от численных вычислений, где результат представлен в виде чисел с плавающей запятой, символьные вычисления позволяют работать с математическими формулами, преобразуя и упрощая их без использования чисел до финальной стадии. SymPy широко применяется в таких областях, как алгебра, исчисление, уравнения, дискретная математика, а также для вычислений пределов, дифференцирования, интегрирования и решения уравнений.\n",
        "\n",
        "В этой лекции мы рассмотрим основные возможности SymPy, подробно объясняя каждый аспект библиотеки.\n",
        "\n",
        "# **Установка SymPy**\n",
        "Если библиотека SymPy еще не установлена, ее можно легко установить с помощью пакетного менеджера pip:\n",
        "\n",
        "pip install sympy\n",
        "\n",
        "**Основные концепции SymPy**\n",
        "1. Символьные вычисление\n",
        "1. Символьные переменные\n",
        "SymPy работает с символьными выражениями, представляющими математические объекты, такие как переменные, константы и функции. Для начала необходимо создать символьные переменные. Для этого используется функция symbols().\n",
        "\n",
        "**Пример 1: Создание символьных переменных**"
      ],
      "metadata": {
        "id": "0iVppH4MvFkU"
      }
    },
    {
      "cell_type": "code",
      "execution_count": null,
      "metadata": {
        "id": "BbixJtgJuybW"
      },
      "outputs": [],
      "source": [
        "from sympy import symbols\n",
        "\n",
        "# Создаем переменные x и y\n",
        "x, y = symbols('x y')"
      ]
    },
    {
      "cell_type": "markdown",
      "source": [
        "Здесь мы объявили две переменные\n",
        "x и y, которые будут использоваться в дальнейшем. Функция *symbols*() позволяет объявить любое количество переменных, просто перечислив их через пробел в строке.\n",
        "\n",
        "**Операции с символами**\n",
        "\n",
        "SymPy поддерживает базовые арифметические операции, такие как сложение, вычитание, умножение, деление и возведение в степень.\n",
        "\n",
        "**Пример 2: Арифметические операции с символами**"
      ],
      "metadata": {
        "id": "K3n9EASKvyyF"
      }
    },
    {
      "cell_type": "code",
      "source": [
        "# Пример арифметических операций\n",
        "expr1 = x + 2*y\n",
        "expr2 = x * y\n",
        "expr3 = (x + y)**2"
      ],
      "metadata": {
        "id": "txOgijpjwAjJ"
      },
      "execution_count": null,
      "outputs": []
    },
    {
      "cell_type": "markdown",
      "source": [
        "Здесь:\n",
        "\n",
        "expr1 — это выражение x + 2y,\n",
        "\n",
        "expr2 — это выражение xy,\n",
        "\n",
        "expr3 — это выражение (x + y)^2.\n",
        "\n",
        "SymPy автоматически сохраняет выражения в упрощенном виде, не выполняя численные расчеты. Это позволяет нам выполнять последующие символьные преобразования и манипуляции.\n",
        "\n",
        "# **2. Упрощение выражений в SymPy**\n",
        "Упрощение выражений — это важный аспект работы с символьными вычислениями. SymPy предоставляет различные функции для упрощения математических выражений. Давайте рассмотрим несколько методов упрощения и их применение с примерами и подробными объяснениями.\n",
        "\n",
        "**1. Упрощение выражений с помощью simplify()**\n",
        "\n",
        "Функция simplify() применяется для выполнения общего упрощения выражений. Она пытается сократить дроби, привести подобные члены и произвести другие преобразования, чтобы выразить результат в наиболее простом виде.\n",
        "\n",
        "**Пример 1: Простое упрощение**\n",
        "\n",
        "Рассмотрим следующее выражение:\n",
        "\n",
        " (x^2 + 2x + 1)/(x + 1)\n",
        "\n",
        " Этот пример можно упростить до (x + 1).\n",
        "\n",
        "\n",
        "\n"
      ],
      "metadata": {
        "id": "TEUFNM6gwKKf"
      }
    },
    {
      "cell_type": "code",
      "source": [
        "from sympy import symbols, simplify\n",
        "\n",
        "# Определяем переменные\n",
        "x = symbols('x')\n",
        "\n",
        "# Исходное выражение\n",
        "expr = (x**2 + 2*x + 1) / (x + 1)\n",
        "\n",
        "# Упрощение выражения\n",
        "simplified_expr = simplify(expr)\n",
        "\n",
        "# Вывод результата\n",
        "simplified_expr"
      ],
      "metadata": {
        "colab": {
          "base_uri": "https://localhost:8080/",
          "height": 39
        },
        "id": "6AUwYCRxy3ME",
        "outputId": "3673ed33-7a68-4799-bda8-f4fd4d51c0a3"
      },
      "execution_count": null,
      "outputs": [
        {
          "output_type": "execute_result",
          "data": {
            "text/plain": [
              "x + 1"
            ],
            "text/latex": "$\\displaystyle x + 1$"
          },
          "metadata": {},
          "execution_count": 2
        }
      ]
    },
    {
      "cell_type": "markdown",
      "source": [
        "**Объяснение:**\n",
        "\n",
        "Исходное выражение x^2 + 2x + 1  является квадратом бинома.\n",
        "При делении на (x + 1)^2 происходит сокращение, в результате чего мы получаем (x + 1).\n",
        "\n",
        "**2. Раскрытие скобок с помощью expand()**\n",
        "Функция expand() используется для раскрытия скобок в выражениях, что позволяет представить выражение в развернутом виде.\n",
        "\n",
        "**Пример 2: Раскрытие скобок**\n",
        "\n",
        "Рассмотрим следующее выражение:\n",
        "(x + 2)(x + 3).\n",
        "Результатом раскрытия будет x^2 + 5x + 6\n",
        "\n"
      ],
      "metadata": {
        "id": "Vzmnp0izy61v"
      }
    },
    {
      "cell_type": "code",
      "source": [
        "from sympy import expand\n",
        "\n",
        "# Исходное выражение\n",
        "expr = (x + 2) * (x + 3)\n",
        "\n",
        "# Раскрытие скобок\n",
        "expanded_expr = expand(expr)\n",
        "\n",
        "# Вывод результата\n",
        "expanded_expr"
      ],
      "metadata": {
        "colab": {
          "base_uri": "https://localhost:8080/",
          "height": 39
        },
        "id": "j5ZPB_Vpza1c",
        "outputId": "90f55fe5-a195-4d7c-b921-77e66d3824b2"
      },
      "execution_count": null,
      "outputs": [
        {
          "output_type": "execute_result",
          "data": {
            "text/plain": [
              "x**2 + 5*x + 6"
            ],
            "text/latex": "$\\displaystyle x^{2} + 5 x + 6$"
          },
          "metadata": {},
          "execution_count": 3
        }
      ]
    },
    {
      "cell_type": "markdown",
      "source": [
        "**Объяснение:**\n",
        "\n",
        "1.Используем формулу произведения двух сумм: (a + b)(c + d) = ac + ad + bc + bd.\n",
        "\n",
        "При раскрытии получаем x^2 + 3x + 2x + 6 = x^2 + 5x + 6.\n",
        "\n",
        "**3. Факторизация с помощью factor()**\n",
        "Функция factor() позволяет разложить выражение на множители.\n",
        "\n",
        "**Пример 3: Факторизация**\n",
        "\n",
        "Рассмотрим следующее выражение:\n",
        "x^2 - 4\n",
        "Это выражение можно разложить на множители, как (x - 2)(x + 2)."
      ],
      "metadata": {
        "id": "MZLD1P4CzwgZ"
      }
    },
    {
      "cell_type": "code",
      "source": [
        "from sympy import factor\n",
        "\n",
        "# Исходное выражение\n",
        "expr = x**2 - 4\n",
        "\n",
        "# Факторизация\n",
        "factored_expr = factor(expr)\n",
        "\n",
        "# Вывод результата\n",
        "factored_expr"
      ],
      "metadata": {
        "colab": {
          "base_uri": "https://localhost:8080/",
          "height": 39
        },
        "id": "swAPsaAP0NgF",
        "outputId": "d0cefc79-3216-46c8-ec2d-89ea71319473"
      },
      "execution_count": null,
      "outputs": [
        {
          "output_type": "execute_result",
          "data": {
            "text/plain": [
              "(x - 2)*(x + 2)"
            ],
            "text/latex": "$\\displaystyle \\left(x - 2\\right) \\left(x + 2\\right)$"
          },
          "metadata": {},
          "execution_count": 4
        }
      ]
    },
    {
      "cell_type": "markdown",
      "source": [
        "**Объяснение:**\n",
        "\n",
        "1. Это выражение является разностью квадратов, что имеет общий вид:\n",
        "a^2 - b^2 = (a - b)(a + b).\n",
        "2. В данном случае a=x и b=2.\n",
        "\n",
        "**4. Приведение подобных членов с помощью collect()**\n",
        "\n",
        "Функция collect() позволяет собирать похожие члены с учетом заданной переменной.\n",
        "\n",
        "**Пример 4: Приведение подобных членов**\n",
        "\n",
        "Рассмотрим выражение: 2x + 3 + 4x + 5\n",
        "Мы можем привести подобные члены."
      ],
      "metadata": {
        "id": "suudZBHL0RyP"
      }
    },
    {
      "cell_type": "code",
      "source": [
        "from sympy import collect\n",
        "\n",
        "# Исходное выражение\n",
        "expr = 2*x + 3 + 4*x + 5\n",
        "\n",
        "# Приведение подобных членов\n",
        "collected_expr = collect(expr, x)\n",
        "\n",
        "# Вывод результата\n",
        "collected_expr"
      ],
      "metadata": {
        "id": "zEJMrc720QV2"
      },
      "execution_count": null,
      "outputs": []
    },
    {
      "cell_type": "markdown",
      "source": [
        "**Объяснение:**\n",
        "\n",
        "1. Похожие члены в выражении:\n",
        "2x и 4x можно сложить.\n",
        "2. Результат: 6x + 8.\n",
        "5. Упрощение тригонометрических выражений\n",
        "Функция trigsimp() может быть использована для упрощения тригонометрических выражений.\n",
        "\n",
        "**Пример 5: Упрощение тригонометрических выражений**\n",
        "\n",
        "Рассмотрим выражение:\n",
        "sin^2(x) + cos^2(x).\n",
        "Ожидаемое упрощение будет равно 1."
      ],
      "metadata": {
        "id": "rCh3H2gb0sL0"
      }
    },
    {
      "cell_type": "code",
      "source": [
        "from sympy import sin, cos, trigsimp\n",
        "\n",
        "# Исходное тригонометрическое выражение\n",
        "expr = sin(x)**2 + cos(x)**2\n",
        "\n",
        "# Упрощение\n",
        "trig_simplified_expr = trigsimp(expr)\n",
        "\n",
        "# Вывод результата\n",
        "trig_simplified_expr"
      ],
      "metadata": {
        "colab": {
          "base_uri": "https://localhost:8080/",
          "height": 37
        },
        "id": "3rqw5r6z2fpk",
        "outputId": "afd122bc-55bc-482a-aa83-b02e2c5cffee"
      },
      "execution_count": null,
      "outputs": [
        {
          "output_type": "execute_result",
          "data": {
            "text/plain": [
              "1"
            ],
            "text/latex": "$\\displaystyle 1$"
          },
          "metadata": {},
          "execution_count": 5
        }
      ]
    },
    {
      "cell_type": "markdown",
      "source": [
        "**Объяснение:**\n",
        "\n",
        "Используем тригонометрическую идентичность: sin^2(x) + cos^2(x) = 1.\n",
        "SymPy успешно упрощает это выражение.\n",
        "\n",
        "**6. Упрощение логарифмических выражений**\n",
        "\n",
        "Функция logcombine() может быть использована для упрощения логарифмических выражений.\n",
        "\n",
        "**Пример 6: Упрощение логарифмических выражений**\n",
        "\n",
        "Рассмотрим выражение:\n",
        "log(a) + log(b)\n",
        "Ожидаемое упрощение будет равно\n",
        "log(ab)."
      ],
      "metadata": {
        "id": "DDE23q2t2heK"
      }
    },
    {
      "cell_type": "code",
      "source": [
        "from sympy import log, logcombine\n",
        "\n",
        "# Исходное логарифмическое выражение\n",
        "a, b = symbols('a b')\n",
        "expr = log(a) + log(b)\n",
        "\n",
        "# Упрощение\n",
        "log_simplified_expr = logcombine(expr)\n",
        "\n",
        "# Вывод результата\n",
        "log_simplified_expr"
      ],
      "metadata": {
        "colab": {
          "base_uri": "https://localhost:8080/",
          "height": 39
        },
        "id": "ky5p5D3t25MW",
        "outputId": "3ee326a2-6ea6-4ba9-8954-808469b07615"
      },
      "execution_count": null,
      "outputs": [
        {
          "output_type": "execute_result",
          "data": {
            "text/plain": [
              "log(a) + log(b)"
            ],
            "text/latex": "$\\displaystyle \\log{\\left(a \\right)} + \\log{\\left(b \\right)}$"
          },
          "metadata": {},
          "execution_count": 6
        }
      ]
    },
    {
      "cell_type": "markdown",
      "source": [
        "**Объяснение:**\n",
        "\n",
        "1. Используем свойство логарифмов: log(a)+log(b)=log(ab).\n",
        "2. SymPy эффективно упрощает это выражение.\n",
        "\n",
        "Таким образом, SymPy предоставляет множество функций для упрощения выражений, что делает его мощным инструментом для символьных вычислений. Используя функции simplify(), expand(), factor(), collect(), trigsimp(), и logcombine(), вы можете значительно упростить и преобразовать математические выражения. В каждом из приведенных примеров мы видим, как легко можно управлять символьными выражениями, что позволяет сосредоточиться на математических задачах, а не на ручных вычислениях.\n",
        "\n",
        "# **3. Решение уравнений в SymPy**\n",
        "Решение уравнений — это одна из основных возможностей библиотеки SymPy. Она позволяет находить решения как простых, так и сложных уравнений, включая системы линейных и нелинейных уравнений. В этом разделе мы подробно рассмотрим, как решать уравнения с помощью SymPy, с множеством примеров и объяснений.\n",
        "\n",
        "**1. Решение линейных уравнений**\n",
        "Линейные уравнения имеют вид:\n",
        "ax + b = 0\n",
        "\n",
        "где a и b — коэффициенты, а x — переменная.\n",
        "\n",
        "**Пример 1: Решение простого линейного уравнения**\n",
        "\n",
        "Рассмотрим уравнение: 2x + 3 = 7\n",
        "\n",
        "Чтобы решить это уравнение, мы можем использовать функцию solve().\n",
        "\n"
      ],
      "metadata": {
        "id": "0hdTqkY728z6"
      }
    },
    {
      "cell_type": "code",
      "source": [
        "from sympy import symbols, Eq, solve\n",
        "\n",
        "# Определяем переменные\n",
        "x = symbols('x')\n",
        "\n",
        "# Определяем уравнение\n",
        "equation = Eq(2*x + 3, 7)\n",
        "\n",
        "# Решаем уравнение\n",
        "solution = solve(equation, x)\n",
        "\n",
        "# Вывод результата\n",
        "solution"
      ],
      "metadata": {
        "colab": {
          "base_uri": "https://localhost:8080/"
        },
        "id": "L5a8Lt_T3q_N",
        "outputId": "22253979-5fb2-4d69-fd67-340d40d53e2e"
      },
      "execution_count": null,
      "outputs": [
        {
          "output_type": "execute_result",
          "data": {
            "text/plain": [
              "[2]"
            ]
          },
          "metadata": {},
          "execution_count": 7
        }
      ]
    },
    {
      "cell_type": "markdown",
      "source": [
        "**Объяснение:**\n",
        "\n",
        "1. Мы определили переменную x с помощью symbols().\n",
        "2. Затем мы сформулировали уравнение с помощью функции Eq().\n",
        "3. После этого вызвали solve() для нахождения решения.\n",
        "4. Решение будет x=2.\n",
        "\n",
        "### **2. Решение квадратных уравнений**\n",
        "Квадратные уравнения имеют вид:\n",
        "ax^2 + bx + c = 0\n",
        "\n",
        "где a, b, c — коэффициенты.\n",
        "\n",
        "**Пример 2: Решение квадратного уравнения**\n",
        "Рассмотрим уравнение:\n",
        "\n",
        "x^2 - 4x + 3 = 0\n",
        "\n",
        "Чтобы решить это уравнение, используем solve()."
      ],
      "metadata": {
        "id": "LxCz9uXE3t0B"
      }
    },
    {
      "cell_type": "code",
      "source": [
        "# Определяем уравнение\n",
        "equation = Eq(x**2 - 4*x + 3, 0)\n",
        "\n",
        "# Решаем уравнение\n",
        "solution = solve(equation, x)\n",
        "\n",
        "# Вывод результата\n",
        "solution"
      ],
      "metadata": {
        "colab": {
          "base_uri": "https://localhost:8080/"
        },
        "id": "LOPNXm5r4Ux4",
        "outputId": "ac85e8f3-032f-47b4-a19f-c89e910009aa"
      },
      "execution_count": null,
      "outputs": [
        {
          "output_type": "execute_result",
          "data": {
            "text/plain": [
              "[1, 3]"
            ]
          },
          "metadata": {},
          "execution_count": 8
        }
      ]
    },
    {
      "cell_type": "markdown",
      "source": [
        "**Объяснение:**\n",
        "\n",
        "1. Уравнение можно факторизовать: (x - 1)(x - 3) = 0.\n",
        "2. Решения: x = 1  и x = 3.\n",
        "\n",
        "**3. Решение систем линейных уравнений**\n",
        "\n",
        "SymPy также позволяет решать системы линейных уравнений. Система уравнений может выглядеть так:\n",
        "\\begin{cases}\n",
        "2x + y = 5 \\\\\n",
        "3x - y = 6\n",
        "\\end{cases}\n",
        "**Пример 3: Решение системы линейных уравнений**"
      ],
      "metadata": {
        "id": "yy62vmTl4YDc"
      }
    },
    {
      "cell_type": "code",
      "source": [
        "# Определяем переменные\n",
        "y = symbols('y')\n",
        "\n",
        "# Определяем уравнения\n",
        "equation1 = Eq(2*x + y, 5)\n",
        "equation2 = Eq(3*x - y, 6)\n",
        "\n",
        "# Решаем систему уравнений\n",
        "solutions = solve((equation1, equation2), (x, y))\n",
        "\n",
        "# Вывод результата\n",
        "solutions"
      ],
      "metadata": {
        "colab": {
          "base_uri": "https://localhost:8080/"
        },
        "id": "dWt3URys40Hk",
        "outputId": "7ff6dd36-d434-46f7-e89b-ca90dc314c45"
      },
      "execution_count": null,
      "outputs": [
        {
          "output_type": "execute_result",
          "data": {
            "text/plain": [
              "{x: 11/5, y: 3/5}"
            ]
          },
          "metadata": {},
          "execution_count": 9
        }
      ]
    },
    {
      "cell_type": "markdown",
      "source": [
        "**Объяснение:**\n",
        "\n",
        "1. Мы определили два уравнения с использованием Eq().\n",
        "2. Затем передали их в solve() для нахождения решений.\n",
        "3. Решения: x = 2 и y = 1.\n",
        "\n",
        "\n",
        "**4. Решение нелинейных уравнений**\n",
        "\n",
        "Нелинейные уравнения могут содержать степени, корни и другие функции.\n",
        "\n",
        "**Пример 4: Решение нелинейного уравнения**\n",
        "Рассмотрим уравнение:\n",
        "x^3 - 6x^2 + 11x - 6 = 0\n"
      ],
      "metadata": {
        "id": "ng1S_7dm41rX"
      }
    },
    {
      "cell_type": "code",
      "source": [
        "# Определяем уравнение\n",
        "equation = Eq(x**3 - 6*x**2 + 11*x - 6, 0)\n",
        "\n",
        "# Решаем уравнение\n",
        "solutions = solve(equation, x)\n",
        "\n",
        "# Вывод результата\n",
        "solutions"
      ],
      "metadata": {
        "colab": {
          "base_uri": "https://localhost:8080/"
        },
        "id": "c-ULacjF5HuG",
        "outputId": "bd55b8ab-9f31-43fb-a6d7-098f70a4f3d7"
      },
      "execution_count": null,
      "outputs": [
        {
          "output_type": "execute_result",
          "data": {
            "text/plain": [
              "[1, 2, 3]"
            ]
          },
          "metadata": {},
          "execution_count": 10
        }
      ]
    },
    {
      "cell_type": "markdown",
      "source": [
        "**Объяснение:**\n",
        "\n",
        "Это кубическое уравнение, и его можно решить с помощью solve().\n",
        "Решения будут: x = 1, x = 2 и x = 3.\n",
        "\n",
        "**5. Решение уравнений с параметрами**\n",
        "\n",
        "Иногда уравнения могут содержать параметры. SymPy позволяет решать такие уравнения, оставляя некоторые переменные как параметры.\n",
        "\n",
        "**Пример 5: Уравнение с параметрами**\n",
        "Рассмотрим уравнение:\n",
        "x^2 + px + q = 0\n",
        "где p и q - параметры."
      ],
      "metadata": {
        "id": "D90r6AYf5J-Q"
      }
    },
    {
      "cell_type": "code",
      "source": [
        "p, q = symbols('p q')\n",
        "\n",
        "# Определяем уравнение\n",
        "equation = Eq(x**2 + p*x + q, 0)\n",
        "\n",
        "# Решаем уравнение относительно x\n",
        "solutions = solve(equation, x)\n",
        "\n",
        "# Вывод результата\n",
        "solutions"
      ],
      "metadata": {
        "colab": {
          "base_uri": "https://localhost:8080/"
        },
        "id": "I9xNRRK65dJC",
        "outputId": "4f462463-0d4a-4ce2-8189-be50fa033459"
      },
      "execution_count": null,
      "outputs": [
        {
          "output_type": "execute_result",
          "data": {
            "text/plain": [
              "[-p/2 - sqrt(p**2 - 4*q)/2, -p/2 + sqrt(p**2 - 4*q)/2]"
            ]
          },
          "metadata": {},
          "execution_count": 11
        }
      ]
    },
    {
      "cell_type": "markdown",
      "source": [
        "**Объяснение:**\n",
        "\n",
        "Решения будут выражены в зависимости от параметров p и q.\n",
        "Решения имеют вид:\n",
        "x=(-p +-sqrt(p^2 - 4q))/2\n",
        "\n",
        "**6. Решение тригонометрических уравнений**\n",
        "\n",
        "SymPy позволяет решать тригонометрические уравнения.\n",
        "\n",
        "**Пример 6: Решение тригонометрического уравнения**\n",
        "Рассмотрим уравнение\n",
        "sin(x) = 1/2"
      ],
      "metadata": {
        "id": "PgiLfoA45gWe"
      }
    },
    {
      "cell_type": "code",
      "source": [
        "from sympy import sin, pi\n",
        "\n",
        "# Определяем уравнение\n",
        "equation = Eq(sin(x), 1/2)\n",
        "\n",
        "# Решаем уравнение\n",
        "solutions = solve(equation, x)\n",
        "\n",
        "# Вывод результата\n",
        "solutions"
      ],
      "metadata": {
        "colab": {
          "base_uri": "https://localhost:8080/"
        },
        "id": "Le6RkoDx56ad",
        "outputId": "6add3480-2693-4475-8c68-1d5466c86fba"
      },
      "execution_count": null,
      "outputs": [
        {
          "output_type": "execute_result",
          "data": {
            "text/plain": [
              "[0.523598775598299, 2.61799387799149]"
            ]
          },
          "metadata": {},
          "execution_count": 12
        }
      ]
    },
    {
      "cell_type": "markdown",
      "source": [
        "**Объяснение:**\n",
        "1. Уравнение\n",
        " sin(x) = 1/2\n",
        " имеет множество решений, включая:\n",
        "\n",
        "\n",
        "*   x = pi/6 + 2kpi\n",
        "*   x = 5pi/6 + 2kpi Где k - любое целое число.\n",
        "\n",
        "**7. Решение уравнений с помощью nsolve()**\n",
        "\n",
        "Когда уравнения не могут быть решены аналитически, можно использовать численные методы. Функция nsolve() позволяет находить численные решения уравнений.\n",
        "\n",
        "**Пример 7: Численное решение уравнения**\n",
        "Рассмотрим уравнение:\n",
        "x^2-2=0\n",
        "\n"
      ],
      "metadata": {
        "id": "7FJVTPOj58KO"
      }
    },
    {
      "cell_type": "markdown",
      "source": [
        "\n"
      ],
      "metadata": {
        "id": "Lza7Vu9v-AwJ"
      }
    },
    {
      "cell_type": "code",
      "source": [
        "from sympy import nsolve\n",
        "\n",
        "# Численное решение уравнения\n",
        "numerical_solution = nsolve(x**2-2, x)\n",
        "\n",
        "# Вывод результата\n",
        "numerical_solution"
      ],
      "metadata": {
        "colab": {
          "base_uri": "https://localhost:8080/",
          "height": 373
        },
        "collapsed": true,
        "id": "-LgkAJGs9UgE",
        "outputId": "61cbfa73-60a4-4179-8f97-898e06e2edf2"
      },
      "execution_count": null,
      "outputs": [
        {
          "output_type": "error",
          "ename": "AttributeError",
          "evalue": "'int' object has no attribute 'is_Relational'",
          "traceback": [
            "\u001b[0;31m---------------------------------------------------------------------------\u001b[0m",
            "\u001b[0;31mAttributeError\u001b[0m                            Traceback (most recent call last)",
            "\u001b[0;32m<ipython-input-20-ebecaee25355>\u001b[0m in \u001b[0;36m<cell line: 0>\u001b[0;34m()\u001b[0m\n\u001b[1;32m      2\u001b[0m \u001b[0;34m\u001b[0m\u001b[0m\n\u001b[1;32m      3\u001b[0m \u001b[0;31m# Численное решение уравнения\u001b[0m\u001b[0;34m\u001b[0m\u001b[0;34m\u001b[0m\u001b[0m\n\u001b[0;32m----> 4\u001b[0;31m \u001b[0mnumerical_solution\u001b[0m \u001b[0;34m=\u001b[0m \u001b[0mnsolve\u001b[0m\u001b[0;34m(\u001b[0m\u001b[0mx\u001b[0m\u001b[0;34m**\u001b[0m\u001b[0;36m2\u001b[0m\u001b[0;34m-\u001b[0m\u001b[0;36m2\u001b[0m\u001b[0;34m,\u001b[0m \u001b[0mx\u001b[0m\u001b[0;34m)\u001b[0m\u001b[0;34m\u001b[0m\u001b[0;34m\u001b[0m\u001b[0m\n\u001b[0m\u001b[1;32m      5\u001b[0m \u001b[0;34m\u001b[0m\u001b[0m\n\u001b[1;32m      6\u001b[0m \u001b[0;31m# Вывод результата\u001b[0m\u001b[0;34m\u001b[0m\u001b[0;34m\u001b[0m\u001b[0m\n",
            "\u001b[0;32m/usr/local/lib/python3.11/dist-packages/sympy/utilities/decorator.py\u001b[0m in \u001b[0;36mfunc_wrapper\u001b[0;34m(*args, **kwargs)\u001b[0m\n\u001b[1;32m     85\u001b[0m         \u001b[0mdps\u001b[0m \u001b[0;34m=\u001b[0m \u001b[0mmpmath\u001b[0m\u001b[0;34m.\u001b[0m\u001b[0mmp\u001b[0m\u001b[0;34m.\u001b[0m\u001b[0mdps\u001b[0m\u001b[0;34m\u001b[0m\u001b[0;34m\u001b[0m\u001b[0m\n\u001b[1;32m     86\u001b[0m         \u001b[0;32mtry\u001b[0m\u001b[0;34m:\u001b[0m\u001b[0;34m\u001b[0m\u001b[0;34m\u001b[0m\u001b[0m\n\u001b[0;32m---> 87\u001b[0;31m             \u001b[0;32mreturn\u001b[0m \u001b[0mfunc\u001b[0m\u001b[0;34m(\u001b[0m\u001b[0;34m*\u001b[0m\u001b[0margs\u001b[0m\u001b[0;34m,\u001b[0m \u001b[0;34m**\u001b[0m\u001b[0mkwargs\u001b[0m\u001b[0;34m)\u001b[0m\u001b[0;34m\u001b[0m\u001b[0;34m\u001b[0m\u001b[0m\n\u001b[0m\u001b[1;32m     88\u001b[0m         \u001b[0;32mfinally\u001b[0m\u001b[0;34m:\u001b[0m\u001b[0;34m\u001b[0m\u001b[0;34m\u001b[0m\u001b[0m\n\u001b[1;32m     89\u001b[0m             \u001b[0mmpmath\u001b[0m\u001b[0;34m.\u001b[0m\u001b[0mmp\u001b[0m\u001b[0;34m.\u001b[0m\u001b[0mdps\u001b[0m \u001b[0;34m=\u001b[0m \u001b[0mdps\u001b[0m\u001b[0;34m\u001b[0m\u001b[0;34m\u001b[0m\u001b[0m\n",
            "\u001b[0;32m/usr/local/lib/python3.11/dist-packages/sympy/solvers/solvers.py\u001b[0m in \u001b[0;36mnsolve\u001b[0;34m(dict, *args, **kwargs)\u001b[0m\n\u001b[1;32m   3066\u001b[0m         \u001b[0;32mif\u001b[0m \u001b[0misinstance\u001b[0m\u001b[0;34m(\u001b[0m\u001b[0mf\u001b[0m\u001b[0;34m,\u001b[0m \u001b[0mEq\u001b[0m\u001b[0;34m)\u001b[0m\u001b[0;34m:\u001b[0m\u001b[0;34m\u001b[0m\u001b[0;34m\u001b[0m\u001b[0m\n\u001b[1;32m   3067\u001b[0m             \u001b[0mf\u001b[0m \u001b[0;34m=\u001b[0m \u001b[0mf\u001b[0m\u001b[0;34m.\u001b[0m\u001b[0mlhs\u001b[0m \u001b[0;34m-\u001b[0m \u001b[0mf\u001b[0m\u001b[0;34m.\u001b[0m\u001b[0mrhs\u001b[0m\u001b[0;34m\u001b[0m\u001b[0;34m\u001b[0m\u001b[0m\n\u001b[0;32m-> 3068\u001b[0;31m         \u001b[0;32melif\u001b[0m \u001b[0mf\u001b[0m\u001b[0;34m.\u001b[0m\u001b[0mis_Relational\u001b[0m\u001b[0;34m:\u001b[0m\u001b[0;34m\u001b[0m\u001b[0;34m\u001b[0m\u001b[0m\n\u001b[0m\u001b[1;32m   3069\u001b[0m             \u001b[0;32mraise\u001b[0m \u001b[0mTypeError\u001b[0m\u001b[0;34m(\u001b[0m\u001b[0;34m'nsolve cannot accept inequalities'\u001b[0m\u001b[0;34m)\u001b[0m\u001b[0;34m\u001b[0m\u001b[0;34m\u001b[0m\u001b[0m\n\u001b[1;32m   3070\u001b[0m         \u001b[0msyms\u001b[0m \u001b[0;34m=\u001b[0m \u001b[0mf\u001b[0m\u001b[0;34m.\u001b[0m\u001b[0mfree_symbols\u001b[0m\u001b[0;34m\u001b[0m\u001b[0;34m\u001b[0m\u001b[0m\n",
            "\u001b[0;31mAttributeError\u001b[0m: 'int' object has no attribute 'is_Relational'"
          ]
        }
      ]
    },
    {
      "cell_type": "markdown",
      "source": [],
      "metadata": {
        "id": "GIJpANgE9MkN"
      }
    },
    {
      "cell_type": "markdown",
      "source": [
        "**Объяснение:**\n",
        "\n",
        "1. Мы используем nsolve() для нахождения численного решения уравнения.\n",
        "2. Ожидаемое решение: x = 1.4142\n",
        "\n",
        "Такми образом, SymPy предоставляет мощные инструменты для решения различных типов уравнений, включая линейные, квадратные, системы уравнений, нелинейные уравнения, уравнения с параметрами и тригонометрические уравнения. Библиотека также поддерживает численные методы, что позволяет находить решения уравнений, которые невозможно решить аналитически. Эти возможности делают SymPy незаменимым инструментом для математиков, инженеров и ученых.\n",
        "\n",
        "**4. Дифференцирование в SymPy**\n",
        "Дифференцирование — это процесс нахождения производной функции. Производная показывает, как функция изменяется относительно её переменной, и является важным инструментом в математическом анализе, физике и многих других областях. Библиотека SymPy предоставляет простые и мощные инструменты для выполнения дифференцирования.\n",
        "\n",
        "В этом разделе мы рассмотрим основные методы дифференцирования с использованием SymPy, будем объяснять каждое действие и приведем множество примеров.\n",
        "\n",
        "**1. Основы дифференцирования**\n",
        "Производная функции f(x) обозначается как f'(x) или df/dx.\n",
        "\n",
        " и определяется как предел отношения приращения функции к приращению её аргумента:\n",
        "![image.png](data:image/png;base64,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)\n",
        "\n",
        "Согласно правилам дифференцирования, производные различных функций имеют свои формулы. Например:\n",
        "![image.png](data:image/png;base64,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)\n"
      ],
      "metadata": {
        "id": "4XTb8xO0-V0X"
      }
    },
    {
      "cell_type": "markdown",
      "source": [
        "**Пример 1: Дифференцирование простой функции**\n",
        "\n",
        "Рассмотрим простую функцию:\n",
        "f(x)=x^2+3x+2\n",
        "Мы хотим найти производную этой функции.\n"
      ],
      "metadata": {
        "id": "NWPsnBYP_aQN"
      }
    },
    {
      "cell_type": "code",
      "source": [
        "from sympy import symbols, diff\n",
        "\n",
        "# Определяем переменные\n",
        "x = symbols('x')\n",
        "\n",
        "# Определяем функцию\n",
        "f = x**2 + 3*x + 2\n",
        "\n",
        "# Находим производную\n",
        "derivative_f = diff(f, x)\n",
        "\n",
        "# Вывод результата\n",
        "derivative_f"
      ],
      "metadata": {
        "colab": {
          "base_uri": "https://localhost:8080/",
          "height": 39
        },
        "id": "cXASVDtK_jUU",
        "outputId": "f9400600-0569-40ab-ae34-5826e23d348c"
      },
      "execution_count": null,
      "outputs": [
        {
          "output_type": "execute_result",
          "data": {
            "text/plain": [
              "2*x + 3"
            ],
            "text/latex": "$\\displaystyle 2 x + 3$"
          },
          "metadata": {},
          "execution_count": 21
        }
      ]
    },
    {
      "cell_type": "markdown",
      "source": [
        "**Объяснение:**\n",
        "\n",
        "1. Мы определили переменную x с помощью symbols().\n",
        "2. Задали функцию f(x) = x^2 + 3x + 2.\n",
        "3. Использовали diff() для нахождения производной.\n",
        "4. Получили: f'(x)=2x+3.\n",
        "\n",
        "# **2. Дифференцирование тригонометрических функций**\n",
        "Тригонометрические функции также поддаются дифференцированию. Например:\n",
        "![image.png](data:image/png;base64,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)\n",
        "\n",
        "** Пример 2: Дифференцирование тригонометрической функции**\n",
        "Рассмотрим функцию:\n",
        "g(x) = sin(x) + cos(x)\n",
        "Теперь найдем её производную."
      ],
      "metadata": {
        "id": "Oe57mosd_ljQ"
      }
    },
    {
      "cell_type": "code",
      "source": [
        "from sympy import sin, cos\n",
        "\n",
        "# Определяем функцию\n",
        "g = sin(x) + cos(x)\n",
        "\n",
        "# Находим производную\n",
        "derivative_g = diff(g, x)\n",
        "\n",
        "# Вывод результата\n",
        "derivative_g"
      ],
      "metadata": {
        "id": "Rn4UEbZFBDkV"
      },
      "execution_count": null,
      "outputs": []
    },
    {
      "cell_type": "markdown",
      "source": [
        "**Объяснение:**\n",
        "\n",
        "1. Мы определили функцию g(x) = sin(x) + cos(x).\n",
        "2. Применили diff() для нахождения производной.\n",
        "3. Получили: g'(x) = cos(x) - sin(x) .\n",
        "\n",
        "\n",
        "**3. Дифференцирование сложных функций**\n",
        "Сложные функции, состоящие из нескольких функций, можно дифференцировать с использованием правила цепи.\n",
        "\n",
        "Если y = f(g(x)), то производная будет:\n",
        "![image.png](data:image/png;base64,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)"
      ],
      "metadata": {
        "id": "T97_L-U9BIaI"
      }
    },
    {
      "cell_type": "markdown",
      "source": [
        "**Пример 3: Дифференцирование сложной функции**\n",
        "\n",
        "Рассмотрим функцию:\n",
        "h(x) = sin(x^2)\n",
        "Теперь найдем её производную."
      ],
      "metadata": {
        "id": "HnyOOsjdBgIB"
      }
    },
    {
      "cell_type": "code",
      "source": [
        "# Определяем функцию\n",
        "h = sin(x**2)\n",
        "\n",
        "# Находим производную\n",
        "derivative_h = diff(h, x)\n",
        "\n",
        "# Вывод результата\n",
        "derivative_h"
      ],
      "metadata": {
        "id": "6FHHeROnBlyr"
      },
      "execution_count": null,
      "outputs": []
    },
    {
      "cell_type": "markdown",
      "source": [
        "**Объяснение:**\n",
        "\n",
        "1. Мы определили функцию h(x) = sin(x^2).\n",
        "2. Использовали diff() для нахождения производной.\n",
        "3. Получили: h'(x) = 2xcos(x^2) (по правилу цепи).\n",
        "\n",
        "\n",
        "# **4. Дифференцирование логарифмических функций**\n",
        "Логарифмические функции также имеют свои правила дифференцирования. Например:\n",
        "![image.png](data:image/png;base64,iVBORw0KGgoAAAANSUhEUgAAAN0AAABPCAYAAABvasBSAAAAAXNSR0IArs4c6QAAAARnQU1BAACxjwv8YQUAAAAJcEhZcwAADsMAAA7DAcdvqGQAABBISURBVHhe7Z0PbBNXnse/e13JVe9ktHdr1J6wqgTDOU2pnaQ466gNYWkIu+sYdUujXlPYTZRukwY1HDldQm4Ptj0SBYgLqmA5mpDtElAvKXs05solbHMxVZUcl2KiJSkCTA5qpKvwbVEstcIronfvzYwTY+wkjidDXH4faZiZN8P42Xnf9/u93/sz32EcEAShGX+m7AmC0AgSHUFoDImOIDSGREcQGkOiIwiNIdERhMaQ6AhCY0h0BKExJDqC0BgSHUFoDImOIDSGREcQGkOiIwiNIdERhMaQ6AhCY0h0BKExmosu9E3orj1BPGhoJ7obbShOT0fGkxlI5/sN/3pTuUAQcyd0K4jQhHKSImgnuiUVODl2Fm9miRMDClYapWSCSJiJEIKXPXCV5yIjZwM6bijpKYK27uXEKM6dFwd25DwhpRBEQvjfXYv0ZVYUVtehwxNQUlMLbUX3+TkMiv2aH8L+kJRCEAlh/MVpjI1dxNnf70KBkpZqaCo6/5AHom4yrcyCTk4iiAeOeRRdCP5T9Si2WmHNE1sVtnWN8nQd7NnUniMeXOZJdEF4anOxavMo1nWdxfDAMI5vvIqBy+JaEVZLwRSCeDCZF9H520tRfiIIY1UzqpfLjqTpmSIYxIE9D5nUniMeYNQX3TceuPYIN9KEjSWZchonMHpebs+tssviI4gHFPVFN/gh3GKwiaEI9sflJNG+G+wb4HtqzxGE6qLzX/1cPijIwZSdG8W5T8W+CHm8PZeKowgIQi1UF93D+sXS3rR0qbSXON+DHmH9eHsuO+RGVc7r6P5KvkQQDxqqi85Q4EQe3/tvKGNzvuQiK2uT2nN4dDF0fR/CY3diNTXsiGSYmBowH7qjHKQI6rfpHi3Br49VwPRBKTJyc5H7t/+BnN+cQftLXGUnymHd+Sc0v1WSRDAlCO+eYuRWuWUhL1iSyafc5VK8x8uPYjDhQ9v6XFSdXNi/wHwgDQNLT0f6siq4pRQfXIX8XKTVeqSUBY94P10qceWQg6U928JG7sjn/VvTWFoa35bxraiVfSEn33ei85kwd0ZYy7NpzHHoipIQxXg3K0uzsJqPx5UEIlVILdH59rNCXtC2DynnYbyNzCaEt1BEFy+fiTK0nVnS8lnLH5TzKG6+X8ornDLWTbpLKdR3L+eNINzNLviyarH5aSUpzF8uxiLl8P4zTT4T5enNqM3y40BzV0wX1fBiNTbqPNi+16ukEKlA6ojucitcfUDBz5NpD2qAqvk0oOTnBcDgARyRhtBF8ZAdJeUGBH/bCvc3Shqx4EkZ0fk+csOPPKz7wcKen6B2PnU/WMef5kdXtxjlcy+Zq9dBh1582EfLX6QKKSI6PzwePy+BS2FKxHyE/Ojd+QpWWa3IzcuF1boKr+zshT+qfAbPd2CLIwPpGfye5enILW2Cq6EYuRnpSF++AR3XlRtnZOZ8Bk7Xo1hEda382Xlb4P7ci7Zy/rm5VmTklqPrqnJjGIMJS7l+A8OjsaOgj2cih+8GvbFFSSw8UkR0VzFyge+WG2fvsgUHsWPdKlQN2XH47DDODpzF8Cd7kTVUhVX59fCEY/HX21D6wg64H9uF4Yv8nosnUeJvw4FeOw521SLz+w8rN86G6fMZ7NsCxwED3vz9WZwdPonqCTcX+wZ0rTyG46+ZEAp4UP9udNjbAONyvhv0IqasDIuxhO9CXi+XPJEKpIboAjfxf2JvMmG2Ize9e6skC+V8oxqmsKenz0btG07+vC5sUYIP3vdcUmEWE2v1IuEhbjlW8v2tNuy/VoGTA0excXIM6QxMl8+JQbg2n0fJnlpkSx8UQlASfgE2/2wRvB6RHz1KfmQXiREYxeM4N3AzpqnjVlWI8rJ/hv7AINxbuIXlFj+hrcHDc0qoyXdECFM5nhWiE1ILxsbGlCMOt0ZrVzfB93w7xlwxJumHry9vwJmeCl5MucVI564aTGjoP42KSNGE74UT7Vf2Qb8zAxt+G4Kp/gxO/0KWiqc2HeUngLymszgqOvVny3T5FIvpfBWCzqCXZ81fPYC1ha6IPMdHzk+M7yLhRxu36E2X+fcZ23dfljDQqkwsJO4qn4kidRwsdK61skLRD7e1X0mIInw93E8XPk8rZK3XpDumiL7ma2UOcV7WyaTuLqVTOs1Sw/oT7f+aKZ8RyH1sacy2e0RJiY88ACDGd5H4grUWies8v0oKsbBJDffyET3kYdSzRGnnTM8SLBZG7DF+73eNyPxjE3JFIOXJDXAbK3Cwh1sNyQ1MgATyOTokpjoBq1dOzcUI3QogGNeXWwz9I8phLHSLZPc4LuReLhgU8S1w+lmdsCDOOCNOoi0du826K0Xtn8ZqeqWEKXprpPS0ym5+F+djfv7cfhZnsFWCTJPPsEW1NLJzdwbYdrPIXxnr/lq5Lg3reoEd+V/lfBJuyZzi3niWTPnMBTQEjpie+bN0vA0TElUk/yf5uXOZyBbxhXjBgjvRdbEOzl3tcPKq3/12E7zhSGXIhwNvuwE9b//scsptq8VGGK668HdvutF7qndyG7w8lzl/8fPpP9MtBWwMRXkwnGpFh5Rl3r4TmZgIwF3XiEB9MzY+KtIjCcAvOsZXPImIyVJTBG5Cms9hmX2QibjPKOJTlf5/EDVzeKtTpa0xstvGn1XKOm8qCQqTA54jtpqPlYvjV1jnNgezWSzMZrcxs9nCHNs62ZXIttrtEdZYcO8zpG1ZIWsckuyhzJ2brIc/L//FGlb2nI05nIWs7Ojd9iVePtk4t0h2MzPbLMzyXCPr9/Wzxuf4Z5htzGbLZ5WHzsltymhudrJSnpf8t+PY4qHtzMyvV7oj8klIjHtbmMNWybrv8R5mQHglc/l/s2T+3MuB7XLBrVDcuGS51MLy+fPKVC1ciutWxN3Lux57m41f6mRlwgUMu213rkj3ml8+wq6ImQPK9yv9IEpdKufztruMf04+a7mkJEQhi5wXkLCbmqKoPltEcufjDxafiXHxu88lmDYL5s299F+Q1nJWb2HZ5ZtQzV03z3uxB//Oieu96LrA87i+aKovT0IH/fISbPoxP7w8AjFIJHTKhaYLOhSVl8D0EPfqrotUEwpWRnUpqJrPALre8wBravGq6IuLZmIQXe0BGKs2wzldkCUFKHCNYex3FTCoMSF1gjcjqpvg/9le1K5Q0hJEX7wLzZlulNe6EXNOYxLMk+hCOD/k43sDiuxqtTQMKKmvhvG8C/s/U5KS5fH1qHgG8B36Fdo+i/xpQwj07cCOE/xTyzdJfV+Dn/byf3OQ95RQp7LQ0pIi2A3BqIijivn8bD9c502orXfGjEwGPjiADjjR8NpUBDSlUWm2SPBUE1yXs1H7WraSMhf433HzRuj6tsOlVnlTmCfRDWKgT+xVflHIilocrjeiY6sLo6osbMR/2N9cxOmmJ+DZlo+MDCVMbs2F451xbGw/g09+Kf/hDN/nFi08pvJWNz7k309XsAzeV4vRGj0DQI18TozCtbUDxvpfozpWBCXoRl3DCJz730JRol0b32p8aN0jvINNKLknKJUg9hJU8Eq147Bb3W4Txc1Mjq/OsdbKfGax2KSghaOsVJ5U+nInm2zxKEEIm83GLNxvt23tZiNDrazMbuH/x8xsZZ1yW2lGxtm53fw5ld1Tz9YCJRCSX1bGHM461ljN21L8+zp4vmO3P5LJ5zhv4/Bn744TXJHalzZW6db0F5h/7un6mQNKm7r0fXV+m3O/MvO2ZkTXjgokLzql/8mytYeNC9GM97AaqQ8qjRUeCv90UYXoDy2yKNMK2f5LvAD9VL6/joZUfDsYlythUcGal5nZC2+fYyO9daxQRJHNZlb4zwOxK5No0U2OHlLKylA/a3nZwfKf5c/laeaf1LGeqAjjF4cd/F7ztLP2x3llX1lgYRaRP3Mha/ygk7Vsa2TdMUb8yCOHpn9eoiQnuq957W8RP0jkkgG3WXeFSIvI6MB2Zn62ZaoDWglzS5FNJSSeZqlj/SkegSM4UVZYjr7yv6+5hvVc4+XFJsqGg7X6pct3E9PSjbPOMvF/+LbMwStpJSrMK25h0e7ypjhyFDTO8znS2jVibZlepcCGnxNPWP110mc7Ds/Z9t5DUm06/9EmdIn4w/ObpI5omamFZSdfFGKpxSf/vhnSYHmOb2hQ8pGlyKahBEfHxjA23IyCFI/AEUDgaD2a/vofsa9YjuoGv/6TtDeUv4qirwbQI0K6K9ajaOZxegp6LP6efGSs2jv5bgysyIFUvAYHIqY8BXDzS7Hnbe8Yzw956rGhmd+95i28tVYpsOHnxIs/pJmkcuvzqxYzTyaQ4kfvv4kIJVBQEDEd5UL/5MKyky8KeUQPgz4ckw/A+6nakU1ioaB//iCGXcpoH473v+QxpvbsTCCrAcOigu2eflZFPLKeClfb8biN4B+Vw3vwo6O5Swr/O1+KiAZfUF5Ual8H+zSVfkieh6UKSYjuKkakqF0m8rKmOrkmXxTyTDYMoSAC0SN4J0YxIH3L1cgJ96GIaS+BoLoRIuK+oNMbIgZmezEgelpQgB9G1Mv3hRu96JbK6915CZdXgzWTmwFtSEJ0eiyStBZpyoPoP628KGSlCaPvFCJ/7yh87xZLc66sO73Af/dD+jusyeMGXSZ4qgrWym7VOyGJ+8x1LwZFTboiD1lhIYqK+NZ8Va8PQ/9XymE0l0ZkNzQyL7yaD7/YZt1qbom/CSIYZ4EnnV69fpkkRJeN9S+JjNyAX/KjxYrGpaiXVhswwvi9UfScDKHkJwZ4PpKG+mKd3QB3e4ds0f5cJ7sgX7pRtzOAht0bNatpiPlCrExtlSrYV44HEPD0QGpIPGOfdCdH3ynmFfF8LRlowGLJAFyFT1nVf5JFi+TyFjmrf2IQ/znZnxyCu8aK7fJAqin+xyd9B+Nj6pXOpAIp2b88juYiP3bkW5GbW4gdtzbjTE8DsnU+NP1oA9xrDqL2aSNK3iiBQcetYG0x9j/ejtPtFTBx6za57Pq/HENFzCH0RGrhRc8J7q98NxsFT/lx5LAsrkV/ITc/guddqD+ehYN/H8fXvGe2iMzkbI/IgQaR7zKISM/MEm/S8CmGIIKs9SgRNuKaMgNEzDj5abm8NPvSHDwR7MKRvqJ73ODAl7J6s5erGH9QopgEoQpXDr8gzeawWWys7L0RNvJ+mdQna7HbmC1Gv1qYmLNFjkX204W3GlYT497JPmGlDzhm57ivk1Xa+f08bzabg9V9dGUyf2aeFmuwgdw5ru6A8oTXSCGIhY0Prvy1OPA3+3CxdSqKOjdG4cotxoFs/qyDyT5riqTcS4JYeJiw6XXuYvYdQVe0i5kog11oCxhR/bp6ghOQ6IhvHYYXt6F6iReuQ8kEbALo2t8BOBvw6hynB8WD3Evi28nVNhQXdqCg+8yc5tQFT5bD+k96tH8yhwWqZoAsHfHtZGkFjv3OCU9FFdyJuplcsKU7ddg3lxXhZgFZOoLQGLJ0BKExJDqC0BgSHUFoDImOIDSGREcQGkOiIwiNIdERhMaQ6AhCY0h0BKExJDqC0BgSHUFoDImOIDSGREcQmgL8P4LqCdWyNw7iAAAAAElFTkSuQmCC)\n",
        "\n",
        "**Пример 4: Дифференцирование логарифмической функции**\n",
        "Рассмотрим функцию:k(x) = log(x)\n",
        "Теперь найдем её производную.\n"
      ],
      "metadata": {
        "id": "bCzz8TU_Bz7q"
      }
    },
    {
      "cell_type": "code",
      "source": [
        "from sympy import log\n",
        "\n",
        "# Определяем функцию\n",
        "k = log(x)\n",
        "\n",
        "# Находим производную\n",
        "derivative_k = diff(k, x)\n",
        "\n",
        "# Вывод результата\n",
        "derivative_k"
      ],
      "metadata": {
        "colab": {
          "base_uri": "https://localhost:8080/",
          "height": 51
        },
        "id": "gQnTjmOKBy49",
        "outputId": "3c303473-12b6-4029-cd26-2262296ed68b"
      },
      "execution_count": null,
      "outputs": [
        {
          "output_type": "execute_result",
          "data": {
            "text/plain": [
              "1/x"
            ],
            "text/latex": "$\\displaystyle \\frac{1}{x}$"
          },
          "metadata": {},
          "execution_count": 22
        }
      ]
    },
    {
      "cell_type": "markdown",
      "source": [
        "**Объяснение:**\n",
        "\n",
        "1. Мы определили функцию k(x) = log(x).\n",
        "2. Применили diff() для нахождения производной.\n",
        "3. Получили: k'(x) = 1/x.\n",
        "\n",
        "**5. Дифференцирование степенных функций**\n",
        "\n",
        "Для степенных функций, где f(x) = x^n\n",
        ", производная определяется как: f'(x) = n * x^(n-1)\n",
        "\n",
        "**Пример 5: Дифференцирование степенной функции**\n",
        "\n",
        "Рассмотрим функцию:\n",
        "m(x) = 3x^4 + 5x^3 - 2x + 7.\n",
        "Теперь найдем её производную."
      ],
      "metadata": {
        "id": "zJFR4kaDCV3b"
      }
    },
    {
      "cell_type": "code",
      "source": [
        "# Определяем функцию\n",
        "m = 3*x**4 + 5*x**3 - 2*x + 7\n",
        "\n",
        "# Находим производную\n",
        "derivative_m = diff(m, x)\n",
        "\n",
        "# Вывод результата\n",
        "derivative_m"
      ],
      "metadata": {
        "colab": {
          "base_uri": "https://localhost:8080/",
          "height": 39
        },
        "id": "foxvwoQ0C9c4",
        "outputId": "4fc98808-6107-4c9c-f2a8-eca0db3c249f"
      },
      "execution_count": null,
      "outputs": [
        {
          "output_type": "execute_result",
          "data": {
            "text/plain": [
              "12*x**3 + 15*x**2 - 2"
            ],
            "text/latex": "$\\displaystyle 12 x^{3} + 15 x^{2} - 2$"
          },
          "metadata": {},
          "execution_count": 23
        }
      ]
    },
    {
      "cell_type": "markdown",
      "source": [
        "**Объяснение:**\n",
        "\n",
        "1. Мы определили функцию m(x) = 3x^4 + 5x^3 - 2x + 7.\n",
        "2. Применили diff() для нахождения производной.\n",
        "3. Получили: m'(x) = 12x^3 + 15x^2 - 2.\n",
        "\n",
        "**6. Дифференцирование векторных функций**\n",
        "\n",
        "SymPy также поддерживает дифференцирование векторных функций. Например, если у нас есть векторная функция  ![image.png](data:image/png;base64,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)\n",
        " , мы можем найти её производную.\n",
        "\n",
        "**Пример 6: Дифференцирование векторной функции**\n",
        "\n",
        "Рассмотрим векторную функцию:\n",
        "\n",
        "![image.png](data:image/png;base64,iVBORw0KGgoAAAANSUhEUgAAAL0AAABlCAYAAAAYuuJyAAAAAXNSR0IArs4c6QAAAARnQU1BAACxjwv8YQUAAAAJcEhZcwAADsMAAA7DAcdvqGQAAA6kSURBVHhe7Z1/bBPnGce/G0iu+MPVphl1EhE1MSEQukAQyRxRMGuTsA6H/gA6NZgukHZAIiVNppJRFtqOUsqSwrSkqE2KSlNECZXaGErjlTTZhmLRNE4FMRVgaMFRQbGmKtZAsUT07r2712l+2CQBX3zhno9kv3ePL/HZ/t57z/s8z3v3E8YBQeiIn4qWIHQDiZ7QHSR6QneQ6AndQaIndAeJntAdJHpCd5DoCd1Boid0B4me0B0kekJ3kOgJ3UGiJ3QHiZ7QHSR6QneQ6AndQaIndAeJntAdJHpCd5DoCd1Boid0B4me0B0kekJ3kOiJCATh3mlHRmYG5s6ahQWrauDtFy/dA5DoiREEj5Ugr30VDv3nNE7X5gJnq2AvciIkXp/skOgnC/0+NKxfgAVbW1UWXwBNH7bC0B+S38f4SBmKkviCqwGNAXmDu+NKPVbPXYYd7qAwTDwk+smAJPj81dhh2IbPd9lgEGa1uI+/QehCI1rPS2sJsKRIbQe8V6T2LpnpwEfHHfA8a4+f8KVrWRJappe1lKYyc2oxa+kVpgnlIqt82MzMyfms8ZowxYBeVzFLNq9ktT5hmEBI9Bqn53AeM5uzWLVK4uhrqWBZ1ixW6RGGYSjiTGV5hy8KS6wIH8xbWcsNYZogSPRa5rtattJsZkv3dAlDrOljjQW8F492UPn4+89eyra6eoQhxvQ2seJkM0t9sYXvycRBPr1mCaBh2y54jQ7sLZWd6tjT78YXzbw1WGFNVEwDXGrAuk1NsB08ht3ZJngPVcF1XbwWK4w5eGlHJoJHS7DrK2GbAEj0GiXU/Bof6AGZ5UVImyKMsaazBS6pXbIIQw6rYCtKnipHX/Z6zP/BDdeJGlTt7ESvCvthWlMKhzGI+u118Aub2tBNGTSJD1VLs1ETcOBQ1yuwxlhsrVtnYcNRsTKYNQdw+Y0UNKzPQPkpYQtjUGdfJAIHVyPjFQ9y/v4N9tvVjk1xZCeH0BR9J6XBI/fl34z14HEwPezIM5I/n84qzyiWuHGjkW3in9f8cCVT8xOHIfdGc3Bf/i0p+2mB40mLsKlAvxdt3H0CrFg0T7bEj2m5ePoJ3nbXoV7eJ3Uh0WuN601o7ORt0lrkzFRMqnCuA4rmM5Gi1phhHNgey+XPIdR/1KoYVIRErzH8znp4eGt5MgcJikkV/O2t/JzC32eZFSbFFF9sj0OSPT7+BK0qF7eR6DWFH65Pfbw1IceqpuR5R3/Gy59/fJ/QFTc8sQ5JjocpKci0SgtOfKJyZ0+i1xI3O9F2VlqwYr6qfrYHbXKsUvjz3L+vdmxA47eSLV6YkLZEGcO4PdIBqR73juj7A3BuzoB9r3f0KsRLdbBnbIYznj1bJL5sg9zJPTQf81T1s4MISV9S0nwkTgnB9045GhbvR5nc08YPy9w0uQ00u1WN2d8jog+i9cUslNx6CYdeSBm9CjGxAIe2h1CyogSt8atwHYHvG8mb5yRbVPXnuQONwj02mC7sgn1BBrb4i3CcrxvFq3HDYlGSZBe6cE5Nv16ELic1SlFUHjsSsQqwj7W8nMXSH61kHcKiIOLUBY0sLsWLEWgqluLmZrby3avCojdaWLEUr1c5dzD5e3ruj9budALrCrH2AWEbzE0X3j/oQwD3DevJTFhb5IChuQJVE1j3ER0ffMKVTZypbj+vXRIxX5qwwn8t/zXZoAqTXvShE9Wo6TahYE0Uh9T9hewnG5ZYMSLVY12LAlMQ9e9qYSpcNy5ekloLZj8oG3TIdEwXx/u579Tz6ie56ENwnXBxRa/A8oeEaRieU3KYAta0SJWKKVj+GB8BuD6B66YwxYtuH2TNcwxTxYLuMMAoTse+S+FvI/ZoRvStZbMwa9awR5kI2DaXDLWvCFfkuZXQGxf0UIegFeVi29UHlT68tXiuvF4+LAacMGcRf3aj45yyHjf4wE3Z0xmYrolsUXwwGkUY4pbSqIFmRG/dcRqnm7ZBCVpxpuZi33bhsix5FcdekHrqBBQc4tsddigiv+KTs5eYMX1YVtGG3Zcv4/Lp3ciUVk2FOCat88dum7zBAKYHZvDnEDxnJqqwNQrfcp9eXjDCOE1e0CWmX4ruy+dTLWypGdEbjCaYkhwoeiJ8pDvxWbi81dCDpqN8lLewAM9Z+XY/E9sE/PIXY0kcPgNCcKYNbVI7vF58MGaL7Ov7/KNN9feiZmWGfC2Y8TxWv6NIeVT6+8QCIaPiIEtjPr0Btj8WDLgqrvca5PqQ0LEqPlgFcv6wdmiP3tt72+/G61FK9jIXR5X8AKHgaAH7FBQe52eZtvE9PnpexUpJ4o7Q3kA2aT0KForlzipUf+VHw3vccZ9RiLJxTTDww31KLqmCjZ8dCCKM9kQvxc+35IqsahD1f96Iuk4+Vt24fmTI8f77o2df+8+hS6pjMeXAKpfohuB3exCIkukzhMMGUblD9+bAGN0bYuIQSSqNIa61Imfn+CO5OPJlIvzK1QLML7YIwyDaK+TZR+ZS8dqZSrY0uYK13VJWB2jZKr9H1ttxzoKK/TCb+WcVJj1y9e0s5XvIrWVq/SIa7OklLFi/RY67yCQ8XwRbpIjGjDSkSV19d4/s+w/hf8pl6Sxz+CA35EPN9gYsrC4bMcczcJ0PFjhpSUODnhOOGFBLZ7dgvHMGcSRwTcRsLOrVH2lU9NwrWVOKAskVn5qDso3RBoMpWLSENx7vyPCWrRC7bSb4Ku1YkLEF/sLj2PfISBfGf76DP+cgM11ZjxvTjJguL3SjZ7RAUjy47sTmDDuqzo4eVgk2lyBjVRU8d1DMFwyK/69mgk70+JOWPucmfjpMv8MCpS5Wmc5PpZsaJ/RiQ5GJcbFV31XW9mkL6+qJwSfr5fuWamb5zrGX5nXtWSq7KBeHu5O3JTxZXV13U7M9/VgxPPYcHMYA6o7ewYxidwPqAgkoHBg4x5MZmC2nGwLw98iGu8KzOxt5RRtgX7pLSeDdMUG4KjbDmbIbb9gjDfb9qF/PB+1FziEuZkrpXjiu7MLGN8czIaQPwf8qS/MeVM/dnPSix5Q0lP3VhtAHNWgY16SQABqq64HcbXguSt3OxMJ9epFOOHfp7nORCSlSeQVn8fASjXFytha7nICjaFiOJMzZBlSfCiAw1TD0df67FL2QBv/+18fxu1xC1wWptYgOQB0mv+g5Rvs+HHiiC+V/cfJ+aWwEj21FuTcX+1/Nif/kCUHiHGXs4jt/98VWptUfyGUXl9+PItYxEYLzrRr4TQVYG6WI1e92yT185q8HCkgGMK1ZDxvaUHN4jGHbKz4oJVDzYFGx0vSeEL1Ur2Lb8zn2TX0NeWOcLpi304B9Tftg04riOeHpcvCqV3cyLm668JlUxPrY8ihlHAG4/6VMZF+YEuHQmmbFCn6w+D9sxJicnHD9kcrTJe8R0XOmmJC7/7RcmDaqf55YgGOn9yM30qSTeJKeyXtGzoU2dI4Wtgx6ULfZjmVrN6C8ZB2yM7OxLGMWSpq5yN7JVqpRk6RK0xJl3i1/LhGVp9Kj5IQPDWWrsWxpBhZI22VuRl3nsPPkl23ytS4XzRnmIHXXwS7/nwyUy0OpAGpWSet21CkRYIEJliT+awQ64R1DRMrb3iK3piVW1cKVMmJAS2iCcPQimVW0C1NExHb5R36c6tjbyPLNZlZ8Mrx+RF4fnuzqeD1djo5IUaJil/hr8bfm5IohUyrDiaKt0bJl4QRgQfTo19V3V97+fwzwY+Rm9G3vjnunp78nMGF5tuTihNDUcjuHQFyS7/sAesK+nHEhlttMmB4+zRmnRxyrmH5+v7KQ8xLeyBZb8L/NlKbphdzwDLrFjpIo4gNss7I+HL/HrSQAFy+MenZNmKmMSLuvj9LV33SjRT5r5GLFw7JFNUj0GsOUs0qeU3D7y2BY8bhUgn2hCtlz5yJjFXdx9rqRVnUa26Rk3RiwLIwu1DADiaKIhNDZLnngBljTRndGeoK3L50ONX8mu1KGdU/DpvJlBkn0WuOBFVglVZleqEeDHL6LhIEP3P+N/b9PgXFqCIGzrWj4Rznsi7hPrd4su2G40Sbd0AE5WB6uir0L3K2y5LH2t+pffIdErzlMcPzJwX9+P5zyJf4iEYDX5UPi9mP4+sJlfPP1P3HgWSm+4sWuythNch+YuheJS14l6fXIb5R6pv4gvG5f1JDxdON9YikCN5048jFvk8pQoL7mSfSaxOpAwQwpClMPd8RSaC9qi/JQLZLQBqMFth17USa5z9/3IAYJXRlTgpQ38MEX4XJ/gXa3HF4M+/PBEyWwVyo+/mD8V5RTzy9M0bMFgaPvy65NTqGYBqoyJHpNYkHRjlwYQvWo+iD6AND5txr4wioLXsLFbv6XvxNXO+6P3N+HwgfRkNdDA/bQoAnZCb9KkwUdaRDad7NXbucl8nf7wYWKnQFs2+MYkQgL+KVDIwXz5yjrI+j3oHovP2ckbcO2ibgLiYSI4hCaQ4TwIs4lkIrT0ll+6SaWnprK0q3pLDU1neW92cJ6bw2qSR/0KD4ZLmgb/MhixaUjtx2Yg3BDCWUmvzz02nAyNzrYa4/ybZNTWao1n9V6IhWjic9wmzuMKPuaOkqINraQ6LXMtSMsj4tOvVtqjkYfa9zERZteye5oD8RBE/U2QiI/MNG31CTRaxzl5slL43dfqPYKlioly9rE+jjoee8pvu/5rDFiRXKvcg/b1ArWMa7y47uHRK954n2bfCHOZ45wZ2Uc3OpgFalmlvVW5F5eydTSbfKJaNzq4W4GF/64J2XEiBhPIuk7X81Wzl7JKiOOA9SHRD9ZEMKfaP93gGuNbFM6F+qZ0d+992QxS8+tZB2RNC3d+j+OgpegmycTuoPi9ITuINETuoNET+gOEj2hO0j0hO4g0RO6g0RP6A4SPaE7SPSE7iDRE7qDRE/oDhI9oTtI9ITuINETuoNET+gOEj2hO0j0hO4g0RO6g0RP6A4SPaE7SPSE7iDRE7qDRE/oDhI9oTtI9ITuINETOgP4P8XDVdg8kQOFAAAAAElFTkSuQmCC)\n",
        "\n",
        "Теперь найдем её производную."
      ],
      "metadata": {
        "id": "BUFEtUHJDBJH"
      }
    },
    {
      "cell_type": "code",
      "source": [
        "from sympy import Matrix\n",
        "\n",
        "# Определяем переменные\n",
        "t = symbols('t')\n",
        "\n",
        "# Определяем векторную функцию\n",
        "v = Matrix([t**2, sin(t)])\n",
        "\n",
        "# Находим производную\n",
        "derivative_v = v.diff(t)\n",
        "\n",
        "# Вывод результата\n",
        "derivative_v"
      ],
      "metadata": {
        "colab": {
          "base_uri": "https://localhost:8080/",
          "height": 58
        },
        "id": "oaQwFTkgDw7I",
        "outputId": "417ba5f1-e302-4a41-a3b6-6ff1eaaf825d"
      },
      "execution_count": null,
      "outputs": [
        {
          "output_type": "execute_result",
          "data": {
            "text/plain": [
              "Matrix([\n",
              "[   2*t],\n",
              "[cos(t)]])"
            ],
            "text/latex": "$\\displaystyle \\left[\\begin{matrix}2 t\\\\\\cos{\\left(t \\right)}\\end{matrix}\\right]$"
          },
          "metadata": {},
          "execution_count": 24
        }
      ]
    },
    {
      "cell_type": "markdown",
      "source": [
        "**Объяснение:**\n",
        "\n",
        "1. Мы определили векторную функцию\n",
        "![image.png](data:image/png;base64,iVBORw0KGgoAAAANSUhEUgAAAIwAAAA6CAYAAABiU7FWAAAAAXNSR0IArs4c6QAAAARnQU1BAACxjwv8YQUAAAAJcEhZcwAADsMAAA7DAcdvqGQAAA1YSURBVHhe7Z1/bFPXFce/G5VcMcmo2xzxBxZzYijhl4lp4zmiYEZDaJWY8qORWhOmlLTAyJSA1RJFLT8qkaE2AaYFUJsUdaRVi8vKYjaa0KJYWhQv7WIQYBCJwwAjgWJNVawWxVLQ3b3vXTuJ/Z5/gI3T9n2k1/feeSZx/L4+95xzz339GaFAQSFJfs73CgpJoQhGISUUwSikhCKYycx9HxxbV8JUtAi5uflYZnciwC9lC0UwqRJ0Y/fyXJQd83ND5vAe2ISGqfX4sucCztbp4T9Vi/UHvfzqwxFy1cFk2gDHIDckiSKYVGBiWW2Du+QkPn5Fy42ZwgMHFeU0ehSim36THVa697/voFceHpVlP75s+DUa1qUmGkUwyUKHh9YKG9rU9TjyuhFqbs4kKvpL/N1/h4eNQ1PyMH823YcG4UvTuKRecQgnNw+hbl0tXEFuTASrwygkpm+Pgejm1JCOYW5IKyOka08xKXy2kfRxSwzft5MtOh3RPdNILo9yWzoYHSAtVvpzrS3kFjfFQxFMEox07SQGerMqnRlRiyCGSiaGZ5vJADdFM3CkmOh0S8mungy8B18zKaa/v/SDxJJRBJOI0T6yy0Bv5ssnyBA3pZ2vaqgYdGTOHmn/MkyvGww20uLJkGApggfV2ciJO9wggxLDJMD/QR3agmpUbC+HhtvSjae7U9ibjfOE/XiC7t1Yvz+Et//2EaoKQnD9pQ1eFgWnGePmehShB7vfdQlBthyKYOJxz4mG/T6gwI7qp7gtbbhQl5uLXLqt/6t4i1w1+cJ5nUs4BQZbYbO5MHfDc1Bd60TnqWY0HPEhpOLX08n0cmzboELo1G4093ObFNzTKEhw6z0WN+jIFucIt2SAoRPExuKXQhrMcpNIH9nHhkJ2bfy29njmhsZrjWQp+x1b2mkYLo0iGDlGe8iuOewm1ZCudGYl0fD4RbejixuyyS3SUsL+5nXkuEwsowxJcnzdAQcbKda8AMsU0ZQJvB63sC96OjZ+efRoUbJWT/cetDmlK9mKYGRwnWwTgj/r8xbRkBH8cHezKpweFnOmQurU0JaU03cD+D7vpO8uFkUwkrjQcYrtLfidWTBkhvtXcPkS3WtKYJ7JDCH43R4E7rPjLDHTCDMLqvsd6LwpmsajCEaKS33oYvu8xZg7VbBkhvM9EBLqJYshDEiXmrHhlXbQvCyLGFFUwvY+9FyMTbDTL5i7Tmw1laHpUrxsXiR4rham1U3wJDuP8Yjwf+MS2wiM8wT3nDG+C4kTi0/mUefiw+E3HShotsOcwZgpGeYuFOMpl0uMr8aTXsEEXahdVYvQmx/DviBxsYBNfh1b4sT6ilb4sumGo7hyUWwhmMduZCaxbMN+iwa+xjIsMv0B/m3/wKEVj2JaMz7aXB6A088hxtvxbCkNDJOOmjnyJfQbx4nNXEi2fB51lZfel74zsQqRPQZI87MstdSRnZMh080GN1qEuSWdrpK0f89tnPR5mEstaHACFdXSJXSvoxk9dwNQ/SLq6hQjqrcb4T/6Jzjucls2uT+IAaE/RA+9TrD89Jipx1zh4Db8d4SDCGkSTAjOI4fh11ShXDKroOnjORYVFKGoQLSMR/PiRpqP9ODwJ9kN9wRu+3FFOJgL7Qzh4CeIBlrhe+3DwA3BECE9grnXiS9ouK96frkY7UcTcMPF5ic0BZgn5X6mmrGKCs3/aTvS04D4EPzXFxm3VVkOPrOHGtOeEI8Gb06sxkQJhgatfEJs/FZ7jl+1T7SvfJ//sK/F9HDxkxPbFv3HysTXmuqo/6AEDqOMna9ujSoKaaCfTYPkwHl409RN9sDcHxH3Gm3GZqcnP49D/SvxKDQq7sNECcaMt3t7cbbOyM8p1kN4e4l4aN59GnY2uM2owsf0dSc3iALx94tdpjOmT/yIta+cxvXr13Hy92LGZPnzVeH8ensVojtiNVqWwPbAk2UX47/JG1yfmPZI2jAnJxrkTBePfIMTG36jBKOCWkO/7RuqYQ1nxc4v4OIpr+puBxx0gDduehVm+jo1L2oF7jB/IRck+uFxC9UGFC2UT7W1M8UU9jYNjONyiXqpIhNMKW3r0Rpvyn48o4nrRz8p4nsYzlQLql8L+4BOHP+M3UQa2B6kgS1KsPHFiZ4kGIzzId87jx52s1RmGIXyd3yGgnxIkGPBNpzu6UVvSttJVLEGaoWHRjbo1b9UhfDA5DnYDM9tB47TQEX7RzusqZTLaXwj9APRgHjcQKfwA0VWMKwDq3oNH0KCbairbIWH3vKql2KL5Wq1/FDjuyrGNxYLz7e/9cLdLz8XkKN+nB/J8KBDUooLthRk4AU8acIdWHybs6NLshPr1gelMpXRIXLiZfZvi0nLDXY+TNqrdGTdh7G14PDPqPmKG7JE+H3oSpJbdvFjpWsHv+9vTLyp8h6GMXsjtkUKcVpUbbbQsDgW7UKjYI8NWEcQ/I7t50JP45fg2V3YN1SP/RtiE9aAn1U/5mH+k+J5tggH3/h2GJNsTvQREsAQr7rr8ybOp8UXDE2vyrdXifWIEjtelQsc5y6mCTnQdy265UaLireqoH/Mia2LFqH40/k42kbPYwpiAfj6aeA8wwJLtqur06aJX4qAP+sL37MH/aL/TzxSPSbuwyQQDOWpevSy2slRq3xdYmoJXiihedSZrphKrYr++7P913H1wgX0HqOBtNQPuedGh5vKa83qzLYTJINGy2tEQQTvCQeTiuD5JpSZtsKZcN4tCJfdhLJ3PQ/gKQPw8+apvJkTK2aJBZMUKlg3VUAdaIUjtoUiIYHPjtNMygL7pqzLhXo5bWTibSgdLoYG+a4zbvjSIT627GSdE5bWo7Dywpo8aljeOQbL6fWwvZ/qHF0Qw0KlRI9ZvxEMY/BYJg2IAW3KKwR5e0PxEblFoo+asfaGhw/Aw0H/A3wu0YzS91WiIwaZ1ZGy7SPf7CIG3VLSeJGfJ0OkvaGGdEStmEiTh2GoYW06Bqu3DjtPJ+8EvQe2o21mPY68Ngm8i4Aeej6DemUwOiZLFQ30+WKAr8nXP9TcVPBMA5r6jbBvlq5mybaPPFUNe4Efh/c7ko/JfJfFCdi8WciLjje5cNLHnXaypbCUKjrx4i+2ZrjQ2kj6Mrdk+IGIpNaTYq0QY4A0PkPfT5XcArPweiIbOSHhxkaclfQa9TLXuCEBkb8/KqVmpNHDcKZbcbT3dNItmr3tdulAOIton7aI3qC7L/vtFoz+djhvA0UrzJJljUTtI6rfrkIR/HC0J/PXhHDeLb7OsiS2uSn9gvkxsGA5VrE7k0S7RfB8K7aWLsP6V+tQa1sJU/EymHJrhemQSDvIbLqt4i0dN1uxkreH5OauxOH/uNBkK8OypSbkU1t+aR06ozIgf7eL/lsV8vQT1ZB0+4hGjzz69wQueJMYlrzo62b7eSgqkJAn9zQKUfS8NUdwy5Xx1lXfEddFV342NqYOC+6/hkScuWcfKWTufULleJicqGRDCN1mlZLma/x3XOSV9agAWay6lpIWPzdE0bcn0XulQxZ7aJBu59j7kiNc3ZepdCseRgbzc+WC+5daahHB2yN8s2/fGRKWizDUBcthmZ4zNnT8Mkd4Tt1E1MjhHW3arQexjTWPMRYshtDB6u4ZNxSGq6550EsWNZNpH9FCL+QUiUsFvn86Be9kfGl1TM8SQxGMHIWrUM4+/1Mn4JSroZhfEPqGfAdXIj/fhDI6LDX924hD/6oXKt/JULAwUXY4VnWVJKX2kaEExUg/XJ2CXLC6RDqnUwQjxxQzqoXOw058cU6m32eqBYe6jqJ8AY3aQwF4zzlw+I0yLFr7CNdZpbN9pN+BNio+1ZpqlMsUBhXBxIGtZmCrRjs/lKlh3PWi05eHve0XcP36VVzoOIaKBdR+qQFNZ2REljJj/bVSpNY+khPpkpTC/RELluUnmRmKYOIx1Yr6OjpknG9As1Qo423B1o3NcAveRAX1bAv2HrAL82G3A0PMmAY0yBFil0H4aGo9kQA83azEFo5fgnBSD9ckxDTj8cMnVOJ+jRzpkYaKn3rHj0LUu+xFdZzuREUwCdBu2o8KdQhte6NXOoRxio8R42fBwQH6Oj1Wr+Aho0yPcCg8ZI0fuu6PvTZynTKvoIj+1wd/zIRjsu0jAfhZnLNgPg2dpQjB9e5uGsAXYe/r8t5FgGdLCvEQ5mMkHrvKnh5VWElqthQSg6GQFJoNxGC2kcYu8XWRJqTIVkxausPzNOO3GlIT81odKX6PJ7Y03Wapue2T2DLuyDf7SPEsHZljMJDCyhbpqjl/LNrSAzLzdTydVx67mkbEx5JWkvasTGMkmhqIT9ypgdHL4s9OcnJUEUyyjHti9kAmn3knw9AnNnrT5Z89J88QOb5WFFus1kdI1xv0i2CoIdwpJkQRTCoM95FGKhrDji6JDz/DcE8g294ghzCcFpNmHz8fx3Ane2D0FtKegggVwaQKF00y433a8bWQ0lR6W7jISt+LjV2Ex+GnKBaGIpgfGMOeRlJamMyNHqZBdyEpfacvrd5Q+b/KKqSEUodRSAlFMAopoQhGIQWA/wMNQZbRLoxdgQAAAABJRU5ErkJggg==).\n",
        "\n",
        "2. Применили diff() для нахождения производной.\n",
        "3. Получили:\n",
        "![image.png](data:image/png;base64,iVBORw0KGgoAAAANSUhEUgAAAJYAAAA+CAYAAADJTuJhAAAAAXNSR0IArs4c6QAAAARnQU1BAACxjwv8YQUAAAAJcEhZcwAADsMAAA7DAcdvqGQAAA2fSURBVHhe7Z1/bFPXFce/G3+44g9XaDViEhELcVloQE7S4cyIFrcoGKmJaWkbrU3CFhYokKxJidakURUK6yKgCTApwDpS1hChNqFqF7N1SQu111ZxI4ZTQcwGeWEFI7WKpyJbK4on2N29910njvOc2ImfQ8v7SC/v+vhX/N7X955z7nnX3yMUTJMbN26IlkYk8+bNE627lxkJS0MjFt8Xew2NpKIJS0MVNGElEentEmRn18F1Uxi+1YTgqs9D3sZOSLeFKRGYj6UxcwbfKiamzDLS8aUwfCcIEOcOEzGVdpDBW8IUJ5qwkkDgdBUxpZtI1emAsCSJkWuk+6UCYs5MJ+npdDPlk+Lf0JOs+DbXyPFSMzFXdJFhYUkKtwZJiy2dmHY4qcziRxPWTPmygxTTk55/eFAYkgQ9oUftZlL85gAZYb3FyDDp3VcgBFZFnNFn+XwTMbP7qrqFIYlIR0kBfe2CN64Jw9RowpoR1+jJpyfzoSYykOBQMRUjjjJZROZa4vxGGMkgaXqI2qg985VzwiZz7fV8bi9+K6n91SiDh9nrF5CjXwjDFGjO+wzwv/0SGi/oUbq/BllzhDFJBL/5r9zweyF9LTcBIx5cIbdCbg98cpPih/tvEt0bkJNlkE1JxrhlD0r1XjTWd9J3iwMhMI1E+cZJqpjv82xHcn2aMLcCZMDZTZzeyDFvhHSVyz1WenkXGfHJQxS/PW6jPYtPPCWJDNMAJT09k/qSI8ISG01Y02Rw/8P8IDf0CkMqCHSRMi6cqJN7toFkMjsTmzCpwq1e0sC+THTon8qj1IbC6XDThZY/0IFoYTlKLcKWAjwHGuCie/0TR7B7jU42UnweN0J0b1yRgzGrCsyxoHRLGnD9EJpPsXeMjSasaeA/2QIHPa7GkiLq9aSG4JlqbGoLIu3nJ/BxsxV6YWeJzP6zzL/SwZJLT7rKGDeU8s/c8+bkvpYmrITxo9vhoXsjimzqn0jOUCuKNztgrPsAH+y0RIiK4UbvGba34ZEcblCXRTYULaH7/nZ0XZVNSmjCSpSrXWjvp/slRbAtkk2qMtSJkidbsPB3fXhni1Ee6lw7kVftQJDf7wWTOdY8CguLTG8H4XVL8n2qkAbbBtZnSejsGYtLo9GElSC+M130kNLAfo2FHmKVCbpQ/WQj7tv3MY4UjqURvGe74dfpec/lP+vm/0/Yvwq+X43CJtnnUou0XAt/L+ndnoiUx3g0YSUE9WfcXt6ymLL4XjVuS2gt3QTHTTrYvZKPvJV5o9tTR/wwZmTwh43cDPD9AxlU5jd60PCqH/X7SqFONkuQs5IOvJTLveiPMeGeRGH50L6RfvDi9hgqDsLzWiHytjmmTrCxg7o+D9tOxZWKSyFhfyYLyx7gBtXwtb2Axgu0cSsI/1f+cRvrjbiQKGk/24VyqjFHZTayH+vAst+f4LdVZc4DWLacNVz4yM0tExFph5kTnqsyNZBzCtMbg68XJDb1wXM2KkzszgSpheTzPFItcQrT3YrzRXYcYs+RJq3H8nv7eU+UVlyE3OjpjaFD2L7HF2PqIwTXrrXIy2+WndAwejv2Ni6DY3M1HOp5ookxNMj9GSw3Qu1O4U4nI0NOtEiei4r+XNKE5fmsl/7NQmlRtO8RhGNPM6ScGlT+RJgiudmD420SFeU9UWE0dZCfrkCpzoWGA+MkN2tIQxflhtGovuN+h5OWIXyBL3yKrk+ShOXFAB1rddbNWB8dgl8+imbql1h/UaTsULo/4tlk3SrLxGTjHAuKNhkQbDvKndjZ5rrE+yuqq4V8f1czP00+n7QXv84N40mOsK674fLrYCu2TRCP9BcHVfRKrPup8mSD59MevrfkKkdZWY+so6FtD/50Rs0AOh58ELqigld14uTbgf5e3MsbQ5AUlKUgLBeqFy/G4qitmkdD9N6a8fa1bM7s4gC8+vV43BJ9wH1wuej9ugwYxynOhTrx/KfaZMG4qpby23Ws+4pkURYepDu3Rw7zZxWh7YU/nC837mbm6iEfBXpQFGriFYRlwe6+PnxQlytuU+wHsXuV3LTsPIUaNrwuLMcJ+rh3Sqi3sWIzjv2xBta58mPGGMIAC5mXiG5zFCv2XLmCK317aF9GMVTgFLtNtz1W/oAxDPPBBp6QJ7L+aDag38zLcks/V+ux2Hm5jzckSP/ijXEoCEsHvcEAY0kl7OHj5/grXEKVuq+60Ul92NxfboaFPk7PxDQvC9YcBQ/KP4x/s30sZ/d8L5jLj1UPUrc/FrS3Y3NTl31T5L9okFA9lkSMe6t3KUY1SoyIvcZ4RuLrsQRzrahkJRIcGrmdZKc1BMeBQ7TnsGHj0wpCiuZmEMOiqYTXI2fXVq6II4sdCkwx/6WnHWsf+noT3Bqt8vybRlKZ1Hk3PlOO8IDoOdACz/VOHKe+dtqvamCfMOwlig/uT5lYjbBa4hCpxreKSYWFBUWofEJ8n4PtqCtrhYdKrfyZOKuQRh08BW5flP0vgw0WnqIIwef2wB/r4kjdvRPyXONRfyjUSACRgY/NpSbyMJ/GkLfMHc4Eyl+dpJY9z36UTLhwKFxOS1+Pc56+T2YD6Z0w5SNew6bwGilF/B90qzotTHc1TlIljketwvzW5D0WY8lGVIyW36ah/LlEfJIs5LLnKjne/wnxnsL44wzaWUk49HInclpq5JqiSGgAwNMkptnOdosgghK8qfVxo4EZdWWM6bwRgW+KoZBjQNEL5XK6wFaDzeLgxocBWdn0mSEaqkcry1qBPVYDpKZCZOdth6/izzi4RmGwu+rFObqzrUphcbki90D/A7l1/cvJQpLZJkVVJKOBGe1mlC59Ez2XeoihtMwxvetHBvaZaXe7lXSNXrQ5ezh3yF2/ed+AsNx5pKyKJOzKpFcpVnrE0WPNEDGUuqYovlfkthudx/xI21aZhCh05iw0ykELq4m6I0llFUkgIAc9GffzBHY06guLDaV1FUjrb0bL34UpTvwnD6EddtQ/p3K1ZpwYwzP6XmmWZwGUSG0ViS9c6ZFFfSy5NY4UCIuyvAZv1KWhfUczvPGutRR0oLZ+APaW3bBNnmdIHfTbyQ/i5QEMccMdRIqrSIYuiUoPFnwpkBphUYxbTuCdQhc2VcbpVJb+Frrffajs0M8WGTTK5Y2LkCa59Gk2SG0VyVilR+5S5ZxmyoTFplxyf30KfUfsyt+oSOYYUd7VN+7KlDsDC1auYXsJvefjOQE0QmurRmH2UizNy0Me2/K3obU/wpkJ+dDzaglWZ2fzhG129mqUvNoDX8TLB/tbsa1gNZ7aXIfqYuYnrUbe4mreA8mkuIrkZj96WXIbVqw0c8tEhBOvESfywhgTlxGaiLwaXjqLuHrkiCv83PTMBsKfHeglDVZ6295CBsNBc+AcaWJLI7Hli9jTxPpbZSfHorYAX+IoMhoTyUqlRDRjWH6NdDONFoVpIpMks6MJR4STPDaFPdZ3A4PVxofD0PtOTPbdDp2qxab3aM9krcfutfJwblhhhy3DgKziddzP8RzYhnY6pNqfr4AxPILpc1HzvJ1GLp2oZs60V64AYbmzcCemz3kE1gXzxxLVKa0iof31J/I0mPExW8yktSasRFmwDuvZpez+Hrgn8bNcZ2SfxrgidywKyyjCkQ/7cOpldpm8C51tbEg0Ylm0m2JcxoUXbDsOl/lxXr4kHViLpUvzUEiHw+bPcnHwk3o6MAtSWkUioes9FhPnotQeey5EE1bCGLDOzvosCe3vhmuVo/HB90/RjFXGfFUan09ShAYJX1tx0HkERcupPEN+eM904tCLhcje0BrnasZJriK56kIPm2PLWY91C2STEpqwpoGhpAalVC++9+TL7Scyn11rwAkEYnz/RWXs5CzE/P950SNlYFfX57hy5R/4vPsYStnFohca0fy+GBxTWEUivdtOP7MO9u0x0hoCTVjTYXSdqFa0K14JrIPNzi9Ch/+Mm/YZEdz2oDG/Go5bNjzOHyJh4BK/Z4xLA7JgbY/DduUotm1sgZsLQQf9Eit27a/hQ+V16ltxwiKVFBK3/b3gg3LYv7rQgpJNSl8IUXq9KLqMPILbbrSLdcEqI9bnUkIT1jQxPreL+j4htDe1Kzq7usK9OPYE/e5fbsT21zwIcmGEIB2uQ+uPHoVVT7/1e4/BTh/i2N8IT7hjY5Ue+x18quXYXrtw0B1oPCyNOu/BoUEqICPWrwn7OKmpIuEzISH6f++s5MKeFBEdakyDqdfkDJBzb1aRAhMNzTPNxGwxk4KXuslw5ARxYJB0sLXcTSZ+f2amiT4mYi3301Uk3VxGqraaicnEXsNETJZi0hS1Hrc8WV9MOiYsiHqNdJTR++6nzzPlk9qeGCumihTC1ljFAgmuuaoJa0YMk45n6cFWYTnuhFG5imRgH1tzNf7luDVhzRSRwHx41ktphMg3HE98FWexaG3Mz8Cqe+lnTGQNeU1YSUC1nzxJFC4AE2k4K27HCR/SM6tIt9K/T4fAWjqUaz95MksMO7ZScdGhQhKGWSKphX63AqSb/UjT1q7xfmEcaMJKIlxcpsifKJkNaMCwjwYDTAzCEhPxez1bHUqPHCHOF6cnKob2070aqqDlsTRUQROWhipowtJQBU1YGqqgCUtDFTRhaaiCJiwNVdCEpaEKmrA0VAD4P42dlAsKXhbGAAAAAElFTkSuQmCC).\n",
        "\n",
        "\n",
        "**7. Вычисление высших производных**\n",
        "\n",
        "Вы можете вычислять высшие производные функции, используя параметр n в функции diff().\n",
        "\n",
        "**Пример 7: Вычисление второй производной**\n",
        "\n",
        "Рассмотрим функцию: f(x) = e^x\n",
        "\n",
        "\n",
        "Теперь найдем её производную."
      ],
      "metadata": {
        "id": "Q1LlAarFD5q1"
      }
    },
    {
      "cell_type": "code",
      "source": [
        "from sympy import exp\n",
        "\n",
        "# Определяем функцию\n",
        "f = exp(x)\n",
        "\n",
        "# Находим вторую производную\n",
        "second_derivative_f = diff(f, x, 2)\n",
        "\n",
        "# Вывод результата\n",
        "second_derivative_f"
      ],
      "metadata": {
        "id": "lPc2_laBtr5Y"
      },
      "execution_count": null,
      "outputs": []
    },
    {
      "cell_type": "markdown",
      "source": [
        "**Объяснение:**\n",
        "\n",
        "1. Мы определили функцию f(x) = e^x.\n",
        "2. Использовали diff() с параметром 2 для нахождения второй производной.\n",
        "3. Получили: f''(x) = e^x.\n",
        "\n",
        "Таким образом, Дифференцирование в SymPy предоставляет мощные инструменты для работы с производными различных функций, включая полиномиальные, тригонометрические, логарифмические и векторные функции. SymPy делает процесс дифференцирования интуитивно понятным и доступным, позволяя сосредоточиться на математических концепциях, а не на вычислениях. С помощью этой библиотеки можно эффективно решать задачи, связанные с производными, и проводить дальнейший математический анализ.\n",
        "\n",
        "# **Интегрирование в SymPy**\n",
        "\n",
        "Интегрирование — это обратная операция по отношению к дифференцированию. Интеграл функции позволяет вычислять площадь под кривой, определять первообразную и решать задачи, связанные с нахождением объёмов, длин дуг и других величин. В математическом анализе выделяют два основных типа интегралов: неопределённый интеграл и определённый интеграл.\n",
        "\n",
        "SymPy поддерживает оба типа интегрирования и предоставляет удобные инструменты для их вычисления.\n",
        "\n",
        "**1. Неопределённый интеграл**\n",
        "Неопределённый интеграл функции f(x) — это функция F(x), производная которой равна:\n",
        "![image.png](data:image/png;base64,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)\n",
        "\n",
        "где C — константа интегрирования.\n",
        "\n",
        "**Пример 1: Интегрирование простой полиномиальной функции**\n",
        "\n",
        "Рассмотрим функцию:\n",
        "f(x) = 3x^2 + 2x + 1\n",
        "Найдём её неопределённый интеграл."
      ],
      "metadata": {
        "id": "Tg5nKRi8vGWY"
      }
    },
    {
      "cell_type": "code",
      "source": [
        "from sympy import symbols, integrate\n",
        "\n",
        "# Определяем переменную\n",
        "x = symbols('x')\n",
        "\n",
        "# Определяем функцию\n",
        "f = 3*x**2 + 2*x + 1\n",
        "\n",
        "# Находим неопределённый интеграл\n",
        "integral_f = integrate(f, x)\n",
        "\n",
        "# Вывод результата\n",
        "integral_f"
      ],
      "metadata": {
        "colab": {
          "base_uri": "https://localhost:8080/",
          "height": 39
        },
        "id": "tFSMNhY3vnOT",
        "outputId": "7faccc30-51db-470b-88fc-384b5576885e"
      },
      "execution_count": null,
      "outputs": [
        {
          "output_type": "execute_result",
          "data": {
            "text/plain": [
              "x**3 + x**2 + x"
            ],
            "text/latex": "$\\displaystyle x^{3} + x^{2} + x$"
          },
          "metadata": {},
          "execution_count": 1
        }
      ]
    },
    {
      "cell_type": "markdown",
      "source": [
        "**Объяснение:**\n",
        "\n",
        "1. Мы задали функцию f(x) = 3x^2 + 2x + 1\n",
        "2. Для нахождения неопределённого интеграла используем функцию integrate().\n",
        "3. Интеграл будет равен:![image.png](data:image/png;base64,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)\n",
        "где C — константа интегрирования.\n",
        "\n",
        "\n",
        "**2. Интегрирование тригонометрических функций**\n",
        "\n",
        "SymPy также поддерживает интегрирование тригонометрических функций. Например, интегралы синуса и косинуса:\n",
        "\n",
        "![image.png](data:image/png;base64,iVBORw0KGgoAAAANSUhEUgAAAVAAAACOCAYAAABnq1AyAAAAAXNSR0IArs4c6QAAAARnQU1BAACxjwv8YQUAAAAJcEhZcwAADsMAAA7DAcdvqGQAACEnSURBVHhe7d0NUFvnmS/wf68zo4y7I096K0/2jpksWHbBisuHa1ExLpbjgjwNyE3jMN0SsgslKdjegs0mEJLrxInN2o6xvSk2E0PY1CSTmni3Rd76ijRe1FsPuq6DSG3kbIzwxhaz8aCdZqSZZKw75r73fc+HECA+dEQwmOc3I3T0SjocnXP0nOf9OEdfYxwIIYTE7b8p94QQQuJEAZQQQjSiAEoIIRpRACWEEI0ogBJCiEYUQAkhRCMKoIQQohEFUEII0YgCKCGEaEQBlBBCNKIASgghGlEAJYQQjSiAEkKIRhRACSFEIwqghBCiEQVQQgjRiAIoIYRoRAGUEEI0ogA6Q+Fr7ajMSUNaWgayKzvgG1GeIIQsWhRAZ+JGK7ZteQku8zG831aEZefrUPd2QHmSELJYUQCdVhiOAw3wIgnl29eg60ArfHcAz1Wv8jwhZLGiADqdWx041cXvV5egaHUSSl5vxo6yvThTZ5WfJ4QsWvSzxtPwHd2I/F/4Yag8i4vPmpRSQgihDHQafri6/Pxehy2bKHgSQsaiADqVgBuua2LCgnVrpBJCCImgADqF8P9xokdMrFyHNUulIkIIiaAAOgW3yyVPZJlglKcIISSCAuikPOg+J0/lZFL7JyFkIgqgk7nhgTssJgzINBmkIkIIiUYBdBIBtws+acqCh6kDiRASAwXQSXgvSd1HwMpVWLlEnpxXRgJwVGaj8KgXUqIcjxEfWrdmo/Js4qejhr+U/7t6T74KIXheK0R2pQPxb7EQXDV8P3nNw6fIbKMAGpMXvReUSZNxljqQwvC7u+C6Eog/4E3AvxTP5aH6zgt4Z5cJOqV0xpYYUd7+AsJVfB7nNX6thlpRmJKCtIfTkMLvt/1qWHmCzDbfyWJsO2tFW5Md8Tcm6WE91Abr2W0oPinXqeaD8KALrTX8oJCWIu0/4pZWUI32Pr4/hjxo3LoRjVeUF89n4kwkMo6/hRUkJ7Nkfst746ZSmKBLe1iqNM9UtueSUqZRsKuKz6uYnf5MKdBo+N1ivjylrDOoFMRtmJ36kfhMZnb4slxCZpmvieUlpye8z4j9Lz059+5vp2Avayk1S98tc+lh5rw8zG7fUZ66dJgVrMpleVaxT1Uxp1I+n1EGGsvVfp6DytasTFKmErTChHX38fv71sG0Qi7SZMSLln0O4MkdKHpQKdPI8MQOlOhc2HPUo5TEiS9Lb5+YoBMNvhohOA40wpdZg53fUYq0+s5O1GT6cfxAh4ZmAJmrNgWFbeLMPI0GO/Bk7jY0uO5HSdtHuNhWA9taA3RKE5n+OzVoe8EA3w3+wJKDrPnYdDYOBdAYvH9yK1MmPPwtZTJRDxbh7WvXcf3a2wkFvvC5JhwfMqD8CYtSkoAlFhSVGRD6ZQscXypl8bjaC2lNbX4ElgWwsy8411rQeB6w/m2Rhqr7eAYU/a0VcB/HKensOg3u8P2P3zQJuVD9eB16QnrYW85ir1WvPDGWYcMmqcnMuNEyC5/5q0cBdAI/3BfUY7QJxkSyxVkXRte5LkC3BZvWKkUJMm3aAh268Jvz8bfM+i+5pGzGuD4z/nZYMi3fbx18b8zBlu/OztrVfXcLn5sfHZ1zfSnGADoqy+AI8WV47BgObo4dPCX3ic+qgyVrlmp+XzEKoOONXEW/2nhtyeIhdIZGAuiqL8TGgjJU15ehMCcf+TkpyD/Jqzw3WpEvGspXy43l1TyrEFw1ow3oKTVd8J2pxrbcjcjOEK/NRuXJ8T2nbvSIS+tlmRBz91KWITs7Gxn8f2XXOOD9sBVlORl8nmnILotxJf2HTFjH79ye6b5UYfjP1aEwIwMZfH4ZOZV4vkO8Z+zOHuprReWmbL4MaUhJ24bGD718mfKRkZGNtLR8NLgXel9wCJ5fVvP1kIY0vp7Fus7Oq0Sr6PxQhf3o2vckNvJ1lZ3Dt0XGRjy5rwv+qGOUtJ4KNmLb03WoLs7n8+DbPaUayrlvnB8uF993dCthjJWKadnWBiNW8vgU+MiruRqvRfjsHtRJVRUjan5unfpgu9SIrT+uR1Gm8ni+U9pCieryYWZWOpBSX+5VCqfX+3I6SzbvZ71qw/edfnb4e9GdUEF2ulSeb9UHSpHg2R/5f+bdThaU3h9kneWibFyH06ctLE+89rlupSBakHXvNrOCQ718iot8jjzW9MkAa5E6e5JZ7YS3drNa8Tp7C5u8u0zMm3++5AI+r9tSycCJPGl+orG/W/3MvhZWYK5gnVLn1m3lM/D1WOVkNz+olZdnyv8z36nrIZ1Vdck9b3JHHP9cqXuYtLcEe9ge0Qlib2ID8qriZb3ssJ2XmWtZt3jbZ6dZMX9P6XujvXdBR6m8LpXHYrtUTbq+tG7rm6xFLEcyXw6lJB7du7V0qg6z0z+RlyfZtpC3fWyUgY4T8PZFjs4WnunNjB8ekVmFhhFQE5ElJuTkG7Di68pj6LH8AWUy2jeWY5k0YcMLr9qgl9oS9chcL1qCwjwzjGq0D/j5f+LH8ZUr5cfR3I2ovFSEo89m8Xdz4ZCcvW7eifIHPHCJzh59EbaYRWE0nuGs5nfX/JNmJf62YpT9OoSkygPYsVrOH4wbbHIblSUHJmmZA2h/rgErXjwGu9TGG8JtqV3VgPKf2hBwO6X5m7baYmfPEi+OF/CMjmdt8dy2zdHwnPDZWmk9wFqPV/LlaqhhvR22lQaYirdIbXeeo5VovwHYf74DRjXV0mfxzMvOV1EHqkWHnbdHukjN0GfDkSFt+sxNsD64fDQ7Cwzjv8S90ThxfWne1klidtwQhucsBfWiR+lSMGy2TLHtFyglkBJF93PK0VIczX1K4QzcfEPNyJJZ+veLWdWrLaz7UzUFkYkjuHh+TAaqZpXjjs7q/MYc8T+omlim+iLIhoOj/0/NEKfPGHhWYhPLFZ39RPmCZ0Kp8vpo+VQp49TMa3T+t1lwOBgZksLuOOUMKjpDvUuCjipmtphnfnu0ifUr743mrJK3X96JAaVkPCWbH7euJOp2FusjpK5TfkvlmWR5LTv8Xr9S+1Cor98dY6to3tbqPhhj+SJuslOlMdYJv6Wvkpc31nMFr8daY1zkc/P9vkspm9Qw6/9tDxv4Qnm4AFAGOoYP3siInjUwxUj0JpP0zBmcqePZFU8hQoM9cLQ1oGxTtvaB6vFaqodBr+YvAXguiKzMAJslwWO++zdwiDTJYIPlIblIyozPixwquv1TB71BHxmSgr4eiOba+dBDry88hos9F2d++9cdMdq+efb/78rkkkieONYNH6YfEHYVvj9bcay7GUVref4YDsB7vgPHnytExo9aZ/Zrr1/VtpYkoaQtxjrht2OFPCHedSbmc2f/bpLammE5Iv2w0+0H105h+wG+Xy2gS0dSAI325VX0DirTax/mlduZCsN3wQ2dvRm///g6rvfzHUpUx3nFyrG3RTmnfhYsWzZ1A7xqRK02bcI6tbd+JIxQIBSpMk6gWyZXB8fxD16VJ6zrooKKeqaWDTmZ/NN/zuc77ovv97il/2WyjPbQh0MBhKYcLqWxCt82F1X45ViuxKdgcJKDYnSwmNQKLP9/XnT5VmJv50e4fv1jfORsQ4nYTlca0HhO2UI8SC6Xp6amZVvzOevnKkgtzUSOaCLihoamajcIoGPvcax89ukFdelICqDRBgciA+h1WVlxtNcMw7WvErscSnvlUtEm1oyDdj7Nd5ohuTRxDyZJO5dvUI3yo3wnC6Xe/Ix9PAf6Y7eS/eVAHS0aOleJjIpOua1sjEH4xLjAh5Jijru7Xy9/jce0u/Y54RTfTjHYOexA5brt6LzhQrUYPZDyJDoCAbi65KzIul5Zi/yL3lSQi8Y/yQ9jM2HHv07Mbqa7nSmbi6+cDja7TZoKnHdLbdERIx405FXDcceGH0ov8aH/E+mZUZ/0ywdS2w9hu96Cyqea4JYOOjxzX23F3iM10rYdCiinxKrB2Ocb+7847dvaL2bHfRPL52yQZRKKdsg/wOh5N8bIAEkI7r3b0PhgG89yYx3G5y8KoFG0dSCN8h1tRNfnyoMRH3y8yqd7bEtkxx6fpUnuKHkCzxqiM4bIa3l5xIosZIl0bmg4spwyP1y/FaHfgC0WAxxt7fK8vq6Ts79bDtTuC6D+UMnEIMm/sFKAT4/RWcEZrHbk8Hv/kHIY4POqLG2V/7/o9Dj/G7gsdmy66ZTG+SHTiqyhU2iVzlBahvulTCcEz5E6dKxvRs0sjP+/W3SFB9H2GP+CX2vAdnFxDmkb8drHiTq0/tUjsPJqtf1gG+z8JY4jDfCoESzsw/EjDkBvRxs/qsoZuQMNJ3yRbR7iB28/D6FbN6tbwYQssa4mdO4lsK35nPziYBlX7Spxognlnb/hn+taI/K31KFrUP3UPFO+1oW6vFy8tGQvfnfIGrMWNK8pbaGE6305VW7YTy5gLX6lcEbkjpjHd1exgvR0uWGd3xfsPi0PZYlqSI/cdndHOpWib3l8HhNeG+ngUYYGqUNmogTFMKHUVOn/5r3azQa697O8Vcks1cyXxVrBWjyjQ2bGUM7Rr3CM7fCKFuzZzwpSo+d1k3U/L5/PnGwuZqdFZ9udAdbyRCpLTTezdEspO+XtZ6fFOc+r+Prg7yt43smG73Jn0uwIst63xHYW20HpQBn/2YID7PTzBdK2EM+npvJ94Xm+L6ibQHQGmktZVQVfV3x9mS3pfJ0Vs8PSGKdR/YfEOubrd1gpUGje1sPy8KncI5N1gk1N2zCmUcFLp1iVna8Pdb+WOtAOM6dv8n1vvqMAGqGOkRMbdmKAmi9uOyr4Mppn7aIQ8pe0gnUuoJ7PReOTwyyX74+lUxzc4nFbGmuayw5/ohTEKdEAei+iKnzEIHzqGUi2HGQpk/ON7gdPo0QfQOt7yuC6RIy40dEWQFLlTtjpR/Pmn9VPYQevxrve0n4BkFEBdLzlAjbX4GmlUyde1lc/whlRFScRFEBVQ75IB5Lp2/P40kJLslDzqhXht4+j45ZSplHgveNohx31P4u/vZfMBQOK6nYgqa8RTR8qRVp92ITGPiNq6uza2xmX6hEZPUUkFEBVn6iXsIvqOZ6nRKN822P9qPufjhg9rTMUcqC2vh/2pldgW3At94vI2hq8WZeE9t2N8MbswZ6BES8ad7cjqe4Edsxl79EiQAFUERnvuCCubSmuMv47HLtvP4q1/qRHyX7o/pHPY6or45B5wfjMOzhT6ELZTo0/6fFcGVyFZ/DOMwtphOXC8DXREKpML2pd1SmodPAJywFcfGc2rr9ICLnXUQYq8cGnNIAaN2RR8CSEzAgFUCFyCqcOFukqSIQQMj0KoIL60xTKud2EEDITFEA5/2WP3BGzQH7IihAyP1AA5a5elhtAF8oPWRFC5gcKoPDIvzOEJNisdJYFIWTmKIDe8MAt6u8r7Niq8RQ3QsjitPgC6EgI3jOtaHX5pXbPgMspXacx6bGtC+pCroSQu2/xBdA/NKDwuQY0lG1H+1AATof4EQYban5G4ZMQEp/FF0BTTdKVloxl9bBd3Y+GPsD0Yj1djYgQErdFeSqn71eVKD7gQiish3VXMw4+o/w8LCGExIHOhSeEEI2oF54QQjSiAEoIIRpRACWEEI0ogBJCiEYUQAkhRCMKoIQQohEFUEII0YgCKCGEaEQBlBBCNKIASgghGlEAJYQQjSiAEkKIRhRACSFEIwqghBCiEQVQQgjRiAIoIYRoRAGUEEI0ogBKCCEaUQAlhBCNKIDOprAP7ZXZSEtLQ0ZOJToGlXJCyD2JAuis8aO1KB8vuSw45mxDkb4Ldc+1I6A8Swi591AAnSXhsw1ouAIkPbMTa843oPUaL+zzwis/TQi5B1EAnRUBdLzVxe+NKPmREUnFJ9D8d+XY21EPq/wCQsg9iH4XfjZca8TGLcfhN+zA2Ys1MCnFhJB7G2Wgs8Dv6oKf3+t+sImCJyGLCAXQhAXg/r1PmrJkUfgkZDGhAJqoL91wusWEEevW6KQiQsjiQAE0Ue5/g0uayIJppTRBCFkkKIAmyHNB9L5zFh5A5SlCyCJBATQhfnjcYWnKkGGCQZoihCwWFEATEXDDJQbMc5Z0yj8JWWwogCbicg96pAkjVs3z9s9QXyMKsyvhuKUUxCF0vhrZWxvhCSkFWo2EERYJO/8THpGLFr1bDlRmF6LxilyTictgq+ZtSmYHBdAEeD1S9zu3Bsa/UibnI/5FK37cAWtrM+wPKmVx0G8+hrYNDmwraYVPY+Bz1aYgZVUa0tL4fdpLcC9Rnlhown64z7ngDWgIeOOFXKjeUo3wi++gZq2GERwry/HOi2FpHq5ED26zhR8kfa5WVG/NRloK39bSLQ2FNe3SAVg6kOc23junOIszkYgWN1mLPZklJ/ObrYU/mqfuDLAmWzJLf7lXKdDoTi/bk57Mcg/1KwUa9OyR11d5J7utFC00vS+nyp8hdQ9LbI0GmbOKz+snp9mwUqLNMDv9E3mdBpWSuyXoaWGlZvGdMLPSI07W/5myle8EWe+hApZszWO5Yt1VOeXyewBloFqNXEX/FWXaZESSMjnfhM41oPFaFmp+lqWUaLQkCzt3ZcHf/A/o0Fhl9F+RM3bj+kws1BGzSaZ18sR6U2Lb/EoLGhxAyc6iBDsfDSjaWQLd+T1o/FApitdQKwpT6pTheNr4fvUkch9vgGtpCdp6L6Jtlw2mB5WtvESPrGfbsPcbPumMvZzvJrgvziMUQLW62g+1Am+atwNAfWh5jX8tNj+FIg1V9/EMTzwFK3pw/F35zKv4hNF3SbzPAJtlvh5upmfY9jauX7+O66cSCXxhOE6IayeUo8iiFCXCUoRyQwjtbzr4nDUYEUt0W3kQP9FGvq2+ByG9HW2de2F9QHliDAMs3zfyeyOslntnvAoFUI38l1yRa32aUuZpQLjWCccQP+JvtsxOxrfUgi38C+//VaeGNiw3es6LewvWrZEKFq8vu/C/umbz2gkmbPoB38Jdv0HXl0rRXLnVge1POxDie5i98SCseqU8Bp1o99ZZkPWQ/PheQAFUo6uX1RCSg3hPgQ/1taN6awbS0rKRncNv2fmoPOnhO6FiJATPL6tRmJGBDP58Br+XGuE/V54XRgLoqi/ExoIyVNeXoTAnH/k5Kcg/KSpJMv8FF68y6bDSGPuIH+prReUm8f/TkJK2jVcBvXye+fz/iavq56PBPb5nwgDjav5FDfTBO92Voj/3oLVyozSvbLH8Za3oFuWWHJjUDiTlM2Rn88+4OgXZNQ54P2xFWU4Gf08asss6NHdaaRYSy83Xa1EZ6qqf5Os0HxuzU1DNg7//ZL7cKcKXNSWlWqnyulAd6SzhrzvnQ0fNNmzMlT9TSk4lWvvGrcc/9kCcfrHuW5MceKVl2Citl7TVadh21APv+3XI5+sxOy0N+fvco/uKIulbomnBjd6r8uO5wTPpvXXySJTVNajZPPVh+v7VW1H0YhHunQo8p7SFkrj0s8NSY3n8nQnBD6pYOn9f+m4nC97hBcOnWbGYT3Iq23OJP74zwE6XpLPk9Crm/LP0Fl42zDoreNmqx1mLTy7qfZk/Nu9nvWIewh2+TN9LZnlvjHZnde8W8y1gLX6lIJqvhRWYK1jnZ+LBbdZZLn+e1Conu/lBLTOLZbJP7By7+WaB9LrabqUgFjHv6M8YdLKqVHn+o8sX5MtnZgWHeuXOj8uH5f+ZnMeaPhlgLT+SXz/l/5l1SodM6enRDplgJyvly1H1gfr4tPQ4ObmKRS9a7z+YpeUVHShVXcq7lfeO30duvpE3+Wfj27/FbmYVDrlr6bajVJ5vKt8fPu1mtdJ+F2ObdtdKryt4U0N35qctLG/c55mRyL47dr9bTCgD1SLgRZ+agW1YN/Nq2JcO1ErVHSvqX7JBLzKxb2TBbjPCsLYEW1bzWb/3MuouhGDcXgOb2pa0xAB73U4Y73jQsKcDAekMKDEmZBgBNRVZYkJOvgErvq485q8aljp7VsK4QiqIEkD7cw1Y8eIxZVhTCLelqp8B5T+1IeB2Ss0Tpq22CR0lSQ/J7b1DtyZJQb90oe7xBl7Ft+IV9TPqrXhkg3hSB0uWMkd3IyovFeHos1mQan3hkJxVbd6J8gc8cPXxaX0RtphFYWyhs9VyBh/XrQ6uSRsKvegRDdv/yded+hp9JjZZDViuJlf65fLyjmP4xjJ5wvYCDuYrr+DvzeHbFGE3PDfkIiHwmaglGGFMlh9HC7xdh4b/8QKOFcq1htAX/1e6N5Q9Ddufe+AUq33tVtjGb9NkPj9+5/NPVzWYRZfVcdALu107IUogJfFQjvbSkffEgFI4A11V8vu+38Riv2t0aFQk44noZlXS/8xjLZ+OZjHilv79Ylb1agvr/jR6cBCfl008HyuzuM2Cw0F2O5K98gxRmhd/rVo2GZ5BS597kowjsly7x+RnbI+UgUbN/4sgGw6OLu/ACfl9dzeTuc2zYmWYEq8RmO2lrPbIadav1gQk6nYYu17Vzz12+dVtIG8zlVwzGFumuh0cZsEvlAecs0q8Ntb+MI6URfLXjlnv4/xhPzNbzBNvZvkzp8d6zlLFOicZHzW6D/LseLr95rN+5vzDwIIdvjYZykA18H3sUaaANavFcX9m/J8qDVRLdJN06gyODo2alA/9PvHbS2dwpo5niHxGocEeONoaULYpG9Xnx7eOxaKD3qCXG/WFPrlNDpsfgUUt08SPrn+Re+it1qju5SvdcIqMLrr9c6keBr26FgLwXJgPPfQ6WA/9bzT/2AT9fWEErrjQ8Ys6FK4rROsc/cKqTm+AfqnyAB70SBuGZ/Cz0Vu/oR4Xey5OvHXU8OzVjmOxnuvhtZRJOoaW/+VoGhzZlybhe3c7Gi6JNXxvoQAatzCuetRhPCY8/C1lcgYiO9znQbm6OoEBSdOO8OCvWR6G74IbOnszfv/xdVzvv4izr/LqMp+rY28LD7HC/dD/d2liWn6PWxr+YrKMjs8MhwIITdGju1x/vzIVjR8ApGsDmJCTOfpVCXj7pCYB44YsGHhVPRAaV4ceUarO2IR1a6USXhZGKBCacljO7FfhA/B2+bDyxbP46Np1fPzR+2j7G9FA40XDYY1DhGLQRw4c07jhgXStmrU5yFSDqlh/n0++JDr9FN3gs0z37Ryp2QAYgn+qscG3OvBy80rU/HTmycZCQQE0bj4MXFYmdVnImtC+ODnd5h/CJiYCXXBHtYkJngP5qD6bhK0/ljOwq9fUIK0Y9ELKX1cUYevaYbj2VWKXQ+lxX2qAqbgZB+18eijAd2fBgOXSsg3CJxeMEqcQZohe4yfREQjAxYOGeL11vZL98YDWVJCLxj/JD6P5b8ip2DcNsSK9Hsuk2BDd7hpC9/uipUwHy3ojvK/nIfeoF76ThVKvdcY+ns3/sVvJgHOgJlqhc5XIqOic5EAj0xcei5ExTXc7AOuk8cuLlp3FaFIG+Or0RlhfOooa0ez7n8MYlosTZkiSWivh+w/58agQXDUZ0np58kwAAZdTOhgaNlgibdHe1wv5+hutAUX8B58fv0v6yzkcY/lQEXZuFhMetP963P6qCrnx0l834pvNk2eyCxkF0Hhp7UASltpxsMXOw4wPDT9vjAxLCl87jrqTK/DIRj2MP38T9TwL873eMHrGz0gIXb9o4u8yof6fRHVL5jvaiC51aNMI/wL9O//SP7YlEoRMmTn8r29iduBxwiEiU6YVWUOn0Co6bLAM90tZTgieI3XoWN+MmhjVxoBffFEmy7yz+AFAfEvUjITP67Vi1EnjfZKQ9IAXzrNhFD1qgOu3YhiYAVssBjja2uXs7utK08YtB2r3BVB/qIS/Yu45XjsOn5rkhQYxwA9AxkeVDjWeGccSuTjKmOdHL5oSviPfC0nfzpI+58SOOA+cv+Yb5r4sWL/tx6k35UC57C/kiC/OI687k4nmv5+4YQK35KNk1uq5bALRw974Dkoe4nvZa/nIr++CT6218EzZd64O+bkvQffS73Bs8z0YPQWlLZTM1KU9LFVqONc4ZIQLek6xKns6n0eq3FBvr2VOaTiR4s4w6zlSwfLS06WG/fTUVJZbcZj1RF4jd048vruKFfDXSPPg9wW7T7OB6FZ6ZWhQ8bvjzrYWQ2WeSGWp6XzellJ2ytvPTpeaWfIqPi+zmRU872TDMTsFlGE+3zs8SScYJ4ZhVYyd181PWtjjohNpFf8cL/dIQ4SCYqgU/1xiufNe7WYD3ftZ3qpklsrfY7ZWsBbPJD0XXynRQWRmpbsrpOUS6zWdr6PiI93ScKzojjv1VvWB2qkUfctjVbsnvjbSwfOFPLwpNcb1CQbefJylpvL/zf9v6Vv9rP/dUmkbSh08j47bT6LI5+hXsM6oDqgZ0zqMSSXOdX+L74tKZ5S4pZoLpPPhB7QszwJCATRO6jjIyLjNeW1AGhs6axfvUL74uUfiGHlAYrjNOiv4djEfZglcmiWKMi65QuN2TjSALmJUhY/T4CfqGUg25GQqk/OWEU9t59X486c0XwAkWuC9U3DBek92BswtHew/LYE+0IoO9YIKiXB3oDWQhB3b7ZFOwLg8VIIzvQf5liXxogAaF7/UzihZ+zDWJDTkZ24YnngeO1Z40PhGjI6HeIx40HTUA+Oz9fdkZ8Cc+04NXtkcRnuTODEiEQF0NLUD9no8rY5giJsO+gc0hd5FjwJoXEbHaUb3jM5rS0yo+ad6JP1yFxqnHWM6Oe+RXWh/qB4nnqHsc3aIDpg22L11qD07k7G7sYXO1qLOa0fzK2IYG5lrFEDjccMnDyXiLPFeQeRuElcu/2c7XOXaf9Kj7IIdZ9rLYVwAWfeCobfimPMYdPuKNf+kR/E+nTSPqa6CRL46XxMNoco0mc771UipcPCJHBy4+DaK7sYYG0LIvEEZaBx8g0r+udKCLAqehCx6FEBnbPQUTt0GS2QwOyFk8aIAOmNe9F6Qp2yWe+qSsIQQjSiAztSQBx6pnT9nAYz/JITMBQqgM3W1n+eg3Gor7qHfxCKEJIAC6Ax53NL1gpBksy6M8Z+EkK8cBdAZET+hIervSbA/St1HhBAZBdBJhK52oPWkC34RN2+54BQXCl5hx1bxGzeEEMLRQPqYXKhLKUMHnzK9+Hu0LdmF7L0e2P7xYzQX0jnDhBAZZaAxmWASPe2ry1G/+Sr2H/AAa+tRT8GTEBKFMtDJDHagsqQBrs/D0Ftr0HywHFl0vjEhJAoFUEII0Yiq8IQQohEFUEII0YgCKCGEaEQBlBBCNKIASgghGlEAJYQQjSiAEkKIRhRACSFEIwqghBCiEQVQQgjRiAIoIYRoRAGUEEI0ogBKCCEaUQAlhBBNgP8PQE2QKvXUPqwAAAAASUVORK5CYII=)\n",
        "\n",
        "**Пример 2: Интегрирование тригонометрической функции**\n",
        "\n",
        "Рассмотрим функцию: g(x) = sin(x) + cos(x)\n",
        "\n",
        "Найдём её интеграл."
      ],
      "metadata": {
        "id": "PfisQZ1Wvp2q"
      }
    },
    {
      "cell_type": "code",
      "source": [
        "from sympy import sin, cos\n",
        "\n",
        "# Определяем функцию\n",
        "g = sin(x) + cos(x)\n",
        "\n",
        "# Находим интеграл\n",
        "integral_g = integrate(g, x)\n",
        "\n",
        "# Вывод результата\n",
        "integral_g"
      ],
      "metadata": {
        "colab": {
          "base_uri": "https://localhost:8080/",
          "height": 39
        },
        "id": "iM1g_TuDwTGh",
        "outputId": "532579c6-6209-4e24-b769-5b6b5b23fce2"
      },
      "execution_count": null,
      "outputs": [
        {
          "output_type": "execute_result",
          "data": {
            "text/plain": [
              "sin(x) - cos(x)"
            ],
            "text/latex": "$\\displaystyle \\sin{\\left(x \\right)} - \\cos{\\left(x \\right)}$"
          },
          "metadata": {},
          "execution_count": 2
        }
      ]
    },
    {
      "cell_type": "markdown",
      "source": [
        "**Объяснение:**\n",
        "\n",
        "1. Мы задали функцию g(x) = sin(x) + cos(x)\n",
        "2. Для нахождения интеграла используем функцию integrate().\n",
        "3. Интеграл будет равен:\n",
        "![image.png](data:image/png;base64,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)\n",
        "\n",
        "**3. Интегрирование экспоненциальных функций**\n",
        "\n",
        "Для экспоненциальных функций, таких как\n",
        "e^x, результат интегрирования прост:\n",
        "![image.png](data:image/png;base64,iVBORw0KGgoAAAANSUhEUgAAAMsAAABVCAYAAADnlxAAAAAAAXNSR0IArs4c6QAAAARnQU1BAACxjwv8YQUAAAAJcEhZcwAADsMAAA7DAcdvqGQAAAp7SURBVHhe7d1/TJP5HQfw9+ayGi8hcQlmf0guRXQg54o1lpR4iqdYdwO8U45d7LHMjtvgdMFBNjiyqTeVcE4zsqkXLOFuciaDkSxgthRzO3qZaeeQcudRnfIjSt12ockZmpyhCeS77/M83yo3RZ+W1n7rPq+k9ttvS/v40Pf31/O0fIVxIHHixv5MB+AcR8sWUZUg7rpMOP7EC6sa8ZGrEhlaNUkgCgshOn1VXBNCHoPCQohOFBZCdKKwEKIThYUQnSgshOhEYSFEJwoLITpRWAjRicJCiE4UFkJ0orAQohOFhRCdKCyE6ERhIUQnCgshOlFYCNGJwkKIThQWQnSisBCiE4WFEJ0oLITolFphmQ3BfaQEOTk5yMsrQZM3JO4gJPFSKCxhuBs3wtEexr6e82g0T6LNcQLeWXE3IQmWOmG5cRIH/8h7Ets+VP67DQ3uIM+PD/7/iPsJSbCUCYv3/TYE+HVpWSkMzzei+2Al9p48jYrl2v2EJFpqfH3r3V5UP7cffShEy3A7SpeIekKeoNToWbwf8qBw1u2wUlBIkqREWHwX1aggPS8X6WqJkCcvBcLiR/9fwmrJaspVrwlJBvnDcsuLvqBSyMVzq9UaQpJC+rAEvW6MKgWDGWZa+SJJJH1Y/AMerbBhHe9bCEkeycPi4/MVrZRlXg2DViQkKeQOyy0fvNrcHqtXZGkFGc2GEVa2k/8TptNvnlpShyV8xaPNV5CFlSvUQtyEhtpQbXdg/6585JRXo3pHGcqK8lAtVt70ctdnInNlDnJy+HXOQXgXiTtSVLz2S9yFg/B3N+E1vi2ZmXxfK5dV+XjtSB+CvIEKnq9G3uu9SORWSh0W70W3KK1GbjzDMuvFidphfO+ddrS8YUX4shuGnZuBsRCujmnx1Kvw7XGMn6vQbmwpgFUrpaY47pd4Cl5owLY1+ShpdGP5D97BhY+vYXyc7/dPu1H6r3oUbd+Gopo+LEv0UF053UVOI+zkViMzGvnF5mQTojYuZqbZ1OfTanH4mIUZs6tYz6R6MyYTrUXqdha1xnUrn7w47xcWcLJiYz3rFzejN8U8hzaq+9ZUcZaNaJv2ZTMediBbeZ9kswMDoi5B5O1Z7l7F4Jgom7Li+3feFxmQtlRpg4Lw/T0ImDfDqpwacDeEUNT9eBhDA0qrmw6bNcX/Gn1c9wvHh0dhTIsb0Rs9Y4f99wFgTSO6361A1sO6jUVWFNiUgg2b16o1CSNvWP7hQWQQlvutOE9YhpqQx8e8jt+dRc9Q5DSaEHrryuC8IR6jmxeevyrXVqxL9YOmcd0vC3T5IMqa/byQhcbfViLrEXNBg3KftQC5CZ4vShuW0Ws+UTLA/O3oW+zwLTfa6kqQn5/PL3wCXlCNrkhP9Y1lyDBk4XYvHwO/bEbw3EE47G/gw22nUbdGPGY+d3xoq96EvDz+vHl5KHG0oV+pn/vLmg2ir1F77bxVmciv64X/chscBXn8Z3KQ7+jCaLJWzcIBuM/sR4myXwr4JD4nH9V/EPORheyXuBrlc6cOHlPu5UZUPqtWzit9fTn2OjYn/rxBMRyTzDTrqRTzFaOddUY5bp76oJ5ZlHFurYtNzWh1nl9mM+PuTraQITgbVcbgc553ysVq1PHy3PnKFOuvtbDiY4O8xF05rm6L0VjETl4fYc6d2uPrYx/Ix26qn9Vb+Oubapjrc1HnOcCyY9jHutx0siJjTfRzlgFlm7T9VPOBqJOApD2LH4MXRTF9LXKjaTLGTqHs9S4El+/FuWM2pInW3rAkDViyGPzf2Nx1o2FXE9+yQvzqoHjetEK8sEG50wCrWfR+3hOoHijHb35m1l4rzMf7yvWWfahc6oObD2+QVo7tFqXy4ULn96utfnSXBrgfNa+YHcWpcge6ghnY29EC21JRv5jPU/B1LH5G3JZAwOcVS8B8/8q0vChCIxd1FUVrWYw1LlGpB++RqrSf2/We1lROT00wT6udmYzFzDmqVsUksuJlrJ3bTg6KlRjeeooejH0xxSan7i/bjJyWY6VsurdK2/6dZ7XedXqKTXiczG4ysuLWEfUxMfvbUWaxWh68WHhvzl/T9LD7rDWsR+16H9Rfq/0OjVtPssdt2fSoh7muJKJbfJCcYemr0XZWtG+yGT4sEj8X+QUVV9azo60uNhwZdsRkgjlt2vPu6Z2zfhkZYs07vJtknbuVn7Ow41e0mmRx1WjbbzSJN2vpHlZ/2Mlc/nnesfEQ4zBMXbZWtvWxhwy0xrFq7u8kgaQchvk/8YoSYF4VxeT+dgBXlWtDBdo9l3CJX847m9H4IxtyI8OOmIxhWF0NykXB2vvrl0H/EJRPD2RtMCOdD7eC/7u+OuuHR/2vbMa6yAR5NoxQMPTII83xH4YFEPincm1ARZu2Xy71tKP5F5WwrY55YJowuWYx9roVwO1HLYRcbsIB/17sezGhhyLvE6GRyAIm91/0sD3ztUgzk2zQM8GfPRZzhluiRpnId+5R6rSDYUprmH1okI20Fqvbbjo8KCbP/DGVPfded6p3z/2h0BMT2adFzHlTVM0x6fOwiUQ0zrFO8GeG2fHntX1b0zdPzzfayeyWhQ2toyVhz7KAyf0SG77/Cm8pb3gwNOf790JXu9CwdSOaroVjPB3CjB2vKi3wbQQ+U26H4Pu1HQ3qgaAMZCz1w3U+jPLvpsP9Z+XYQDq2W9PR296h9SDPGLTX/awX9UeCaDxWkfhlzi8xwGYv5xP5UXiuzNkxd/zoqt+EjUf8CH9N1MlgUS7q3m1GQVoYvVVFcJzxIhjpNe8G4T3jQH6FC7aOblTG+RDcI4nQyGOStxhqr8IvP4+6TVJ7ENebxSw723RvMllc62T9NxfYdM6MsM4qPpZeyZ/Xwp/zTRebuO5ku5QeZ2U223jIoy4Vq8vW2dnMYjKxosP9bKT/KCtaaWTZ/GcshVXM6UvgHOExJvvqWTHftnsT7tIa5uyPtbfVIdaeJWJ6grkO21mRSbwflB57q53Vv+dhkwnb6PnJ91VI7gZkOrrUYkHTJbz/6pNtg0kc3WrDts3DaBxvQaGoSmXSDcMC48owRpEF63oKSkp7tgLdg28/FUFRSBeWseuRsJjje1o+SYLIiZlPB8nCEsDoJ6KY6p8NIU8dycISOZ7BB2Hr18a4ckVIYsgVljG/dlCRx+TeuVaESEKysIyIz9zbUJDgD/IQEi2pwnLvNBdrAcwJ/iAPIdGSKCxB+D9Wv6dVO9dKLREiD4nC4odP7Vj4fGW9xN8RRv5vyRMWPrnXPkic+C8eICQW0oQlOODVJve2F2Cl+QqRkDRhiXwBuO1FGx1fIVJKWljUb1850wX/HX5j1iu+ANyG72yhqBA5Jems4wDadmxC06e8+Eo7xl/qR469A8t+cgEf/ZQm90ROSepZMpBr4j1IeiGaf7gcp97qQDitHG/9mIJC5JW8z7OEvGjarXzxXRjhFTvQ0tYM2zfFfYRIKDX+Dj4hEpDnOAshkqOwEKIThYUQnSgshOhEYSFEJwoLITpRWAjRicJCiE4UFkJ0orAQohOFhRCdKCyE6ERhIUQnCgshOlFYCNGJwkKILsB/AV2X3f2DWGpMAAAAAElFTkSuQmCC)\n",
        "\n",
        "**Пример 3: Интегрирование экспоненциальной функции**\n",
        "\n",
        "Рассмотрим функцию: h(x) = e^(2x)\n",
        "\n",
        "Найдём её интеграл."
      ],
      "metadata": {
        "id": "8pKvapAE0Fg_"
      }
    },
    {
      "cell_type": "code",
      "source": [
        "from sympy import exp\n",
        "\n",
        "# Определяем функцию\n",
        "h = exp(2*x)\n",
        "\n",
        "# Находим интеграл\n",
        "integral_h = integrate(h, x)\n",
        "\n",
        "# Вывод результата\n",
        "integral_h"
      ],
      "metadata": {
        "colab": {
          "base_uri": "https://localhost:8080/",
          "height": 54
        },
        "id": "bwBhOm5a02eq",
        "outputId": "e1429f7d-2329-4a9c-8ee2-3956aa2a1588"
      },
      "execution_count": null,
      "outputs": [
        {
          "output_type": "execute_result",
          "data": {
            "text/plain": [
              "exp(2*x)/2"
            ],
            "text/latex": "$\\displaystyle \\frac{e^{2 x}}{2}$"
          },
          "metadata": {},
          "execution_count": 3
        }
      ]
    },
    {
      "cell_type": "markdown",
      "source": [
        "**Объяснение:**\n",
        "\n",
        "1. Мы задали функцию h(x) = e^(2x)\n",
        "2. Для нахождения интеграла используем функцию integrate().\n",
        "3. Интеграл будет равен:\n",
        "![image.png](data:image/png;base64,iVBORw0KGgoAAAANSUhEUgAAASAAAABTCAYAAAA/QtpbAAAAAXNSR0IArs4c6QAAAARnQU1BAACxjwv8YQUAAAAJcEhZcwAADsMAAA7DAcdvqGQAAA56SURBVHhe7d0PTJNnHgfw787levEuNVtWs7uMeNTOq6IiuNUrcdidA/YHMKeG3A3YAupOpjvwuA3GbjKcNriJYzeUcyBxItnsXDzqsmtxHp1n2jiP4s2WnVKIs+Y0NDdDEw29aJ573j9gnX8GWHhp+X2S5n36ltK+79t+3/d53ud9eg/jQAghCviBPCWEkHFHAUQIUQwFECFEMRRAhBDFUAARQhRDAUQIUQwFECFEMRRAhBDFUAARQhRDAUQIUQwFECFEMRRAhBDFUAARQhRDAUQIUQwFECFEMRRAhBDFUAARQhRDAUQmplAQgWBIvkNiFQXQ9wn50Fy0CLNnz8aClCJYeuT5ZEyEgn54D5Qjfd4CLKpyyXNJrKIAuiM/GnPSUekwotbWhBy1HeWvNCMgP0oiyYESrRazU1fixbdb4bsqzyYxjQLoDkKHzDCfAuJeWI85R8xoPMNndnrhlR4mEWVCbW8vek8ex75VcfI8EusogG4rAMseO5/qkL9ch7jcnah/aTWqLBX8q0IIiQQKoNs5sxeNnXyqyYBxBp+q4pCxoQL5j6jFhwkhd48C6Db8Djv8fKp6+nEkSLMIIRFGAXRLAbi+8IklYzLFDyFjhQLoVq64YBPPAOuwcI5KnEUIiTwKoFtx/R0OsZCMhJliIQKCcG3OwqKURZit1WLBsh3wXpMfImPvmg+WonS+/hdAq52NJaVW6k4xAVAA3YL7mHD2izPyAJJKdy14qAS5J5ah5R/HcbwhGzhVg6z1VlBf3/Hh3b4K5qkVOOw8ibZyHfwHS7DyHepQoTQKoJv44XZJsaBZkACNWLpbAdg+ckB1LSQGjnppKdbP4gW7Ba20Gx4Hblia/JjGS8L6160qBd8FwP++hT9ClEQB9F0BFxxCh0POmBi5BugfqfiH/0wrHKeFe3HQif+6A95vhCkJFxqsmvLAjhSVmgfOsb/CLQT+lJmYK+wAQj3w0Q5AUfcwTi4TwZESaNdYeUGH0sNtWBexNqBwPtSkpmNHwITa9iZkawKwv74BzVd+CL/dizmmh3H+8gD6/I+jqX3dyKuBV/iR1lSeeHyqEqZRQbgUoxDCmr+ZDhXtbVgt9MeKhCtWFM0tgf2hdTjUXoqEy240lm2HUzUAL699J5tCCPw3BN/0UhyvywCdhhhDQgCR6zxvGVh8fDy/FTPbVXlmhPXbi5k+PpHlftgt3u/bk8sydwnlc6whg792RgPb+yqfJq5ltj7xT4apnZWJ712+vdIuzyfhunem8fWTyjY6+8X7ztdTWfHnQrmdFfP1pv/DXla3nK8/Ux3ziH+hkKsDrLu9gRVnG/jnZXC76lkmf38d/O32u7exzMe2Kfse7xIF0A14AGTLG5qHwDl5bkT5Gljmw6mszH49WQb6+1j/AC9cbmUF/LVTt9/dR8r5urQMBVbhn5Jw/Z8Xs8TEXNbglsJHMPBtPxsQdjZfbWMG/gVfax1R6o+JfncDKzAI29HACrbbmOeCvC2v9rOOtzJ5OKaxVOFzWmyT5kcpagMKd60LnlNyOUGHiF8S2WNB3lobTB8cQnW6Bt6WGtgvCu0TGqiF4/x/dcAFNUyPCZWuEIKXRtMG4of3S2GqQ8p8qjyEC7oqsbI6hE2f7MPqpBAc7zXDy1ex6j41VFOAgNuFABbi8Uc1YvtTcFTjEfnRuEyLcqkfx6j4PspD6gozHFPz0dRxHE0bMpDwoLwtp6iR/HITqu73iT31U36ZLM2PUhRA4bo8PAAkCZHrACQJOlCyohwD6c9h7iUX7J/tQM3mTvRPCcDynBbaRWbs+JsFoXuTsVBo6zhVh8IK+8j7qlzphFNoRB+8ho1IehqRm+vAnLynoDpth/1gHcw7fQip3DAv4Ou/cAf2Wt18vSXxLzvfXJ+VYOVuqTf8iPHcGhhlH6/gEf66FU4E1dloaq2C6T75gRtoYHxCx6c6mIyROU+rFAqgMP4TjqEvfII2ksc/PGTWF8IaBNz1JShaX8RvNXBgJuLuV2P6T9VQ3+eC7XwG/8A5UFNWiLxqoHRr9si7AXzplDpRLl5I17AN4SHDjyi8/JjBWiWv/9Jm+OYIR7kaTJ+hgu4/rXD8PBvJl5pRuSYPLzqews7fj/MavGjBi2usCEKF7JqtMN3humfhiA0qI5KjfScjV8UIZyuW23/ic9n+UTQD9Hv3sy3PpjGDwcAMiXqmf2YLk9s5x0z/iQa21pTIEvlrJiZmsoJnpUb03A/DFqC/gzWsTRXfl/5hPVuxvYN57GUsLTGRGfR6lvamk43x2xx7V/uZ5+MtLPcJvu6FdcGXK1OR5ZJOJBR/Lt8dtgHWulb+/A2j/bGvvY6V7Yvm5mcJBdAQD9smNvrxm34j65DnDlf37hXiczN3dvOPkqCP7V0ez/RvjPQ/DV/3rkz+moms2C59zaSza8IypLGGs+Is/sXsZg3ZhqGG1QFrgbyMxcx2tp2VicucyRr84sPRSVhG4awVX46603Jj7YW9bEW8nm08Id0dP6MMoL79LFfcdvEsbdeYnP6YkKgKNijgRedg/WuE1ZdgWwmyNruBpbVoKdLJ/UZUUE0D1GPUDyfkKMfKai9/zU3YlC4dq6sX/wpGoRB2aB7YVw7zz15DbZZUmQte/p841RSuQca3TtiEZZ63DBkPibNvIQhrySLxGrYR3Soc43SZSRD20iyYOwHTuy1YN0te33y984qt1LgfDb5ywikWNMgwTp4RIakj4iD+hdYWWsSi7uU2tPEgGR65U+F5FfJbvkYVT4DQJR8c1atQZE9C09HaO9blR8ePxieXwHwGyG7oRe1SefY/KzE7pxmhXzeht0YatzEUDCB0r4YHoXgX9hItiqzfeZ5CtFqtXBqZ3t5eucSdqcGSJ3fAr8pHi6eKB3AIwR4HzL8rgi25CUf5ehibIeRcMKeUoFW+Fy54ka9ztQYaeZ2HM756mO8Mbn5H/vfTsaRaaPTORn13LTKENp7bueiF3aeCafHgzi6KicdBRO6cJh0Cj+jw2VfH0sTn6ZnBaOC3NJZbXMa27XOyc2PVDedsg/yaBaz1sjyPG+xEeUP7zw062Eb9zc+LZkPbTS+se357IpcVv7qN7XWek6vC4210VbChqnF8Mfu+7qPd21NZ6napE2u0oyqYKIQu9+Ap1wTM/YVcHI6z3fwYiDNW4VPncRx3tmFfbTVKc42IG6vdk88jvea8FCQN7WUD8J4U6lM6GB/ViEc+N3Vj+cYN8Trb8OcJv791x/5GE7sKdt4nbbeUyk/5uufr//A+1JpLkc+rMdF0dKCan8K3nOA8/BfFwq1dtOCN+pkoXTXcI/SJjQJI5EP3V3JRlYzk27aH3MJ04UQu9+D0m0+ZB31wdQXlOxE0bZr05dKFdZYMtkuDqKmMMM70oi4tFTWngnCUCuPfaJF3IICAwyYGl2YxD0fxSYD3z1lIfedO14SrkV0rBOsIb2bTuASA5kFprT+gubnDQvCMC95L8p2JbkYO1otVYjeaDw7uDL8j6ELlb2vwQH0tssemXjnuKIAEd9EAjXk5WDOPT090hA0wFoLfUYO8tFy0XpBnRVLSMuQIH8CzfqnfUtCNmvxyqf/PjDioT9lgDeVgWZIbtoM8AO9Nhmm+H3t3S0Ez7SdSNAQ7a1B+IAn1fxSbrqNSQs4acXt1usPG9gn54XgnD2n5rQjcqS1lQuFBX9OC/Bl8d/h2OtIr7PBdkR/iR6m+z8qRnloJVeVh1C6NkfQRyFWxye3ExqGL/TJ3j+IUqNjPxsD0g+0QQjvQm/uZ51v58bHg28/WGvl7TuSvZ8hkZfZzYlcAcTn01y+0FOfpE5mB/13BHg/zfFjADPxvEoX3+UwZs10Q/yyqCddNrTXqmV7ofyW3A2352MP6x+hi4jsbbT8gmXCt155ilmnQy21C8Xy5MsXrwbpjpN0uHJ0F4/xNWViyWdiDqpBv+RpVj0jzyTi75EZjRTnqjvgQvMq3hiYBGasq8NoqIzRRcyQjnaH0vKz8WcZoQFUwruf04OF7BlKS5CIZX8K1ck9ugH9lC46f6UWvpw1VyX5Yq3OxaHkjfFEzfnYc34mdxFb69cphoQDieyzfv+XivLmYEzV72tji3VUGa8CP5p029AkzpuqQU7OJ7xK4U2a88fFgI93Ep1JLV9eT70cBhJ6hITjCzw6R8RW6Ip8t7PTyLSKbmoSFwtCpnPMEDSAfiyiAvvGhSy7SjxAqJ7m8DS119Whprwr77f0g+uXT6IOn20lsoQA6LXfqQwpS5osFogRVHIxPC2MYhfUeEroTiDUvHdbk0M4hFk36APL1yMc/M41Ipp3sBBKApXqHOOpfQvnOyA1ITyaUSR5A1y/BUC02yl3hyUTge78Q5S41UsxtOPQCbZlYNckDyIuOY1IpwxjdY+vGEnFY0uo+5PzlKPb9hsInlk3uADrvhlu8YjKF+v9MEMLA8VlFPcj/5DCq5XGO/B/kIes9OgsWiyZ3AHV5+DEQN8uEKB/bOzYIA8c/70bOpwdQmjR4vVMIncecwI9j6PonMmRSX4rhrpqNlR+EEPdSG77YQIf6ihJ6QqcWwhrSQHPDL0GEELgYnBADqJHIm8RHQH64xcFx4pD9DIWP0hxbpF8NQSjAAyf8JszUYS5topg0qY6Agl0WWI5NR8bzJsRdasbKlEq4H1qHtqOldAaMEAVMogByoFxbCGHU54Q/fYGmKRuwqMqNjHe/Rn1WNI2dR0jsmERVsAQkCGe6Zq1GxdIubKl2A/MqUEHhQ4hiJlcjdI8FRflmOC6FoDaVon7raiTTyRVCFEMDkhFCFDPJe0ITQpREAUQIUQwFECFEMRRAhBDFUAARQhRDAUQIUQwFECFEMRRAhBDFUAARQhRDAUQIUQwFECFEMRRAhBDFUAARQhRDAUQIUQwFECFEMRRAhBDFUAARQhRDAUQIUQwFECFEIcD/AR1POdHnCXq3AAAAAElFTkSuQmCC)\n",
        "\n",
        "**4. Интегрирование дробных рациональных функций**\n",
        "\n",
        "Интегрирование дробных рациональных функций также возможно в SymPy. Например, функция:\n",
        "![image.png](data:image/png;base64,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)\n",
        "\n",
        "\n",
        "**Пример 4: Интегрирование рациональной  функции**\n",
        "\n",
        "Рассмотрим функцию: k(x) = 1 / (x^2+1)\n",
        "\n",
        "Найдём её интеграл."
      ],
      "metadata": {
        "id": "cn_hKHn506mb"
      }
    },
    {
      "cell_type": "code",
      "source": [
        "# Определяем функцию\n",
        "k = 1/(x**2 + 1)\n",
        "\n",
        "# Находим интеграл\n",
        "integral_k = integrate(k, x)\n",
        "\n",
        "# Вывод результата\n",
        "integral_k"
      ],
      "metadata": {
        "colab": {
          "base_uri": "https://localhost:8080/",
          "height": 39
        },
        "id": "MCfeD5xx05-V",
        "outputId": "c0d55680-ea7d-4ac1-9f07-86c46e3c9890"
      },
      "execution_count": null,
      "outputs": [
        {
          "output_type": "execute_result",
          "data": {
            "text/plain": [
              "atan(x)"
            ],
            "text/latex": "$\\displaystyle \\operatorname{atan}{\\left(x \\right)}$"
          },
          "metadata": {},
          "execution_count": 4
        }
      ]
    },
    {
      "cell_type": "markdown",
      "source": [
        "**Объяснение:**\n",
        "\n",
        "1. Мы задали функцию k(x) = 1/(x^2+1)\n",
        "2. Для нахождения интеграла используем функцию integrate().\n",
        "3. Интеграл будет равен:\n",
        "![image.png](data:image/png;base64,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)![image.png](data:image/png;base64,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)\n",
        "\n",
        "**5. Определённый интеграл**\n",
        "\n",
        "Определённый интеграл вычисляется на заданном промежутке и выражает площадь под графиком функции на этом промежутке. Определённый интеграл функции f(x) от a до b обозначается как:\n",
        "![image.png](data:image/png;base64,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)![image.png](data:image/png;base64,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)\n",
        "\n",
        "\n",
        "**Пример 5: Вычисление определённого интеграла**\n",
        "\n",
        "Рассмотрим функцию: f(x) = x^2\n",
        "\n",
        "Вычислим определённый интеграл на отрезке от 0 до 1."
      ],
      "metadata": {
        "id": "bNvp5e5U1bJg"
      }
    },
    {
      "cell_type": "code",
      "source": [
        "# Определяем функцию\n",
        "f = x**2\n",
        "\n",
        "# Вычисляем определённый интеграл\n",
        "integral_f = integrate(f, (x, 0, 1))\n",
        "\n",
        "# Вывод результата\n",
        "integral_f"
      ],
      "metadata": {
        "colab": {
          "base_uri": "https://localhost:8080/",
          "height": 51
        },
        "id": "KZLMtuD712TQ",
        "outputId": "0ee46cf1-e9e2-4a59-88ca-99efde78abca"
      },
      "execution_count": null,
      "outputs": [
        {
          "output_type": "execute_result",
          "data": {
            "text/plain": [
              "1/3"
            ],
            "text/latex": "$\\displaystyle \\frac{1}{3}$"
          },
          "metadata": {},
          "execution_count": 6
        }
      ]
    },
    {
      "cell_type": "markdown",
      "source": [
        "**Объяснение:**\n",
        "\n",
        "1. Мы задали функцию f(x) = x^2\n",
        "2. Чтобы найти определённый интеграл от 0 до 1, мы передали пределы интегрирования (x,0,1).\n",
        "3. Интеграл будет равен:\n",
        "![image.png](data:image/png;base64,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)\n",
        "\n",
        "# **6. Интегрирование сложных функций**\n",
        "\n",
        "SymPy также позволяет интегрировать сложные функции, которые состоят из нескольких элементарных функций.\n",
        "\n",
        "**Пример 5: Вычисление определённого интеграла**\n",
        "\n",
        "Рассмотрим функцию: f(x) = (x^2 + 1) * e^x\n",
        "\n",
        "Найдём её интеграл."
      ],
      "metadata": {
        "id": "iNomAqJd25bC"
      }
    },
    {
      "cell_type": "code",
      "source": [
        "# Определяем функцию\n",
        "f = (x**2 + 1) * exp(x)\n",
        "\n",
        "# Находим интеграл\n",
        "integral_f = integrate(f, x)\n",
        "\n",
        "# Вывод результата\n",
        "integral_f"
      ],
      "metadata": {
        "colab": {
          "base_uri": "https://localhost:8080/",
          "height": 39
        },
        "id": "7lA_Jb9m3hcM",
        "outputId": "eebb6f16-4015-4418-c169-3bba957204e4"
      },
      "execution_count": null,
      "outputs": [
        {
          "output_type": "execute_result",
          "data": {
            "text/plain": [
              "(x**2 - 2*x + 3)*exp(x)"
            ],
            "text/latex": "$\\displaystyle \\left(x^{2} - 2 x + 3\\right) e^{x}$"
          },
          "metadata": {},
          "execution_count": 7
        }
      ]
    },
    {
      "cell_type": "markdown",
      "source": [
        "**Объяснение:**\n",
        "\n",
        "1. Мы задали функцию f(x) = (x^2 + 1) * e^x\n",
        "2. Использовали integrate() для нахождения интеграла.\n",
        "3. Интеграл будет равен:\n",
        "![image.png](data:image/png;base64,iVBORw0KGgoAAAANSUhEUgAAAZEAAABLCAYAAACx87qqAAAAAXNSR0IArs4c6QAAAARnQU1BAACxjwv8YQUAAAAJcEhZcwAADsMAAA7DAcdvqGQAABQjSURBVHhe7d0PTBtXngfw715WcrUnOWqvjnpSUApxciSk64So5oxyxDlKyHXB1TYpuqtD7kJJF5rcQYtaCLubP5uGpW1oqARBLSzXDUQtbqsuTpuDpDncdIXFsTi5FGevweSaGKkRllphqRE+JXr33sw4EP4EPMb4T3+fyvV4bAW/mTfv9/6Of8Q4EEIIISr8hfJMCCGEhIyCCCGEENUoiBBCCFGNggghhBDVKIgQQghRjYIIIYQQ1SiIEEIIUY2CCCGEENUoiBBCCFGNggghhBDVKIgQQghRjYIIIYQQ1SiIEEIIUY2CCCGEENUoiBBCCFGNggghhBDVEjuIBDxoK83AmjVrsD6zFLZhZT8hhJAFkcBBxIuWgq046DChvqsVBdpuVL3SBp/yLiGEkPAlbBAJnK5BzZdA0vP7sPZ8DVqu8p0X3XDLbxNCCFkACRpEfLC9282f9Sh8Wo8k6wk0/WsxDtuqYZY/QAghZAH8iHHKduK4WofN2xrh1e3F6b4KpCm7CSGELKyEbIl4Hd3w8mfNk1sogBBCSAQlYBDxwfm5R9oypVMIIYSQSEq8IHLLiS6n2NBj41qNtIsQQkhkJF4Qcf4nHNJGOtJWShuRNWxDaU4GMtanIGXNZpSfpknEZDZ+OF/NR0ZmBtakpGD9U41w31HeIiROJVwQcf1RzMriTDyIyFuRc8eNut010FSdQ9/AWVSv9sJetgN1V5T3CZnEf7oc1v6ncOqLPvQ1W4Av65C/z46A8j4h8SjBgogXLqd8SerWp0EnbUXQRRtaRpbyDf43l+hR/G+8YBCLHD9wSW8TMsGHrvcd0NwJSEFDm12Bfav5RrcNndR4JXEssYKIzwmHWFTImQyLMKi+RAMtDxrOMy55Jbx+HfT8KXDVQyvjyTQPaETe6ITjK/EqCXopiw7AfV08ExKfEiuIXO5Fr7Shx6p5jof4L9YhP6MU9pvKjlBsqEbftWvoq8uVWj2BywMQ88KSFqMVFBI/HBUZyH/DxbfCcMeH7uqd2FlehM1rMlBauhP5u3YgY0ujqjsBBG7Jrcbgc8zj6beX8uN43K2iC0oHS+s1XLt6FnvXitceDPTzJ40JG5eL1yQsdzxoeYrnyXDHJBc4j/8QJFQQcbukaVncWugfVTbvZ7gF1u12mFuaYHlE2aeWyMSN3cCKQtT+InpTiwN+H/zTSjgtzK+3wnx6B6zvyNOf1fC1v4iGRw+hvf4wClfwi+1/zShYzlth3w1iJJRrd6QF+SkpWLNuDVL48473R5U3YhkPxK/koPz2L3HqxTSEO+/Pf7YBLSNaZB6sDj/vEbk7ue2XCJTxc3RefVVpwfL4QrsTgMfRgnIeKMWkDHHdpKSsQX5FG1w8uVJlOKsuOoFOrFhPDDdYsyWZJSfzR24zfzWH20OsITeZGQ4NKDvCMcZ6XjIwQ2EzGxhTdi2qcTbmHWQd+3Ok9Jd9puyeqv8AMyRnsWOXldchGh8bZWPjfOP7Trab/52sNwflN1QZZSefFufLqPr7LKax7jKWmmxlHd8oO8LhaWZ5q7JYZfeosmMRjd9gXfvzmDFVuVYMOcx6pIMNRSXfzt9YfzMrecIgf+fkVGa0lLHmL6Yfv9H3rPz93axTZXoWNo8vjDFXM9ttlK+V3W92scFvxBfkbo+xgdfzWLI5h2WJ41LWJe9fZIkTRG53sTIpg/HHSz3KztmN2Xfzz25nJ8MuFMZY76EclrO3kw3d5i+/6WEN7YO8WA9RTyVLtswj+E31WZmUZoMp627BMGsQCRbcz3bwrTD0HuAFqoEd6BcveAD7NuTU8vPVo5yvMtYjjlssuz3Ijv1dMkv9da+yIwyeDmZ9Yjs71iuXcoPtx1jXQgSm+eAVp2aLkVnf5flTHPPxUdYrCiFxHgz8PEQ6kKjM42M8jxvNB1jPqJzPxvkxLDHIeT3v7SFp3123e9kBfh2EXTlciDyuVGwr5y6OZjXEg6JBnB+R/m+VnfcIVsaSmfW9KFRKuMTpzroyiGBnVtqcC0Q8aH7DAWTvQkGYXQmed6ywOtaiMFeD4e5u2E/UoMETCL274844VM31zK7HtWvXcKm3HXtWKPtmpUPBv5gBZyNOKhMQ5s8H2y7ehM6oQeN/2BD4cTo2ir/3ZQOKqrtDn0hwZUA+X9l/D9MSaU/MCpxpQOOIDsXPmJQ9KvkdKN9ehfGtu7DuOye6zzSi7tWLGFuk9AfOiDtb+9B7og3SJEaNDqaXj2OvGJPx21F6PMKzClXlcTeaq+3wXW9Dwxm521OzsgD1R3KlbXftIdgmZ74lJhQU6eD/fTPst5R987bAeVzg6R1XuRbIf74cO6p74dda0Np5GOYHlTfuwc/hE2I6jx5mU3RGYhMmiHj7HXdPclpKkrI1i6udsI8Amdmm8Pq2L9ZgR60buG7HwbJSlO4rRXm7B2mPzvH3o0jzt9uQCS9snaH2nmqx7K+10D7oRNdILs/QDtRVFmFnLVDxmiXkiQTB86V/fEPY4wuRFeCFfTc/cNuw5TFllyq8gNpXBLsfcDWVS3mldF8dHFiJpIeUj0SY//v/kzd8bni+lTelOzs8Lm8FnC7pnnOxJQC/MsThujLxq3Kan26UZkICvei9LG3clbZlG89T3fjD+VAj1sLm8bDctOGFPXb4eUosda/BrFX2z0AjKiEaE9LnrERGiNIiiXtdZXKTLln0W8/RqrvxO9GET1WaqtOJPsgSs5EZjaksOXU7O9Y/yLr25zCDwchSU3PYUaUrYkGJbqn5jOXMijedc+VjMHt3ljAgNfdn69Iac3ewo8/m8LTz9BtSWerPjrLwkzvObnxayfIMBmYwiUcJs0rf9d5zEJXjPqceViny1WxdgLdH5TEGfrwMq5KZ8aVONtjfzHbzdIrjZ9zdIXdzxoLbY2ywp4v1uCcfx3HWWSznm+Tizolu2EikS2UeH/+6l3V92stuTO5RunyMGaXr3Th9TG20g1n5e6kzdWmJY/DBUWZ9QuQznrbUVJZ3pJdFJmfJ1+T9r8eZ8HNSopyTeRyv0Z4GVtkevbGbBGmJuDEY7MvSrIR+jirDsFvUwvVImqkrS8zYKhnAP7zXh76+S6jf5EJjQT7Kb1XgdN0WaAMetNTaYrDGNl86JIlFbrzWObUt4mndgfV5VXBuOoELfTz9ly6gWtOCorC6OeTpxZv3ubHN1odLvZfwYeEweqXutFxs2SB9KHaP+3UPpNQvXzZDTVTM2MpDw4OHcY4fr0sf7QU+Lkd+gQ0b3/0Qe1YG4HNUoeUL5ePRtkSLNDOvYa+dVK31ixq72OA13n/MVVqFsZUuzQoTcp80IWlSk9XdZZd7HlbvQcHUFqJuGUQPXcA1pWUlZlAWrEf+K06YGi/wfMbT1lMNTWsR6v6kfCYW+DphU268oX86F3P1a+jMe1Frjd6M0MQIIrx5fjHYl7Vp4xy3O/FhVFoTwoPNtPn5PrS9UoPlv6pXpl36MS71q+pQ/FwufM4uKeOmPTX3iY1dSdBL/QAjGA0eM85/lhcSr/LiMrsep0r1SmGigWYpb+T/RH2Hk7fViqKP/UgqrcXe1fK/o98kr6uBKRNp0njAQhx3P+zlGdJ9qUJ6VDtEt/XsfF6pINKvnGGczVmH0v4CHH85HVKxHPDzb8Fl70Pxgy44LvJtbQG2GcXO2OQ6fkC615z25034TbZynmM9XTdt+G2TOCtpqG4sniFP8GtbVJSueqV8I/OjuyIfNfy7m986dTcvgudtrfhPfRZfeJeD6910yDXFfkmTGD9KxWtFKUU2aVP/8lmc5YXg7Lxo2bYZNVctaL1WP+WXDgPw+wLQPKSV+xnvdKN8VSns4J8d4p9dgAFQ76ki7GicYTzilg8+vwa6R2bo/HxoF1o/2TtHcAymC7A0X0N9trJ7Bo6KFF6w61HdcxbFUj+qB3VZW9E4okHhqT/jsIkfie88cNQ+h9LuDWi9wNN+nz7ZWd1yoHxjEeyByX+Ll8vv7+SFdy/0VZ/j7PPiIon8cVftfDlS9tgnfddJbvnhu83PmVICeZq2Yusbnpk/q5K431bOb4PN7HmYV16RiYHbLJ62pf98CqcPmuSAIYSZrsjlcU60Jp7eiprrmaj9qB0FM86hmeEaD/5QnaYQpwYPwyTy3LADNb8oRVd6Ky7UmSfSHzInajLL0am8msx/04eAVgfdT5Qdk5j2n0N9/vS/6n1nKzbXivVcFjTx/J97v/x/041ujwbmTcGKXxRInVpxbuiEvD5i7vEAITh2UMbmnHnXL6b58c9O7iuOlEUbE2Gs5yXxuRzW/LWyw9PAcqTjl8qMJiN/5DBrWSU71j6lHzpUyvTjZOMxNtFjG+yDn31MalGP+1yUNOS8PWfPNOt4VqTLGBfrXqS1Kjxd298emuMYL2C6ws7j8nqsZGMl65pxumvQ9Gv8bhmRKvI3fzxhZWX7j7GTvTcimMfUjYmMS8sP7v3+sxl6M4tlvTllmvMiS4DurACuuIKrsNOw7m+UzVk9AO1fKZtz8LqcUldHmmliBpG0IjzkqYOxaBm0wdrR10O8LcKZDuOT3j709Z5Fe30tKqz39kOHyjus3M7YPLmL0Y2BP4rnXGRuEC0ePwJTpkCqO+4R6s5aunR+Nbw7bvRKDYYt2Bjso78jWlg8fcrLmDFsw87tDVj+Vh8+fF6pwToOIqNczAaaImbS5YfzcD6KPIX48FwtcqXprl607cpH45fSB6bTLL3buhjxyGVE5sFPeP7mefxcO+prKlBoSopeDX4Wmp9mKjPPRuC93+2YbtpwqGklKp67X89L5CVAEPFgKDjFT5OO9DnvQ6TDMukzw/CMSDsmiHn84ndBUnbC5vPB0S0yng7mx5UmPL+gGvKyUPff8sv45IV8PT2MZcGR4mVJ8hjFIzMMHvs9cF6ZVrTMywPaZdLzPeMJF7vQJUofUybSA3aUbnwBndcX4rhrYakXATDER435/oXII0nSBe0ZnpheGuR5J1+6/cR6MZb0Xz2QxkKzMxFcTeI/U4r1JZ3TC+Zoktaq1ODh1y+gKX/ibLv7u+DTiNGB2EyXtB7LVYCztgqkByPDrYvo4RUSzbT1E/zaFhM3Vij5mtM9Im89rJuWw+G/6oT7O+VFLFhRgH1Sd7QLbR/LwW8avxMH/6kODzfVw6K+H25BxH8QCWlQXZa2IZP/3zM9yru6pHn82GBG+shJtIgBRCzFA1KN3Q/Xm1WwPd6EijDXnEVGYKJGf9/FTT54xQX22DrcLdofK8AeUcvsH5j0I0kBeB112JljRec3yq4Q6cwWiCPtHVGi9U0eNHa3yIOdPGBpzv8BDpMFW27E8HFfzismIsqMjE4apBW8cHwq+v112GbSwd7aJtfM/1IjByWe1spXfah+vXB6YI4WMZ5QWCQtwnMeyrmnRbajyacE+9hLl7TortYNzc2TsG6Z1IrMLJfW2UybIOMb5XV4zqC/O+ieVrBHKhsuuiaN1QR4Wo/vRE5hJ3zRHHebhleI6k6hcAUvpd7Yiq3V3fAEW+EBPzxnqrA16yA0B8+hPjvKEURQurXiV7D/nD/yfjfP3lZljvm02wSI20I8k8pSDUZmMO1mJ92DrGO3kSWvMkhzyvP2d7HRSM35V9tfHBx3mOkx07+nzKGf1o86NsCaS8R6DKXPWIyLHOlgg/fte57bWO9RlpeazFLFuhNzCWt23WA9+/kxFd/PaGUdHv6haB73OSljOKkH2NRVB2OfVTJjaiozGgws50gPG+o5ynJWTU5rNNa1zE5eHzUpf0x5BPvuI5YuVXlcWacz22Omf08pE0rs9452SOuQTDyfiXQo4yJHPxhkYxHLW2rXiSjEvbHeLWN5Yt2Ukt5UY550/6yh75XPxIC4DyITF8Z9BmqnGZLuhRQTA7dBYQ86zo88aJfFjn2l7CBzGreX8GNmjI8B81i2SHl88HVRSSlhnVEvaMMMInEi7ruzhr8KNk/lgdr50WPXC5nA+ZOwqfkdkUgwv4ZLtsIIrz/xwfauuGdYBfaIefRkXjRP7kGh1oeWD0KYakumW4w8fscJW6sPSaX7YJlhWu3iSkKh7RJeu3cdQcKJ8yDihed/lM3H1mFtCP2aumf2Y+9yF+reDmc19gISv5IY6RVPf2pA3UU9KqosYcyJ/wFako6KI2YE2htjp9IRjxYhj/s+aEQbLKiO4m/6TKbRKmufElicB5FhDCrT+3SbTKHVcJakoeLfq5H0+xdRN9sUwURyx426l9qQVHUCe2dcoEXuR5tfj9afD6Lq1zNMgyWxwW9HZfUgLA2/QS7VkhZNfAeR6x4oKxFgSldR81hZjFMfWeAoVvnzuHFD3AupCI78D3Hq+ejOKY9f4tchz6H+x0dhVfXzuCSipJlnR6F5K0ZmLP2AxPdtT86WI6XEzjcyUdvXjoKYmUtJCCE/DHHdEvEEV0SvNCGdAgghhCy6OA4iE7c70WwyKbcJIIQQspjiOIgE78EE5JrS5Q1CCCGLKn6DyIgLLml0MzOE9SGEEEIWUvwGkSuD8i/zrTYjSr9PTwghP3hxG0RcTvn3I5NyzRFe5U0IIWQ2cRpEvDyIiL6sJFh+RkPqhBASLXETRPxXbGh5xwGviB03HegStzNfbsFTdA8oQgiJmjhZbOhAVUoRxK+op/3qc7QueREZh13IfevPaMqP8P2mCCGEzCpOWiJpSBMzsFYXozr7Co7WuoDHqlFNAYQQQqIqfm57MmxDaWENHN8FoDVXoOm14omfySSEEBIV8X3vLEIIIVEVv+tECCGERB0FEUIIIapRECGEEKIaBRFCCCGqURAhhBCiGgURQgghqlEQIYQQohoFEUIIIapRECGEEKIaBRFCCCGqURAhhBCiGgURQgghqlEQIYQQohLw/8tqhBIN3keGAAAAAElFTkSuQmCC)\n",
        "\n",
        "# **7. Вычисление двойных интегралов**\n",
        "\n",
        "Двойной интеграл — это интеграл от функции двух переменных. Если у нас есть функция f(x,y), то двойной интеграл по области A может быть записан как\n",
        "\n",
        "**Пример 7: Вычисление двойного интеграла**\n",
        "\n",
        "Рассмотрим функцию: f(x) = (x^2 + y^2)\n",
        "\n",
        "Вычислим двойной интеграл по прямоугольной области ![image.png](data:image/png;base64,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)."
      ],
      "metadata": {
        "id": "YsMZXTKn3l1g"
      }
    },
    {
      "cell_type": "code",
      "source": [
        "y = symbols('y')\n",
        "\n",
        "# Определяем функцию\n",
        "f = x**2 + y**2\n",
        "\n",
        "# Вычисляем двойной интеграл\n",
        "double_integral = integrate(integrate(f, (x, 0, 1)), (y, 0, 1))\n",
        "\n",
        "# Вывод результата\n",
        "double_integral"
      ],
      "metadata": {
        "colab": {
          "base_uri": "https://localhost:8080/",
          "height": 51
        },
        "id": "EsCjIc8C4WYv",
        "outputId": "6371f776-5d56-4264-f874-08319bdd0e42"
      },
      "execution_count": null,
      "outputs": [
        {
          "output_type": "execute_result",
          "data": {
            "text/plain": [
              "2/3"
            ],
            "text/latex": "$\\displaystyle \\frac{2}{3}$"
          },
          "metadata": {},
          "execution_count": 8
        }
      ]
    },
    {
      "cell_type": "markdown",
      "source": [
        "**Объяснение:**\n",
        "\n",
        "1. Мы задали функцию $f(x, y) = x^2 + y^2$.\n",
        "2. Использовали дважды `integrate()` для вычисления двойного интеграла.\n",
        "3. Интеграл будет равен:\n",
        "\n",
        "$$\n",
        "\\int_0^1 \\int_0^1 (x^2 + y^2) \\, dx \\, dy = \\frac{2}{3}\n",
        "$$\n",
        "\n",
        "\n",
        "\n",
        "## 8. Численное интегрирование\n",
        "\n",
        "SymPy также поддерживает численное интегрирование,\n",
        "\n",
        " когда аналитическое решение сложно найти. Для этого используется метод численного интегрирования, такой как метод Симпсона или метод трапеций.\n",
        "\n",
        "##### Пример 8: Численное интегрирование\n",
        "\n",
        "Рассмотрим сложную функцию:\n",
        "\n",
        "$$\n",
        "f(x) = \\sin(x^2)\n",
        "$$\n",
        "\n",
        "Теперь вычислим её определённый интеграл численно на отрезке от 0 до 1.\n"
      ],
      "metadata": {
        "id": "9SVvp_aI-A2l"
      }
    },
    {
      "cell_type": "code",
      "source": [
        "from sympy import N\n",
        "\n",
        "# Определяем функцию\n",
        "f = sin(x**2)\n",
        "\n",
        "# Численное вычисление определённого интеграла\n",
        "numerical_integral = N(integrate(f, (x, 0, 1)))\n",
        "\n",
        "# Вывод результата\n",
        "numerical_integral"
      ],
      "metadata": {
        "id": "hqB01Ivu-N3p"
      },
      "execution_count": null,
      "outputs": []
    },
    {
      "cell_type": "markdown",
      "source": [
        "**Объяснение:**\n",
        "\n",
        "1. Мы задали функцию $f(x) = \\sin(x^2)$.\n",
        "2. Использовали функцию `N()` для численного вычисления интеграла.\n",
        "3. Интеграл будет численно равен приближённо 0.310268301711.\n",
        "\n",
        "Таким образом, SymPy предоставляет мощные возможности для аналитического и численного интегрирования. С её помощью можно легко решать задачи нахождения неопределённых и определённых интегралов, интегрировать сложные функции и вычислять двойные и даже тройные интегралы.\n"
      ],
      "metadata": {
        "id": "_I5ik1Jd-Pmd"
      }
    },
    {
      "cell_type": "markdown",
      "source": [
        "\n",
        "\n",
        "## 5. Пределы в SymPy\n",
        "\n",
        "Пределы являются одной из ключевых концепций математического анализа. Они помогают описывать поведение функции при приближении аргумента к определённому значению или к бесконечности. Пределы используются для определения непрерывности, производных и интегралов, а также в физике, экономике и других областях.\n",
        "\n",
        "Библиотека SymPy предоставляет удобные инструменты для вычисления пределов различных типов функций. Мы рассмотрим, как вычислять пределы с использованием SymPy, и приведем множество примеров с подробным объяснением.\n",
        "\n",
        "\n",
        "\n",
        "#### 1. Основное понятие предела\n",
        "\n",
        "Предел функции $f(x)$ при $x \\to a$ записывается как:\n",
        "\n",
        "$$\n",
        "\\lim_{x \\to a} f(x) = L\n",
        "$$\n",
        "\n",
        "Это означает, что функция $f(x)$ стремится к значению $L$ при приближении аргумента $x$ к $a$.\n",
        "\n",
        "\n",
        "\n",
        "### Пример 1: Предел полинома при $x \\to a$\n",
        "\n",
        "Рассмотрим функцию:\n",
        "\n",
        "$$\n",
        "f(x) = 2x^2 + 3x + 1\n",
        "$$\n",
        "\n",
        "Найдём предел функции при $x \\to 2$.\n"
      ],
      "metadata": {
        "id": "I_GbQRa0-b44"
      }
    },
    {
      "cell_type": "code",
      "source": [
        "from sympy import symbols, limit\n",
        "\n",
        "# Определяем переменную\n",
        "x = symbols('x')\n",
        "\n",
        "# Определяем функцию\n",
        "f = 2*x**2 + 3*x + 1\n",
        "\n",
        "# Вычисляем предел при x -> 2\n",
        "limit_f = limit(f, x, 2)\n",
        "\n",
        "# Вывод результата\n",
        "limit_f"
      ],
      "metadata": {
        "colab": {
          "base_uri": "https://localhost:8080/",
          "height": 37
        },
        "id": "FK0nOu0T-f0r",
        "outputId": "8f460009-1ce5-4bec-a047-efe47b8dd82e"
      },
      "execution_count": null,
      "outputs": [
        {
          "output_type": "execute_result",
          "data": {
            "text/plain": [
              "15"
            ],
            "text/latex": "$\\displaystyle 15$"
          },
          "metadata": {},
          "execution_count": 10
        }
      ]
    },
    {
      "cell_type": "markdown",
      "source": [
        "**Объяснение:**\n",
        "\n",
        "1. Мы задали функцию $f(x) = 2x^2 + 3x + 1$.\n",
        "2. Для нахождения предела при $x \\to 2$ использовали функцию `limit()`.\n",
        "3. Предел будет равен:\n",
        "\n",
        "$$\n",
        "\\lim_{x \\to 2} (2x^2 + 3x + 1) = 17\n",
        "$$\n",
        "\n",
        "Таким образом, при $x \\to 2$, значение функции $f(x)$ стремится к 17.\n",
        "\n",
        "\n",
        "\n",
        "#### 2. Пределы при $x \\to \\infty$\n",
        "\n",
        "Предел функции при стремлении аргумента к бесконечности используется для описания поведения функции на \"бесконечном\" удалении. Это может быть полезно, например, при анализе асимптотического поведения функций.\n",
        "\n",
        "##### Пример 2: Предел при $x \\to \\infty$\n",
        "\n",
        "Рассмотрим функцию:\n",
        "\n",
        "$$\n",
        "g(x) = \\frac{1}{x}\n",
        "$$\n",
        "\n",
        "Теперь найдём предел при $x \\to \\infty$.\n",
        "\n"
      ],
      "metadata": {
        "id": "sXvim1Qc-iWb"
      }
    },
    {
      "cell_type": "code",
      "source": [
        "# Определяем функцию\n",
        "g = 1/x\n",
        "\n",
        "# Вычисляем предел при x -> infinity\n",
        "limit_g = limit(g, x, oo)\n",
        "\n",
        "# Вывод результата\n",
        "limit_g"
      ],
      "metadata": {
        "colab": {
          "base_uri": "https://localhost:8080/",
          "height": 211
        },
        "collapsed": true,
        "id": "YYmUFVWx-jhM",
        "outputId": "ae1ce51e-f542-4a2f-c118-f38f928262d9"
      },
      "execution_count": null,
      "outputs": [
        {
          "output_type": "error",
          "ename": "NameError",
          "evalue": "name 'oo' is not defined",
          "traceback": [
            "\u001b[0;31m---------------------------------------------------------------------------\u001b[0m",
            "\u001b[0;31mNameError\u001b[0m                                 Traceback (most recent call last)",
            "\u001b[0;32m<ipython-input-13-9028a126fb16>\u001b[0m in \u001b[0;36m<cell line: 0>\u001b[0;34m()\u001b[0m\n\u001b[1;32m      3\u001b[0m \u001b[0;34m\u001b[0m\u001b[0m\n\u001b[1;32m      4\u001b[0m \u001b[0;31m# Вычисляем предел при x -> infinity\u001b[0m\u001b[0;34m\u001b[0m\u001b[0;34m\u001b[0m\u001b[0m\n\u001b[0;32m----> 5\u001b[0;31m \u001b[0mlimit_g\u001b[0m \u001b[0;34m=\u001b[0m \u001b[0mlimit\u001b[0m\u001b[0;34m(\u001b[0m\u001b[0mg\u001b[0m\u001b[0;34m,\u001b[0m \u001b[0mx\u001b[0m\u001b[0;34m,\u001b[0m \u001b[0moo\u001b[0m\u001b[0;34m)\u001b[0m\u001b[0;34m\u001b[0m\u001b[0;34m\u001b[0m\u001b[0m\n\u001b[0m\u001b[1;32m      6\u001b[0m \u001b[0;34m\u001b[0m\u001b[0m\n\u001b[1;32m      7\u001b[0m \u001b[0;31m# Вывод результата\u001b[0m\u001b[0;34m\u001b[0m\u001b[0;34m\u001b[0m\u001b[0m\n",
            "\u001b[0;31mNameError\u001b[0m: name 'oo' is not defined"
          ]
        }
      ]
    },
    {
      "cell_type": "markdown",
      "source": [
        "**Объяснение:**\n",
        "\n",
        "1. Мы задали функцию $g(x) = \\frac{1}{x}$.\n",
        "2. Использовали `limit()` для вычисления предела при $x \\to \\infty$.\n",
        "3. Предел будет равен:\n",
        "\n",
        "$$\n",
        "\\lim_{x \\to \\infty} \\frac{1}{x} = 0\n",
        "$$\n",
        "\n",
        "Это показывает, что при увеличении $x$, функция стремится к нулю.\n",
        "\n",
        "\n",
        "\n",
        "#### 3. Односторонние пределы\n",
        "\n",
        "Иногда важно рассматривать пределы с разных сторон — слева или справа. Предел слева обозначается как:\n",
        "\n",
        "$$\n",
        "\\lim_{x \\to a^-} f(x)\n",
        "$$\n",
        "\n",
        "А предел справа:\n",
        "\n",
        "$$\n",
        "\\lim_{x \\to a^+} f(x)\n",
        "$$\n",
        "\n",
        "##### Пример 3: Односторонние пределы для модуля\n",
        "\n",
        "Рассмотрим функцию:\n",
        "\n",
        "$$\n",
        "h(x) = \\frac{|x|}{x}\n",
        "$$\n",
        "\n",
        "Теперь найдём пределы функции при $x \\to 0$ слева и справа."
      ],
      "metadata": {
        "id": "jRba2ENQ-_Lx"
      }
    },
    {
      "cell_type": "code",
      "source": [
        "from sympy import Abs\n",
        "\n",
        "# Определяем функцию\n",
        "h = Abs(x)/x\n",
        "\n",
        "# Вычисляем предел слева (x -> 0-)\n",
        "limit_h_left = limit(h, x, 0, dir='-')\n",
        "\n",
        "# Вычисляем предел справа (x -> 0+)\n",
        "limit_h_right = limit(h, x, 0, dir='+')\n",
        "\n",
        "# Вывод результатов\n",
        "limit_h_left, limit_h_right"
      ],
      "metadata": {
        "colab": {
          "base_uri": "https://localhost:8080/"
        },
        "id": "07QkWhwj-__c",
        "outputId": "f7a02e7e-1589-4e5f-a40f-33bd7d9a5f3b"
      },
      "execution_count": null,
      "outputs": [
        {
          "output_type": "execute_result",
          "data": {
            "text/plain": [
              "(-1, 1)"
            ]
          },
          "metadata": {},
          "execution_count": 14
        }
      ]
    },
    {
      "cell_type": "markdown",
      "source": [
        "**Объяснение:**\n",
        "\n",
        "1. Мы задали функцию $h(x) = \\frac{|x|}{x}$, где используется модуль числа $x$.\n",
        "2. Для нахождения пределов слева и справа использовали параметр `dir`.\n",
        "3. Пределы будут:\n",
        "\n",
        "$$\n",
        "\\lim_{x \\to 0^-} \\frac{|x|}{x} = -1, \\quad \\lim_{x \\to 0^+} \\frac{|x|}{x} = 1\n",
        "$$\n",
        "\n",
        "Таким образом, слева от нуля функция стремится к -1, а справа — к 1.\n",
        "\n",
        "\n",
        "\n",
        "#### 4. Пределы бесконечных выражений\n",
        "\n",
        "Бесконечные выражения, такие как суммы или произведения, также могут иметь пределы. Например, синусоидальные функции могут осциллировать, но их пределы часто имеют конкретное значение.\n",
        "\n",
        "##### Пример 4: Предел синуса при $x \\to 0$\n",
        "\n",
        "Рассмотрим функцию:\n",
        "\n",
        "$$\n",
        "f(x) = \\frac{\\sin(x)}{x}\n",
        "$$\n",
        "\n",
        "Найдём её предел при $x \\to 0$.\n"
      ],
      "metadata": {
        "id": "RwbZMJRC_BdS"
      }
    },
    {
      "cell_type": "code",
      "source": [
        "from sympy import sin\n",
        "\n",
        "# Определяем функцию\n",
        "f = sin(x)/x\n",
        "\n",
        "# Вычисляем предел при x -> 0\n",
        "limit_f = limit(f, x, 0)\n",
        "\n",
        "# Вывод результата\n",
        "limit_f"
      ],
      "metadata": {
        "colab": {
          "base_uri": "https://localhost:8080/",
          "height": 37
        },
        "id": "-w3pUDgC_De_",
        "outputId": "b33b82e3-0ec8-4e55-ef1a-34138fe2e3cc"
      },
      "execution_count": null,
      "outputs": [
        {
          "output_type": "execute_result",
          "data": {
            "text/plain": [
              "1"
            ],
            "text/latex": "$\\displaystyle 1$"
          },
          "metadata": {},
          "execution_count": 15
        }
      ]
    },
    {
      "cell_type": "markdown",
      "source": [
        "**Объяснение:**\n",
        "\n",
        "1. Мы задали функцию $f(x) = \\frac{\\sin(x)}{x}$.\n",
        "2. Использовали `limit()` для нахождения предела при $x \\to 0$.\n",
        "3. Предел будет равен:\n",
        "\n",
        "$$\n",
        "\\lim_{x \\to 0} \\frac{\\sin(x)}{x} = 1\n",
        "$$\n",
        "\n",
        "Этот предел известен как один из фундаментальных пределов в анализе.\n",
        "\n",
        "\n",
        "\n",
        "#### 5. Пределы в бесконечностях\n",
        "\n",
        "SymPy может обрабатывать пределы для выражений, стремящихся к бесконечности, и выражений с сингулярностями. Рассмотрим пример, когда функция имеет сингулярность, и мы вычисляем пределы при $x \\to 0$.\n",
        "\n",
        "##### Пример 5: Предел логарифмической функции при $x \\to 0^+$\n",
        "\n",
        "Рассмотрим функцию:\n",
        "\n",
        "$$\n",
        "k(x) = \\log(x)\n",
        "$$\n",
        "\n",
        "Теперь найдём её предел при $x \\to 0^+$.\n"
      ],
      "metadata": {
        "id": "FbRpknoc_FaA"
      }
    },
    {
      "cell_type": "code",
      "source": [
        "from sympy import log\n",
        "\n",
        "# Определяем функцию\n",
        "k = log(x)\n",
        "\n",
        "# Вычисляем предел при x -> 0+\n",
        "limit_k = limit(k, x, 0, dir='+')\n",
        "\n",
        "# Вывод результата\n",
        "limit_k"
      ],
      "metadata": {
        "colab": {
          "base_uri": "https://localhost:8080/",
          "height": 37
        },
        "id": "gNRjwnPn_HnG",
        "outputId": "523d2ded-188a-46c8-930b-690ff7dfac21"
      },
      "execution_count": null,
      "outputs": [
        {
          "output_type": "execute_result",
          "data": {
            "text/plain": [
              "-oo"
            ],
            "text/latex": "$\\displaystyle -\\infty$"
          },
          "metadata": {},
          "execution_count": 16
        }
      ]
    },
    {
      "cell_type": "markdown",
      "source": [
        "**Объяснение:**\n",
        "\n",
        "1. Мы задали функцию $k(x) = \\log(x)$.\n",
        "2. Использовали `limit()` для нахождения предела при $x \\to 0^+$.\n",
        "3. Предел будет равен:\n",
        "\n",
        "$$\n",
        "\\lim_{x \\to 0^+} \\log(x) = -\\infty\n",
        "$$\n",
        "\n",
        "Это показывает, что логарифмическая функция стремится к минус бесконечности при $x \\to 0^+$.\n",
        "\n",
        "\n",
        "\n",
        "#### 6. Пределы выражений с параметрами\n",
        "\n",
        "SymPy позволяет вычислять пределы функций, содержащих параметры. Это полезно для анализа поведения функции в зависимости от различных параметров.\n",
        "\n",
        "##### Пример 6: Предел при наличии параметров\n",
        "\n",
        "Рассмотрим функцию:\n",
        "\n",
        "$$\n",
        "f(x, a) = \\frac{x^a - 1}{x - 1}\n",
        "$$\n",
        "\n",
        "Теперь найдём предел при $x \\to 1$."
      ],
      "metadata": {
        "id": "slCqlHhe_KR6"
      }
    },
    {
      "cell_type": "code",
      "source": [
        "# Определяем параметр 'a'\n",
        "a = symbols('a')\n",
        "\n",
        "# Определяем функцию\n",
        "f = (x**a - 1)/(x - 1)\n",
        "\n",
        "# Вычисляем предел при x -> 1\n",
        "limit_f = limit(f, x, 1)\n",
        "\n",
        "# Вывод результата\n",
        "limit_f"
      ],
      "metadata": {
        "colab": {
          "base_uri": "https://localhost:8080/",
          "height": 39
        },
        "id": "z_rwmgjP_K9t",
        "outputId": "97325d2e-5d19-49e3-d917-599c85669508"
      },
      "execution_count": null,
      "outputs": [
        {
          "output_type": "execute_result",
          "data": {
            "text/plain": [
              "a"
            ],
            "text/latex": "$\\displaystyle a$"
          },
          "metadata": {},
          "execution_count": 17
        }
      ]
    },
    {
      "cell_type": "markdown",
      "source": [
        "**Объяснение:**\n",
        "\n",
        "1. Мы задали параметрическую функцию $f(x, a) = \\frac{x^a - 1}{x - 1}$.\n",
        "2. Использовали `limit()` для нахождения предела при $x \\to 1$.\n",
        "3. Предел будет равен:\n",
        "\n",
        "$$\n",
        "\\lim_{x \\to 1} \\frac{x^a - 1}{x - 1} = a\n",
        "$$\n",
        "\n",
        "Таким образом, значение предела зависит от параметра $a$.\n",
        "\n",
        "\n",
        "\n",
        "#### 7. Одновременные пределы\n",
        "\n",
        "SymPy также поддерживает вычисление пределов для функций нескольких переменных.\n",
        "\n",
        "##### Пример 7: Предел функции двух переменных\n",
        "\n",
        "Рассмотрим функцию:\n",
        "\n",
        "$$\n",
        "f(x, y) = \\frac{x^2 + y^2}{x + y}\n",
        "$$\n",
        "\n",
        "Теперь найдём её предел при $x, y \\to 0$.\n"
      ],
      "metadata": {
        "id": "CnndodaQ_M0r"
      }
    },
    {
      "cell_type": "code",
      "source": [
        "y = symbols('y')\n",
        "\n",
        "# Определяем функцию\n",
        "f = (x**2 + y**2)/(x + y)\n",
        "\n",
        "# Вычисляем предел при x, y -> 0\n",
        "limit_f = limit(f, x, 0)\n",
        "limit_f = limit(limit_f, y, 0)\n",
        "\n",
        "# Вывод результата\n",
        "limit_f"
      ],
      "metadata": {
        "colab": {
          "base_uri": "https://localhost:8080/",
          "height": 37
        },
        "id": "o9qIAWiE_OiO",
        "outputId": "6dbc19fc-c31f-429e-b541-4224c0013d6e"
      },
      "execution_count": null,
      "outputs": [
        {
          "output_type": "execute_result",
          "data": {
            "text/plain": [
              "0"
            ],
            "text/latex": "$\\displaystyle 0$"
          },
          "metadata": {},
          "execution_count": 19
        }
      ]
    },
    {
      "cell_type": "markdown",
      "source": [
        "**Объяснение:**\n",
        "\n",
        "1. Мы задали функцию $f(x, y) = \\frac{x^2 + y^2}{x + y}$.\n",
        "2. Использовали двойное вычисление предела — сначала по $x$, потом по $y$.\n",
        "3. Предел будет равен 0.\n",
        "\n",
        "Такми образом, в SymPy пределы вычисляются с помощью функции `limit()`. Библиотека поддерживает различные типы пределов: односторонние, пределы при $x \\to \\infty$, пределы с параметрами и пределы для функций нескольких переменных.\n",
        "\n"
      ],
      "metadata": {
        "id": "expm0u7k_cib"
      }
    },
    {
      "cell_type": "markdown",
      "source": [
        "# Ряды в SymPy\n",
        "\n",
        "Ряды — это сумма бесконечного числа слагаемых, и они играют важную роль в математике. В математическом анализе ряды могут использоваться для аппроксимации функций, решения дифференциальных уравнений и других приложений. Один из наиболее известных примеров — это **ряд Тейлора**, который позволяет приближать функции полиномами.\n",
        "\n",
        "SymPy предоставляет мощные инструменты для работы с рядами: разложение в ряды, вычисление сумм рядов и их анализ.\n",
        "\n",
        "\n",
        "\n",
        "#### 1. Ряд Тейлора\n",
        "\n",
        "**Ряд Тейлора** функции $f(x)$ в точке $x = a$ задаётся следующей формулой:\n",
        "\n",
        "$$\n",
        "f(x) = f(a) + f'(a)(x - a) + \\frac{f''(a)}{2!}(x - a)^2 + \\frac{f^{(3)}(a)}{3!}(x - a)^3 + \\dots\n",
        "$$\n",
        "\n",
        "Ряд Тейлора используется для приближения функций с помощью многочлена.\n",
        "\n",
        "##### Пример 1: Разложение экспоненты в ряд Тейлора\n",
        "\n",
        "Рассмотрим функцию $f(x) = e^x$. Найдём её разложение в ряд Тейлора в окрестности точки $x = 0$ (ряд Маклорена):\n",
        "\n",
        "$$\n",
        "e^x = 1 + x + \\frac{x^2}{2!} + \\frac{x^3}{3!} + \\dots\n",
        "$$"
      ],
      "metadata": {
        "id": "AXsR5qli_ewb"
      }
    },
    {
      "cell_type": "code",
      "source": [
        "from sympy import symbols, series, exp\n",
        "\n",
        "# Определяем переменную\n",
        "x = symbols('x')\n",
        "\n",
        "# Определяем функцию\n",
        "f = exp(x)\n",
        "\n",
        "# Разложение в ряд Тейлора (ряд Маклорена) до x^6\n",
        "taylor_exp = series(f, x, 0, 6)\n",
        "\n",
        "# Вывод результата\n",
        "taylor_exp"
      ],
      "metadata": {
        "colab": {
          "base_uri": "https://localhost:8080/",
          "height": 54
        },
        "id": "Jx9tvj-i_foQ",
        "outputId": "2f333a98-2daf-4a52-a6e4-dce65e241060"
      },
      "execution_count": null,
      "outputs": [
        {
          "output_type": "execute_result",
          "data": {
            "text/plain": [
              "1 + x + x**2/2 + x**3/6 + x**4/24 + x**5/120 + O(x**6)"
            ],
            "text/latex": "$\\displaystyle 1 + x + \\frac{x^{2}}{2} + \\frac{x^{3}}{6} + \\frac{x^{4}}{24} + \\frac{x^{5}}{120} + O\\left(x^{6}\\right)$"
          },
          "metadata": {},
          "execution_count": 20
        }
      ]
    },
    {
      "cell_type": "markdown",
      "source": [
        "**Объяснение:**\n",
        "\n",
        "1. Мы задали функцию $f(x) = e^x$.\n",
        "2. Использовали функцию `series()` для разложения в ряд Тейлора до членов с $x^6$.\n",
        "3. Разложение в ряд Маклорена (ряд Тейлора в точке 0) будет:\n",
        "\n",
        "$$\n",
        "e^x \\approx 1 + x + \\frac{x^2}{2} + \\frac{x^3}{6} + \\frac{x^4}{24} + \\frac{x^5}{120} + \\mathcal{O}(x^6)\n",
        "$$\n",
        "\n",
        "\n",
        "\n",
        "#### 2. Разложение тригонометрических функций в ряд\n",
        "\n",
        "Тригонометрические функции, такие как синус и косинус, могут быть разложены в ряды Тейлора. Это особенно полезно для аппроксимации их значений при малых углах.\n",
        "\n",
        "##### Пример 2: Разложение синуса в ряд Тейлора\n",
        "\n",
        "Рассмотрим функцию $f(x) = \\sin(x)$. Найдём её разложение в ряд Тейлора в окрестности точки $x = 0$:\n",
        "\n",
        "$$\n",
        "\\sin(x) = x - \\frac{x^3}{3!} + \\frac{x^5}{5!} - \\dots\n",
        "$$"
      ],
      "metadata": {
        "id": "f2oXsEuq_hpb"
      }
    },
    {
      "cell_type": "code",
      "source": [
        "from sympy import sin\n",
        "\n",
        "# Определяем функцию\n",
        "f = sin(x)\n",
        "\n",
        "# Разложение в ряд Тейлора до x^7\n",
        "taylor_sin = series(f, x, 0, 7)\n",
        "\n",
        "# Вывод результата\n",
        "taylor_sin"
      ],
      "metadata": {
        "colab": {
          "base_uri": "https://localhost:8080/",
          "height": 54
        },
        "id": "XpbzyFA4_jkc",
        "outputId": "26ed9d23-1a5d-4206-cada-d65deeddf1f3"
      },
      "execution_count": null,
      "outputs": [
        {
          "output_type": "execute_result",
          "data": {
            "text/plain": [
              "x - x**3/6 + x**5/120 + O(x**7)"
            ],
            "text/latex": "$\\displaystyle x - \\frac{x^{3}}{6} + \\frac{x^{5}}{120} + O\\left(x^{7}\\right)$"
          },
          "metadata": {},
          "execution_count": 21
        }
      ]
    },
    {
      "cell_type": "markdown",
      "source": [
        "**Объяснение:**\n",
        "\n",
        "1. Мы задали функцию $f(x) = \\sin(x)$.\n",
        "2. Использовали `series()` для разложения в ряд Тейлора до членов с $x^7$.\n",
        "3. Разложение будет:\n",
        "\n",
        "$$\n",
        "\\sin(x) \\approx x - \\frac{x^3}{6} + \\frac{x^5}{120} - \\frac{x^7}{5040} + \\mathcal{O}(x^8)\n",
        "$$\n",
        "\n",
        "Это приближённое выражение можно использовать для расчётов при малых значениях $x$.\n",
        "\n",
        "\n",
        "\n",
        "#### 3. Разложение логарифмической функции\n",
        "\n",
        "Логарифмическую функцию также можно разложить в ряд Тейлора.\n",
        "\n",
        "\n",
        "##### Пример 3 (продолжение): Разложение натурального логарифма в ряд\n",
        "\n",
        "Рассмотрим функцию $f(x) = \\ln(1 + x)$. Найдём её разложение в ряд Тейлора в окрестности точки $x = 0$:\n",
        "\n",
        "$$\n",
        "\\ln(1 + x) = x - \\frac{x^2}{2} + \\frac{x^3}{3} - \\frac{x^4}{4} + \\dots\n",
        "$$\n",
        "\n",
        "Теперь реализуем это в SymPy:"
      ],
      "metadata": {
        "id": "tMc8Y_ja_oND"
      }
    },
    {
      "cell_type": "code",
      "source": [
        "from sympy import log\n",
        "\n",
        "# Определяем функцию\n",
        "f = log(1 + x)\n",
        "\n",
        "# Разложение в ряд Тейлора до x^6\n",
        "taylor_log = series(f, x, 0, 6)\n",
        "\n",
        "# Вывод результата\n",
        "taylor_log\n"
      ],
      "metadata": {
        "colab": {
          "base_uri": "https://localhost:8080/",
          "height": 54
        },
        "id": "Avf1yVn2_ryo",
        "outputId": "e6eac787-9dcf-4bf3-b6b7-a7e00c2484d9"
      },
      "execution_count": null,
      "outputs": [
        {
          "output_type": "execute_result",
          "data": {
            "text/plain": [
              "x - x**2/2 + x**3/3 - x**4/4 + x**5/5 + O(x**6)"
            ],
            "text/latex": "$\\displaystyle x - \\frac{x^{2}}{2} + \\frac{x^{3}}{3} - \\frac{x^{4}}{4} + \\frac{x^{5}}{5} + O\\left(x^{6}\\right)$"
          },
          "metadata": {},
          "execution_count": 22
        }
      ]
    },
    {
      "cell_type": "markdown",
      "source": [
        "**Объяснение:**\n",
        "\n",
        "1. Мы задали функцию $f(x) = \\ln(1 + x)$.\n",
        "2. Использовали функцию `series()` для разложения в ряд Тейлора до членов с $x^6$.\n",
        "3. Разложение будет:\n",
        "\n",
        "$$\n",
        "\\ln(1 + x) \\approx x - \\frac{x^2}{2} + \\frac{x^3}{3} - \\frac{x^4}{4} + \\mathcal{O}(x^5)\n",
        "$$\n",
        "\n",
        "Это разложение используется для приближённых вычислений логарифма в окрестности 0.\n",
        "\n",
        "\n",
        "\n",
        "### 4. Геометрическая прогрессия как ряд\n",
        "\n",
        "Ряды также могут быть представлены в виде геометрических прогрессий. Если |r| < 1, то сумма бесконечной геометрической прогрессии $1 + r + r^2 + r^3 + \\dots$ равна:\n",
        "\n",
        "$$\n",
        "S = \\frac{1}{1 - r}\n",
        "$$\n",
        "\n",
        "##### Пример 4: Сумма геометрического ряда\n",
        "\n",
        "Рассмотрим геометрическую прогрессию $S = \\sum_{n=0}^{\\infty} r^n$. Найдём её сумму при $|r| < 1$."
      ],
      "metadata": {
        "id": "_xBRwoqSAMH4"
      }
    },
    {
      "cell_type": "code",
      "source": [
        "from sympy import Sum, oo\n",
        "\n",
        "# Определяем переменную\n",
        "r = symbols('r')\n",
        "\n",
        "# Определяем сумму ряда\n",
        "geometric_sum = Sum(r**n, (n, 0, oo)).doit()\n",
        "\n",
        "# Вывод результата\n",
        "geometric_sum"
      ],
      "metadata": {
        "colab": {
          "base_uri": "https://localhost:8080/",
          "height": 211
        },
        "collapsed": true,
        "id": "M7uCKwSVAWg8",
        "outputId": "37f8b1c6-844b-425f-8cd0-36e3aabc17fe"
      },
      "execution_count": null,
      "outputs": [
        {
          "output_type": "error",
          "ename": "NameError",
          "evalue": "name 'n' is not defined",
          "traceback": [
            "\u001b[0;31m---------------------------------------------------------------------------\u001b[0m",
            "\u001b[0;31mNameError\u001b[0m                                 Traceback (most recent call last)",
            "\u001b[0;32m<ipython-input-23-1d587ba3595e>\u001b[0m in \u001b[0;36m<cell line: 0>\u001b[0;34m()\u001b[0m\n\u001b[1;32m      5\u001b[0m \u001b[0;34m\u001b[0m\u001b[0m\n\u001b[1;32m      6\u001b[0m \u001b[0;31m# Определяем сумму ряда\u001b[0m\u001b[0;34m\u001b[0m\u001b[0;34m\u001b[0m\u001b[0m\n\u001b[0;32m----> 7\u001b[0;31m \u001b[0mgeometric_sum\u001b[0m \u001b[0;34m=\u001b[0m \u001b[0mSum\u001b[0m\u001b[0;34m(\u001b[0m\u001b[0mr\u001b[0m\u001b[0;34m**\u001b[0m\u001b[0mn\u001b[0m\u001b[0;34m,\u001b[0m \u001b[0;34m(\u001b[0m\u001b[0mn\u001b[0m\u001b[0;34m,\u001b[0m \u001b[0;36m0\u001b[0m\u001b[0;34m,\u001b[0m \u001b[0moo\u001b[0m\u001b[0;34m)\u001b[0m\u001b[0;34m)\u001b[0m\u001b[0;34m.\u001b[0m\u001b[0mdoit\u001b[0m\u001b[0;34m(\u001b[0m\u001b[0;34m)\u001b[0m\u001b[0;34m\u001b[0m\u001b[0;34m\u001b[0m\u001b[0m\n\u001b[0m\u001b[1;32m      8\u001b[0m \u001b[0;34m\u001b[0m\u001b[0m\n\u001b[1;32m      9\u001b[0m \u001b[0;31m# Вывод результата\u001b[0m\u001b[0;34m\u001b[0m\u001b[0;34m\u001b[0m\u001b[0m\n",
            "\u001b[0;31mNameError\u001b[0m: name 'n' is not defined"
          ]
        }
      ]
    },
    {
      "cell_type": "markdown",
      "source": [
        "**Объяснение:**\n",
        "\n",
        "1. Мы задали переменную $r$ и сумму ряда $\\sum_{n=0}^{\\infty} r^n$.\n",
        "2. Использовали `Sum()` и вызов `doit()` для нахождения суммы.\n",
        "3. Сумма ряда будет равна:\n",
        "\n",
        "$$\n",
        "S = \\frac{1}{1 - r} \\quad (\\text{при } |r| < 1)\n",
        "$$\n",
        "\n",
        "Это важный результат, который используется во многих областях математики.\n",
        "\n",
        "\n",
        "\n",
        "### 5. Ряд Фурье\n",
        "\n",
        "Ряды Фурье используются для представления периодических функций в виде суммы синусоидальных функций. Это особенно полезно в сигналах и обработке данных.\n",
        "\n",
        "##### Пример 5: Разложение функции в ряд Фурье\n",
        "\n",
        "Рассмотрим периодическую функцию $f(x) = x$ на интервале $[- \\pi, \\pi]$. Мы можем разложить её в ряд Фурье."
      ],
      "metadata": {
        "id": "a5XgDTIkBkkW"
      }
    },
    {
      "cell_type": "code",
      "source": [
        "from sympy import fourier_series, pi\n",
        "\n",
        "# Определяем функцию\n",
        "f = x\n",
        "\n",
        "# Разложение в ряд Фурье на интервале [-pi, pi]\n",
        "fourier_expansion = fourier_series(f, (x, -pi, pi))\n",
        "\n",
        "# Вывод результата\n",
        "fourier_expansion"
      ],
      "metadata": {
        "colab": {
          "base_uri": "https://localhost:8080/",
          "height": 53
        },
        "id": "MKWXjew0Blev",
        "outputId": "d10a90ab-f332-4009-9e73-1988819bacc9"
      },
      "execution_count": null,
      "outputs": [
        {
          "output_type": "execute_result",
          "data": {
            "text/plain": [
              "FourierSeries(x, (x, -pi, pi), (0, SeqFormula(0, (_k, 1, oo)), SeqFormula(Piecewise((-2*pi*cos(_n*pi)/_n + 2*sin(_n*pi)/_n**2, (_n > -oo) & (_n < oo) & Ne(_n, 0)), (0, True))*sin(_n*x)/pi, (_n, 1, oo))))"
            ],
            "text/latex": "$\\displaystyle 2 \\sin{\\left(x \\right)} - \\sin{\\left(2 x \\right)} + \\frac{2 \\sin{\\left(3 x \\right)}}{3} + \\ldots$"
          },
          "metadata": {},
          "execution_count": 24
        }
      ]
    },
    {
      "cell_type": "markdown",
      "source": [
        "**Объяснение:**\n",
        "\n",
        "1. Мы задали функцию $f(x) = x$.\n",
        "2. Использовали `fourier_series()` для разложения функции в ряд Фурье на заданном интервале.\n",
        "3. Результат будет представлять собой бесконечную сумму синусоидальных функций.\n",
        "\n",
        "\n",
        "\n",
        "### 6. Применение рядов для аппроксимации функций\n",
        "\n",
        "Ряды могут использоваться для аппроксимации функций, что полезно в вычислениях. Мы можем использовать частичную сумму ряда Тейлора для приближения значений функций.\n",
        "\n",
        "##### Пример 6: Аппроксимация экспоненты\n",
        "\n",
        "Используя частичную сумму ряда Тейлора для функции $f(x) = e^x$, мы можем приближенно вычислить $e^1$.\n"
      ],
      "metadata": {
        "id": "9ZxM6TM3Bn-U"
      }
    },
    {
      "cell_type": "code",
      "source": [
        "# Определяем значение для аппроксимации\n",
        "x_val = 1\n",
        "\n",
        "# Вычисляем частичную сумму ряда Тейлора до x^6\n",
        "approximation = taylor_exp.subs(x, x_val)\n",
        "\n",
        "# Вывод результата\n",
        "approximation"
      ],
      "metadata": {
        "colab": {
          "base_uri": "https://localhost:8080/",
          "height": 39
        },
        "id": "XLFUuTSYBqCZ",
        "outputId": "8760240b-a7e9-434f-aebd-3974a7c6e1b3"
      },
      "execution_count": null,
      "outputs": [
        {
          "output_type": "execute_result",
          "data": {
            "text/plain": [
              "O(1)"
            ],
            "text/latex": "$\\displaystyle O\\left(1\\right)$"
          },
          "metadata": {},
          "execution_count": 25
        }
      ]
    },
    {
      "cell_type": "markdown",
      "source": [
        "**Объяснение:**\n",
        "\n",
        "1. Мы задали значение $x = 1$ для аппроксимации.\n",
        "2. Подставили это значение в разложение $e^x$.\n",
        "3. Полученная частичная сумма будет приближенной оценкой $e$.\n",
        "\n",
        "\n",
        "\n",
        "### 7. Конвергенция рядов\n",
        "\n",
        "Важно понимать, что не все ряды сходятся. Символьные инструменты SymPy могут помочь определить, сходится ли ряд.\n",
        "\n",
        "##### Пример 7: Проверка сходимости ряда\n",
        "\n",
        "Рассмотрим ряд $ \\sum_{n=1}^{\\infty} \\frac{1}{n^2} $. Мы можем использовать критерий сравнения для определения его сходимости.\n"
      ],
      "metadata": {
        "id": "6568oTW8BsY_"
      }
    },
    {
      "cell_type": "code",
      "source": [
        "from sympy import Sum\n",
        "\n",
        "# Определяем ряд\n",
        "n = symbols('n')\n",
        "series_test = Sum(1/n**2, (n, 1, oo)).is_convergent()\n",
        "\n",
        "# Вывод результата\n",
        "series_test"
      ],
      "metadata": {
        "colab": {
          "base_uri": "https://localhost:8080/",
          "height": 37
        },
        "id": "htfZ_e_nBxx2",
        "outputId": "617a9d57-5cdd-4d83-8343-0775cbba4d7d"
      },
      "execution_count": null,
      "outputs": [
        {
          "output_type": "execute_result",
          "data": {
            "text/plain": [
              "True"
            ],
            "text/latex": "$\\displaystyle \\text{True}$"
          },
          "metadata": {},
          "execution_count": 26
        }
      ]
    },
    {
      "cell_type": "markdown",
      "source": [
        "**Объяснение:**\n",
        "\n",
        "1. Мы задали ряд $ \\sum_{n=1}^{\\infty} \\frac{1}{n^2} $.\n",
        "2. Использовали метод `is_convergent()` для проверки сходимости.\n",
        "3. Результат укажет на то, что ряд сходится (поскольку это известный ряд сходимости).\n",
        "\n",
        "Такми образом, в SymPy ряды можно легко разложить с помощью функции `series()`, а также проверить их сходимость и использовать для аппроксимации функций. Мы рассмотрели различные типы рядов, такие как ряды Тейлора, геометрические ряды и ряды Фурье. Эти концепции играют важную роль в математике и её приложениях."
      ],
      "metadata": {
        "id": "luEWyPCiB0JS"
      }
    },
    {
      "cell_type": "markdown",
      "source": [
        "###7.  Матрицы и линейная алгебра в SymPy\n",
        "\n",
        "Линейная алгебра — это область математики, изучающая векторы, векторные пространства (или линейные пространства), а также линейные преобразования и матрицы. В Python библиотека SymPy предоставляет мощные инструменты для работы с матрицами и решения задач линейной алгебры.\n",
        "\n",
        "\n",
        "\n",
        "#### 1. Определение и создание матриц\n",
        "\n",
        "Матрица — это прямоугольная таблица чисел, расположенных в строках и столбцах. Для создания матрицы в SymPy используется класс `Matrix`. Матрицы могут быть использованы для решения систем линейных уравнений, нахождения определителей, собственных значений и собственных векторов, а также для выполнения различных линейных преобразований.\n",
        "\n",
        "##### Пример 1: Создание матрицы\n",
        "\n",
        "Рассмотрим матрицу $A$:\n",
        "\n",
        "$$\n",
        "A = \\begin{pmatrix}\n",
        "1 & 2 & 3 \\\\\n",
        "4 & 5 & 6 \\\\\n",
        "7 & 8 & 9\n",
        "\\end{pmatrix}\n",
        "$$\n",
        "\n",
        "Создадим эту матрицу в SymPy."
      ],
      "metadata": {
        "id": "12tBAMepB3xA"
      }
    },
    {
      "cell_type": "code",
      "source": [
        "from sympy import Matrix\n",
        "\n",
        "# Определяем матрицу A\n",
        "A = Matrix([[1, 2, 3], [4, 5, 6], [7, 8, 9]])\n",
        "\n",
        "# Вывод результата\n",
        "A"
      ],
      "metadata": {
        "colab": {
          "base_uri": "https://localhost:8080/",
          "height": 78
        },
        "id": "LyAJojH0B6hH",
        "outputId": "102d9369-8092-4436-d32a-8b86d534a678"
      },
      "execution_count": null,
      "outputs": [
        {
          "output_type": "execute_result",
          "data": {
            "text/plain": [
              "Matrix([\n",
              "[1, 2, 3],\n",
              "[4, 5, 6],\n",
              "[7, 8, 9]])"
            ],
            "text/latex": "$\\displaystyle \\left[\\begin{matrix}1 & 2 & 3\\\\4 & 5 & 6\\\\7 & 8 & 9\\end{matrix}\\right]$"
          },
          "metadata": {},
          "execution_count": 28
        }
      ]
    },
    {
      "cell_type": "markdown",
      "source": [
        "**Объяснение:**\n",
        "\n",
        "1. Мы импортировали класс `Matrix` из SymPy.\n",
        "2. Создали матрицу $A$ с помощью двумерного списка.\n",
        "3. В результате получаем объект матрицы $A$, который можно использовать для дальнейших операций.\n",
        "\n",
        "\n",
        "\n",
        "#### 2. Операции с матрицами\n",
        "\n",
        "С матрицами можно выполнять различные операции, такие как сложение, вычитание, умножение и транспонирование.\n",
        "\n",
        "##### Пример 2: Сложение и вычитание матриц\n",
        "\n",
        "Рассмотрим две матрицы:\n",
        "\n",
        "$$\n",
        "B = \\begin{pmatrix}\n",
        "1 & 0 & 2 \\\\\n",
        "-1 & 3 & 1 \\\\\n",
        "4 & 5 & 6\n",
        "\\end{pmatrix}\n",
        "$$\n",
        "\n",
        "и\n",
        "\n",
        "$$\n",
        "C = \\begin{pmatrix}\n",
        "2 & 2 & 3 \\\\\n",
        "1 & 0 & 1 \\\\\n",
        "0 & 1 & 1\n",
        "\\end{pmatrix}\n",
        "$$\n",
        "\n",
        "Сложим и вычтем их."
      ],
      "metadata": {
        "id": "cKCnpNNeB7CU"
      }
    },
    {
      "cell_type": "code",
      "source": [
        "# Определяем матрицы B и C\n",
        "B = Matrix([[1, 0, 2], [-1, 3, 1], [4, 5, 6]])\n",
        "C = Matrix([[2, 2, 3], [1, 0, 1], [0, 1, 1]])\n",
        "\n",
        "# Сложение матриц\n",
        "sum_result = B + C\n",
        "\n",
        "# Вычитание матриц\n",
        "difference_result = B - C\n",
        "\n",
        "# Вывод результатов\n",
        "sum_result, difference_result"
      ],
      "metadata": {
        "colab": {
          "base_uri": "https://localhost:8080/"
        },
        "id": "CpcnKdenCAe1",
        "outputId": "e037163c-6f63-4706-ca06-8b4ab65b4c5e"
      },
      "execution_count": null,
      "outputs": [
        {
          "output_type": "execute_result",
          "data": {
            "text/plain": [
              "(Matrix([\n",
              " [3, 2, 5],\n",
              " [0, 3, 2],\n",
              " [4, 6, 7]]),\n",
              " Matrix([\n",
              " [-1, -2, -1],\n",
              " [-2,  3,  0],\n",
              " [ 4,  4,  5]]))"
            ]
          },
          "metadata": {},
          "execution_count": 29
        }
      ]
    },
    {
      "cell_type": "markdown",
      "source": [],
      "metadata": {
        "id": "pLpzNkuyCBGd"
      }
    },
    {
      "cell_type": "markdown",
      "source": [
        "**Объяснение:**\n",
        "\n",
        "1. Мы создали две матрицы $B$ и $C$.\n",
        "2. Сложили матрицы, используя оператор `+`, и вычли, используя оператор `-`.\n",
        "3. В результате получили новые матрицы, представляющие суммы и разности.\n",
        "\n",
        "\n",
        "\n",
        "#### 3. Умножение матриц\n",
        "\n",
        "Умножение матриц осуществляется по правилам линейной алгебры. Если у нас есть матрицы $A$ и $B$, их произведение $C = A \\times B$ определяется как:\n",
        "\n",
        "$$\n",
        "C_{ij} = \\sum_{k} A_{ik} B_{kj}\n",
        "$$\n",
        "\n",
        "где сумма берется по всем значениям $k$.\n",
        "\n",
        "##### Пример 3: Умножение матриц\n",
        "\n",
        "Умножим матрицы $A$ и $B$:"
      ],
      "metadata": {
        "id": "3HEq3hfFCFjj"
      }
    },
    {
      "cell_type": "code",
      "source": [
        "# Умножение матриц\n",
        "product_result = A * B\n",
        "\n",
        "# Вывод результата\n",
        "product_result"
      ],
      "metadata": {
        "colab": {
          "base_uri": "https://localhost:8080/",
          "height": 78
        },
        "id": "o--jWuFmCHsE",
        "outputId": "c24da3ba-9290-4a21-ceaf-f0231756f20d"
      },
      "execution_count": null,
      "outputs": [
        {
          "output_type": "execute_result",
          "data": {
            "text/plain": [
              "Matrix([\n",
              "[11, 21, 22],\n",
              "[23, 45, 49],\n",
              "[35, 69, 76]])"
            ],
            "text/latex": "$\\displaystyle \\left[\\begin{matrix}11 & 21 & 22\\\\23 & 45 & 49\\\\35 & 69 & 76\\end{matrix}\\right]$"
          },
          "metadata": {},
          "execution_count": 30
        }
      ]
    },
    {
      "cell_type": "markdown",
      "source": [
        "**Объяснение:**\n",
        "\n",
        "1. Мы использовали оператор `*` для умножения матриц $A$ и $B$.\n",
        "2. Полученная матрица $C$ будет результатом умножения, где каждый элемент определяется по формуле выше.\n",
        "\n",
        "\n",
        "\n",
        "#### 4. Транспонирование матриц\n",
        "\n",
        "Транспонирование матрицы — это операция, при которой строки матрицы становятся столбцами и наоборот. Транспонированная матрица $A^T$ определяется как:\n",
        "\n",
        "$$\n",
        "A^T_{ij} = A_{ji}\n",
        "$$\n",
        "\n",
        "##### Пример 4: Транспонирование матрицы\n",
        "\n",
        "Транспонируем матрицу $A$."
      ],
      "metadata": {
        "id": "35YkDuxoCKGD"
      }
    },
    {
      "cell_type": "code",
      "source": [
        "# Транспонирование матрицы A\n",
        "transpose_result = A.transpose()\n",
        "\n",
        "# Вывод результата\n",
        "transpose_result"
      ],
      "metadata": {
        "id": "1JuNdI4wCLkG"
      },
      "execution_count": null,
      "outputs": []
    },
    {
      "cell_type": "markdown",
      "source": [
        "**Объяснение:**\n",
        "\n",
        "1. Используя метод `transpose()`, мы получили транспонированную матрицу $A^T$.\n",
        "2. Это новая матрица, где строки и столбцы поменяны местами.\n",
        "\n",
        "\n",
        "\n",
        "#### 5. Определитель матрицы\n",
        "\n",
        "Определитель — это скалярная величина, которая может быть вычислена только для квадратных матриц. Он позволяет определить, обратима ли матрица. Если определитель ненулевой, матрица обратима.\n",
        "\n",
        "##### Пример 5: Вычисление определителя\n",
        "\n",
        "Вычислим определитель матрицы $A$."
      ],
      "metadata": {
        "id": "FD5u-gc4CNzi"
      }
    },
    {
      "cell_type": "code",
      "source": [
        "# Вычисление определителя матрицы A\n",
        "det_A = A.det()\n",
        "\n",
        "# Вывод результата\n",
        "det_A"
      ],
      "metadata": {
        "colab": {
          "base_uri": "https://localhost:8080/",
          "height": 37
        },
        "id": "hcYyW9XwCP53",
        "outputId": "98f6dc17-9833-48f9-fe17-35322d3f9266"
      },
      "execution_count": null,
      "outputs": [
        {
          "output_type": "execute_result",
          "data": {
            "text/plain": [
              "0"
            ],
            "text/latex": "$\\displaystyle 0$"
          },
          "metadata": {},
          "execution_count": 31
        }
      ]
    },
    {
      "cell_type": "markdown",
      "source": [
        "**Объяснение:**\n",
        "\n",
        "1. Мы использовали метод `det()` для вычисления определителя матрицы $A$.\n",
        "2. Полученный результат будет числом, показывающим, обратима ли матрица.\n",
        "\n",
        "\n",
        "\n",
        "#### 6. Обратная матрица\n",
        "\n",
        "Обратная матрица $A^{-1}$ существует только для квадратных матриц с ненулевым определителем. Она определяется как:\n",
        "\n",
        "$$\n",
        "A A^{-1} = I\n",
        "$$\n",
        "\n",
        "где $I$ — единичная матрица.\n",
        "\n",
        "##### Пример 6: Вычисление обратной матрицы\n",
        "\n",
        "Вычислим обратную матрицу $A$."
      ],
      "metadata": {
        "id": "3tu2AptzCSvZ"
      }
    },
    {
      "cell_type": "code",
      "source": [
        "# Вычисление обратной матрицы A\n",
        "inv_A = A.inv()\n",
        "\n",
        "# Вывод результата\n",
        "inv_A"
      ],
      "metadata": {
        "colab": {
          "base_uri": "https://localhost:8080/",
          "height": 460
        },
        "collapsed": true,
        "id": "WDM87XSdCUaN",
        "outputId": "678dc50d-b606-4eeb-98a7-e7426aaee17a"
      },
      "execution_count": null,
      "outputs": [
        {
          "output_type": "error",
          "ename": "NonInvertibleMatrixError",
          "evalue": "Matrix det == 0; not invertible.",
          "traceback": [
            "\u001b[0;31m---------------------------------------------------------------------------\u001b[0m",
            "\u001b[0;31mDMNonInvertibleMatrixError\u001b[0m                Traceback (most recent call last)",
            "\u001b[0;32m/usr/local/lib/python3.11/dist-packages/sympy/matrices/inverse.py\u001b[0m in \u001b[0;36m_inv_DM\u001b[0;34m(dM, cancel)\u001b[0m\n\u001b[1;32m    325\u001b[0m     \u001b[0;32mtry\u001b[0m\u001b[0;34m:\u001b[0m\u001b[0;34m\u001b[0m\u001b[0;34m\u001b[0m\u001b[0m\n\u001b[0;32m--> 326\u001b[0;31m         \u001b[0mdMi\u001b[0m\u001b[0;34m,\u001b[0m \u001b[0mden\u001b[0m \u001b[0;34m=\u001b[0m \u001b[0mdM\u001b[0m\u001b[0;34m.\u001b[0m\u001b[0minv_den\u001b[0m\u001b[0;34m(\u001b[0m\u001b[0;34m)\u001b[0m\u001b[0;34m\u001b[0m\u001b[0;34m\u001b[0m\u001b[0m\n\u001b[0m\u001b[1;32m    327\u001b[0m     \u001b[0;32mexcept\u001b[0m \u001b[0mDMNonInvertibleMatrixError\u001b[0m\u001b[0;34m:\u001b[0m\u001b[0;34m\u001b[0m\u001b[0;34m\u001b[0m\u001b[0m\n",
            "\u001b[0;32m/usr/local/lib/python3.11/dist-packages/sympy/polys/matrices/domainmatrix.py\u001b[0m in \u001b[0;36minv_den\u001b[0;34m(self, method)\u001b[0m\n\u001b[1;32m   2742\u001b[0m         \u001b[0mI\u001b[0m \u001b[0;34m=\u001b[0m \u001b[0mself\u001b[0m\u001b[0;34m.\u001b[0m\u001b[0meye\u001b[0m\u001b[0;34m(\u001b[0m\u001b[0mself\u001b[0m\u001b[0;34m.\u001b[0m\u001b[0mshape\u001b[0m\u001b[0;34m,\u001b[0m \u001b[0mself\u001b[0m\u001b[0;34m.\u001b[0m\u001b[0mdomain\u001b[0m\u001b[0;34m)\u001b[0m\u001b[0;34m\u001b[0m\u001b[0;34m\u001b[0m\u001b[0m\n\u001b[0;32m-> 2743\u001b[0;31m         \u001b[0;32mreturn\u001b[0m \u001b[0mself\u001b[0m\u001b[0;34m.\u001b[0m\u001b[0msolve_den\u001b[0m\u001b[0;34m(\u001b[0m\u001b[0mI\u001b[0m\u001b[0;34m,\u001b[0m \u001b[0mmethod\u001b[0m\u001b[0;34m=\u001b[0m\u001b[0mmethod\u001b[0m\u001b[0;34m)\u001b[0m\u001b[0;34m\u001b[0m\u001b[0;34m\u001b[0m\u001b[0m\n\u001b[0m\u001b[1;32m   2744\u001b[0m \u001b[0;34m\u001b[0m\u001b[0m\n",
            "\u001b[0;32m/usr/local/lib/python3.11/dist-packages/sympy/polys/matrices/domainmatrix.py\u001b[0m in \u001b[0;36msolve_den\u001b[0;34m(self, b, method)\u001b[0m\n\u001b[1;32m   2882\u001b[0m         \u001b[0;32melif\u001b[0m \u001b[0mmethod\u001b[0m \u001b[0;34m==\u001b[0m \u001b[0;34m'rref'\u001b[0m\u001b[0;34m:\u001b[0m\u001b[0;34m\u001b[0m\u001b[0;34m\u001b[0m\u001b[0m\n\u001b[0;32m-> 2883\u001b[0;31m             \u001b[0mxnum\u001b[0m\u001b[0;34m,\u001b[0m \u001b[0mxden\u001b[0m \u001b[0;34m=\u001b[0m \u001b[0mself\u001b[0m\u001b[0;34m.\u001b[0m\u001b[0msolve_den_rref\u001b[0m\u001b[0;34m(\u001b[0m\u001b[0mb\u001b[0m\u001b[0;34m)\u001b[0m\u001b[0;34m\u001b[0m\u001b[0;34m\u001b[0m\u001b[0m\n\u001b[0m\u001b[1;32m   2884\u001b[0m         \u001b[0;32melse\u001b[0m\u001b[0;34m:\u001b[0m\u001b[0;34m\u001b[0m\u001b[0;34m\u001b[0m\u001b[0m\n",
            "\u001b[0;32m/usr/local/lib/python3.11/dist-packages/sympy/polys/matrices/domainmatrix.py\u001b[0m in \u001b[0;36msolve_den_rref\u001b[0;34m(self, b)\u001b[0m\n\u001b[1;32m   2934\u001b[0m         \u001b[0;32mif\u001b[0m \u001b[0mlen\u001b[0m\u001b[0;34m(\u001b[0m\u001b[0mpivots\u001b[0m\u001b[0;34m)\u001b[0m \u001b[0;34m!=\u001b[0m \u001b[0mn\u001b[0m \u001b[0;32mor\u001b[0m \u001b[0mpivots\u001b[0m \u001b[0;32mand\u001b[0m \u001b[0mpivots\u001b[0m\u001b[0;34m[\u001b[0m\u001b[0;34m-\u001b[0m\u001b[0;36m1\u001b[0m\u001b[0;34m]\u001b[0m \u001b[0;34m>=\u001b[0m \u001b[0mn\u001b[0m\u001b[0;34m:\u001b[0m\u001b[0;34m\u001b[0m\u001b[0;34m\u001b[0m\u001b[0m\n\u001b[0;32m-> 2935\u001b[0;31m             \u001b[0;32mraise\u001b[0m \u001b[0mDMNonInvertibleMatrixError\u001b[0m\u001b[0;34m(\u001b[0m\u001b[0;34m\"Non-unique solution.\"\u001b[0m\u001b[0;34m)\u001b[0m\u001b[0;34m\u001b[0m\u001b[0;34m\u001b[0m\u001b[0m\n\u001b[0m\u001b[1;32m   2936\u001b[0m \u001b[0;34m\u001b[0m\u001b[0m\n",
            "\u001b[0;31mDMNonInvertibleMatrixError\u001b[0m: Non-unique solution.",
            "\nDuring handling of the above exception, another exception occurred:\n",
            "\u001b[0;31mNonInvertibleMatrixError\u001b[0m                  Traceback (most recent call last)",
            "\u001b[0;32m<ipython-input-32-87b00da6eaaa>\u001b[0m in \u001b[0;36m<cell line: 0>\u001b[0;34m()\u001b[0m\n\u001b[1;32m      1\u001b[0m \u001b[0;31m# Вычисление обратной матрицы A\u001b[0m\u001b[0;34m\u001b[0m\u001b[0;34m\u001b[0m\u001b[0m\n\u001b[0;32m----> 2\u001b[0;31m \u001b[0minv_A\u001b[0m \u001b[0;34m=\u001b[0m \u001b[0mA\u001b[0m\u001b[0;34m.\u001b[0m\u001b[0minv\u001b[0m\u001b[0;34m(\u001b[0m\u001b[0;34m)\u001b[0m\u001b[0;34m\u001b[0m\u001b[0;34m\u001b[0m\u001b[0m\n\u001b[0m\u001b[1;32m      3\u001b[0m \u001b[0;34m\u001b[0m\u001b[0m\n\u001b[1;32m      4\u001b[0m \u001b[0;31m# Вывод результата\u001b[0m\u001b[0;34m\u001b[0m\u001b[0;34m\u001b[0m\u001b[0m\n\u001b[1;32m      5\u001b[0m \u001b[0minv_A\u001b[0m\u001b[0;34m\u001b[0m\u001b[0;34m\u001b[0m\u001b[0m\n",
            "\u001b[0;32m/usr/local/lib/python3.11/dist-packages/sympy/matrices/matrixbase.py\u001b[0m in \u001b[0;36minv\u001b[0;34m(self, method, iszerofunc, try_block_diag)\u001b[0m\n\u001b[1;32m   5217\u001b[0m \u001b[0;34m\u001b[0m\u001b[0m\n\u001b[1;32m   5218\u001b[0m     \u001b[0;32mdef\u001b[0m \u001b[0minv\u001b[0m\u001b[0;34m(\u001b[0m\u001b[0mself\u001b[0m\u001b[0;34m,\u001b[0m \u001b[0mmethod\u001b[0m\u001b[0;34m=\u001b[0m\u001b[0;32mNone\u001b[0m\u001b[0;34m,\u001b[0m \u001b[0miszerofunc\u001b[0m\u001b[0;34m=\u001b[0m\u001b[0m_iszero\u001b[0m\u001b[0;34m,\u001b[0m \u001b[0mtry_block_diag\u001b[0m\u001b[0;34m=\u001b[0m\u001b[0;32mFalse\u001b[0m\u001b[0;34m)\u001b[0m\u001b[0;34m:\u001b[0m\u001b[0;34m\u001b[0m\u001b[0;34m\u001b[0m\u001b[0m\n\u001b[0;32m-> 5219\u001b[0;31m         return _inv(self, method=method, iszerofunc=iszerofunc,\n\u001b[0m\u001b[1;32m   5220\u001b[0m                 try_block_diag=try_block_diag)\n\u001b[1;32m   5221\u001b[0m \u001b[0;34m\u001b[0m\u001b[0m\n",
            "\u001b[0;32m/usr/local/lib/python3.11/dist-packages/sympy/matrices/inverse.py\u001b[0m in \u001b[0;36m_inv\u001b[0;34m(M, method, iszerofunc, try_block_diag)\u001b[0m\n\u001b[1;32m    502\u001b[0m \u001b[0;34m\u001b[0m\u001b[0m\n\u001b[1;32m    503\u001b[0m     \u001b[0;32mif\u001b[0m \u001b[0mmethod\u001b[0m \u001b[0;34m==\u001b[0m \u001b[0;34m\"DM\"\u001b[0m\u001b[0;34m:\u001b[0m\u001b[0;34m\u001b[0m\u001b[0;34m\u001b[0m\u001b[0m\n\u001b[0;32m--> 504\u001b[0;31m         \u001b[0mrv\u001b[0m \u001b[0;34m=\u001b[0m \u001b[0m_inv_DM\u001b[0m\u001b[0;34m(\u001b[0m\u001b[0mdM\u001b[0m\u001b[0;34m)\u001b[0m\u001b[0;34m\u001b[0m\u001b[0;34m\u001b[0m\u001b[0m\n\u001b[0m\u001b[1;32m    505\u001b[0m     \u001b[0;32melif\u001b[0m \u001b[0mmethod\u001b[0m \u001b[0;34m==\u001b[0m \u001b[0;34m\"DMNC\"\u001b[0m\u001b[0;34m:\u001b[0m\u001b[0;34m\u001b[0m\u001b[0;34m\u001b[0m\u001b[0m\n\u001b[1;32m    506\u001b[0m         \u001b[0mrv\u001b[0m \u001b[0;34m=\u001b[0m \u001b[0m_inv_DM\u001b[0m\u001b[0;34m(\u001b[0m\u001b[0mdM\u001b[0m\u001b[0;34m,\u001b[0m \u001b[0mcancel\u001b[0m\u001b[0;34m=\u001b[0m\u001b[0;32mFalse\u001b[0m\u001b[0;34m)\u001b[0m\u001b[0;34m\u001b[0m\u001b[0;34m\u001b[0m\u001b[0m\n",
            "\u001b[0;32m/usr/local/lib/python3.11/dist-packages/sympy/matrices/inverse.py\u001b[0m in \u001b[0;36m_inv_DM\u001b[0;34m(dM, cancel)\u001b[0m\n\u001b[1;32m    326\u001b[0m         \u001b[0mdMi\u001b[0m\u001b[0;34m,\u001b[0m \u001b[0mden\u001b[0m \u001b[0;34m=\u001b[0m \u001b[0mdM\u001b[0m\u001b[0;34m.\u001b[0m\u001b[0minv_den\u001b[0m\u001b[0;34m(\u001b[0m\u001b[0;34m)\u001b[0m\u001b[0;34m\u001b[0m\u001b[0;34m\u001b[0m\u001b[0m\n\u001b[1;32m    327\u001b[0m     \u001b[0;32mexcept\u001b[0m \u001b[0mDMNonInvertibleMatrixError\u001b[0m\u001b[0;34m:\u001b[0m\u001b[0;34m\u001b[0m\u001b[0;34m\u001b[0m\u001b[0m\n\u001b[0;32m--> 328\u001b[0;31m         \u001b[0;32mraise\u001b[0m \u001b[0mNonInvertibleMatrixError\u001b[0m\u001b[0;34m(\u001b[0m\u001b[0;34m\"Matrix det == 0; not invertible.\"\u001b[0m\u001b[0;34m)\u001b[0m\u001b[0;34m\u001b[0m\u001b[0;34m\u001b[0m\u001b[0m\n\u001b[0m\u001b[1;32m    329\u001b[0m \u001b[0;34m\u001b[0m\u001b[0m\n\u001b[1;32m    330\u001b[0m     \u001b[0;32mif\u001b[0m \u001b[0muse_exact\u001b[0m\u001b[0;34m:\u001b[0m\u001b[0;34m\u001b[0m\u001b[0;34m\u001b[0m\u001b[0m\n",
            "\u001b[0;31mNonInvertibleMatrixError\u001b[0m: Matrix det == 0; not invertible."
          ]
        }
      ]
    },
    {
      "cell_type": "markdown",
      "source": [
        "**Объяснение:**\n",
        "\n",
        "1. Мы использовали метод `inv()` для нахождения обратной матрицы $A^{-1}$.\n",
        "2. Полученный результат — это матрица, такая что произведение $A \\cdot A^{-1} = I$.\n",
        "\n",
        "\n",
        "\n",
        "#### 7. Собственные значения и собственные векторы\n",
        "\n",
        "Собственные значения и собственные векторы матрицы $A$ удовлетворяют следующему уравнению:\n",
        "\n",
        "$$\n",
        "A \\mathbf{v} = \\lambda \\mathbf{v}\n",
        "$$\n",
        "\n",
        "где $\\lambda$ — собственное значение, а $\\mathbf{v}$ — соответствующий собственный вектор.\n",
        "\n",
        "##### Пример 7: Нахождение собственных значений и собственных векторов\n",
        "\n",
        "Найдём собственные значения и собственные векторы для матрицы $A$.\n"
      ],
      "metadata": {
        "id": "etcmCZPLCYJW"
      }
    },
    {
      "cell_type": "code",
      "source": [
        "# Нахождение собственных значений и собственных векторов\n",
        "eigenvals = A.eigenvals()\n",
        "eigenvects = A.eigenvects()\n",
        "\n",
        "# Вывод результатов\n",
        "eigenvals, eigenvects"
      ],
      "metadata": {
        "colab": {
          "base_uri": "https://localhost:8080/"
        },
        "id": "sUHZh4SqCZki",
        "outputId": "4fb136e4-55e3-4320-aa3e-0782d011188c"
      },
      "execution_count": null,
      "outputs": [
        {
          "output_type": "execute_result",
          "data": {
            "text/plain": [
              "({15/2 - 3*sqrt(33)/2: 1, 15/2 + 3*sqrt(33)/2: 1, 0: 1},\n",
              " [(0, 1, [Matrix([\n",
              "    [ 1],\n",
              "    [-2],\n",
              "    [ 1]])]),\n",
              "  (15/2 - 3*sqrt(33)/2,\n",
              "   1,\n",
              "   [Matrix([\n",
              "    [-3*sqrt(33)/22 - 1/2],\n",
              "    [ 1/4 - 3*sqrt(33)/44],\n",
              "    [                   1]])]),\n",
              "  (15/2 + 3*sqrt(33)/2,\n",
              "   1,\n",
              "   [Matrix([\n",
              "    [-1/2 + 3*sqrt(33)/22],\n",
              "    [ 1/4 + 3*sqrt(33)/44],\n",
              "    [                   1]])])])"
            ]
          },
          "metadata": {},
          "execution_count": 33
        }
      ]
    },
    {
      "cell_type": "markdown",
      "source": [
        "**Объяснение:**\n",
        "\n",
        "1. Мы использовали методы `eigenvals()` и `eigenvects()` для нахождения собственных значений и собственных векторов матрицы $A$.\n",
        "2. `eigenvals` возвращает словарь собственных значений, а `eigenvects` — списки собственных векторов и их алгебраические кратности.\n",
        "\n",
        "Таким образом, библиотека SymPy предоставляет мощные инструменты для работы с матрицами и решения задач линейной алгебры. Мы рассмотрели создание матриц, операции над ними (сложение, вычитание, умножение, транспонирование), вычисление определителей, обратных матриц и нахождение собственных значений и векторов. Эти навыки могут быть полезны в различных областях науки и инженерии.\n"
      ],
      "metadata": {
        "id": "AvKyyRymCc11"
      }
    },
    {
      "cell_type": "markdown",
      "source": [
        "##Вопросы для самопроверки\n",
        "###1. Символьные переменные\n",
        "1. Что такое символьные переменные в SymPy и как они отличаются от числовых переменных?\n",
        "2. Как создать символьные переменные для $a$, $b$ и $c$ с помощью функции `symbols()`?\n",
        "3. Напишите код для создания трех символьных переменных: $x$, $y$, $z$.\n",
        "4. Как можно создать символьные переменные с помощью списка строк, например, `['x', 'y', 'z']`?\n",
        "5. Выполните сложение двух символьных переменных $x$ и $y$. Как будет выглядеть результат?\n",
        "6. Как вычесть $y$ из $x$ с использованием SymPy? Приведите пример.\n",
        "7. Напишите выражение для умножения $x$ на 5 и $y$ на 3.\n",
        "8. Как возвести сумму $x + y$ в квадрат? Запишите соответствующий код.\n",
        "9. Что произойдет, если вы попытаетесь выполнить деление символьной переменной на ноль в SymPy?\n",
        "10. Как создать выражение для $x^2 + 2xy + y^2$? Объясните, как оно связано с формулой разности квадратов.\n",
        "11. Напишите код для создания выражения, представляющего $sin(x) + cos(y)$.\n",
        "12. Как можно упростить выражение $x + 2y + x + 3y$ в SymPy?\n",
        "13. Как выполнить замену переменной в выражении, например, заменить $y$ на $2$ в выражении $x + y$?\n",
        "14. Как можно получить производную от выражения $x^2 + y^2$ по переменной $x$?\n",
        "15. Напишите код для нахождения второй производной от $x^3 + y^3$ по $x$.\n",
        "16. Как найти интеграл от функции $x^2$ по переменной $x$?\n",
        "17. Как можно вычислить определенный интеграл от $x^2$ на интервале от 0 до 1?\n",
        "18. Что такое упрощение выражений в SymPy и как оно работает?\n",
        "19. Как можно разложить выражение $(x + y)^3$ на множители?\n",
        "20. Как создать и использовать функцию в SymPy, например, $f(x) = x^2 + 2x + 1$?\n",
        "21. Как можно построить график функции $f(x) = x^2$ с использованием SymPy?\n",
        "22. Напишите код для создания символьного выражения, представляющего уравнение прямой линии $y = mx + b$.\n",
        "23. Как можно решить уравнение $x^2 - 4 = 0$ с помощью SymPy?\n",
        "24. Как найти корни полинома $x^3 - 3x^2 + 4$?\n",
        "25. Что такое система уравнений в SymPy и как ее решить?\n",
        "\n",
        "###2. Упрощение выражений\n",
        "\n",
        "\n",
        "1. Как упростить выражение $\\frac{x^2 - 1}{x - 1}$?\n",
        "\n",
        "2. В чем разница между функциями `simplify()` и `expand()` в SymPy?\n",
        "\n",
        "3. Как можно использовать `factor()` для упрощения выражения $x^2 - 9$?\n",
        "\n",
        "4. Как упростить тригонометрическое выражение $\\sin^2(x) + \\cos^2(x)$?\n",
        "\n",
        "5. Что делает функция `collect()` в SymPy?\n",
        "\n",
        "6. Как упростить логарифмическое выражение $\\log(a^2) + \\log(b)$?\n",
        "\n",
        "7. Как можно упростить выражение $\\frac{(x + 2)(x - 2)}{x^2 - 4}$?\n",
        "\n",
        "8. Как использовать `cancel()` для упрощения дроби?\n",
        "\n",
        "9. Как упростить выражение $\\frac{x^3 - 1}{x - 1}$?\n",
        "\n",
        "10. Что происходит, когда вы применяете `simplify()` к выражению с тригонометрическими функциями?\n",
        "\n",
        "11. Как упростить выражение $\\tan(x) \\cdot \\cos(x)$?\n",
        "\n",
        "12. Какой метод можно использовать для упрощения выражения с помощью `subs()`?\n",
        "\n",
        "13. Как упростить выражение $\\frac{2x^2 + 4x}{2x}$?\n",
        "\n",
        "14. Как можно упростить выражение $\\frac{x^2 + 3x + 2}{x + 1}$ с помощью `expand()`?\n",
        "\n",
        "15. Как упростить выражение $\\log(\\frac{a}{b}) + \\log(b)$?\n",
        "\n",
        "16. Как использовать `expand_trig()` для упрощения тригонометрических выражений?\n",
        "\n",
        "17. Как упростить выражение $\\frac{3x^2 - 12}{3(x - 2)}$?\n",
        "\n",
        "18. Какой метод лучше всего подходит для упрощения выражения с корнями, например $\\sqrt{x^2}$?\n",
        "\n",
        "19. Как упростить выражение $\\frac{x^2 - 4x + 4}{x - 2}$?\n",
        "\n",
        "20. Как можно проверить упрощение выражения на эквивалентность с помощью SymPy?\n",
        "\n",
        "\n",
        "### 3.Решение уравнений\n",
        "\n",
        "\n",
        "1. Какую функцию в SymPy вы используете для определения уравнения?\n",
        "\n",
        "2. Как решить линейное уравнение вида $ax + b = 0$ в SymPy?\n",
        "\n",
        "3. Что делает функция `solve()` в SymPy?\n",
        "\n",
        "4. Как можно решить квадратное уравнение $x^2 + bx + c = 0$ с помощью SymPy?\n",
        "\n",
        "5. Как определить переменные в SymPy?\n",
        "\n",
        "6. Как решить систему линейных уравнений с помощью SymPy?\n",
        "\n",
        "7. Как выведите все решения тригонометрического уравнения $\\sin(x) = 0$?\n",
        "\n",
        "8. Как решить нелинейное уравнение, например, $x^3 - 2x + 1 = 0$?\n",
        "\n",
        "9. Как использовать параметр $p$ в уравнении $x^2 + px + q = 0$?\n",
        "\n",
        "10. Как решить уравнение с корнями, например, $\\sqrt{x} - 2 = 0$?\n",
        "\n",
        "11. Как вы можете найти численное решение уравнения с помощью SymPy?\n",
        "\n",
        "12. Как решить уравнение $\\tan(x) = \\sqrt{3}$?\n",
        "\n",
        "13. Как можно использовать `nsolve()` для нахождения решения уравнения?\n",
        "\n",
        "14. Какой метод вы примените для решения системы уравнений, если она имеет бесконечно много решений?\n",
        "\n",
        "15. Как выведите все возможные решения уравнения $\\cos(x) = \\frac{1}{2}$?\n",
        "\n",
        "16. Как использовать `Eq()` для формирования уравнения в SymPy?\n",
        "\n",
        "17. Как вы можете проверить, является ли найденное решение уравнения верным?\n",
        "\n",
        "18. Как решить уравнение с несколькими переменными, например, $x^2 + y^2 = 1$?\n",
        "\n",
        "19. Что делать, если уравнение не имеет аналитического решения?\n",
        "\n",
        "20. Как можно визуализировать решения уравнений с помощью графиков в SymPy?\n",
        "\n",
        "###4.  Дифференцирование\n",
        "\n",
        "1. Как найти производную функции $f(x) = e^{3x}$?\n",
        "\n",
        "2. Как вычислить производную функции $g(x) = x \\cdot \\ln(x)$?\n",
        "\n",
        "3. Найдите производную функции $h(x) = \\cos(2x)$.\n",
        "\n",
        "4. Какова производная функции $k(x) = \\frac{1}{x}$?\n",
        "\n",
        "5. Найдите производную функции $m(x) = \\sqrt{3x^2 + 1}$.\n",
        "\n",
        "6. Как найти производную функции $n(x) = \\sec(x) + \\csc(x)$?\n",
        "\n",
        "7. Найдите производную функции $p(x) = \\frac{x^2 + 1}{x - 1}$.\n",
        "\n",
        "8. Какова производная функции $q(x) = \\sin(x^2 + 3)$?\n",
        "\n",
        "9. Найдите производную функции $r(x) = e^{\\sin(x)}$.\n",
        "\n",
        "10. Как вычислить производную функции $s(x) = x^3 \\cdot \\ln(x)$?\n",
        "\n",
        "11. Найдите производную функции $t(x) = \\tan(3x)$.\n",
        "\n",
        "12. Какова производная функции $u(x) = x^4 - 4x^3 + 6x^2 - 24x + 5$?\n",
        "\n",
        "13. Найдите производную функции $v(x) = \\frac{\\sin(x)}{x}$.\n",
        "\n",
        "14. Как вычислить производную функции $w(x) = x^2 \\cdot e^x$?\n",
        "\n",
        "15. Найдите производную функции $y(x) = \\ln(x^3 + 2x)$.\n",
        "\n",
        "16. Какова производная функции $z(x) = \\arctan(x)$?\n",
        "\n",
        "17. Найдите производную функции $a(x) = \\sqrt{x^4 + 1}$.\n",
        "\n",
        "18. Как найти производную функции $b(x) = 5^{x}$?\n",
        "\n",
        "19. Найдите производную функции $c(x) = \\sin(x) \\cdot \\cos(x)$.\n",
        "\n",
        "20. Какова производная функции $d(x) = \\frac{x^2 + 1}{\\sin(x)}$?\n",
        "\n",
        "###5.Интегрирование\n",
        "\n",
        "\n",
        "1. Что такое неопределённый интеграл и как он обозначается?\n",
        "\n",
        "2. Какова формула для нахождения неопределённого интеграла функции $f(x)$?\n",
        "\n",
        "3. Приведите пример функции и вычислите её неопределённый интеграл с помощью SymPy.\n",
        "\n",
        "4. Как вычисляется интеграл функции $\\sin(x)$ и как это сделать в SymPy?\n",
        "\n",
        "5. Каковы результаты интегрирования функции $e^{2x}$ с использованием SymPy?\n",
        "\n",
        "6. Как выглядит интеграл функции $\\frac{1}{x^2 + 1}$ и как его вычислить в SymPy?\n",
        "\n",
        "7. Что такое определённый интеграл и как он обозначается?\n",
        "\n",
        "8. Как вычислить определённый интеграл функции $f(x) = x^2$ на отрезке от 0 до 1 с помощью SymPy?\n",
        "\n",
        "9. Какова связь между определённым и неопределённым интегралами?\n",
        "\n",
        "10. Приведите пример сложной функции и вычислите её интеграл в SymPy.\n",
        "\n",
        "11. Как SymPy обрабатывает интегрирование тригонометрических функций?\n",
        "\n",
        "12. Как вычисляется двойной интеграл функции $f(x, y) = x^2 + y^2$ по области $0 \\leq x \\leq 1$, $0 \\leq y \\leq 1$?\n",
        "\n",
        "13. Что такое численное интегрирование и когда оно применяется?\n",
        "\n",
        "14. Приведите пример функции, для которой необходимо использовать численное интегрирование, и опишите, как это сделать в SymPy.\n",
        "\n",
        "15. Какова формула для интегрирования функции $\\cos(x)$?\n",
        "\n",
        "16. Как использовать метод Симпсона или метод трапеций для численного интегрирования в SymPy?\n",
        "\n",
        "17. Как обозначается константа интегрирования в неопределённом интеграле?\n",
        "\n",
        "18. Как можно интегрировать сложные функции, состоящие из нескольких элементарных функций, в SymPy?\n",
        "\n",
        "19. Каково значение интеграла функции $\\sin(x^2)$ на отрезке от 0 до 1, если вычислять его численно?\n",
        "\n",
        "20. Как можно проверить результат интегрирования в SymPy, чтобы убедиться в его корректности?\n",
        "\n",
        "###6. Пределы\n",
        "\n",
        "\n",
        "\n",
        "1. Какова формула для обозначения предела функции $f(x)$ при $x \\to a$?\n",
        "\n",
        "2. Как вычислить предел функции $f(x) = \\frac{x^2 - 4}{x - 2}$ при $x \\to 2$ с помощью SymPy?\n",
        "\n",
        "3. Что такое односторонний предел и как он обозначается?\n",
        "\n",
        "4. Найдите предел функции $g(x) = \\frac{1 - \\cos(x)}{x^2}$ при $x \\to 0$.\n",
        "\n",
        "5. Как вычислить предел функции $h(x) = \\frac{x^3 + 2x^2 - x - 2}{x^2 - 1}$ при $x \\to 1$?\n",
        "\n",
        "6. Какова интерпретация предела функции при $x \\to \\infty$?\n",
        "\n",
        "7. Найдите предел функции $k(x) = \\frac{\\sqrt{x} - 1}{x - 1}$ при $x \\to 1$.\n",
        "\n",
        "8. Вычислите предел функции $m(x) = \\frac{x^2 + 1}{x^2 - 1}$ при $x \\to 1$.\n",
        "\n",
        "9. Каковы пределы функции $n(x) = \\frac{e^x - e^{-x}}{x}$ при $x \\to 0$?\n",
        "\n",
        "10. Найдите предел функции $p(x) = \\frac{\\sin(3x)}{x}$ при $x \\to 0$.\n",
        "\n",
        "11. Как вычислить предел функции $q(x) = \\frac{1}{x^2} + \\frac{1}{x - 1}$ при $x \\to 1$?\n",
        "\n",
        "12. Найдите предел функции $r(x) = x \\cdot \\log(x)$ при $x \\to 0^+$.\n",
        "\n",
        "13. Какова формула для предела произведения двух функций $f(x)$ и $g(x)$?\n",
        "\n",
        "14. Найдите предел функции $s(x) = \\frac{x^2 - 1}{x^2 + 1}$ при $x \\to \\infty$.\n",
        "\n",
        "15. Как вычислить предел функции $t(x) = \\frac{\\tan(x)}{x^2}$ при $x \\to 0$?\n",
        "\n",
        "16. Найдите предел функции $u(x) = \\frac{x^2 + 3x + 2}{x^2 - 3x + 2}$ при $x \\to 2$.\n",
        "\n",
        "17. Каковы пределы функции $v(x) = \\frac{\\sin(x)}{x}$ при $x \\to 0$?\n",
        "\n",
        "18. Найдите предел функции $w(x) = \\frac{x^2 - 1}{x^2 + 1}$ при $x \\to 1$.\n",
        "\n",
        "19. Как вычислить предел функции $y(x) = \\frac{1 - \\cos(2x)}{x^2}$ при $x \\to 0$?\n",
        "\n",
        "20. Найдите предел функции $z(x) = \\frac{x^2 + 2x + 1}{x^3 - 1}$ при $x \\to 1$.\n",
        "\n",
        "\n",
        "###7. Ряды\n",
        "\n",
        "1. Что такое ряд Тейлора и какова его основная формула?\n",
        "\n",
        "2. Как можно использовать SymPy для разложения функции в ряд Тейлора?\n",
        "\n",
        "3. В чем разница между рядом Тейлора и рядом Маклорена?\n",
        "\n",
        "4. Каково разложение функции $e^x$ в ряд Тейлора в окрестности точки $x = 0$?\n",
        "\n",
        "5. Какова форма разложения функции $\\sin(x)$ в ряд Тейлора?\n",
        "\n",
        "6. Как можно разложить функцию $\\cos(x)$ в ряд Тейлора?\n",
        "\n",
        "7. Какова формула для разложения функции $\\ln(1 + x)$ в ряд Тейлора?\n",
        "\n",
        "8. Как вычислить сумму бесконечного геометрического ряда с помощью SymPy?\n",
        "\n",
        "9. Каковы условия сходимости геометрического ряда?\n",
        "\n",
        "10. Как можно проверить сходимость ряда с помощью SymPy?\n",
        "\n",
        "11. Что такое ряд Фурье и в каких случаях он используется?\n",
        "\n",
        "12. Как разложить периодическую функцию в ряд Фурье с помощью SymPy?\n",
        "\n",
        "13. Как можно использовать ряды для аппроксимации значений функций?\n",
        "\n",
        "14. Какова связь между порядком разложения в ряд Тейлора и точностью аппроксимации?\n",
        "\n",
        "15. Каковы основные свойства рядов, которые следует учитывать при их использовании?\n",
        "\n",
        "16. Какое значение имеет разложение функции в ряд для решения дифференциальных уравнений?\n",
        "\n",
        "17. Как можно использовать частичные суммы рядов для вычислений?\n",
        "\n",
        "18. Каково разложение функции $\\tan(x)$ в ряд Тейлора?\n",
        "\n",
        "19. Как разложить функцию $\\sqrt{1 + x}$ в ряд Тейлора?\n",
        "\n",
        "20. Как можно использовать SymPy для нахождения частичных сумм ряда?\n",
        "\n",
        "\n",
        "###8. Матрицы и линейная алгебра\n",
        "\n",
        "1. Как создать нулевую матрицу размером $3 \\times 3$ в SymPy?\n",
        "\n",
        "2. Как создать единичную матрицу размером $4 \\times 4$ в SymPy?\n",
        "\n",
        "3. Как вычислить след матрицы $A = \\begin{pmatrix} 2 & 3 \\\\ 1 & 4 \\end{pmatrix}$?\n",
        "\n",
        "4. Как можно проверить, является ли матрица $B = \\begin{pmatrix} 1 & 2 \\\\ 2 & 4 \\end{pmatrix}$ вырожденной?\n",
        "\n",
        "5. Как найти ранг матрицы $C = \\begin{pmatrix} 1 & 2 & 3 \\\\ 4 & 5 & 6 \\\\ 7 & 8 & 9 \\end{pmatrix}$?\n",
        "\n",
        "6. Как найти определитель матрицы $D = \\begin{pmatrix} 3 & 2 & 1 \\\\ 1 & 0 & 2 \\\\ 2 & 1 & 3 \\end{pmatrix}$?\n",
        "\n",
        "7. Как создать матрицу $E$ и найти её собственные значения, если $E = \\begin{pmatrix} 0 & 1 \\\\ 0 & 0 \\end{pmatrix}$?\n",
        "\n",
        "8. Как найти обратную матрицу для матрицы $F = \\begin{pmatrix} 1 & 1 \\\\ 1 & 2 \\end{pmatrix}$?\n",
        "\n",
        "9. Как создать матрицу $G$ и найти её собственные векторы, если $G = \\begin{pmatrix} 4 & 1 \\\\ 2 & 3 \\end{pmatrix}$?\n",
        "\n",
        "10. Как выполнить транспонирование матрицы $H = \\begin{pmatrix} 1 & 0 \\\\ 0 & 1 \\\\ 1 & 1 \\end{pmatrix}$?\n",
        "\n",
        "11. Как вычислить произведение матриц $I = \\begin{pmatrix} 1 & 2 \\\\ 3 & 4 \\end{pmatrix}$ и $J = \\begin{pmatrix} 5 & 6 \\\\ 7 & 8 \\end{pmatrix}$?\n",
        "\n",
        "12. Как определить, является ли матрица $K = \\begin{pmatrix} 1 & 2 & 3 \\\\ 4 & 5 & 6 \\\\ 7 & 8 & 0 \\end{pmatrix}$ обратимой?\n",
        "\n",
        "13. Как найти ранг матрицы $L = \\begin{pmatrix} 1 & 2 \\\\ 2 & 4 \\\\ 3 & 6 \\end{pmatrix}$?\n",
        "\n",
        "14. Как создать матрицу $M$ размером $2 \\times 3$ и выполнить её умножение на вектор $\\begin{pmatrix} 1 \\\\ 2 \\\\ 3 \\end{pmatrix}$?\n",
        "\n",
        "15. Как вычислить определитель матрицы $N = \\begin{pmatrix} 1 & 2 & 1 \\\\ 0 & 1 & 2 \\\\ 2 & 0 & 1 \\end{pmatrix}$?\n",
        "\n",
        "16. Как найти собственные значения матрицы $O = \\begin{pmatrix} 1 & 0 \\\\ 0 & 1 \\\\ 0 & 0 \\end{pmatrix}$?\n",
        "\n",
        "17. Как создать матрицу $P = \\begin{pmatrix} 2 & -1 \\\\ 1 & 3 \\end{pmatrix}$ и найти её обратную?\n",
        "\n",
        "18. Как вычислить след матрицы $Q = \\begin{pmatrix} 1 & 2 \\\\ 3 & 4 \\\\ 5 & 6 \\end{pmatrix}$?\n",
        "\n",
        "19. Как найти собственные векторы матрицы $R = \\begin{pmatrix} 5 & 4 \\\\ 2 & 3 \\end{pmatrix}$?\n",
        "\n",
        "20. Как создать матрицу $S$ размером $3 \\times 3$ и вычислить её определитель, если $S = \\begin{pmatrix} 2 & 3 & 1 \\\\ 1 & 0 & 4 \\\\ 3 & 5 & 2 \\end{pmatrix}$?\n",
        "\n"
      ],
      "metadata": {
        "id": "uR85nK8CCfgo"
      }
    },
    {
      "cell_type": "markdown",
      "source": [
        "\n",
        "##Задачи для самостоятельной работы\n",
        "###1. Символьные переменные\n",
        "1. Создайте символьные переменные для $a$, $b$ и $c$ с помощью функции `symbols()`.\n",
        "2. Напишите код для создания двух символьных переменных $x$ и $y$ и выполните их сложение.\n",
        "3. Создайте выражение для $3x + 4y - 5$ и выведите его.\n",
        "4. Как можно создать символьные переменные $p$, $q$, $r$ в одной строке? Приведите пример.\n",
        "5. Напишите код для умножения двух символьных переменных $x$ и $y$ и сохраните результат в переменной `product`.\n",
        "6. Создайте выражение для $(x + 2)^2$ и упростите его.\n",
        "7. Как можно вычесть $2y$ из $3x$? Запишите соответствующий код.\n",
        "8. Напишите выражение для деления $x^2$ на $y$ и выведите его.\n",
        "9. Как возвести в степень $x$ и $y$ с помощью SymPy? Приведите пример.\n",
        "10. Создайте выражение для $x^2 + y^2$ и найдите его производную по $x$.\n",
        "11. Найдите производную от выражения $2x^3 + 3x^2 + x$ по $x$.\n",
        "12. Как можно найти второй производной от $x^4 + 2x^2$ по $x$?\n",
        "13. Напишите код для нахождения интеграла от функции $x^2$ по переменной $x$.\n",
        "14. Как можно вычислить определенный интеграл от $x^2$ на интервале от 1 до 3?\n",
        "15. Создайте выражение для $\\sin(x) + \\cos(y)$ и упростите его.\n",
        "16. Напишите код для разложения выражения $(x + y)^3$ на множители.\n",
        "17. Как можно решить уравнение $x^2 - 5x + 6 = 0$ с помощью SymPy?\n",
        "18. Найдите корни полинома $x^3 - 2x^2 + 4x - 8$.\n",
        "19. Создайте систему уравнений и решите её:\n",
        "$$\n",
        "    \\begin{cases}\n",
        "    x + y = 10 \\\\\n",
        "    2x - y = 3\n",
        "    \\end{cases}\n",
        "$$\n",
        "20. Как можно проверить, является ли выражение $x^2 + 1$ всегда положительным?\n",
        "21. Напишите код для нахождения предела функции $f(x) = \\frac{1}{x}$ при $x \\to 0$.\n",
        "22. Как создать символьное выражение для матрицы $A = \\begin{pmatrix} x & y \\\\ z & w \\end{pmatrix}$?\n",
        "23. Выполните матричное умножение двух матриц $A$ и $B$ в SymPy.\n",
        "24. Создайте функцию $f(x) = x^2 + 3x + 2$ и найдите её значение при $x = 1$.\n",
        "25. Найдите максимум функции $f(x) = -x^2 + 4x$ на интервале $[0, 4]$.\n",
        "26. Как можно построить график функции $f(x) = x^2$ с использованием SymPy?\n",
        "27. Напишите код для нахождения площади под кривой $y = x^2$ на интервале $[0, 1]$.\n",
        "28. Как можно использовать SymPy для работы с комплексными числами? Приведите пример.\n",
        "29. Создайте выражение, представляющее уравнение окружности с центром в $(h, k)$ и радиусом $r$.\n",
        "30. Напишите код для нахождения значения выражения $x^2 + 2xy + y^2$ при $x = 1$ и $y = 2$.\n",
        "\n",
        "\n",
        "\n",
        "###2. Упрощение выражений\n",
        "\n",
        "1. Упростите выражение:  \n",
        "   $$\\frac{x^2 - 1}{x - 1}$$\n",
        "\n",
        "2. Упростите выражение:  \n",
        "   $$\\frac{2x^2 + 4x}{2x}$$\n",
        "\n",
        "3. Упростите выражение:  \n",
        "   $$\\frac{x^2 + 3x + 2}{x + 1}$$\n",
        "\n",
        "4. Упрощение тригонометрического выражения:  \n",
        "   $$\\tan(x) \\cdot \\cos(x)$$\n",
        "\n",
        "5. Упрощение тригонометрического выражения:  \n",
        "   $$\\sin(x) + \\sin(x)$$\n",
        "\n",
        "6. Упрощение логарифмического выражения:  \n",
        "   $$\\log(x^2) + \\log(x)$$\n",
        "\n",
        "7. Упрощение логарифмического выражения:  \n",
        "   $$\\log(a) - \\log(b)$$\n",
        "\n",
        "8. Упростите выражение:  \n",
        "   $$(x + 1)^2 - (x^2 + 2x + 1)$$\n",
        "\n",
        "9. Раскройте скобки:  \n",
        "   $$(2x + 3)(x - 1)$$\n",
        "\n",
        "10. Факторизуйте выражение:  \n",
        "    $$x^2 - 9$$\n",
        "\n",
        "11. Раскройте скобки:  \n",
        "    $$(x - 2)(x + 2)$$\n",
        "\n",
        "12. Упростите выражение:  \n",
        "    $$x^3 - 3x^2 + 3x - 1$$\n",
        "\n",
        "13. Упростите выражение:  \n",
        "    $$x^2 + 4xy + 4y^2$$\n",
        "\n",
        "14. Приведите подобные члены:  \n",
        "    $$3x + 4 + 2x + 5$$\n",
        "\n",
        "15. Приведите подобные члены:  \n",
        "    $$x^2 + 2x + 3x^2 + 4$$\n",
        "\n",
        "16. Приведите подобные члены:  \n",
        "    $$5y + 6 - 2y + 3$$\n",
        "\n",
        "17. Упростите тригонометрическое выражение:  \n",
        "    $$\\sin^2(x) + 2\\sin^2(x)$$\n",
        "\n",
        "18. Упростите тригонометрическое выражение:  \n",
        "    $$\\cos^2(x) + \\sin^2(x)$$\n",
        "\n",
        "19. Упростите логарифмическое выражение:  \n",
        "    $$\\log(a^3) + \\log(b^2)$$\n",
        "\n",
        "20. Упростите логарифмическое выражение:  \n",
        "    $$\\log(\\frac{a}{b}) + \\log(b)$$\n",
        "\n",
        "21. Упростите выражение:  \n",
        "    $$\\frac{x^2 - 4x + 4}{x - 2}$$\n",
        "\n",
        "22. Упростите выражение:  \n",
        "    $$\\frac{(x + 1)(x - 1)}{x^2 - 1}$$\n",
        "\n",
        "23. Упростите выражение:  \n",
        "    $$\\frac{x^2 - 1}{x^2 + 2x + 1}$$\n",
        "\n",
        "24. Упростите выражение:  \n",
        "    $$\\frac{2x^2 + 6x}{2x + 6}$$\n",
        "\n",
        "25. Упростите выражение:  \n",
        "    $$\\frac{3x^2 + 9x}{3x}$$\n",
        "\n",
        "26. Упростите выражение:  \n",
        "    $$\\frac{x^2 + 2x + 1 - (x^2 - 1)}{x + 1}$$\n",
        "\n",
        "27. Упростите выражение:  \n",
        "    $$\\sin(x) \\cdot \\sin(x) + \\cos^2(x)$$\n",
        "\n",
        "28. Упростите выражение:  \n",
        "    $$\\log(a^2) + 2\\log(b) - \\log(ab)$$\n",
        "\n",
        "29. Упростите выражение:  \n",
        "    $$\\frac{(x + 2)^2 - (x^2 + 4)}{x + 2}$$\n",
        "\n",
        "30. Упростите выражение:  \n",
        "    $$\\frac{x^3 - 1}{x - 1}$$\n",
        "\n",
        "### 3.Решение уравнений\n",
        "\n",
        "1. Решите уравнение: $3x - 5 = 10$\n",
        "\n",
        "2. Решите уравнение: $4x + 8 = 0$\n",
        "\n",
        "3. Решите уравнение: $-2x + 7 = 1$\n",
        "\n",
        "4. Решите уравнение: $\\frac{x}{3} + 2 = 5$\n",
        "\n",
        "5. Решите уравнение: $7 - 2x = 3$\n",
        "\n",
        "6. Решите уравнение: $x^2 + 6x + 9 = 0$\n",
        "\n",
        "7. Решите уравнение: $2x^2 - 8x + 6 = 0$\n",
        "\n",
        "8. Решите уравнение: $x^2 - 5x + 6 = 0$\n",
        "\n",
        "9. Решите уравнение: $x^2 + 4x + 4 = 0$\n",
        "\n",
        "10. Решите уравнение: $3x^2 + 12x + 9 = 0$\n",
        "\n",
        "11. Решите систему уравнений:\n",
        "    $\\begin{cases}\n",
        "    x + y = 10 \\\\\n",
        "    2x - y = 3\n",
        "    \\end{cases}$\n",
        "\n",
        "12. Решите систему уравнений:\n",
        "    $\\begin{cases}\n",
        "    3x + 2y = 12 \\\\\n",
        "    x - y = 1\n",
        "    \\end{cases}$\n",
        "\n",
        "13. Решите систему уравнений:\n",
        "    $\\begin{cases}\n",
        "    x + 2y = 5 \\\\\n",
        "    3x - y = 4\n",
        "    \\end{cases}$\n",
        "\n",
        "14. Решите систему уравнений:\n",
        "    $\\begin{cases}\n",
        "    2x + 3y = 6 \\\\\n",
        "    4x - y = 5\n",
        "    \\end{cases}$\n",
        "\n",
        "15. Решите систему уравнений:\n",
        "    $\\begin{cases}\n",
        "    x - y = 2 \\\\\n",
        "    2x + 3y = 12\n",
        "    \\end{cases}$\n",
        "\n",
        "16. Решите уравнение: $x^3 - 4x^2 + 5x - 2 = 0$\n",
        "\n",
        "17. Решите уравнение: $x^4 - 5x^2 + 4 = 0$\n",
        "\n",
        "18. Решите уравнение: $\\sqrt{x} + x - 6 = 0$\n",
        "\n",
        "19. Решите уравнение: $x^2 + \\sin(x) - 1 = 0$\n",
        "\n",
        "20. Решите уравнение: $e^x - 3 = 0$\n",
        "\n",
        "21. Решите уравнение: $x^2 + px + q = 0$\n",
        "\n",
        "22. Решите уравнение: $x^2 - kx + 1 = 0$\n",
        "\n",
        "23. Решите уравнение: $x^2 + ax + b = 0$\n",
        "\n",
        "24. Решите уравнение: $x^2 + mx + n = 0$\n",
        "\n",
        "25. Решите уравнение: $x^2 - cx + d = 0$\n",
        "\n",
        "26. Решите уравнение: $\\cos(x) = 0$\n",
        "\n",
        "27. Решите уравнение: $\\sin(2x) = 1$\n",
        "\n",
        "28. Решите уравнение: $\\tan(x) = 1$\n",
        "\n",
        "29. Решите уравнение: $\\sin(x) + \\sin(2x) = 0$\n",
        "\n",
        "30. Решите уравнение: $\\cos(x) - \\frac{1}{2} = 0$\n",
        "\n",
        "###4.  Дифференцирование\n",
        "\n",
        "1. Найдите производную функции: $f(x) = 2x^3 + 5x^2 - 3x + 1$\n",
        "\n",
        "2. Найдите производную функции: $f(x) = 4x - 7$\n",
        "\n",
        "3. Найдите производную функции: $f(x) = x^5 + 2x^3 + x$\n",
        "\n",
        "4. Найдите производную функции: $f(x) = 7 - 3x^2 + x^4$\n",
        "\n",
        "5. Найдите производную функции: $f(x) = \\sqrt{x} + x^2$\n",
        "\n",
        "6. Найдите производную функции: $g(x) = \\sin(x) + \\cos(x)$\n",
        "\n",
        "7. Найдите производную функции: $g(x) = \\tan(x) - \\sec(x)$\n",
        "\n",
        "8. Найдите производную функции: $g(x) = \\sin^2(x)$\n",
        "\n",
        "9. Найдите производную функции: $g(x) = \\cos^2(x)$\n",
        "\n",
        "10. Найдите производную функции: $g(x) = \\sin(x) \\cdot \\cos(x)$\n",
        "\n",
        "11. Найдите производную функции: $h(x) = \\sin(x^3)$\n",
        "\n",
        "12. Найдите производную функции: $h(x) = e^{2x} + \\ln(x)$\n",
        "\n",
        "13. Найдите производную функции: $h(x) = \\sqrt{x^2 + 1}$\n",
        "\n",
        "14. Найдите производную функции: $h(x) = \\ln(x^2 + 1)$\n",
        "\n",
        "15. Найдите производную функции: $h(x) = \\tan(x^2)$\n",
        "\n",
        "16. Найдите производную функции: $k(x) = \\log(x^2 + 1)$\n",
        "\n",
        "17. Найдите производную функции: $k(x) = \\ln(3x + 1)$\n",
        "\n",
        "18. Найдите производную функции: $k(x) = \\log_2(x)$\n",
        "\n",
        "19. Найдите производную функции: $k(x) = \\ln(x^3) + \\ln(x)$\n",
        "\n",
        "20. Найдите производную функции: $k(x) = \\log(x) \\cdot \\sin(x)$\n",
        "\n",
        "21. Найдите производную функции: $m(x) = 5x^6 - 3x^4 + x^2$\n",
        "\n",
        "22. Найдите производную функции: $m(x) = 2x^5 + 4x^3 - 7x$\n",
        "\n",
        "23. Найдите производную функции: $m(x) = 10x^2 + 3x + 1$\n",
        "\n",
        "24. Найдите производную функции: $m(x) = x^7 - 2x^5 + 4x^3 - 1$\n",
        "\n",
        "25. Найдите производную функции: $m(x) = 6x^4 + 3x^2 - 8$\n",
        "\n",
        "26. Найдите производную векторной функции: $\\mathbf{v}(t) = \\begin{pmatrix} t^3 \\\\ \\cos(t) \\end{pmatrix}$\n",
        "\n",
        "27. Найдите производную векторной функции: $\\mathbf{v}(t) = \\begin{pmatrix} e^t \\\\ \\sin(t) \\end{pmatrix}$\n",
        "\n",
        "28. Найдите производную векторной функции: $\\mathbf{v}(t) = \\begin{pmatrix} t^2 + 1 \\\\ \\tan(t) \\end{pmatrix}$\n",
        "\n",
        "29. Найдите производную векторной функции: $\\mathbf{v}(t) = \\begin{pmatrix} \\ln(t) \\\\ t^4 \\end{pmatrix}$\n",
        "\n",
        "30. Найдите производную векторной функции: $\\mathbf{v}(t) = \\begin{pmatrix} \\sin(t) \\\\ e^{-t} \\end{pmatrix}$\n",
        "\n",
        "\n",
        "\n",
        "###5.Интегрирование\n",
        "\n",
        "\n",
        "#### Неопределённые интегралы\n",
        "\n",
        "1. Найдите неопределённый интеграл функции:  \n",
        "   $f(x) = 6x^5 - 4x^3 + 7$\n",
        "\n",
        "2. Найдите неопределённый интеграл функции:  \n",
        "   $g(x) = 5\\sin(x) - 3\\cos(x)$\n",
        "\n",
        "3. Найдите неопределённый интеграл функции:  \n",
        "   $h(x) = 2e^{4x} + 3x^2$\n",
        "\n",
        "4. Найдите неопределённый интеграл функции:  \n",
        "   $k(x) = \\frac{1}{x^4} + x$\n",
        "\n",
        "5. Найдите неопределённый интеграл функции:  \n",
        "   $m(x) = \\cot(x) + \\csc(x)$\n",
        "\n",
        "6. Найдите неопределённый интеграл функции:  \n",
        "   $n(x) = 7x^3 + 2x^2 - 5$\n",
        "\n",
        "7. Найдите неопределённый интеграл функции:  \n",
        "   $p(x) = \\frac{1}{x^2 + 9}$\n",
        "\n",
        "8. Найдите неопределённый интеграл функции:  \n",
        "   $q(x) = \\ln(x^2 + 1)$\n",
        "\n",
        "9. Найдите неопределённый интеграл функции:  \n",
        "   $r(x) = 4\\sqrt{x} + 3$\n",
        "\n",
        "10. Найдите неопределённый интеграл функции:  \n",
        "    $s(x) = e^{2x} + 5$\n",
        "\n",
        "11. Найдите неопределённый интеграл функции:  \n",
        "    $t(x) = x^2 \\cdot \\sin(x)$\n",
        "\n",
        "12. Найдите неопределённый интеграл функции:  \n",
        "    $u(x) = \\frac{1}{x + 2}$\n",
        "\n",
        "13. Найдите неопределённый интеграл функции:  \n",
        "    $v(x) = 3x^4 - 6x^2 + 1$\n",
        "\n",
        "14. Найдите неопределённый интеграл функции:  \n",
        "    $w(x) = \\tan(x^2)$\n",
        "\n",
        "15. Найдите неопределённый интеграл функции:  \n",
        "    $y(x) = \\sqrt{1 - x^2}$\n",
        "\n",
        "16. Найдите неопределённый интеграл функции:  \n",
        "    $z(x) = e^{-x} + x^3$\n",
        "\n",
        "17. Найдите неопределённый интеграл функции:  \n",
        "    $a(x) = 4\\sin(2x)$\n",
        "\n",
        "18. Найдите неопределённый интеграл функции:  \n",
        "    $b(x) = \\sec^2(x)$\n",
        "\n",
        "19. Найдите неопределённый интеграл функции:  \n",
        "    $c(x) = x^3 \\cdot e^{x}$\n",
        "\n",
        "20. Найдите неопределённый интеграл функции:  \n",
        "    $d(x) = \\frac{1}{x^3 - 1}$\n",
        "\n",
        "21. Найдите неопределённый интеграл функции:  \n",
        "    $e(x) = \\sqrt{x^3 + 1}$\n",
        "\n",
        "22. Найдите неопределённый интеграл функции:  \n",
        "    $f(x) = \\frac{x^2 + 1}{x}$\n",
        "\n",
        "23. Найдите неопределённый интеграл функции:  \n",
        "    $g(x) = \\ln(x^2 + x)$\n",
        "\n",
        "24. Найдите неопределённый интеграл функции:  \n",
        "    $h(x) = \\sin^2(x)$\n",
        "\n",
        "25. Найдите неопределённый интеграл функции:  \n",
        "    $k(x) = \\cos^3(x)$\n",
        "\n",
        "26. Найдите неопределённый интеграл функции:  \n",
        "    $m(x) = \\frac{1}{\\sqrt{x}}$\n",
        "\n",
        "27. Найдите неопределённый интеграл функции:  \n",
        "    $n(x) = x^{1/3} + 2$\n",
        "\n",
        "28. Найдите неопределённый интеграл функции:  \n",
        "    $p(x) = e^{x^2}$\n",
        "\n",
        "29. Найдите неопределённый интеграл функции:  \n",
        "    $q(x) = \\frac{1}{x^2 + 1}$\n",
        "\n",
        "30. Найдите неопределённый интеграл функции:  \n",
        "    $r(x) = \\sqrt{x^4 + 1}$\n",
        "\n",
        "#### Определённые интегралы\n",
        "\n",
        "1. Вычислите определённый интеграл функции:  \n",
        "   $f(x) = 2x^2$ на отрезке от 0 до 2.\n",
        "\n",
        "2. Вычислите определённый интеграл функции:  \n",
        "   $g(x) = \\sin(x)$ на отрезке от 0 до $\\pi$.\n",
        "\n",
        "3. Вычислите определённый интеграл функции:  \n",
        "   $h(x) = e^{x}$ на отрезке от 0 до 1.\n",
        "\n",
        "4. Вычислите определённый интеграл функции:  \n",
        "   $k(x) = \\frac{1}{x}$ на отрезке от 1 до 2.\n",
        "\n",
        "5. Вычислите определённый интеграл функции:  \n",
        "   $m(x) = x^3 + 2x$ на отрезке от 0 до 1.\n",
        "\n",
        "6. Вычислите определённый интеграл функции:  \n",
        "   $n(x) = \\cos(x)$ на отрезке от 0 до $\\frac{\\pi}{2}$.\n",
        "\n",
        "7. Вычислите определённый интеграл функции:  \n",
        "   $p(x) = 3x^2 - 4$ на отрезке от 1 до 3.\n",
        "\n",
        "8. Вычислите определённый интеграл функции:  \n",
        "   $q(x) = \\tan(x)$ на отрезке от 0 до $\\frac{\\pi}{4}$.\n",
        "\n",
        "9. Вычислите определённый интеграл функции:  \n",
        "   $r(x) = x^2 + 1$ на отрезке от -1 до 1.\n",
        "\n",
        "10. Вычислите определённый интеграл функции:  \n",
        "    $s(x) = \\sqrt{x}$ на отрезке от 0 до 4.\n",
        "\n",
        "11. Вычислите определённый интеграл функции:  \n",
        "    $t(x) = e^{-x}$ на отрезке от 0 до 1.\n",
        "\n",
        "12. Вычислите определённый интеграл функции:  \n",
        "    $u(x) = \\ln(x+1)$ на отрезке от 0 до 1.\n",
        "\n",
        "13. Вычислите определённый интеграл функции:  \n",
        "    $v(x) = 4x - 1$ на отрезке от 0 до 1.\n",
        "\n",
        "14. Вычислите определённый интеграл функции:  \n",
        "    $w(x) = \\sin^2(x)$ на отрезке от 0 до $\\pi$.\n",
        "\n",
        "15. Вычислите определённый интеграл функции:  \n",
        "    $y(x) = x^3 - 3x + 2$ на отрезке от 0 до 2.\n",
        "\n",
        "16. Вычислите определённый интеграл функции:  \n",
        "    $z(x) = \\frac{1}{x^2 + 1}$ на отрезке от 0 до 1.\n",
        "\n",
        "17. Вычислите определённый интеграл функции:  \n",
        "    $a(x) = 2\\sqrt{x}$ на отрезке от 1 до 4.\n",
        "\n",
        "18. Вычислите определённый интеграл функции:  \n",
        "    $b(x) = e^{2x}$ на отрезке от 0 до 1.\n",
        "\n",
        "19. Вычислите определённый интеграл функции:  \n",
        "    $c(x) = x^2 \\cdot \\sin(x)$ на отрезке от 0 до $\\pi$.\n",
        "\n",
        "20. Вычислите определённый интеграл функции:  \n",
        "    $d(x) = \\frac{1}{\\sqrt{x}}$ на отрезке от 1 до 4.\n",
        "\n",
        "21. Вычислите определённый интеграл функции:  \n",
        "    $e(x) = \\cos^2(x)$ на отрезке от 0 до $\\frac{\\pi}{2}$.\n",
        "\n",
        "22. Вычислите определённый интеграл функции:  \n",
        "    $f(x) = x^4 - 2x^2 + 1$ на отрезке от -1 до 1.\n",
        "\n",
        "23. Вычислите определённый интеграл функции:  \n",
        "    $g(x) = \\sqrt{x^2 + 1}$ на отрезке от 0 до 1.\n",
        "\n",
        "24. Вычислите определённый интеграл функции:  \n",
        "    $h(x) = \\frac{1}{x^3}$ на отрезке от 1 до 2.\n",
        "\n",
        "25. Вычислите определённый интеграл функции:  \n",
        "    $k(x) = 3x^3 + 2x$ на отрезке от 0 до 1.\n",
        "\n",
        "26. Вычислите определённый интеграл функции:  \n",
        "    $m(x) = \\sin(x^2)$ на отрезке от 0 до 1.\n",
        "\n",
        "27. Вычислите определённый интеграл функции:  \n",
        "    $n(x) = e^{-x^2}$ на отрезке от 0 до 1.\n",
        "\n",
        "28. Вычислите определённый интеграл функции:  \n",
        "    $p(x) = \\frac{1}{x^2 + 4}$ на отрезке от 0 до 2.\n",
        "\n",
        "29. Вычислите определённый интеграл функции:  \n",
        "    $q(x) = x^2 \\cdot e^{x}$ на отрезке от 0 до 1.\n",
        "\n",
        "30. Вычислите определённый интеграл функции:  \n",
        "    $r(x) = \\cos(x) + \\sin(x)$ на отрезке от 0 до $\\frac{\\pi}{2}$.\n",
        "\n",
        "\n",
        "\n",
        "#### Двойные интегралы\n",
        "\n",
        "1. Вычислите двойной интеграл функции:  \n",
        "   $f(x, y) = x + y$ по области $0 \\leq x \\leq 1$, $0 \\leq y \\leq 1$.\n",
        "\n",
        "2. Вычислите двойной интеграл функции:  \n",
        "   $g(x, y) = xy$ по области $0 \\leq x \\leq 2$, $0 \\leq y \\leq 1$.\n",
        "\n",
        "3. Вычислите двойной интеграл функции:  \n",
        "   $h(x, y) = x^2 + y^2$ по области $0 \\leq x \\leq 1$, $0 \\leq y \\leq 1$.\n",
        "\n",
        "4. Вычислите двойной интеграл функции:  \n",
        "   $k(x, y) = e^{x+y}$ по области $0 \\leq x \\leq 1$, $0 \\leq y \\leq 1$.\n",
        "\n",
        "5. Вычислите двойной интеграл функции:  \n",
        "   $m(x, y) = \\sin(x) \\cdot \\cos(y)$ по области $0 \\leq x \\leq \\frac{\\pi}{2}$, $0 \\leq y \\leq \\frac{\\pi}{2}$.\n",
        "\n",
        "6. Вычислите двойной интеграл функции:  \n",
        "   $n(x, y) = 1$ по области $0 \\leq x \\leq 1$, $0 \\leq y \\leq 2$.\n",
        "\n",
        "7. Вычислите двойной интеграл функции:  \n",
        "   $p(x, y) = x^3 + y^3$ по области $0 \\leq x \\leq 1$, $0 \\leq y \\leq 1$.\n",
        "\n",
        "8. Вычислите двойной интеграл функции:  \n",
        "   $q(x, y) = \\sqrt{x^2 + y^2}$ по области $0 \\leq x \\leq 1$, $0 \\leq y \\leq 1$.\n",
        "\n",
        "9. Вычислите двойной интеграл функции:  \n",
        "   $r(x, y) = x^2y$ по области $0 \\leq x \\leq 1$, $0 \\leq y \\leq 1$.\n",
        "\n",
        "10. Вычислите двойной интеграл функции:  \n",
        "    $s(x, y) = e^{xy}$ по области $0 \\leq x \\leq 1$, $0 \\leq y \\leq 1$.\n",
        "\n",
        "11. Вычислите двойной интеграл функции:  \n",
        "    $t(x, y) = \\cos(x) \\cdot \\sin(y)$ по области $0 \\leq x \\leq \\frac{\\pi}{2}$, $0 \\leq y \\leq \\frac{\\pi}{2}$.\n",
        "\n",
        "12. Вычислите двойной интеграл функции:  \n",
        "    $u(x, y) = x + 2y$ по области $0 \\leq x \\leq 1$, $0 \\leq y \\leq 1$.\n",
        "\n",
        "13. Вычислите двойной интеграл функции:  \n",
        "    $v(x, y) = x^2 - y^2$ по области $-1 \\leq x \\leq 1$, $-1 \\leq y \\leq 1$.\n",
        "\n",
        "14. Вычислите двойной интеграл функции:  \n",
        "    $w(x, y) = \\frac{1}{x^2 + y^2 + 1}$ по области $0 \\leq x \\leq 1$, $0 \\leq y \\leq 1$.\n",
        "\n",
        "15. Вычислите двойной интеграл функции:  \n",
        "    $y(x, y) = \\ln(x + y + 1)$ по области $0 \\leq x \\leq 1$, $0 \\leq y \\leq 1$.\n",
        "\n",
        "16. Вычислите двойной интеграл функции:  \n",
        "    $z(x, y) = \\sqrt{x^2 + y^2}$ по области $0 \\leq x \\leq 2$, $0 \\leq y \\leq 2$.\n",
        "\n",
        "17. Вычислите двойной интеграл функции:  \n",
        "    $a(x, y) = x^2y^2$ по области $0 \\leq x \\leq 1$, $0 \\leq y \\leq 1$.\n",
        "\n",
        "18. Вычислите двойной интеграл функции:  \n",
        "    $b(x, y) = e^{x-y}$ по области $0 \\leq x \\leq 1$, $0 \\leq y \\leq 1$.\n",
        "\n",
        "19. Вычислите двойной интеграл функции:  \n",
        "    $c(x, y) = \\tan(x+y)$ по области $0 \\leq x \\leq \\frac{\\pi}{4}$, $0 \\leq y \\leq \\frac{\\pi}{4}$.\n",
        "\n",
        "20. Вычислите двойной интеграл функции:  \n",
        "    $d(x, y) = x^2 + y^2$ по области $0 \\leq x \\leq 1$, $0 \\leq y \\leq 2$.\n",
        "\n",
        "21. Вычислите двойной интеграл функции:  \n",
        "    $e(x, y) = xy^2$ по области $0 \\leq x \\leq 1$, $0 \\leq y \\leq 1$.\n",
        "\n",
        "22. Вычислите двойной интеграл функции:  \n",
        "    $f(x, y) = \\frac{1}{x + y + 1}$ по области $0 \\leq x \\leq 1$, $0 \\leq y \\leq 1$.\n",
        "\n",
        "23. Вычислите двойной интеграл функции:  \n",
        "    $g(x, y) = x^2 \\cdot y^2$ по области $0 \\leq x \\leq 1$, $0 \\leq y \\leq 1$.\n",
        "\n",
        "24. Вычислите двойной интеграл функции:  \n",
        "    $h(x, y) = \\sin(xy)$ по области $0 \\leq x \\leq 1$, $0 \\leq y \\leq 1$.\n",
        "\n",
        "25. Вычислите двойной интеграл функции:  \n",
        "    $k(x, y) = \\frac{1}{x^2 + y^2 + 1}$ по области $0 \\leq x \\leq 1$, $0 \\leq y \\leq 1$.\n",
        "\n",
        "26. Вычислите двойной интеграл функции:  \n",
        "    $m(x, y) = e^{x-y}$ по области $0 \\leq x \\leq 2$, $0 \\leq y \\leq 1$.\n",
        "\n",
        "27. Вычислите двойной интеграл функции:  \n",
        "    $n(x, y) = \\cos(x) \\cdot \\sin(y)$ по области $0 \\leq x \\leq \\frac{\\pi}{2}$, $0 \\leq y \\leq \\frac{\\pi}{2}$.\n",
        "\n",
        "28. Вычислите двойной интеграл функции:  \n",
        "    $p(x, y) = x^2 + 2y$ по области $0 \\leq x \\leq 1$, $0 \\leq y \\leq 1$.\n",
        "\n",
        "29. Вычислите двойной интеграл функции:  \n",
        "    $q(x, y) = y^2 - x^2$ по области $-1 \\leq x \\leq 1$, $-1 \\leq y \\leq 1$.\n",
        "\n",
        "30. Вычислите двойной интеграл функции:  \n",
        "    $r(x, y) = \\sin(x) \\cdot \\cos(y)$ по области $0 \\leq x \\leq \\pi$, $0 \\leq y \\leq \\frac{\\pi}{2}$.\n",
        "\n",
        "\n",
        "### Численное интегрирование\n",
        "\n",
        "1. Вычислите численный интеграл функции:  \n",
        "   $f(x) = \\sin(x^2)$ на отрезке от 0 до 1.\n",
        "\n",
        "2. Вычислите численный интеграл функции:  \n",
        "   $g(x) = e^{-x^2}$ на отрезке от 0 до 1.\n",
        "\n",
        "3. Вычислите численный интеграл функции:  \n",
        "   $h(x) = \\ln(x+1)$ на отрезке от 0 до 1.\n",
        "\n",
        "4. Вычислите численный интеграл функции:  \n",
        "   $k(x) = \\frac{1}{x^2 + 4}$ на отрезке от 0 до 2.\n",
        "\n",
        "5. Вычислите численный интеграл функции:  \n",
        "   $m(x) = x^3 \\cdot e^{-x}$ на отрезке от 0 до 2.\n",
        "\n",
        "6. Вычислите численный интеграл функции:  \n",
        "   $n(x) = \\sqrt{x} \\cdot \\sin(x)$ на отрезке от 0 до $\\pi$.\n",
        "\n",
        "7. Вычислите численный интеграл функции:  \n",
        "   $p(x) = \\cos(x^2)$ на отрезке от 0 до 1.\n",
        "\n",
        "8. Вычислите численный интеграл функции:  \n",
        "   $q(x) = e^{x} \\cdot \\sin(x)$ на отрезке от 0 до $\\frac{\\pi}{2}$.\n",
        "\n",
        "9. Вычислите численный интеграл функции:  \n",
        "   $r(x) = \\frac{1}{\\sqrt{x}}$ на отрезке от 1 до 4.\n",
        "\n",
        "10. Вычислите численный интеграл функции:  \n",
        "    $s(x) = x^2 \\cdot \\ln(x)$ на отрезке от 1 до 2.\n",
        "\n",
        "11. Вычислите численный интеграл функции:  \n",
        "    $t(x) = e^{-x} \\cdot \\cos(x)$ на отрезке от 0 до 1.\n",
        "\n",
        "12. Вычислите численный интеграл функции:  \n",
        "    $u(x) = \\tan(x)$ на отрезке от 0 до $\\frac{\\pi}{4}$.\n",
        "\n",
        "13. Вычислите численный интеграл функции:  \n",
        "    $v(x) = \\frac{1}{x^2 + 1}$ на отрезке от 0 до 1.\n",
        "\n",
        "14. Вычислите численный интеграл функции:  \n",
        "    $w(x) = \\sin^2(x)$ на отрезке от 0 до $\\pi$.\n",
        "\n",
        "15. Вычислите численный интеграл функции:  \n",
        "    $y(x) = \\frac{1}{e^x}$ на отрезке от 0 до 1.\n",
        "\n",
        "16. Вычислите численный интеграл функции:  \n",
        "    $z(x) = x \\cdot e^{-x}$ на отрезке от 0 до 1.\n",
        "\n",
        "17. Вычислите численный интеграл функции:  \n",
        "    $a(x) = \\sqrt{x^3 + 1}$ на отрезке от 0 до 1.\n",
        "\n",
        "18. Вычислите численный интеграл функции:  \n",
        "    $b(x) = x^2 \\cdot e^{x}$ на отрезке от 0 до 1.\n",
        "\n",
        "19. Вычислите численный интеграл функции:  \n",
        "    $c(x) = \\frac{1}{\\sqrt{1 - x^2}}$ на отрезке от 0 до 1.\n",
        "\n",
        "20. Вычислите численный интеграл функции:  \n",
        "    $d(x) = \\sin(x^2) \\cdot e^{-x}$ на отрезке от 0 до 1.\n",
        "\n",
        "21. Вычислите численный интеграл функции:  \n",
        "    $e(x) = \\ln(x + 2)$ на отрезке от 0 до 1.\n",
        "\n",
        "22. Вычислите численный интеграл функции:  \n",
        "    $f(x) = \\frac{1}{x + 1}$ на отрезке от 0 до 1.\n",
        "\n",
        "23. Вычислите численный интеграл функции:  \n",
        "    $g(x) = x^2 \\cdot \\sin(x)$ на отрезке от 0 до $\\pi$.\n",
        "\n",
        "24. Вычислите численный интеграл функции:  \n",
        "    $h(x) = e^{-x^2} \\cdot x$ на отрезке от 0 до 1.\n",
        "\n",
        "25. Вычислите численный интеграл функции:  \n",
        "    $k(x) = \\sqrt{x} \\cdot \\cos(x)$ на отрезке от 0 до 1.\n",
        "\n",
        "26. Вычислите численный интеграл функции:  \n",
        "    $m(x) = \\frac{1}{x^3 + 1}$ на отрезке от 0 до 1.\n",
        "\n",
        "27. Вычислите численный интеграл функции:  \n",
        "    $n(x) = \\tan(x) \\cdot e^{-x}$ на отрезке от 0 до $\\frac{\\pi}{4}$.\n",
        "\n",
        "28. Вычислите численный интеграл функции:  \n",
        "    $p(x) = \\frac{1}{x^2 + 2}$ на отрезке от 0 до 1.\n",
        "\n",
        "29. Вычислите численный интеграл функции:  \n",
        "    $q(x) = x^3 \\cdot \\sin(x)$ на отрезке от 0 до $\\pi$.\n",
        "\n",
        "30. Вычислите численный интеграл функции:  \n",
        "    $r(x) = e^{-x^2} \\cdot \\sin(x)$ на отрезке от 0 до 1.\n",
        "\n",
        "###6. Пределы\n",
        "\n",
        "\n",
        "1. Найдите предел функции $f(x) = 3x^2 + 5x + 2$ при $x \\to 1$.\n",
        "\n",
        "2. Вычислите предел функции $g(x) = \\frac{2x^3 - 4}{x - 2}$ при $x \\to 2$.\n",
        "\n",
        "3. Найдите предел функции $h(x) = \\frac{1}{x^2}$ при $x \\to \\infty$.\n",
        "\n",
        "4. Вычислите односторонние пределы для функции $k(x) = \\frac{x^2 - 1}{x - 1}$ при $x \\to 1$ слева и справа.\n",
        "\n",
        "5. Найдите предел функции $m(x) = \\sin(x)$ при $x \\to 0$.\n",
        "\n",
        "6. Вычислите предел функции $n(x) = \\frac{\\tan(x)}{x}$ при $x \\to 0$.\n",
        "\n",
        "7. Найдите предел функции $p(x) = \\log(x)$ при $x \\to 0^+$.\n",
        "\n",
        "8. Вычислите предел функции $q(x) = \\frac{e^x - 1}{x}$ при $x \\to 0$.\n",
        "\n",
        "9. Найдите предел функции $r(x) = \\frac{x^2 + 2x + 1}{x^2 - 1}$ при $x \\to 1$.\n",
        "\n",
        "10. Вычислите предел функции $s(x) = \\frac{1 - \\cos(x)}{x^2}$ при $x \\to 0$.\n",
        "\n",
        "11. Найдите предел функции $t(x) = \\frac{x^2 - 4}{x - 2}$ при $x \\to 2$.\n",
        "\n",
        "12. Вычислите предел функции $u(x) = \\frac{\\sqrt{x + 4} - 2}{x}$ при $x \\to 0$.\n",
        "\n",
        "13. Найдите предел функции $v(x) = \\frac{1}{x} + \\frac{1}{x - 1}$ при $x \\to 1$.\n",
        "\n",
        "14. Вычислите предел функции $w(x) = x \\cdot \\sin\\left(\\frac{1}{x}\\right)$ при $x \\to 0$.\n",
        "\n",
        "15. Найдите предел функции $y(x) = \\frac{x^3 - 1}{x - 1}$ при $x \\to 1$.\n",
        "\n",
        "16. Вычислите предел функции $z(x) = \\frac{\\sin(2x)}{x}$ при $x \\to 0$.\n",
        "\n",
        "17. Найдите предел функции $a(x) = \\frac{x^2 + x + 1}{x^2 + 2x + 1}$ при $x \\to \\infty$.\n",
        "\n",
        "18. Вычислите предел функции $b(x) = \\frac{e^{-x}}{x}$ при $x \\to \\infty$.\n",
        "\n",
        "19. Найдите односторонние пределы для функции $c(x) = \\frac{|x|}{x}$ при $x \\to 0$.\n",
        "\n",
        "20. Вычислите предел функции $d(x) = \\frac{x^2 - 3x + 2}{x^2 - 4}$ при $x \\to 2$.\n",
        "\n",
        "21. Найдите предел функции $e(x) = \\frac{1}{x^2 + 1}$ при $x \\to \\infty$.\n",
        "\n",
        "22. Вычислите предел функции $f(x) = \\frac{\\sin(x^2)}{x^2}$ при $x \\to 0$.\n",
        "\n",
        "23. Найдите предел функции $g(x) = x^2 \\cdot e^{-x}$ при $x \\to \\infty$.\n",
        "\n",
        "24. Вычислите предел функции $h(x) = \\frac{x^3 - 3x^2 + 3x - 1}{x - 1}$ при $x \\to 1$.\n",
        "\n",
        "25. Найдите предел функции $k(x) = \\frac{\\tan(x)}{x^3}$ при $x \\to 0$.\n",
        "\n",
        "26. Вычислите предел функции $m(x) = \\log(x^2 + 1)$ при $x \\to \\infty$.\n",
        "\n",
        "27. Найдите предел функции $n(x, y) = \\frac{x^2 + y^2}{x + y}$ при $x, y \\to 0$.\n",
        "\n",
        "28. Вычислите предел функции $p(x) = \\frac{x^4 - 1}{x^2 - 1}$ при $x \\to 1$.\n",
        "\n",
        "29. Найдите предел функции $q(x) = \\frac{1 - e^{-x}}{x}$ при $x \\to 0$.\n",
        "\n",
        "30. Вычислите предел функции $r(x) = \\frac{x^2 \\sin\\left(\\frac{1}{x}\\right)}{x}$ при $x \\to 0$.\n",
        "\n",
        "###7. Ряды\n",
        "\n",
        "1. Найдите разложение функции $f(x) = \\cos(x)$ в ряд Тейлора в окрестности точки $x = 0$ до $x^6$.\n",
        "\n",
        "2. Вычислите разложение функции $f(x) = \\tan(x)$ в ряд Тейлора в окрестности точки $x = 0$ до $x^5$.\n",
        "\n",
        "3. Найдите разложение функции $f(x) = \\ln(1 + x)$ в ряд Тейлора в окрестности точки $x = 0$ до $x^4$.\n",
        "\n",
        "4. Вычислите сумму геометрического ряда $S = \\sum_{n=0}^{\\infty} \\left(\\frac{1}{2}\\right)^n$.\n",
        "\n",
        "5. Найдите разложение функции $f(x) = e^{-x}$ в ряд Тейлора в окрестности точки $x = 0$ до $x^6$.\n",
        "\n",
        "6. Вычислите разложение функции $f(x) = \\sqrt{1 + x}$ в ряд Тейлора в окрестности точки $x = 0$ до $x^4$.\n",
        "\n",
        "7. Найдите разложение функции $f(x) = \\arctan(x)$ в ряд Тейлора в окрестности точки $x = 0$ до $x^5$.\n",
        "\n",
        "8. Вычислите сумму ряда $\\sum_{n=1}^{\\infty} \\frac{1}{n^3}$ с помощью SymPy.\n",
        "\n",
        "9. Найдите разложение функции $f(x) = \\sin(2x)$ в ряд Тейлора в окрестности точки $x = 0$ до $x^6$.\n",
        "\n",
        "10. Вычислите разложение функции $f(x) = \\frac{1}{1 - x}$ в ряд Тейлора в окрестности точки $x = 0$.\n",
        "\n",
        "11. Найдите разложение функции $f(x) = e^{2x}$ в ряд Тейлора в окрестности точки $x = 0$ до $x^6$.\n",
        "\n",
        "12. Вычислите сумму ряда $S = \\sum_{n=0}^{\\infty} \\frac{1}{3^n}$.\n",
        "\n",
        "13. Найдите разложение функции $f(x) = \\cos(3x)$ в ряд Тейлора в окрестности точки $x = 0$ до $x^6$.\n",
        "\n",
        "14. Вычислите разложение функции $f(x) = \\ln(1 - x)$ в ряд Тейлора в окрестности точки $x = 0$.\n",
        "\n",
        "15. Найдите сумму ряда $\\sum_{n=1}^{\\infty} \\frac{(-1)^{n-1}}{n}$.\n",
        "\n",
        "16. Вычислите разложение функции $f(x) = \\sinh(x)$ в ряд Тейлора в окрестности точки $x = 0$ до $x^6$.\n",
        "\n",
        "17. Найдите разложение функции $f(x) = \\cosh(x)$ в ряд Тейлора в окрестности точки $x = 0$ до $x^6$.\n",
        "\n",
        "18. Вычислите разложение функции $f(x) = \\frac{x}{1 + x^2}$ в ряд Тейлора в окрестности точки $x = 0$ до $x^5$.\n",
        "\n",
        "19. Найдите разложение функции $f(x) = \\frac{1}{1 + x}$ в ряд Тейлора в окрестности точки $x = 0$.\n",
        "\n",
        "20. Вычислите разложение функции $f(x) = e^{x^2}$ в ряд Тейлора в окрестности точки $x = 0$ до $x^6$.\n",
        "\n",
        "21. Найдите сумму ряда $S = \\sum_{n=0}^{\\infty} \\frac{(-1)^n}{n!}$.\n",
        "\n",
        "22. Вычислите разложение функции $f(x) = \\ln(1 + x^2)$ в ряд Тейлора в окрестности точки $x = 0$ до $x^4$.\n",
        "\n",
        "23. Найдите разложение функции $f(x) = \\tan^{-1}(x)$ в ряд Тейлора в окрестности точки $x = 0$ до $x^5$.\n",
        "\n",
        "24. Вычислите разложение функции $f(x) = \\frac{1}{1 - x^2}$ в ряд Тейлора в окрестности точки $x = 0$.\n",
        "\n",
        "25. Найдите сумму ряда $S = \\sum_{n=1}^{\\infty} \\frac{1}{n(n+1)}$.\n",
        "\n",
        "26. Вычислите разложение функции $f(x) = \\frac{x^2}{1 + x^2}$ в ряд Тейлора в окрестности точки $x = 0$ до $x^4$.\n",
        "\n",
        "27. Найдите разложение функции $f(x) = \\frac{1}{\\sqrt{1 - x}}$ в ряд Тейлора в окрестности точки $x = 0$.\n",
        "\n",
        "28. Вычислите сумму ряда $S = \\sum_{n=0}^{\\infty} \\frac{1}{2^n}$.\n",
        "\n",
        "29. Найдите разложение функции $f(x) = \\sin(x^2)$ в ряд Тейлора в окрестности точки $x = 0$ до $x^6$.\n",
        "\n",
        "30. Вычислите разложение функции $f(x) = \\frac{x^3}{1 + x}$ в ряд Тейлора в окрестности точки $x = 0$.\n",
        "\n",
        "###8. Матрицы и линейная алгебра\n",
        "\n",
        "\n",
        "\n",
        "1. Создайте матрицу $B$ размером $2\\times2$ с элементами $\\begin{pmatrix} 3 & 4 \\\\ 5 & 6 \\end{pmatrix}$ и выведите её.\n",
        "\n",
        "2. Определите матрицу $C$ размером $3\\times3$ с элементами $\\begin{pmatrix} 1 & 1 & 1 \\\\ 0 & 1 & 0 \\\\ 1 & 0 & 1 \\end{pmatrix}$ и найдите её определитель.\n",
        "\n",
        "3. Создайте матрицы $D$ и $E$ размером $3\\times2$ и $2\\times3$ соответственно, и выполните их умножение.\n",
        "\n",
        "4. Найдите транспонированную матрицу для матрицы $A$, заданной в примере.\n",
        "\n",
        "5. Вычислите сумму матриц $F = \\begin{pmatrix} 1 & 2 \\\\ 3 & 4 \\end{pmatrix}$ и $G = \\begin{pmatrix} 5 & 6 \\\\ 7 & 8 \\end{pmatrix}$.\n",
        "\n",
        "6. Вычислите разность матриц $H = \\begin{pmatrix} 9 & 8 \\\\ 7 & 6 \\end{pmatrix}$ и $I = \\begin{pmatrix} 1 & 2 \\\\ 3 & 4 \\end{pmatrix}$.\n",
        "\n",
        "7. Найдите определитель матрицы $J = \\begin{pmatrix} 2 & 3 \\\\ 1 & 4 \\end{pmatrix}$.\n",
        "\n",
        "8. Создайте матрицу $K$ размером $3\\times3$ и найдите её обратную матрицу, если она существует.\n",
        "\n",
        "9. Найдите собственные значения матрицы $L = \\begin{pmatrix} 1 & 2 \\\\ 2 & 1 \\end{pmatrix}$.\n",
        "\n",
        "10. Найдите собственные векторы матрицы $M = \\begin{pmatrix} 0 & 1 \\\\ -1 & 0 \\end{pmatrix}$.\n",
        "\n",
        "11. Создайте матрицу $N = \\begin{pmatrix} 1 & 2 & 3 \\\\ 4 & 5 & 6 \\\\ 7 & 8 & 9 \\end{pmatrix}$ и найдите её ранг.\n",
        "\n",
        "12. Найдите произведение матриц $O = \\begin{pmatrix} 1 & 2 \\\\ 3 & 4 \\end{pmatrix}$ и $P = \\begin{pmatrix} 5 & 6 \\\\ 7 & 8 \\end{pmatrix}$.\n",
        "\n",
        "13. Вычислите определитель матрицы $Q = \\begin{pmatrix} 2 & -3 & 1 \\\\ 4 & 1 & -2 \\\\ -1 & 2 & 5 \\end{pmatrix}$.\n",
        "\n",
        "14. Найдите обратную матрицу для матрицы $R = \\begin{pmatrix} 3 & 2 \\\\ 1 & 4 \\end{pmatrix}$.\n",
        "\n",
        "15. Создайте матрицу $S = \\begin{pmatrix} 1 & 0 \\\\ 0 & 1 \\end{pmatrix}$ и найдите её собственные значения.\n",
        "\n",
        "16. Найдите собственные значения и собственные векторы матрицы $T = \\begin{pmatrix} 5 & 4 \\\\ 2 & 3 \\end{pmatrix}$.\n",
        "\n",
        "17. Создайте матрицу $U = \\begin{pmatrix} 1 & 2 \\\\ 3 & 4 \\\\ 5 & 6 \\end{pmatrix}$ и найдите её транспонированную матрицу.\n",
        "\n",
        "18. Найдите произведение матриц $V = \\begin{pmatrix} 1 & 1 \\\\ 1 & 1 \\end{pmatrix}$ и $W = \\begin{pmatrix} 2 & 2 \\\\ 2 & 2 \\end{pmatrix}$.\n",
        "\n",
        "19. Вычислите определитель матрицы $X = \\begin{pmatrix} 1 & 2 & 3 \\\\ 0 & 1 & 4 \\\\ 5 & 6 & 0 \\end{pmatrix}$.\n",
        "\n",
        "20. Найдите обратную матрицу для матрицы $Y = \\begin{pmatrix} 4 & 7 \\\\ 2 & 6 \\end{pmatrix}$.\n",
        "\n",
        "21. Создайте матрицу $Z = \\begin{pmatrix} 1 & 2 & 3 \\\\ 4 & 5 & 6 \\end{pmatrix}$ и найдите её ранг.\n",
        "\n",
        "22. Найдите собственные значения матрицы $A = \\begin{pmatrix} 2 & 1 \\\\ 1 & 2 \\end{pmatrix}$.\n",
        "\n",
        "23. Найдите собственные векторы матрицы $B = \\begin{pmatrix} 3 & 1 \\\\ 0 & 2 \\end{pmatrix}$.\n",
        "\n",
        "24. Создайте матрицу $C = \\begin{pmatrix} 1 & 2 \\\\ 3 & 4 \\\\ 5 & 6 \\end{pmatrix}$ и выполните её умножение на вектор $\\begin{pmatrix} 2 \\\\ 3 \\end{pmatrix}$.\n",
        "\n",
        "25. Найдите определитель матрицы $D = \\begin{pmatrix} 1 & 3 & 2 \\\\ 0 & 1 & 4 \\\\ 5 & 2 & 1 \\end{pmatrix}$.\n",
        "\n",
        "26. Вычислите обратную матрицу для матрицы $E = \\begin{pmatrix} 1 & 2 \\\\ 3 & 5 \\end{pmatrix}$.\n",
        "\n",
        "27. Найдите собственные значения матрицы $F = \\begin{pmatrix} 0 & 1 \\\\ -1 & 0 \\end{pmatrix}$.\n",
        "\n",
        "28. Найдите собственные векторы матрицы $G = \\begin{pmatrix} 1 & 0 \\\\ 0 & -1 \\end{pmatrix}$.\n",
        "\n",
        "29. Создайте матрицу $H = \\begin{pmatrix} 1 & 2 \\\\ 3 & 4 \\\\ 5 & 6 \\end{pmatrix}$ и найдите её транспонированную матрицу.\n",
        "\n",
        "30. Найдите произведение матриц $I = \\begin{pmatrix} 1 & 2 \\\\ 3 & 4 \\end{pmatrix}$ и $J = \\begin{pmatrix} 5 & 6 \\\\ 7 & 8 \\end{pmatrix}$.\n",
        "\n",
        "\n"
      ],
      "metadata": {
        "id": "J1S1R1jxCjMl"
      }
    },
    {
      "cell_type": "code",
      "source": [],
      "metadata": {
        "id": "-j3NgubPCo1I"
      },
      "execution_count": null,
      "outputs": []
    }
  ]
}
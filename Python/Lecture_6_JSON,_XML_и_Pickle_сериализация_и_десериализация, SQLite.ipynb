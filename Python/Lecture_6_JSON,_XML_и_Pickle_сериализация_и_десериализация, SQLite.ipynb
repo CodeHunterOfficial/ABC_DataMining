{
  "nbformat": 4,
  "nbformat_minor": 0,
  "metadata": {
    "colab": {
      "provenance": [],
      "authorship_tag": "ABX9TyO15sgo/xXzIWzxRcLsftzU",
      "include_colab_link": true
    },
    "kernelspec": {
      "name": "python3",
      "display_name": "Python 3"
    },
    "language_info": {
      "name": "python"
    }
  },
  "cells": [
    {
      "cell_type": "markdown",
      "metadata": {
        "id": "view-in-github",
        "colab_type": "text"
      },
      "source": [
        "<a href=\"https://colab.research.google.com/github/CodeHunterOfficial/ABC_DataMining/blob/main/Python/Lecture_6_JSON%2C_XML_%D0%B8_Pickle_%D1%81%D0%B5%D1%80%D0%B8%D0%B0%D0%BB%D0%B8%D0%B7%D0%B0%D1%86%D0%B8%D1%8F_%D0%B8_%D0%B4%D0%B5%D1%81%D0%B5%D1%80%D0%B8%D0%B0%D0%BB%D0%B8%D0%B7%D0%B0%D1%86%D0%B8%D1%8F%2C%20SQLite.ipynb\" target=\"_parent\"><img src=\"https://colab.research.google.com/assets/colab-badge.svg\" alt=\"Open In Colab\"/></a>"
      ]
    },
    {
      "cell_type": "markdown",
      "source": [
        "### Что такое JSON?\n",
        "\n",
        "JSON, что является сокращенной аббревиатурой JavaScript Object Notation, — это удобный формат для обмена данными. Он прост для чтения и записи людьми, а также для машинного анализа и генерации. Это делает его одним из самых популярных форматов данных. В частности, JSON стал настоящим веб-языком, который широко используется для передачи данных между серверами и веб-приложениями через API.  \n",
        "\n",
        "Вот пример JSON:"
      ],
      "metadata": {
        "id": "zcLvy5tZY5ne"
      }
    },
    {
      "cell_type": "markdown",
      "source": [
        "\n",
        "\n",
        "```\n",
        "{\n",
        "    \"kwarg1\": \"value_1\",\n",
        "    \"kwarg2\": \"value_2\",\n",
        "    \"kwarg3\": \"value_3\",\n",
        "    \"additional\": [\"value_4\", \"value_5\", \"value_6\", ]\n",
        "}\n",
        "```\n",
        "\n"
      ],
      "metadata": {
        "id": "W0dQ76zrY9J9"
      }
    },
    {
      "cell_type": "markdown",
      "source": [
        "## Сериализация и десериализация\n",
        "В Python есть множество библиотек, чтобы работать с JSON, но мы рассмотрим встроенную библиотеку JSON Python. Она позволяет приводить любые структуры данных к JSON-объекту — вплоть до пользовательских классов. А из него получать совместимую для работы в Python сущность — объект языка."
      ],
      "metadata": {
        "id": "LjQZjkubZPZK"
      }
    },
    {
      "cell_type": "markdown",
      "source": [
        "Упаковка объектов в байтовую последовательность называется сериализацией. А распаковка байтов в объекты языка программирования, приведение последовательности назад к типам и структурам, — десериализацией.\n",
        "Python-р"
      ],
      "metadata": {
        "id": "AyzIrH_oZS8b"
      }
    },
    {
      "cell_type": "markdown",
      "source": [
        "В байты данные необходимо переводить, чтобы отправлять их по сети или локально другому приложению, так как иной формат передать невозможно. Вот так преобразовывают данные из объектов Python в JSON и обратно:"
      ],
      "metadata": {
        "id": "9HQvW7pnZXK0"
      }
    },
    {
      "cell_type": "code",
      "source": [
        "# Импортируем библиотеку\n",
        "import json\n",
        "\n",
        "# Объявляем переменные\n",
        "string = \"Some test string\"\n",
        "integer = 211\n",
        "array = [1, 2, 3, 4, 5]\n",
        "\n",
        "# Создаем словарь\n",
        "mydict = {\"title\": string, \"code\": integer, \"data\": array}\n",
        "\n",
        "# Сериализуем его в JSON-структуру, как строку\n",
        "x = json.dumps(mydict)\n",
        "print(x)\n",
        "\n",
        "\n",
        "# Проводим десериализацию JSON-объекта\n",
        "y = json.loads(x)\n",
        "print(y)\n",
        "\n",
        "print(y[\"title\"])"
      ],
      "metadata": {
        "colab": {
          "base_uri": "https://localhost:8080/"
        },
        "id": "18eYSzQYZbWM",
        "outputId": "7e11f260-adb8-4250-e9e9-c89cb9e47032"
      },
      "execution_count": null,
      "outputs": [
        {
          "output_type": "stream",
          "name": "stdout",
          "text": [
            "{\"title\": \"Some test string\", \"code\": 211, \"data\": [1, 2, 3, 4, 5]}\n",
            "{'title': 'Some test string', 'code': 211, 'data': [1, 2, 3, 4, 5]}\n",
            "Some test string\n"
          ]
        }
      ]
    },
    {
      "cell_type": "markdown",
      "source": [
        "### Функции\n",
        "\n",
        "Dumps позволяет создать JSON-строку из переданного в нее объекта. Loads — преобразовать строку назад в объекты языка.\n",
        "\n",
        "Dump и load используют, чтобы сохранить результат в файл или воссоздать объект. Работают они схожим образом, но требуют передачи специального объекта для работы с файлом — filehandler."
      ],
      "metadata": {
        "id": "SuYixLDtZyf1"
      }
    },
    {
      "cell_type": "code",
      "source": [
        "import json\n",
        "\n",
        "# Создаем filehandler с помощью контекстного менеджера\n",
        "with open(\"data.json\", \"w\") as fh:\n",
        "    json.dump([1, 2, 3, 4, 5], fh) # записываем структуру в файл\n",
        "\n",
        "# Открываем тот же файл, но уже на чтение\n",
        "with open(\"data.json\", \"r\") as fh:\n",
        "    json_res=json.load(fh) # загружаем структуру из файла\n",
        "    print(json_res)"
      ],
      "metadata": {
        "colab": {
          "base_uri": "https://localhost:8080/"
        },
        "id": "Bbw1m1OwZ2n9",
        "outputId": "0830c23b-6df5-44bc-b144-ba62a84853e3"
      },
      "execution_count": null,
      "outputs": [
        {
          "output_type": "stream",
          "name": "stdout",
          "text": [
            "[1, 2, 3, 4, 5]\n"
          ]
        }
      ]
    },
    {
      "cell_type": "markdown",
      "source": [
        "## Примеры"
      ],
      "metadata": {
        "id": "E0uoIwuzacs_"
      }
    },
    {
      "cell_type": "markdown",
      "source": [
        "**Пример 1:** Запись и чтение строки:"
      ],
      "metadata": {
        "id": "_LYw9E3tbZRP"
      }
    },
    {
      "cell_type": "code",
      "source": [
        "import json\n",
        "\n",
        "# Запись строки в JSON-файл\n",
        "with open(\"string_data.json\", \"w\") as file:\n",
        "    json.dump(\"Hello, world!\", file)\n",
        "\n",
        "# Чтение строки из JSON-файла\n",
        "with open(\"string_data.json\", \"r\") as file:\n",
        "    data = json.load(file)\n",
        "    print(data)  # Вывод: Hello, world!"
      ],
      "metadata": {
        "colab": {
          "base_uri": "https://localhost:8080/"
        },
        "id": "pvHF627Gbarl",
        "outputId": "0f60c32e-0af2-42bb-c292-423cee937667"
      },
      "execution_count": null,
      "outputs": [
        {
          "output_type": "stream",
          "name": "stdout",
          "text": [
            "Hello, world!\n"
          ]
        }
      ]
    },
    {
      "cell_type": "markdown",
      "source": [
        "**Пример 2:** Запись и чтение кортежа:"
      ],
      "metadata": {
        "id": "-da1egCFbdF4"
      }
    },
    {
      "cell_type": "code",
      "source": [
        "import json\n",
        "\n",
        "# Запись кортежа в JSON-файл\n",
        "my_tuple = (1, 2, 3)\n",
        "with open(\"tuple_data.json\", \"w\") as file:\n",
        "    json.dump(my_tuple, file)\n",
        "\n",
        "# Чтение кортежа из JSON-файла\n",
        "with open(\"tuple_data.json\", \"r\") as file:\n",
        "    data = json.load(file)\n",
        "    print(data)  # Вывод: [1, 2, 3]"
      ],
      "metadata": {
        "colab": {
          "base_uri": "https://localhost:8080/"
        },
        "id": "cvFOQLcHbh2d",
        "outputId": "23b42a51-9a5f-4320-ebc1-cf878af73a42"
      },
      "execution_count": null,
      "outputs": [
        {
          "output_type": "stream",
          "name": "stdout",
          "text": [
            "[1, 2, 3]\n"
          ]
        }
      ]
    },
    {
      "cell_type": "markdown",
      "source": [
        "**Пример 3:** Запись и чтение словаря (dictionary):"
      ],
      "metadata": {
        "id": "V4_WVCnDbky_"
      }
    },
    {
      "cell_type": "code",
      "source": [
        "import json\n",
        "\n",
        "# Запись словаря в JSON-файл\n",
        "my_dict = {\"name\": \"Alice\", \"age\": 30}\n",
        "with open(\"dict_data.json\", \"w\") as file:\n",
        "    json.dump(my_dict, file)\n",
        "\n",
        "# Чтение словаря из JSON-файла\n",
        "with open(\"dict_data.json\", \"r\") as file:\n",
        "    data = json.load(file)\n",
        "    print(data)  # Вывод: {'name': 'Alice', 'age': 30}"
      ],
      "metadata": {
        "colab": {
          "base_uri": "https://localhost:8080/"
        },
        "id": "bdvzJXfLbo0K",
        "outputId": "c2ddd693-d3de-4956-90d1-5f14285a30b2"
      },
      "execution_count": null,
      "outputs": [
        {
          "output_type": "stream",
          "name": "stdout",
          "text": [
            "{'name': 'Alice', 'age': 30}\n"
          ]
        }
      ]
    },
    {
      "cell_type": "markdown",
      "source": [
        "**Пример 4:** Запись и чтение списка (list):"
      ],
      "metadata": {
        "id": "LWUasaCJbrxj"
      }
    },
    {
      "cell_type": "code",
      "source": [
        "import json\n",
        "\n",
        "# Запись списка в JSON-файл\n",
        "my_list = [\"Alice\",\"Zukha\", \"Arina\", \"Karina\"]\n",
        "with open(\"list_data.json\", \"w\") as file:\n",
        "    json.dump(my_list, file)\n",
        "\n",
        "# Чтение списка из JSON-файла\n",
        "with open(\"list_data.json\", \"r\") as file:\n",
        "    data = json.load(file)\n",
        "    print(data)"
      ],
      "metadata": {
        "colab": {
          "base_uri": "https://localhost:8080/"
        },
        "id": "pz-ZgCefbv48",
        "outputId": "72f8505f-44ea-49da-eb29-e1bde6fde055"
      },
      "execution_count": null,
      "outputs": [
        {
          "output_type": "stream",
          "name": "stdout",
          "text": [
            "['Alice', 'Zukha', 'Arina', 'Karina']\n"
          ]
        }
      ]
    },
    {
      "cell_type": "markdown",
      "source": [
        "**Пример 5:** Запись и чтение числа (integer):"
      ],
      "metadata": {
        "id": "h4YUClJOb6CB"
      }
    },
    {
      "cell_type": "code",
      "source": [
        "import json\n",
        "\n",
        "# Запись числа в JSON-файл\n",
        "my_number = 42\n",
        "with open(\"number_data.json\", \"w\") as file:\n",
        "    json.dump(my_number, file)\n",
        "\n",
        "# Чтение числа из JSON-файла\n",
        "with open(\"number_data.json\", \"r\") as file:\n",
        "    data = json.load(file)\n",
        "    print(data)  # Вывод: 42"
      ],
      "metadata": {
        "colab": {
          "base_uri": "https://localhost:8080/"
        },
        "id": "hP-7-PjBb_es",
        "outputId": "63d82565-430e-44cb-ea60-7ff36a9ed789"
      },
      "execution_count": null,
      "outputs": [
        {
          "output_type": "stream",
          "name": "stdout",
          "text": [
            "42\n"
          ]
        }
      ]
    },
    {
      "cell_type": "markdown",
      "source": [
        "## Как работать с пользовательскими объектами\n",
        "Пользовательские классы не относятся к JSON-сериализуемым. Это значит, что просто применить к ним функции dumps, loads или dump и load не получится:"
      ],
      "metadata": {
        "id": "mk055AMScDCR"
      }
    },
    {
      "cell_type": "code",
      "source": [
        "import json\n",
        "\n",
        "class Test:\n",
        "    def __init__(self, title, body):\n",
        "        self.title = title\n",
        "        self.body = body\n",
        "\n",
        "t = Test(\"Some string\", \"Here is a bit more text, but still isn't enough\")\n",
        "\n",
        "# пытаемся сериализовать его в JSON, но...\n",
        "json.dumps(t)\n",
        "# получаем ошибку TypeError, что класс несериализуем"
      ],
      "metadata": {
        "colab": {
          "base_uri": "https://localhost:8080/",
          "height": 373
        },
        "id": "CbPjgEV3cHic",
        "outputId": "18ddd360-2396-45a5-d258-d7aef5c9760a"
      },
      "execution_count": null,
      "outputs": [
        {
          "output_type": "error",
          "ename": "TypeError",
          "evalue": "ignored",
          "traceback": [
            "\u001b[0;31m---------------------------------------------------------------------------\u001b[0m",
            "\u001b[0;31mTypeError\u001b[0m                                 Traceback (most recent call last)",
            "\u001b[0;32m<ipython-input-14-16ee1a4af212>\u001b[0m in \u001b[0;36m<cell line: 11>\u001b[0;34m()\u001b[0m\n\u001b[1;32m      9\u001b[0m \u001b[0;34m\u001b[0m\u001b[0m\n\u001b[1;32m     10\u001b[0m \u001b[0;31m# пытаемся сериализовать его в JSON, но...\u001b[0m\u001b[0;34m\u001b[0m\u001b[0;34m\u001b[0m\u001b[0m\n\u001b[0;32m---> 11\u001b[0;31m \u001b[0mjson\u001b[0m\u001b[0;34m.\u001b[0m\u001b[0mdumps\u001b[0m\u001b[0;34m(\u001b[0m\u001b[0mt\u001b[0m\u001b[0;34m)\u001b[0m\u001b[0;34m\u001b[0m\u001b[0;34m\u001b[0m\u001b[0m\n\u001b[0m\u001b[1;32m     12\u001b[0m \u001b[0;31m# получаем ошибку TypeError, что класс несериализуем\u001b[0m\u001b[0;34m\u001b[0m\u001b[0;34m\u001b[0m\u001b[0m\n",
            "\u001b[0;32m/usr/lib/python3.10/json/__init__.py\u001b[0m in \u001b[0;36mdumps\u001b[0;34m(obj, skipkeys, ensure_ascii, check_circular, allow_nan, cls, indent, separators, default, sort_keys, **kw)\u001b[0m\n\u001b[1;32m    229\u001b[0m         \u001b[0mcls\u001b[0m \u001b[0;32mis\u001b[0m \u001b[0;32mNone\u001b[0m \u001b[0;32mand\u001b[0m \u001b[0mindent\u001b[0m \u001b[0;32mis\u001b[0m \u001b[0;32mNone\u001b[0m \u001b[0;32mand\u001b[0m \u001b[0mseparators\u001b[0m \u001b[0;32mis\u001b[0m \u001b[0;32mNone\u001b[0m \u001b[0;32mand\u001b[0m\u001b[0;34m\u001b[0m\u001b[0;34m\u001b[0m\u001b[0m\n\u001b[1;32m    230\u001b[0m         default is None and not sort_keys and not kw):\n\u001b[0;32m--> 231\u001b[0;31m         \u001b[0;32mreturn\u001b[0m \u001b[0m_default_encoder\u001b[0m\u001b[0;34m.\u001b[0m\u001b[0mencode\u001b[0m\u001b[0;34m(\u001b[0m\u001b[0mobj\u001b[0m\u001b[0;34m)\u001b[0m\u001b[0;34m\u001b[0m\u001b[0;34m\u001b[0m\u001b[0m\n\u001b[0m\u001b[1;32m    232\u001b[0m     \u001b[0;32mif\u001b[0m \u001b[0mcls\u001b[0m \u001b[0;32mis\u001b[0m \u001b[0;32mNone\u001b[0m\u001b[0;34m:\u001b[0m\u001b[0;34m\u001b[0m\u001b[0;34m\u001b[0m\u001b[0m\n\u001b[1;32m    233\u001b[0m         \u001b[0mcls\u001b[0m \u001b[0;34m=\u001b[0m \u001b[0mJSONEncoder\u001b[0m\u001b[0;34m\u001b[0m\u001b[0;34m\u001b[0m\u001b[0m\n",
            "\u001b[0;32m/usr/lib/python3.10/json/encoder.py\u001b[0m in \u001b[0;36mencode\u001b[0;34m(self, o)\u001b[0m\n\u001b[1;32m    197\u001b[0m         \u001b[0;31m# exceptions aren't as detailed.  The list call should be roughly\u001b[0m\u001b[0;34m\u001b[0m\u001b[0;34m\u001b[0m\u001b[0m\n\u001b[1;32m    198\u001b[0m         \u001b[0;31m# equivalent to the PySequence_Fast that ''.join() would do.\u001b[0m\u001b[0;34m\u001b[0m\u001b[0;34m\u001b[0m\u001b[0m\n\u001b[0;32m--> 199\u001b[0;31m         \u001b[0mchunks\u001b[0m \u001b[0;34m=\u001b[0m \u001b[0mself\u001b[0m\u001b[0;34m.\u001b[0m\u001b[0miterencode\u001b[0m\u001b[0;34m(\u001b[0m\u001b[0mo\u001b[0m\u001b[0;34m,\u001b[0m \u001b[0m_one_shot\u001b[0m\u001b[0;34m=\u001b[0m\u001b[0;32mTrue\u001b[0m\u001b[0;34m)\u001b[0m\u001b[0;34m\u001b[0m\u001b[0;34m\u001b[0m\u001b[0m\n\u001b[0m\u001b[1;32m    200\u001b[0m         \u001b[0;32mif\u001b[0m \u001b[0;32mnot\u001b[0m \u001b[0misinstance\u001b[0m\u001b[0;34m(\u001b[0m\u001b[0mchunks\u001b[0m\u001b[0;34m,\u001b[0m \u001b[0;34m(\u001b[0m\u001b[0mlist\u001b[0m\u001b[0;34m,\u001b[0m \u001b[0mtuple\u001b[0m\u001b[0;34m)\u001b[0m\u001b[0;34m)\u001b[0m\u001b[0;34m:\u001b[0m\u001b[0;34m\u001b[0m\u001b[0;34m\u001b[0m\u001b[0m\n\u001b[1;32m    201\u001b[0m             \u001b[0mchunks\u001b[0m \u001b[0;34m=\u001b[0m \u001b[0mlist\u001b[0m\u001b[0;34m(\u001b[0m\u001b[0mchunks\u001b[0m\u001b[0;34m)\u001b[0m\u001b[0;34m\u001b[0m\u001b[0;34m\u001b[0m\u001b[0m\n",
            "\u001b[0;32m/usr/lib/python3.10/json/encoder.py\u001b[0m in \u001b[0;36miterencode\u001b[0;34m(self, o, _one_shot)\u001b[0m\n\u001b[1;32m    255\u001b[0m                 \u001b[0mself\u001b[0m\u001b[0;34m.\u001b[0m\u001b[0mkey_separator\u001b[0m\u001b[0;34m,\u001b[0m \u001b[0mself\u001b[0m\u001b[0;34m.\u001b[0m\u001b[0mitem_separator\u001b[0m\u001b[0;34m,\u001b[0m \u001b[0mself\u001b[0m\u001b[0;34m.\u001b[0m\u001b[0msort_keys\u001b[0m\u001b[0;34m,\u001b[0m\u001b[0;34m\u001b[0m\u001b[0;34m\u001b[0m\u001b[0m\n\u001b[1;32m    256\u001b[0m                 self.skipkeys, _one_shot)\n\u001b[0;32m--> 257\u001b[0;31m         \u001b[0;32mreturn\u001b[0m \u001b[0m_iterencode\u001b[0m\u001b[0;34m(\u001b[0m\u001b[0mo\u001b[0m\u001b[0;34m,\u001b[0m \u001b[0;36m0\u001b[0m\u001b[0;34m)\u001b[0m\u001b[0;34m\u001b[0m\u001b[0;34m\u001b[0m\u001b[0m\n\u001b[0m\u001b[1;32m    258\u001b[0m \u001b[0;34m\u001b[0m\u001b[0m\n\u001b[1;32m    259\u001b[0m def _make_iterencode(markers, _default, _encoder, _indent, _floatstr,\n",
            "\u001b[0;32m/usr/lib/python3.10/json/encoder.py\u001b[0m in \u001b[0;36mdefault\u001b[0;34m(self, o)\u001b[0m\n\u001b[1;32m    177\u001b[0m \u001b[0;34m\u001b[0m\u001b[0m\n\u001b[1;32m    178\u001b[0m         \"\"\"\n\u001b[0;32m--> 179\u001b[0;31m         raise TypeError(f'Object of type {o.__class__.__name__} '\n\u001b[0m\u001b[1;32m    180\u001b[0m                         f'is not JSON serializable')\n\u001b[1;32m    181\u001b[0m \u001b[0;34m\u001b[0m\u001b[0m\n",
            "\u001b[0;31mTypeError\u001b[0m: Object of type Test is not JSON serializable"
          ]
        }
      ]
    },
    {
      "cell_type": "markdown",
      "source": [
        "Решить эту проблему можно тремя способами."
      ],
      "metadata": {
        "id": "P95McABIczUH"
      }
    },
    {
      "cell_type": "markdown",
      "source": [
        "### Написать функцию\n",
        "Чтобы сериализовать пользовательский объект в JSON-структуру данных, нужен аргумент default. Указывайте вызываемый объект, то есть функцию или статический метод.\n",
        "\n",
        "Чтобы получить аргументы класса с их значениями, нужна встроенная функция __dict__, потому что любой класс — это словарь со ссылками на значения по ключу.\n",
        "\n",
        "Чтобы сериализовать аргументы класса и их значения в JSON, напишите функцию:"
      ],
      "metadata": {
        "id": "FGWRKR0GdCCt"
      }
    },
    {
      "cell_type": "code",
      "source": [
        "import json\n",
        "\n",
        "class Test:\n",
        "    def __init__(self, title, body):\n",
        "        self.title = title\n",
        "        self.body = body\n",
        "\n",
        "t = Test(\"Some string\", \"Here is a bit more text, but still isn't enough\")\n",
        "\n",
        "# используем анонимную функцию (лямбду), которая\n",
        "# в качестве сериализуемых данных указывает полученный __dict__ объекта\n",
        "json.dumps(t, default=lambda x: x.__dict__)"
      ],
      "metadata": {
        "colab": {
          "base_uri": "https://localhost:8080/",
          "height": 35
        },
        "id": "Giz3Aa5BdE-Q",
        "outputId": "25797e80-6892-4f74-f87e-7c087e83fd68"
      },
      "execution_count": null,
      "outputs": [
        {
          "output_type": "execute_result",
          "data": {
            "text/plain": [
              "'{\"title\": \"Some string\", \"body\": \"Here is a bit more text, but still isn\\'t enough\"}'"
            ],
            "application/vnd.google.colaboratory.intrinsic+json": {
              "type": "string"
            }
          },
          "metadata": {},
          "execution_count": 17
        }
      ]
    },
    {
      "cell_type": "markdown",
      "source": [
        "Но можно создать отдельную функцию и указать ее в качестве аргумента:"
      ],
      "metadata": {
        "id": "TiB7kb9ddijd"
      }
    },
    {
      "cell_type": "code",
      "source": [
        "import json\n",
        "\n",
        "class Test:\n",
        "    def __init__(self, title, body):\n",
        "        self.title = title\n",
        "        self.body = body\n",
        "\n",
        "t = Test(\"Some string\", \"Here is a bit more text, but still isn't enough\")\n",
        "\n",
        "\n",
        "def to_json(obj):\n",
        "     if isinstance(obj, Test):\n",
        "         result = obj.__dict__\n",
        "         result[\"className\"] = obj.__class__.__name__\n",
        "         return result\n",
        "\n",
        "json.dumps(t, default=to_json)"
      ],
      "metadata": {
        "colab": {
          "base_uri": "https://localhost:8080/",
          "height": 35
        },
        "id": "yOD9xk6ydjSH",
        "outputId": "4b951b85-9b54-42ad-96c6-de7de1c6ef93"
      },
      "execution_count": null,
      "outputs": [
        {
          "output_type": "execute_result",
          "data": {
            "text/plain": [
              "'{\"title\": \"Some string\", \"body\": \"Here is a bit more text, but still isn\\'t enough\", \"className\": \"Test\"}'"
            ],
            "application/vnd.google.colaboratory.intrinsic+json": {
              "type": "string"
            }
          },
          "metadata": {},
          "execution_count": 18
        }
      ]
    },
    {
      "cell_type": "markdown",
      "source": [
        " Мы добавили название класса в получаемую структуру. Такой подход позволяет безошибочно понять: сущность какого класса нужно десериализовать в объект."
      ],
      "metadata": {
        "id": "cem1NQnMduan"
      }
    },
    {
      "cell_type": "markdown",
      "source": [
        "### Создать расширение классов\n",
        "Такого же результата добьетесь, если примените расширения специальных классов библиотеки:"
      ],
      "metadata": {
        "id": "1VhSFC3Udx5J"
      }
    },
    {
      "cell_type": "code",
      "source": [
        "import json\n",
        "\n",
        "class Test:\n",
        "    def __init__(self, title, body):\n",
        "        self.title = title\n",
        "        self.body = body\n",
        "\n",
        "class TestEncoder(json.JSONEncoder):\n",
        "     def default(self, o):\n",
        "         return {\"TITLE\": o.title, \"BODY\": o.body, \"CLASSNAME\": o.__class__.__name__}\n",
        "\n",
        "\n",
        "t = Test(\"Some string\", \"Here is a bit more text, but still isn't enough\")\n",
        "\n",
        "x = json.dumps(t, cls=TestEncoder)\n",
        "print(x)\n",
        "\n",
        "y = json.loads(x)\n",
        "print(y)\n",
        "print(y[\"TITLE\"])"
      ],
      "metadata": {
        "colab": {
          "base_uri": "https://localhost:8080/"
        },
        "id": "BXlXKL7id2t5",
        "outputId": "8cb578e1-ce54-4d7d-8116-29e7f7a1d8aa"
      },
      "execution_count": null,
      "outputs": [
        {
          "output_type": "stream",
          "name": "stdout",
          "text": [
            "{\"TITLE\": \"Some string\", \"BODY\": \"Here is a bit more text, but still isn't enough\", \"CLASSNAME\": \"Test\"}\n",
            "{'TITLE': 'Some string', 'BODY': \"Here is a bit more text, but still isn't enough\", 'CLASSNAME': 'Test'}\n",
            "Some string\n"
          ]
        }
      ]
    },
    {
      "cell_type": "markdown",
      "source": [
        "Этот код почти верен, но есть одна важная деталь, которую нужно учесть. При использовании пользовательского JSON-кодера (JSONEncoder), вам также нужно обеспечить правильную десериализацию при загрузке JSON обратно в объекты Python.\n",
        "\n",
        "Вот исправленный код с добавленным методом from_json для десериализации:"
      ],
      "metadata": {
        "id": "BDsPVk4BeXzI"
      }
    },
    {
      "cell_type": "code",
      "source": [
        "import json\n",
        "\n",
        "class Test:\n",
        "    def __init__(self, title, body):\n",
        "        self.title = title\n",
        "        self.body = body\n",
        "\n",
        "class TestEncoder(json.JSONEncoder):\n",
        "    def default(self, o):\n",
        "        if isinstance(o, Test):\n",
        "            return {\"TITLE\": o.title, \"BODY\": o.body, \"CLASSNAME\": o.__class__.__name__}\n",
        "        return super().default(o)\n",
        "\n",
        "def from_json(json_obj):\n",
        "    if \"CLASSNAME\" in json_obj and json_obj[\"CLASSNAME\"] == \"Test\":\n",
        "        return Test(json_obj[\"TITLE\"], json_obj[\"BODY\"])\n",
        "    return json_obj\n",
        "\n",
        "t = Test(\"Some string\", \"Here is a bit more text, but still isn't enough\")\n",
        "\n",
        "# Сериализация\n",
        "x = json.dumps(t, cls=TestEncoder)\n",
        "print(x)\n",
        "\n",
        "# Десериализация\n",
        "y = json.loads(x, object_hook=from_json)\n",
        "print(y)\n",
        "print(y.title)"
      ],
      "metadata": {
        "colab": {
          "base_uri": "https://localhost:8080/"
        },
        "id": "nBumbZ2TeawQ",
        "outputId": "dbb329f3-4716-4246-9fdc-60c205063e9a"
      },
      "execution_count": null,
      "outputs": [
        {
          "output_type": "stream",
          "name": "stdout",
          "text": [
            "{\"TITLE\": \"Some string\", \"BODY\": \"Here is a bit more text, but still isn't enough\", \"CLASSNAME\": \"Test\"}\n",
            "<__main__.Test object at 0x7ae6420ec8b0>\n",
            "Some string\n"
          ]
        }
      ]
    },
    {
      "cell_type": "markdown",
      "source": [
        "Такой подход можно использовать и в том случае, если класс состоит из нескольких других."
      ],
      "metadata": {
        "id": "h2m_4XGheedl"
      }
    },
    {
      "cell_type": "markdown",
      "source": [
        "## Применить паттерн «Адаптер»\n",
        "Идея в том, чтобы написать класс, который приводит к JSON пользовательские объекты и восстанавливает их. Определите класс фигуры, формы и цвета:"
      ],
      "metadata": {
        "id": "rsqO937JeirD"
      }
    },
    {
      "cell_type": "code",
      "source": [
        "class Figure:\n",
        "    def __init__(self, title, form, color):\n",
        "        self.title = title\n",
        "        self.form = form\n",
        "        self.color = color\n",
        "\n",
        "    def __str__(self):\n",
        "        return f\"Figure: {self.title}, {repr(self.form)}, {repr(self.color)}\"\n",
        "\n",
        "class Form:\n",
        "    def __init__(self, name):\n",
        "        self.name = name\n",
        "\n",
        "    def __repr__(self):\n",
        "        return f\"<Form: {self.name}>\"\n",
        "\n",
        "class Color:\n",
        "    def __init__(self, name):\n",
        "        self.name = name\n",
        "\n",
        "    def __repr__(self):\n",
        "        return f\"<Color: {self.name}>\""
      ],
      "metadata": {
        "id": "t4RKjJ6zesWf"
      },
      "execution_count": null,
      "outputs": []
    },
    {
      "cell_type": "markdown",
      "source": [
        "Теперь напишим класс, который будет приводить объекты фигуры к JSON, а из JSON воссоздавать полученный объект:"
      ],
      "metadata": {
        "id": "7Z_eBDtLe5f9"
      }
    },
    {
      "cell_type": "code",
      "source": [
        "class JSONDataAdapter:\n",
        "    @staticmethod\n",
        "    def to_json(o):\n",
        "        if isinstance(o, Figure):\n",
        "            return json.dumps({\n",
        "              \"title\": o.title,\n",
        "              \"form\": o.form.name,\n",
        "              \"color\": o.color.name,\n",
        "            })\n",
        "\n",
        "    @staticmethod\n",
        "    def from_json(o):\n",
        "        o = json.loads(o)\n",
        "\n",
        "        try:\n",
        "            form = Form(o[\"form\"])\n",
        "            color = Color(o[\"color\"])\n",
        "            figure = Figure(o[\"title\"], form, color)\n",
        "            return figure\n",
        "        except AttributeError:\n",
        "            print(\"Неверная структура\")"
      ],
      "metadata": {
        "id": "1-aQSRBue_at"
      },
      "execution_count": null,
      "outputs": []
    },
    {
      "cell_type": "markdown",
      "source": [
        "Протестируйем решение:"
      ],
      "metadata": {
        "id": "LLtJ-jBBfDpp"
      }
    },
    {
      "cell_type": "code",
      "source": [
        "if __name__ == '__main__':\n",
        "    # создадим несколько цветов\n",
        "    black = Color(\"Black\")\n",
        "    yellow = Color(\"Yellow\")\n",
        "    green = Color(\"Green\")\n",
        "\n",
        "    # несколько форм\n",
        "    rountt = Form(\"Rounded\")\n",
        "    square = Form(\"Squared\")\n",
        "\n",
        "    # объекты фигур\n",
        "    figure_one = Figure(\"Black Square\", form=square, color=black)\n",
        "    figure_two = Figure(\"Yellow Circle\", form=rountt, color=yellow)\n",
        "\n",
        "    print(\"Отображение объектов\")\n",
        "    print(figure_one)\n",
        "    print(figure_two)\n",
        "    print()\n",
        "\n",
        "    # преобразуем данные в JSON\n",
        "    jone = JSONDataAdapter.to_json(figure_one)\n",
        "    jtwo = JSONDataAdapter.to_json(figure_two)\n",
        "\n",
        "    print(\"Отображение JSON\")\n",
        "    print(jone)\n",
        "    print(jtwo)\n",
        "    print()\n",
        "\n",
        "    # восстановим объекты\n",
        "    restored_one = JSONDataAdapter.from_json(jone)\n",
        "    restored_two = JSONDataAdapter.from_json(jtwo)\n",
        "\n",
        "    print(\"Отображение восстановленных объектов\")\n",
        "    print(restored_one)\n",
        "    print(restored_two)\n"
      ],
      "metadata": {
        "colab": {
          "base_uri": "https://localhost:8080/"
        },
        "id": "lt4NGaxBfG1b",
        "outputId": "ba092dc0-8f09-4344-b312-983fadf9b758"
      },
      "execution_count": null,
      "outputs": [
        {
          "output_type": "stream",
          "name": "stdout",
          "text": [
            "Отображение объектов\n",
            "Figure: Black Square, <Form: Squared>, <Color: Black>\n",
            "Figure: Yellow Circle, <Form: Rounded>, <Color: Yellow>\n",
            "\n",
            "Отображение JSON\n",
            "{\"title\": \"Black Square\", \"form\": \"Squared\", \"color\": \"Black\"}\n",
            "{\"title\": \"Yellow Circle\", \"form\": \"Rounded\", \"color\": \"Yellow\"}\n",
            "\n",
            "Отображение восстановленных объектов\n",
            "Figure: Black Square, <Form: Squared>, <Color: Black>\n",
            "Figure: Yellow Circle, <Form: Rounded>, <Color: Yellow>\n"
          ]
        }
      ]
    },
    {
      "cell_type": "markdown",
      "source": [
        "## Примеры"
      ],
      "metadata": {
        "id": "MK2vDBavgCh1"
      }
    },
    {
      "cell_type": "markdown",
      "source": [
        "**Пример 1.** Создайте класс Student с реализацией сериализации и десериализации."
      ],
      "metadata": {
        "id": "XA-V7BxvgGQm"
      }
    },
    {
      "cell_type": "code",
      "source": [
        "import json\n",
        "\n",
        "class Student:\n",
        "    def __init__(self, name, age, major):\n",
        "        self.name = name\n",
        "        self.age = age\n",
        "        self.major = major\n",
        "\n",
        "    def to_json(self):\n",
        "        return {\n",
        "            \"name\": self.name,\n",
        "            \"age\": self.age,\n",
        "            \"major\": self.major\n",
        "        }\n",
        "\n",
        "    @staticmethod\n",
        "    def from_json(data):\n",
        "        return Student(data[\"name\"], data[\"age\"], data[\"major\"])\n",
        "\n",
        "# Создаем экземпляр класса Student\n",
        "student1 = Student(\"Alice\", 20, \"Computer Science\")\n",
        "\n",
        "# Сериализация экземпляра класса Student\n",
        "json_str = json.dumps(student1.to_json())\n",
        "print(json_str)\n",
        "\n",
        "# Десериализация JSON в объект Student\n",
        "json_data = '{\"name\": \"Bob\", \"age\": 21, \"major\": \"Engineering\"}'\n",
        "restored_student = Student.from_json(json.loads(json_data))\n",
        "print(restored_student.name, restored_student.age, restored_student.major)\n"
      ],
      "metadata": {
        "colab": {
          "base_uri": "https://localhost:8080/"
        },
        "id": "G8POmWPFc0Kk",
        "outputId": "cbbfc243-53e4-454e-903d-357f23bd1a2b"
      },
      "execution_count": null,
      "outputs": [
        {
          "output_type": "stream",
          "name": "stdout",
          "text": [
            "{\"name\": \"Alice\", \"age\": 20, \"major\": \"Computer Science\"}\n",
            "Bob 21 Engineering\n"
          ]
        }
      ]
    },
    {
      "cell_type": "markdown",
      "source": [
        "**Пример 2.** Если класс Student унаследуется от класса Person, то вы можете включить это в определение класса Student следующим образом:"
      ],
      "metadata": {
        "id": "aGxCxvUMga6X"
      }
    },
    {
      "cell_type": "code",
      "source": [
        "import json\n",
        "from typing import Dict, Any\n",
        "\n",
        "class Person:\n",
        "    def __init__(self, name: str, age: int) -> None:\n",
        "        self.name = name\n",
        "        self.age = age\n",
        "\n",
        "    def to_json(self) -> Dict[str, Any]:\n",
        "        return {\"name\": self.name, \"age\": self.age}\n",
        "\n",
        "class Student(Person):\n",
        "    def __init__(self, name: str, age: int, major: str) -> None:\n",
        "        super().__init__(name, age)\n",
        "        self.major = major\n",
        "\n",
        "    def to_json(self) -> Dict[str, Any]:\n",
        "        data = super().to_json()\n",
        "        data[\"major\"] = self.major\n",
        "        return data\n",
        "\n",
        "    @staticmethod\n",
        "    def from_json(data: Dict[str, Any]) -> 'Student':\n",
        "        return Student(data[\"name\"], data[\"age\"], data[\"major\"])\n",
        "\n",
        "# Создаем экземпляр класса Student\n",
        "student1 = Student(\"Alice\", 20, \"Computer Science\")\n",
        "\n",
        "# Сериализация экземпляра класса Student\n",
        "json_str = json.dumps(student1.to_json())\n",
        "print(json_str)\n",
        "\n",
        "# Десериализация JSON в объект Student\n",
        "json_data = '{\"name\": \"Bob\", \"age\": 21, \"major\": \"Engineering\"}'\n",
        "restored_student = Student.from_json(json.loads(json_data))\n",
        "print(restored_student.name, restored_student.age, restored_student.major)"
      ],
      "metadata": {
        "colab": {
          "base_uri": "https://localhost:8080/"
        },
        "id": "B4LIz7yygva5",
        "outputId": "b5d0cbd3-6130-4f9d-dcc8-168a662b2a46"
      },
      "execution_count": null,
      "outputs": [
        {
          "output_type": "stream",
          "name": "stdout",
          "text": [
            "{\"name\": \"Alice\", \"age\": 20, \"major\": \"Computer Science\"}\n",
            "Bob 21 Engineering\n"
          ]
        }
      ]
    },
    {
      "cell_type": "markdown",
      "source": [
        "**Пример 3.**  У вас есть JSON-объект, который содержит информацию о командах, игроках и их результаты. Вам нужно извлечь значение \"score\" для первого игрока первой команды из этого JSON-объекта с использованием сериализации и десериализации. JSON-объект должен быть сохранен в файле, и вы должны использовать модуль json в Python для записи и чтения данных из файла.\n",
        "\n",
        "Задача состоит из следующих шагов:\n",
        "\n",
        "1. Создание JSON-объекта с информацией о командах, игроках и их результаты.\n",
        "2. Сериализация (запись) JSON-объекта в файл с использованием модуля json.\n",
        "3. Чтение и десериализация JSON-объекта из файла с использованием модуля json.\n",
        "4. Извлечение значения \"score\" для первого игрока первой команды из десериализованного JSON-объекта."
      ],
      "metadata": {
        "id": "_CXrRDgmibqT"
      }
    },
    {
      "cell_type": "code",
      "source": [
        "import json\n",
        "\n",
        "# Создаем и записываем JSON в файл\n",
        "data = {\n",
        "    \"data\": {\n",
        "        \"teamStanding\": [\n",
        "            {\n",
        "                \"id\": \"team_1\",\n",
        "                \"score\": 103,\n",
        "                \"players\": [\n",
        "                    {\n",
        "                        \"user\": {\n",
        "                            \"name\": \"player_1\",\n",
        "                            \"id\": \"player_1\"\n",
        "                        },\n",
        "                        \"score\": 35\n",
        "                    }\n",
        "                ]\n",
        "            }\n",
        "        ]\n",
        "    }\n",
        "}\n",
        "\n",
        "# Записываем JSON в файл\n",
        "with open('data.json', 'w') as file:\n",
        "    json.dump(data, file)\n",
        "\n",
        "# Чтение и десериализация JSON из файла\n",
        "with open('data.json', 'r') as file:\n",
        "    data_from_file = json.load(file)\n",
        "\n",
        "# Извлечение значения score для первого игрока первой команды\n",
        "player_score = data_from_file[\"data\"][\"teamStanding\"][0][\"players\"][0][\"score\"]\n",
        "print(player_score)  # Выведет: 35"
      ],
      "metadata": {
        "colab": {
          "base_uri": "https://localhost:8080/"
        },
        "id": "LuAqlx6dihf4",
        "outputId": "be5bd873-5621-4149-fdd4-c9cfec385e4a"
      },
      "execution_count": null,
      "outputs": [
        {
          "output_type": "stream",
          "name": "stdout",
          "text": [
            "35\n"
          ]
        }
      ]
    },
    {
      "cell_type": "markdown",
      "source": [
        "# Создание, Редактирование и Парсинг XML файла"
      ],
      "metadata": {
        "id": "YOY01pujiqES"
      }
    },
    {
      "cell_type": "markdown",
      "source": [
        "Python содержит встроенные XML инструменты для парсинга, к которым вы можете получить доступ при помощи модуля xml. В данной статье мы рассмотрим два подмодуля xml:\n",
        "\n",
        "* minidom\n",
        "* ElementTree\n",
        "Мы начнем с minidom по той причине, что де-факто он используется в качестве метода парсинга XML. После этого, мы взглянем на то, как использовать ElementTree для этих целей.\n",
        "\n",
        "## Работаем с minidom\n",
        "Для начала, нам нужен XML для парсинга. Давайте взглянем на следующий небольшой пример XML:"
      ],
      "metadata": {
        "id": "IhQiRbMYjAL0"
      }
    },
    {
      "cell_type": "markdown",
      "source": [
        "\n",
        "\n",
        "```\n",
        "<?xml version=\"1.0\" ?>\n",
        "<zAppointments reminder=\"15\">\n",
        "    <appointment>\n",
        "        <begin>1181251680</begin>\n",
        "        <uid>040000008200E000</uid>\n",
        "        <alarmTime>1181572063</alarmTime>\n",
        "        <state></state>\n",
        "        <location></location>\n",
        "        <duration>1800</duration>\n",
        "        <subject>Bring pizza home</subject>\n",
        "    </appointment>\n",
        "</zAppointments>\n",
        "```\n",
        "\n"
      ],
      "metadata": {
        "id": "nITdiS7Nlnmm"
      }
    },
    {
      "cell_type": "markdown",
      "source": [
        "Это типичный XML и читается он вполне интуитивно. В будущем вы, скорее всего, столкнетесь с более сложным примером XML, так что в нашем случае мы работаем с очень удобным материалом. В любом случае, сохраните описанный выше код XML под следующим названием: appt.xml\n",
        "\n",
        "Давайте уделим больше времени на то, чтобы поближе познакомиться с парсингом данного файла в Python при помощи модуля minidom. Это достаточно длинный кусок кода, так что подготовьтесь:"
      ],
      "metadata": {
        "id": "ovbZbLjGlqDz"
      }
    },
    {
      "cell_type": "code",
      "source": [
        "class ApptParser(object):\n",
        "    # Конструктор класса\n",
        "    def __init__(self, url, flag='url'):\n",
        "        self.appointments = []  # Список для хранения информации о встречах\n",
        "        self.flag = flag  # Флаг для определения источника данных (URL или файл)\n",
        "        self.rem_value = 0  # Переменная, которая не используется в предоставленном коде\n",
        "        xml_data = self.get_xml(url)  # Получение XML-данных из URL или файла\n",
        "        self.handle_xml(xml_data)  # Обработка XML-данных\n",
        "\n",
        "    # Метод для получения XML-данных\n",
        "    def get_xml(self, url):\n",
        "        try:\n",
        "            f = urllib.request.urlopen(url)  # Открытие URL и получение данных\n",
        "        except:\n",
        "            f = url  # Если не удалось открыть URL, предполагаем, что это путь к файлу\n",
        "\n",
        "        doc = xml.dom.minidom.parse(f)  # Парсинг XML-данных\n",
        "        node = doc.documentElement  # Получение корневого элемента (документа)\n",
        "        if node.nodeType == xml.dom.Node.ELEMENT_NODE:\n",
        "            print('Element: %s' % node.nodeName)  # Вывод информации о корневом элементе\n",
        "            for (name, value) in node.attributes.items():\n",
        "                print('Attr -- name: %s value: %s' % (name, value))  # Вывод информации об атрибутах элемента\n",
        "        return node  # Возвращает корневой элемент\n",
        "\n",
        "    # Метод для обработки XML-данных\n",
        "    def handle_xml(self, xml_data):\n",
        "        appointments = xml_data.getElementsByTagName(\"appointment\")  # Получение всех элементов \"appointment\"\n",
        "        self.handle_appointments(appointments)  # Обработка каждого элемента \"appointment\"\n",
        "\n",
        "    # Метод для получения текстового содержимого элемента\n",
        "    def get_element(self, element):\n",
        "        return self.get_text(element.childNodes)  # Вызов метода get_text для получения текстового содержимого\n",
        "\n",
        "    # Метод для обработки всех элементов \"appointment\"\n",
        "    def handle_appointments(self, appointments):\n",
        "        for appt in appointments:\n",
        "            self.handle_appointment(appt)  # Обработка каждого элемента \"appointment\"\n",
        "\n",
        "    # Метод для обработки одного элемента \"appointment\"\n",
        "    def handle_appointment(self, appt):\n",
        "        begin = self.get_element(appt.getElementsByTagName(\"begin\")[0])  # Получение текстового содержимого элемента \"begin\"\n",
        "        duration = self.get_element(appt.getElementsByTagName(\"duration\")[0])  # Получение текстового содержимого элемента \"duration\"\n",
        "        subject = self.get_element(appt.getElementsByTagName(\"subject\")[0])  # Получение текстового содержимого элемента \"subject\"\n",
        "        location = self.get_element(appt.getElementsByTagName(\"location\")[0])  # Получение текстового содержимого элемента \"location\"\n",
        "        uid = self.get_element(appt.getElementsByTagName(\"uid\")[0])  # Получение текстового содержимого элемента \"uid\"\n",
        "\n",
        "        appointment_info = [begin, duration, subject, location, uid]  # Формирование информации о встрече в виде списка\n",
        "\n",
        "        if self.flag == 'file':  # Если источник данных - файл\n",
        "            try:\n",
        "                state = self.get_element(appt.getElementsByTagName(\"state\")[0])  # Получение текстового содержимого элемента \"state\"\n",
        "                appointment_info.append(state)  # Добавление информации о состоянии встречи в список\n",
        "                alarm = self.get_element(appt.getElementsByTagName(\"alarmTime\")[0])  # Получение текстового содержимого элемента \"alarmTime\"\n",
        "                appointment_info.append(alarm)  # Добавление информации о времени напоминания в список\n",
        "            except Exception as e:\n",
        "                print(e)  # Обработка и вывод ошибки, если таковая возникла\n",
        "\n",
        "        self.appointments.append(appointment_info)  # Добавление информации о встрече в список всех встреч\n",
        "\n",
        "    # Метод для получения текстового содержимого элемента\n",
        "    def get_text(self, nodelist):\n",
        "        rc = \"\"\n",
        "        for node in nodelist:\n",
        "            if node.nodeType == node.TEXT_NODE:\n",
        "                rc = rc + node.data  # Добавление текстового содержимого элемента к результату\n",
        "        return rc  # Возвращает текстовое содержимое элемента"
      ],
      "metadata": {
        "id": "AiNsF7DzlvMR"
      },
      "execution_count": null,
      "outputs": []
    },
    {
      "cell_type": "markdown",
      "source": [
        "Этот код определяет класс ApptParser, который выполняет разбор и обработку XML-данных из URL или файла. Класс содержит методы для получения XML-данных, обработки XML-данных, извлечения текстового содержимого элементов и формирования информации о встречах.\n",
        "\n",
        "При создании экземпляра класса ApptParser с указанием URL или пути к файлу, XML-данные извлекаются с использованием метода get_xml, а затем обрабатываются с использованием метода handle_xml. Информация о встречах сохраняется в списке self.appointments.\n",
        "\n",
        "Методы класса ApptParser используются для извлечения информации о встречах из XML-документа и обработки этой информации в соответствии с заданным флагом (URL или файл)."
      ],
      "metadata": {
        "id": "gcBE7GO_np-Q"
      }
    },
    {
      "cell_type": "markdown",
      "source": [
        "Обратите внимание на то, что метод handleAppt вызывает метод getElement, который, в свою очередь, вызывает метод getText. Технически, вы можете пропустить вызов getElement и вызвать getText напрямую. С другой стороны, вам может понадобиться добавить дополнительную обработку в getElement для конвертации текста или чего-то другого перед возвратом. Например, вам может понадобиться конвертировать целые числа, числа с запятыми или объекты decimal.Decimal."
      ],
      "metadata": {
        "id": "EkwRLBRKn4bK"
      }
    },
    {
      "cell_type": "markdown",
      "source": [
        "Чтобы использовать класс ApptParser для обработки данного XML-документа, вам нужно создать экземпляр класса и передать URL или файл с XML-данными в конструктор. Вот пример использования класса для данного XML-документа:"
      ],
      "metadata": {
        "id": "uRreUdTimaVW"
      }
    },
    {
      "cell_type": "code",
      "source": [
        "# Создание экземпляра класса ApptParser и обработка XML-документа\n",
        "url = \"/content/appointments.xml\"  # Замените на реальный URL или путь к файлу\n",
        "parser = ApptParser(url, flag='url')\n",
        "\n",
        "# Вывод списка встреч\n",
        "for appt in parser.appointments:\n",
        "    print(\"Begin:\", appt[0])\n",
        "    print(\"Duration:\", appt[1])\n",
        "    print(\"Subject:\", appt[2])\n",
        "    print(\"Location:\", appt[3])\n",
        "    print(\"UID:\", appt[4])\n",
        "    if len(appt) > 5:\n",
        "        print(\"State:\", appt[5])\n",
        "        print(\"Alarm Time:\", appt[6])\n"
      ],
      "metadata": {
        "colab": {
          "base_uri": "https://localhost:8080/"
        },
        "id": "4fkXt4Y3lvR9",
        "outputId": "afe6e825-55a4-419e-cfcd-cd6b5051d84c"
      },
      "execution_count": null,
      "outputs": [
        {
          "output_type": "stream",
          "name": "stdout",
          "text": [
            "Element: zAppointments\n",
            "Attr -- name: reminder value: 15\n",
            "Begin: 1181251680\n",
            "Duration: 1800\n",
            "Subject: Bring pizza home\n",
            "Location: \n",
            "UID: 040000008200E000\n"
          ]
        }
      ]
    },
    {
      "cell_type": "markdown",
      "source": [
        "Давайте попробуем еще один пример с minidom перед тем, как двигаться дальше. Мы используем пример XML с сайта MSDN Майкрософт: http://msdn.microsoft.com/en-us/library/ms762271%28VS.85%29.aspx. Сохраните следующий код под названием example.xml"
      ],
      "metadata": {
        "id": "T_Jeda9OnGgB"
      }
    },
    {
      "cell_type": "markdown",
      "source": [
        "\n",
        "\n",
        "```\n",
        "<?xml version=\"1.0\"?>\n",
        "<catalog>\n",
        "   <book id=\"bk103\">\n",
        "      <author>Corets, Eva</author>\n",
        "      <title>Maeve Ascendant</title>\n",
        "      <genre>Fantasy</genre>\n",
        "      <price>5.95</price>\n",
        "      <publish_date>2000-11-17</publish_date>\n",
        "      <description>After the collapse of a nanotechnology\n",
        "      society in England, the young survivors lay the\n",
        "      foundation for a new society.</description>\n",
        "   </book>\n",
        "   <book id=\"bk104\">\n",
        "      <author>Corets, Eva</author>\n",
        "      <title>Oberon's Legacy</title>\n",
        "      <genre>Fantasy</genre>\n",
        "      <price>5.95</price>\n",
        "      <publish_date>2001-03-10</publish_date>\n",
        "      <description>In post-apocalypse England, the mysterious\n",
        "      agent known only as Oberon helps to create a new life\n",
        "      for the inhabitants of London. Sequel to Maeve\n",
        "      Ascendant.</description>\n",
        "   </book>\n",
        "   <book id=\"bk105\">\n",
        "      <author>Corets, Eva</author>\n",
        "      <title>The Sundered Grail</title>\n",
        "      <genre>Fantasy</genre>\n",
        "      <price>5.95</price>\n",
        "      <publish_date>2001-09-10</publish_date>\n",
        "      <description>The two daughters of Maeve, half-sisters,\n",
        "      battle one another for control of England. Sequel to\n",
        "      Oberon's Legacy.</description>\n",
        "   </book>\n",
        "   <book id=\"bk106\">\n",
        "      <author>Randall, Cynthia</author>\n",
        "      <title>Lover Birds</title>\n",
        "      <genre>Romance</genre>\n",
        "      <price>4.95</price>\n",
        "      <publish_date>2000-09-02</publish_date>\n",
        "      <description>When Carla meets Paul at an ornithology\n",
        "      conference, tempers fly as feathers get ruffled.</description>\n",
        "   </book>\n",
        "   <book id=\"bk107\">\n",
        "      <author>Thurman, Paula</author>\n",
        "      <title>Splish Splash</title>\n",
        "      <genre>Romance</genre>\n",
        "      <price>4.95</price>\n",
        "      <publish_date>2000-11-02</publish_date>\n",
        "      <description>A deep sea diver finds true love twenty\n",
        "      thousand leagues beneath the sea.</description>\n",
        "   </book>\n",
        "   <book id=\"bk108\">\n",
        "      <author>Knorr, Stefan</author>\n",
        "      <title>Creepy Crawlies</title>\n",
        "      <genre>Horror</genre>\n",
        "      <price>4.95</price>\n",
        "      <publish_date>2000-12-06</publish_date>\n",
        "      <description>An anthology of horror stories about roaches,\n",
        "      centipedes, scorpions  and other insects.</description>\n",
        "   </book>\n",
        "   <book id=\"bk109\">\n",
        "      <author>Kress, Peter</author>\n",
        "      <title>Paradox Lost</title>\n",
        "      <genre>Science Fiction</genre>\n",
        "      <price>6.95</price>\n",
        "      <publish_date>2000-11-02</publish_date>\n",
        "      <description>After an inadvertant trip through a Heisenberg\n",
        "      Uncertainty Device, James Salway discovers the problems\n",
        "      of being quantum.</description>\n",
        "   </book>\n",
        "   <book id=\"bk110\">\n",
        "      <author>O'Brien, Tim</author>\n",
        "      <title>Microsoft .NET: The Programming Bible</title>\n",
        "      <genre>Computer</genre>\n",
        "      <price>36.95</price>\n",
        "      <publish_date>2000-12-09</publish_date>\n",
        "      <description>Microsoft's .NET initiative is explored in\n",
        "      detail in this deep programmer's reference.</description>\n",
        "   </book>\n",
        "</catalog>\n",
        "```\n",
        "\n"
      ],
      "metadata": {
        "id": "HB_eSossoaj8"
      }
    },
    {
      "cell_type": "markdown",
      "source": [
        "В этом примере мы выполнили парсинг XML, извлекли заголовки книги и вывели их в stdout. Давайте взглянем на код:\n",
        "\n"
      ],
      "metadata": {
        "id": "zMy9DWd9ol_a"
      }
    },
    {
      "cell_type": "code",
      "source": [
        "# -*- coding: utf-8 -*-\n",
        "import xml.dom.minidom as minidom\n",
        "\n",
        "def get_titles(xml_file):\n",
        "    \"\"\"\n",
        "    Выводим все заголовки из xml.\n",
        "    \"\"\"\n",
        "    doc = minidom.parse(xml_file)\n",
        "    books = doc.getElementsByTagName(\"book\")\n",
        "\n",
        "    titles = []\n",
        "    for book in books:\n",
        "        title_obj = book.getElementsByTagName(\"title\")[0]\n",
        "        titles.append(title_obj)\n",
        "\n",
        "    for title in titles:\n",
        "        nodes = title.childNodes\n",
        "        for node in nodes:\n",
        "            if node.nodeType == node.TEXT_NODE:\n",
        "                print(node.data)\n",
        "\n",
        "if __name__ == \"__main__\":\n",
        "    document = '/content/books.xml'\n",
        "    get_titles(document)"
      ],
      "metadata": {
        "colab": {
          "base_uri": "https://localhost:8080/"
        },
        "id": "LUpemQ12lgph",
        "outputId": "0d8fc4de-debc-45df-85a3-5217f9851cae"
      },
      "execution_count": null,
      "outputs": [
        {
          "output_type": "stream",
          "name": "stdout",
          "text": [
            "XML Developer's Guide\n",
            "Midnight Rain\n",
            "Maeve Ascendant\n",
            "Oberon's Legacy\n",
            "The Sundered Grail\n",
            "Lover Birds\n",
            "Splish Splash\n",
            "Creepy Crawlies\n",
            "Paradox Lost\n",
            "Microsoft .NET: The Programming Bible\n",
            "MSXML3: A Comprehensive Guide\n",
            "Visual Studio 7: A Comprehensive Guide\n"
          ]
        }
      ]
    },
    {
      "cell_type": "markdown",
      "source": [
        "Данный код представляет собой короткую функцию, которая принимает один аргумент - файл XML. Мы импортируем модуль minidom и даем ему такое же название, чтобы упростить отсылки к нему. Затем мы парсим XML. Первые две строки функции очень похожи на те, что были в предыдущем примере. Мы используем метод getElementsByTagName, чтобы собрать нужные нам части XML, после чего выполняем итерацию над результатом и извлекаем заголовки книги. Таким образом, мы извлекаем объекты заголовков, поэтому нам нужно выполнить итерацию этих данных, а также извлечь обычный текст. Поэтому мы используем вложенный цикл.\n",
        "\n",
        "Давайте уделаем немного времени на изучение унаследованного модуля ElementTree под названием \"xml\"."
      ],
      "metadata": {
        "id": "mdukZYpIpqSj"
      }
    },
    {
      "cell_type": "markdown",
      "source": [
        "## Парсинг с ElementTree\n",
        "\n",
        "В данном разделе, мы научимся создавать XML файлы, редактировать и выполнять парсинг при помощи ElementTree. Для сравнения, мы используем тот же XML, который мы использовали в предыдущем разделе для того, чтобы продемонстрировать разницу в использовании minidom и ElementTree. Вот наш код:"
      ],
      "metadata": {
        "id": "6vyDZgawpshf"
      }
    },
    {
      "cell_type": "markdown",
      "source": [
        "\n",
        "\n",
        "```\n",
        "<?xml version=\"1.0\" ?>\n",
        "<zAppointments reminder=\"15\">\n",
        "    <appointment>\n",
        "        <begin>1181251680</begin>\n",
        "        <uid>040000008200E000</uid>\n",
        "        <alarmTime>1181572063</alarmTime>\n",
        "        <state></state>\n",
        "        <location></location>\n",
        "        <duration>1800</duration>\n",
        "        <subject>Bring pizza home</subject>\n",
        "    </appointment>\n",
        "</zAppointments>\n",
        "```\n",
        "\n"
      ],
      "metadata": {
        "id": "n34zf20OpzYN"
      }
    },
    {
      "cell_type": "markdown",
      "source": [
        "Давайте начнем с изучения того, как создавать такую XML структуру при помощи Python\n",
        "\n",
        "### Как создавать XML при помощи ElementTree\n",
        "Создание XML при помощи ElementTree – это очень просто. В данном разделе, мы попытаемся создать написанный выше XML в Python. Давайте посмотрим на код:"
      ],
      "metadata": {
        "id": "kNbCIZZ_p1Xv"
      }
    },
    {
      "cell_type": "code",
      "source": [
        "# -*- coding: utf-8 -*-\n",
        "import xml.etree.ElementTree as ET\n",
        "\n",
        "def createXML(filename):\n",
        "    \"\"\"\n",
        "    Создает XML-файл с деталями о встрече.\n",
        "\n",
        "    Аргументы:\n",
        "    filename (str): Название создаваемого XML-файла.\n",
        "    \"\"\"\n",
        "    # Создание корневого элемента для структуры XML\n",
        "    root = ET.Element(\"zAppointments\")\n",
        "\n",
        "    # Создание элемента 'appointment' и добавление его к корню\n",
        "    appt = ET.Element(\"appointment\")\n",
        "    root.append(appt)\n",
        "\n",
        "    # Создание подэлементов для деталей о встрече\n",
        "    begin = ET.SubElement(appt, \"begin\")\n",
        "    begin.text = \"1181251680\"  # Установка текстового содержимого для элемента 'begin'\n",
        "\n",
        "    uid = ET.SubElement(appt, \"uid\")\n",
        "    uid.text = \"040000008200E000\"  # Установка текстового содержимого для элемента 'uid'\n",
        "\n",
        "    alarmTime = ET.SubElement(appt, \"alarmTime\")\n",
        "    alarmTime.text = \"1181572063\"  # Установка текстового содержимого для элемента 'alarmTime'\n",
        "\n",
        "    state = ET.SubElement(appt, \"state\")  # Создание пустого элемента 'state'\n",
        "\n",
        "    location = ET.SubElement(appt, \"location\")  # Создание пустого элемента 'location'\n",
        "\n",
        "    duration = ET.SubElement(appt, \"duration\")\n",
        "    duration.text = \"1800\"  # Установка текстового содержимого для элемента 'duration'\n",
        "\n",
        "    subject = ET.SubElement(appt, \"subject\")  # Создание пустого элемента 'subject'\n",
        "\n",
        "    # Создание объекта ElementTree с корневым элементом\n",
        "    tree = ET.ElementTree(root)\n",
        "\n",
        "    # Запись XML-структуры в файл\n",
        "    with open(filename, \"wb\") as fh:  # Открытие файла в бинарном режиме для записи\n",
        "        tree.write(fh, encoding=\"utf-8\", xml_declaration=True)\n",
        "\n",
        "if __name__ == \"__main__\":\n",
        "    createXML(\"appt.xml\")  # Вызов функции createXML для создания XML-файла"
      ],
      "metadata": {
        "id": "1eEJaNL-p6-r"
      },
      "execution_count": null,
      "outputs": []
    },
    {
      "cell_type": "markdown",
      "source": [
        "Если вы запустите этот код, вы должны получить что-то вроде нижеизложенного (возможно в одной строке):"
      ],
      "metadata": {
        "id": "3sYJ7ZLGqa5E"
      }
    },
    {
      "cell_type": "markdown",
      "source": [
        "\n",
        "\n",
        "```\n",
        "<?xml version=\"1.0\" encoding=\"UTF-8\"?>\n",
        "<zAppointments>\n",
        "   <appointment>\n",
        "      <begin>1181251680</begin>\n",
        "      <uid>040000008200E000</uid>\n",
        "      <alarmTime>1181572063</alarmTime>\n",
        "      <state />\n",
        "      <location />\n",
        "      <duration>1800</duration>\n",
        "      <subject />\n",
        "   </appointment>\n",
        "</zAppointments>\n",
        "```\n",
        "\n"
      ],
      "metadata": {
        "id": "rIXm6N5Eqbak"
      }
    },
    {
      "cell_type": "markdown",
      "source": [
        "Это очень похоже на исходный код и это, безусловно, действенный XML. Само собой, наши коды отличаются, но весьма похожи. Давайте уделим время для разбора кода и убедиться в том, что мы его хорошо понимаем. Для начала мы создаем корневой элемент при помощи функции Element модуля ElementTree. Далее, мы создаем элемент назначения и добавляем его к root. Далее, мы создаем SubElements, выполнив парсинг назначения объекта Element (appt) в SubElement наряду с именем, например, begin. Далее, для каждого SubElement, мы назначаем их текстовые свойства, для передачи значения. В конце скрипта мы создаем ElementTree и используем его для написания XML в файле. Теперь мы готовы к тому, чтобы научиться редактировать файл!\n",
        "\n",
        "### Как редактировать XML при помощи ElementTree\n",
        "Редактирование XML при помощи ElementTree это также очень просто. Чтобы все было немного интереснее, мы добавим другой блок назначения в XML:"
      ],
      "metadata": {
        "id": "SsiFfloRq_-A"
      }
    },
    {
      "cell_type": "markdown",
      "source": [
        "\n",
        "\n",
        "```\n",
        "<?xml version=\"1.0\" ?>\n",
        "<zAppointments reminder=\"15\">\n",
        "    <appointment>\n",
        "        <begin>1181251680</begin>\n",
        "        <uid>040000008200E000</uid>\n",
        "        <alarmTime>1181572063</alarmTime>\n",
        "        <state></state>\n",
        "        <location></location>\n",
        "        <duration>1800</duration>\n",
        "        <subject>Bring pizza home</subject>\n",
        "    </appointment>\n",
        "    <appointment>\n",
        "        <begin>1181253977</begin>\n",
        "        <uid>sdlkjlkadhdakhdfd</uid>\n",
        "        <alarmTime>1181588888</alarmTime>\n",
        "        <state>TX</state>\n",
        "        <location>Dallas</location>\n",
        "        <duration>1800</duration>\n",
        "        <subject>Bring pizza home</subject>\n",
        "    </appointment>\n",
        "</zAppointments>\n",
        "```\n",
        "\n"
      ],
      "metadata": {
        "id": "tngzCRRtrF6n"
      }
    },
    {
      "cell_type": "markdown",
      "source": [
        "Теперь мы напишем код для того, чтобы изменить каждое значение тега begin от секунд, начиная с эпохи на что-нибудь более читабельное. Мы используем модуль time python, чтобы облегчить себе жизнь:\n",
        "\n"
      ],
      "metadata": {
        "id": "7HnRFgMdrJvU"
      }
    },
    {
      "cell_type": "code",
      "source": [
        "# -*- coding: utf-8 -*-\n",
        "import time\n",
        "import xml.etree.cElementTree as ET\n",
        "\n",
        "def editXML(filename):\n",
        "    \"\"\"\n",
        "    Функция для редактирования XML файла.\n",
        "\n",
        "    Аргументы:\n",
        "    filename (строка): Имя файла, который нужно отредактировать.\n",
        "    \"\"\"\n",
        "    # Загружаем XML файл\n",
        "    tree = ET.ElementTree(file=filename)\n",
        "    root = tree.getroot()\n",
        "\n",
        "    # Изменяем время начала встречи на текущее время\n",
        "    for begin_time in root.iter(\"begin\"):\n",
        "        begin_time.text = time.ctime(int(begin_time.text))\n",
        "\n",
        "    # Сохраняем изменения в новый XML файл\n",
        "    with open(\"updated.xml\", \"wb\") as f:\n",
        "        tree.write(f, encoding=\"utf-8\", xml_declaration=True)\n",
        "\n",
        "if __name__ == \"__main__\":\n",
        "    editXML(\"original_appt.xml\")"
      ],
      "metadata": {
        "id": "zc78uuOirKfY"
      },
      "execution_count": null,
      "outputs": []
    },
    {
      "cell_type": "markdown",
      "source": [
        "Здесь мы создаем объект ElementTree с именем \"tree\" и извлекаем из него корневой элемент. Затем мы используем метод iter(), чтобы найти все теги с меткой \"begin\". Следует отметить, что метод iter() был добавлен в Python 2.7. В цикле for мы изменяем текстовое содержимое каждого элемента, чтобы преобразовать его в более читаемый формат времени с помощью метода time.ctime(). Также обратите внимание, что нам необходимо преобразовать строку в целое число перед передачей его в ctime. Результат будет примерно следующим:"
      ],
      "metadata": {
        "id": "IMc2GXTStLHu"
      }
    },
    {
      "cell_type": "markdown",
      "source": [
        "\n",
        "\n",
        "```\n",
        "<?xml version='1.0' encoding='utf-8'?>\n",
        "<zAppointments reminder=\"15\">\n",
        "    <appointment>\n",
        "        <begin>Thu Jun  7 21:28:00 2007</begin>\n",
        "        <uid>040000008200E000</uid>\n",
        "        <alarmTime>1181572063</alarmTime>\n",
        "        <state />\n",
        "        <location />\n",
        "        <duration>1800</duration>\n",
        "        <subject>Bring pizza home</subject>\n",
        "    </appointment>\n",
        "    <appointment>\n",
        "        <begin>Thu Jun  7 22:06:17 2007</begin>\n",
        "        <uid>sdlkjlkadhdakhdfd</uid>\n",
        "        <alarmTime>1181588888</alarmTime>\n",
        "        <state>TX</state>\n",
        "        <location>Dallas</location>\n",
        "        <duration>1800</duration>\n",
        "        <subject>Bring pizza home</subject>\n",
        "    </appointment>\n",
        "</zAppointments>\n",
        "```\n",
        "\n"
      ],
      "metadata": {
        "id": "8GfQkSKjtRma"
      }
    },
    {
      "cell_type": "markdown",
      "source": [
        "Вы также можете использовать методы ElementTree, такие как find() или findall() для поиска конкретных тегов в вашем XML. Метод find() найдет только первый пример, в то время как findall() найдет каждый тег с указанной отметкой. Это очень полезно при решении задач, возникших при редактировании или при парсинге, что является темой нашего следующего раздела!\n",
        "\n",
        "### Парсинг и ElementTree\n",
        "\n",
        "Сейчас мы научимся тому, как выполнять базовый парсинг при помощи ElementTree. Сначала, мы пройдемся по коду в целом, затем разберем его кирпичик за кирпичиком, чтобы понять, как это работает. Обратите внимание на то, что этот код основан на оригинальном примере, и должен работать также и на втором примере."
      ],
      "metadata": {
        "id": "4oD5ZXBAtVws"
      }
    },
    {
      "cell_type": "code",
      "source": [
        "# -*- coding: utf-8 -*-\n",
        "import xml.etree.cElementTree as ET\n",
        "\n",
        "def parseXML(xml_file):\n",
        "    \"\"\"\n",
        "    Парсинг XML с использованием ElementTree.\n",
        "\n",
        "    Аргументы:\n",
        "    xml_file (строка): Имя XML файла для парсинга.\n",
        "    \"\"\"\n",
        "    # Создаем объект ElementTree из XML файла\n",
        "    tree = ET.ElementTree(file=xml_file)\n",
        "\n",
        "    # Получаем корневой элемент и выводим его тег и атрибуты\n",
        "    root = tree.getroot()\n",
        "    print(\"tag=%s, attrib=%s\" % (root.tag, root.attrib))\n",
        "\n",
        "    # Итерируемся по дочерним элементам корневого элемента\n",
        "    for child in root:\n",
        "        print(child.tag, child.attrib)\n",
        "        if child.tag == \"appointment\":\n",
        "            # Если тег равен \"appointment\", итерируемся по его дочерним элементам\n",
        "            for step_child in child:\n",
        "                print(step_child.tag)\n",
        "\n",
        "    # Парсинг всей XML структуры с использованием итератора дерева\n",
        "    print(\"-\" * 40)\n",
        "    print(\"Итерация с использованием итератора дерева\")\n",
        "    print(\"-\" * 40)\n",
        "    iter_ = tree.iter()\n",
        "\n",
        "    for elem in iter_:\n",
        "        print(elem.tag)\n",
        "\n",
        "    # Получаем данные, используя метод list(), чтобы получить список дочерних элементов\n",
        "    print(\"-\" * 40)\n",
        "    print(\"Обработка дочерних элементов с помощью метода list()\")\n",
        "    print(\"-\" * 40)\n",
        "    appointments = list(root)\n",
        "\n",
        "    for appointment in appointments:\n",
        "        for appt_child in appointment:\n",
        "            print(\"%s=%s\" % (appt_child.tag, appt_child.text))\n",
        "\n",
        "if __name__ == \"__main__\":\n",
        "    parseXML(\"appt.xml\")"
      ],
      "metadata": {
        "colab": {
          "base_uri": "https://localhost:8080/"
        },
        "id": "tDH0aDq9tYeQ",
        "outputId": "04d4cba0-8b11-475c-c969-fa32f4b660eb"
      },
      "execution_count": null,
      "outputs": [
        {
          "output_type": "stream",
          "name": "stdout",
          "text": [
            "tag=zAppointments, attrib={}\n",
            "appointment {}\n",
            "begin\n",
            "uid\n",
            "alarmTime\n",
            "state\n",
            "location\n",
            "duration\n",
            "subject\n",
            "----------------------------------------\n",
            "Итерация с использованием итератора дерева\n",
            "----------------------------------------\n",
            "zAppointments\n",
            "appointment\n",
            "begin\n",
            "uid\n",
            "alarmTime\n",
            "state\n",
            "location\n",
            "duration\n",
            "subject\n",
            "----------------------------------------\n",
            "Обработка дочерних элементов с помощью метода list()\n",
            "----------------------------------------\n",
            "begin=1181251680\n",
            "uid=040000008200E000\n",
            "alarmTime=1181572063\n",
            "state=None\n",
            "location=None\n",
            "duration=1800\n",
            "subject=None\n"
          ]
        }
      ]
    },
    {
      "cell_type": "markdown",
      "source": [
        "Вы уже должны понять, как это работает, но в этом примере, так же как и в предыдущем, мы импортируем `cElementTree` вместо обычного `ElementTree`. Разница между этими двумя заключается в том, что `cElementTree` основан на языке C, а не на Python, поэтому он работает намного быстрее. В любом случае, мы снова создаем объект `ElementTree` и извлекаем из него корневой элемент. Обратите внимание, что мы выводим корневой элемент, его тег и атрибуты.\n",
        "\n",
        "Далее мы покажем несколько способов итерации по тегам. Первый цикл просто итерирует XML, дочерний элемент за дочерним. Таким образом, выводятся только дочерние элементы (назначение) с наивысшим уровнем, поэтому мы добавили оператор if, чтобы проверить дочерний элемент и выполнить его итерацию.\n",
        "\n",
        "Затем мы берем итератор из объекта `tree` и также итерируем его. В результате мы получаем ту же информацию, но без дополнительных шагов, как в первом примере. Третий метод использует метод `list()`, чтобы получить список дочерних элементов. Затем мы используем вложенный цикл, чтобы получить все теги дочерних элементов и назначений.\n",
        "\n",
        "В последнем примере используется метод `iter()` для перебора всех тегов, соответствующих строке \"begin\".\n",
        "\n",
        "Как было отмечено в последнем разделе, вы также можете использовать методы `find()` или `findall()`, чтобы облегчить поиск конкретных тегов или наборов тегов соответственно. Также обратите внимание на то, что каждый объект Element имеет свой тег и текстовое значение, что можно использовать для получения точной информации."
      ],
      "metadata": {
        "id": "4JYZKYHHt0wR"
      }
    },
    {
      "cell_type": "markdown",
      "source": [
        "# Примеры\n",
        "**Пример 1.** Сериализация и десериализация кортежа:"
      ],
      "metadata": {
        "id": "UODqQso7t1li"
      }
    },
    {
      "cell_type": "code",
      "source": [
        "import xml.etree.ElementTree as ET\n",
        "\n",
        "# Сериализация кортежа в XML\n",
        "def serialize_tuple_to_xml(data):\n",
        "    root = ET.Element(\"tuple\")\n",
        "    for item in data:\n",
        "        sub_element = ET.SubElement(root, \"item\")\n",
        "        sub_element.text = str(item)\n",
        "    return ET.tostring(root).decode(\"utf-8\")\n",
        "\n",
        "# Десериализация XML в кортеж\n",
        "def deserialize_xml_to_tuple(xml_string):\n",
        "    root = ET.fromstring(xml_string)\n",
        "    return tuple(int(child.text) for child in root)\n",
        "\n",
        "# Пример использования\n",
        "tuple_data = (1, 2, 3)\n",
        "xml_data = serialize_tuple_to_xml(tuple_data)\n",
        "print(xml_data)\n",
        "deserialized_tuple = deserialize_xml_to_tuple(xml_data)\n",
        "print(deserialized_tuple)"
      ],
      "metadata": {
        "colab": {
          "base_uri": "https://localhost:8080/"
        },
        "id": "7Xq6bnqVuX0v",
        "outputId": "d709af7b-f1e0-44cf-a755-3e2c42c59fdd"
      },
      "execution_count": null,
      "outputs": [
        {
          "output_type": "stream",
          "name": "stdout",
          "text": [
            "<tuple><item>1</item><item>2</item><item>3</item></tuple>\n",
            "(1, 2, 3)\n"
          ]
        }
      ]
    },
    {
      "cell_type": "markdown",
      "source": [
        "Пример 2. Сериализация и десериализация строки:"
      ],
      "metadata": {
        "id": "Y5MC12_6uf77"
      }
    },
    {
      "cell_type": "code",
      "source": [
        "import xml.etree.ElementTree as ET\n",
        "\n",
        "# Сериализация строки в XML\n",
        "def serialize_string_to_xml(data):\n",
        "    root = ET.Element(\"string\")\n",
        "    root.text = data\n",
        "    return ET.tostring(root).decode(\"utf-8\")\n",
        "\n",
        "# Десериализация XML в строку\n",
        "def deserialize_xml_to_string(xml_string):\n",
        "    root = ET.fromstring(xml_string)\n",
        "    return root.text\n",
        "\n",
        "# Пример использования\n",
        "string_data = \"Hello, XML!\"\n",
        "xml_data = serialize_string_to_xml(string_data)\n",
        "print(xml_data)\n",
        "deserialized_string = deserialize_xml_to_string(xml_data)\n",
        "print(deserialized_string)"
      ],
      "metadata": {
        "colab": {
          "base_uri": "https://localhost:8080/"
        },
        "id": "kb7zvE8Nujqk",
        "outputId": "9e57f077-887d-4ff0-8921-04117774a161"
      },
      "execution_count": null,
      "outputs": [
        {
          "output_type": "stream",
          "name": "stdout",
          "text": [
            "<string>Hello, XML!</string>\n",
            "Hello, XML!\n"
          ]
        }
      ]
    },
    {
      "cell_type": "markdown",
      "source": [
        "**Пример 3.**  Сериализация и десериализация списка:"
      ],
      "metadata": {
        "id": "dFymctDVusZO"
      }
    },
    {
      "cell_type": "code",
      "source": [
        "import xml.etree.ElementTree as ET\n",
        "\n",
        "# Сериализация списка в XML\n",
        "def serialize_list_to_xml(data):\n",
        "    root = ET.Element(\"list\")\n",
        "    for item in data:\n",
        "        sub_element = ET.SubElement(root, \"item\")\n",
        "        sub_element.text = str(item)\n",
        "    return ET.tostring(root).decode(\"utf-8\")\n",
        "\n",
        "# Десериализация XML в список\n",
        "def deserialize_xml_to_list(xml_string):\n",
        "    root = ET.fromstring(xml_string)\n",
        "    return [int(child.text) for child in root]\n",
        "\n",
        "# Пример использования\n",
        "list_data = [4, 5, 6]\n",
        "xml_data = serialize_list_to_xml(list_data)\n",
        "print(xml_data)\n",
        "deserialized_list = deserialize_xml_to_list(xml_data)\n",
        "print(deserialized_list)"
      ],
      "metadata": {
        "colab": {
          "base_uri": "https://localhost:8080/"
        },
        "id": "iC7tT2LLuw6A",
        "outputId": "37d01482-2ccd-417d-a0fc-cdb287002dda"
      },
      "execution_count": null,
      "outputs": [
        {
          "output_type": "stream",
          "name": "stdout",
          "text": [
            "<list><item>4</item><item>5</item><item>6</item></list>\n",
            "[4, 5, 6]\n"
          ]
        }
      ]
    },
    {
      "cell_type": "markdown",
      "source": [
        "**Пример 4.** Сериализация и десериализация объектов:"
      ],
      "metadata": {
        "id": "k1aPOkXYu2js"
      }
    },
    {
      "cell_type": "code",
      "source": [
        "import xml.etree.ElementTree as ET\n",
        "\n",
        "class Person:\n",
        "    def __init__(self, name, age):\n",
        "        self.name = name\n",
        "        self.age = age\n",
        "\n",
        "# Сериализация объекта в XML\n",
        "def serialize_object_to_xml(obj):\n",
        "    root = ET.Element(\"person\")\n",
        "    name_element = ET.SubElement(root, \"name\")\n",
        "    name_element.text = obj.name\n",
        "    age_element = ET.SubElement(root, \"age\")\n",
        "    age_element.text = str(obj.age)\n",
        "    return ET.tostring(root).decode(\"utf-8\")\n",
        "\n",
        "# Десериализация XML в объект\n",
        "def deserialize_xml_to_object(xml_string):\n",
        "    root = ET.fromstring(xml_string)\n",
        "    name = root.find(\"name\").text\n",
        "    age = int(root.find(\"age\").text)\n",
        "    return Person(name, age)\n",
        "\n",
        "# Пример использования\n",
        "person_obj = Person(\"Alice\", 30)\n",
        "xml_data = serialize_object_to_xml(person_obj)\n",
        "print(xml_data)\n",
        "deserialized_person = deserialize_xml_to_object(xml_data)\n",
        "print(deserialized_person.name, deserialized_person.age)"
      ],
      "metadata": {
        "colab": {
          "base_uri": "https://localhost:8080/"
        },
        "id": "4teummmxu6-p",
        "outputId": "7b2ed834-dcf8-461b-8a1f-a233c1893fe7"
      },
      "execution_count": null,
      "outputs": [
        {
          "output_type": "stream",
          "name": "stdout",
          "text": [
            "<person><name>Alice</name><age>30</age></person>\n",
            "Alice 30\n"
          ]
        }
      ]
    },
    {
      "cell_type": "markdown",
      "source": [
        "**Пример 5.** Сериализация и десериализация объектов:"
      ],
      "metadata": {
        "id": "KUdeBlYQxCiv"
      }
    },
    {
      "cell_type": "code",
      "source": [
        "import xml.etree.ElementTree as ET\n",
        "\n",
        "class Person:\n",
        "    def __init__(self, name, age):\n",
        "        self.name = name\n",
        "        self.age = age\n",
        "\n",
        "    def to_xml(self):\n",
        "        # Создание XML-элемента для объекта Person\n",
        "        person_element = ET.Element(\"person\")\n",
        "        name_element = ET.SubElement(person_element, \"name\")\n",
        "        name_element.text = self.name\n",
        "        age_element = ET.SubElement(person_element, \"age\")\n",
        "        age_element.text = str(self.age)\n",
        "        return person_element\n",
        "\n",
        "    @staticmethod\n",
        "    def from_xml(element):\n",
        "        # Десериализация XML в объект Person\n",
        "        name = element.find(\"name\").text\n",
        "        age = int(element.find(\"age\").text)\n",
        "        return Person(name, age)\n",
        "\n",
        "class Student(Person):\n",
        "    def __init__(self, name, age, student_id):\n",
        "        super().__init__(name, age)\n",
        "        self.student_id = student_id\n",
        "\n",
        "    def to_xml(self):\n",
        "        # Создание XML-элемента для объекта Student\n",
        "        student_element = super().to_xml()  # Используем метод родительского класса для создания основного элемента\n",
        "        student_element.tag = \"student\"  # Изменяем тег элемента на \"student\"\n",
        "        student_id_element = ET.SubElement(student_element, \"student_id\")\n",
        "        student_id_element.text = self.student_id\n",
        "        return student_element\n",
        "\n",
        "    @staticmethod\n",
        "    def from_xml(element):\n",
        "        # Десериализация XML в объект Student\n",
        "        person = Person.from_xml(element)  # Используем метод родительского класса для десериализации основной информации\n",
        "        student_id = element.find(\"student_id\").text\n",
        "        return Student(person.name, person.age, student_id)\n",
        "\n",
        "# Создание объекта студента\n",
        "student1 = Student(\"Alice\", 20, \"S12345\")\n",
        "\n",
        "# Сериализация объекта в XML\n",
        "student_xml = ET.tostring(student1.to_xml()).decode(\"utf-8\")\n",
        "print(student_xml)\n",
        "\n",
        "# Десериализация XML в объект студента\n",
        "student_element = ET.fromstring(student_xml)\n",
        "deserialized_student = Student.from_xml(student_element)\n",
        "print(deserialized_student.name)  # Вывод: \"Alice\"\n",
        "print(deserialized_student.age)   # Вывод: 20\n",
        "print(deserialized_student.student_id)  # Вывод: \"S12345\""
      ],
      "metadata": {
        "colab": {
          "base_uri": "https://localhost:8080/"
        },
        "id": "vGKA-tB2xUuE",
        "outputId": "11bc2128-b4f6-4f96-844f-79c20149082d"
      },
      "execution_count": null,
      "outputs": [
        {
          "output_type": "stream",
          "name": "stdout",
          "text": [
            "<student><name>Alice</name><age>20</age><student_id>S12345</student_id></student>\n",
            "Alice\n",
            "20\n",
            "S12345\n"
          ]
        }
      ]
    },
    {
      "cell_type": "markdown",
      "source": [
        "# Модуль pickle"
      ],
      "metadata": {
        "id": "RF30GTYDxxnH"
      }
    },
    {
      "cell_type": "markdown",
      "source": [
        "Модуль `pickle` в Python используется для сериализации (преобразования объектов Python в поток байтов) и десериализации (восстановления объектов Python из потока байтов). Вот несколько основных причин, по которым `pickle` может быть полезен:\n",
        "\n",
        "1. Сохранение состояния объектов: `pickle` позволяет сохранить состояние объектов Python в файле, чтобы они могли быть восстановлены позже.\n",
        "\n",
        "2. Обмен данными между приложениями: `pickle` позволяет преобразовать объекты Python в поток байтов, которые затем могут быть переданы через сеть или сохранены на диске.\n",
        "\n",
        "3. Кеширование объектов: `pickle` может использоваться для кеширования сложных вычислений или результатов запросов, чтобы избежать повторных вычислений.\n",
        "\n",
        "4. Сериализация объектов для хранения в базе данных: `pickle` может быть использован для сериализации объектов перед их сохранением в базе данных.\n",
        "\n",
        "5. Передача объектов между процессами: `pickle` позволяет передавать объекты между процессами или сохранять состояние объектов перед завершением процесса.\n",
        "\n",
        "Однако следует помнить, что использование `pickle` может иметь некоторые ограничения, такие как совместимость между версиями Python и потенциальные проблемы безопасности при десериализации данных из ненадежных источников."
      ],
      "metadata": {
        "id": "5dujWqgZ0uCC"
      }
    },
    {
      "cell_type": "markdown",
      "source": [
        "\n",
        "***Не загружайте с помощью модуля pickle файлы из ненадёжных источников. Это может привести к необратимым последствиям.***\n",
        "\n",
        "Модуль pickle предоставляет следующие функции для удобства сохранения/загрузки объектов:\n",
        "\n",
        "pickle.dump(obj, file, protocol=None, *, fix_imports=True) - записывает сериализованный объект в файл. Дополнительный аргумент protocol указывает используемый протокол. По умолчанию равен 3 и именно он рекомендован для использования в Python 3 (несмотря на то, что в Python 3.4 добавили протокол версии 4 с некоторыми оптимизациями). В любом случае, записывать и загружать надо с одним и тем же протоколом.\n",
        "\n",
        "* pickle.dumps(obj, protocol=None, *, fix_imports=True) - возвращает сериализованный объект. Впоследствии вы его можете использовать как угодно.\n",
        "\n",
        "* pickle.load(file, *, fix_imports=True, encoding=\"ASCII\", errors=\"strict\") - загружает объект из файла.\n",
        "\n",
        "* pickle.loads(bytes_object, *, fix_imports=True, encoding=\"ASCII\", errors=\"strict\") - загружает объект из потока байт.\n",
        "\n",
        "Модуль pickle также определяет несколько исключений:\n",
        "\n",
        ">pickle.PickleError\n",
        "* pickle.PicklingError - случились проблемы с сериализацией объекта.\n",
        "* pickle.UnpicklingError - случились проблемы с десериализацией объекта.\n",
        "Этих функций вполне достаточно для сохранения и загрузки встроенных типов данных."
      ],
      "metadata": {
        "id": "CbJGb8ekzHCT"
      }
    },
    {
      "cell_type": "markdown",
      "source": [
        "## Примеры"
      ],
      "metadata": {
        "id": "6wWqiKq1zbXi"
      }
    },
    {
      "cell_type": "markdown",
      "source": [
        "**Пример 1.** Сериализация и десериализация числового типа"
      ],
      "metadata": {
        "id": "q7E36gwxzeK_"
      }
    },
    {
      "cell_type": "code",
      "source": [
        "import pickle\n",
        "\n",
        "number = 42\n",
        "\n",
        "# Сериализация числа\n",
        "with open(\"number.pickle\", \"wb\") as file:\n",
        "    pickle.dump(number, file)\n",
        "\n",
        "# Десериализация числа\n",
        "with open(\"number.pickle\", \"rb\") as file:\n",
        "    deserialized_number = pickle.load(file)\n",
        "\n",
        "print(deserialized_number)  # Вывод: 42"
      ],
      "metadata": {
        "id": "pRpd3iKAzysn",
        "outputId": "9734b752-9ca0-4e76-e738-5c8549e16554",
        "colab": {
          "base_uri": "https://localhost:8080/"
        }
      },
      "execution_count": null,
      "outputs": [
        {
          "output_type": "stream",
          "name": "stdout",
          "text": [
            "42\n"
          ]
        }
      ]
    },
    {
      "cell_type": "markdown",
      "source": [
        "**Пример 2.** Сериализация и десериализация строкового типа:"
      ],
      "metadata": {
        "id": "06TnnmXpzhtH"
      }
    },
    {
      "cell_type": "code",
      "source": [
        "import pickle\n",
        "\n",
        "string = \"Hello, Pickle!\"\n",
        "\n",
        "# Сериализация строки\n",
        "with open(\"string.pickle\", \"wb\") as file:\n",
        "    pickle.dump(string, file)\n",
        "\n",
        "# Десериализация строки\n",
        "with open(\"string.pickle\", \"rb\") as file:\n",
        "    deserialized_string = pickle.load(file)\n",
        "\n",
        "print(deserialized_string)  # Вывод: Hello, Pickle!"
      ],
      "metadata": {
        "id": "ik6BB0U3z55j",
        "outputId": "299ca19e-52e0-4add-ee6a-82ddf7d2499b",
        "colab": {
          "base_uri": "https://localhost:8080/"
        }
      },
      "execution_count": null,
      "outputs": [
        {
          "output_type": "stream",
          "name": "stdout",
          "text": [
            "Hello, Pickle!\n"
          ]
        }
      ]
    },
    {
      "cell_type": "markdown",
      "source": [
        "**Пример 3.** Сериализация и десериализация кортежа:"
      ],
      "metadata": {
        "id": "A67n7unfzhv0"
      }
    },
    {
      "cell_type": "code",
      "source": [
        "import pickle\n",
        "\n",
        "tuple_data = (1, 2, 3)\n",
        "\n",
        "# Сериализация кортежа\n",
        "with open(\"tuple.pickle\", \"wb\") as file:\n",
        "    pickle.dump(tuple_data, file)\n",
        "\n",
        "# Десериализация кортежа\n",
        "with open(\"tuple.pickle\", \"rb\") as file:\n",
        "    deserialized_tuple = pickle.load(file)\n",
        "\n",
        "print(deserialized_tuple)  # Вывод: (1, 2, 3)"
      ],
      "metadata": {
        "id": "VAt1I5OR0BBA",
        "outputId": "41c274e6-caf5-4241-c36b-9e6466741182",
        "colab": {
          "base_uri": "https://localhost:8080/"
        }
      },
      "execution_count": null,
      "outputs": [
        {
          "output_type": "stream",
          "name": "stdout",
          "text": [
            "(1, 2, 3)\n"
          ]
        }
      ]
    },
    {
      "cell_type": "markdown",
      "source": [
        "**Пример 4.** Сериализация и десериализация списка:"
      ],
      "metadata": {
        "id": "g4o4ul-hzhy2"
      }
    },
    {
      "cell_type": "code",
      "source": [
        "import pickle\n",
        "\n",
        "list_data = [1, 2, 3]\n",
        "\n",
        "# Сериализация списка\n",
        "with open(\"list.pickle\", \"wb\") as file:\n",
        "    pickle.dump(list_data, file)\n",
        "\n",
        "# Десериализация списка\n",
        "with open(\"list.pickle\", \"rb\") as file:\n",
        "    deserialized_list = pickle.load(file)\n",
        "\n",
        "print(deserialized_list)  # Вывод: [1, 2, 3]"
      ],
      "metadata": {
        "id": "2S99KcHN0IlE",
        "outputId": "cf5b2371-425c-4621-8a3a-9aa0779364e3",
        "colab": {
          "base_uri": "https://localhost:8080/"
        }
      },
      "execution_count": null,
      "outputs": [
        {
          "output_type": "stream",
          "name": "stdout",
          "text": [
            "[1, 2, 3]\n"
          ]
        }
      ]
    },
    {
      "cell_type": "markdown",
      "source": [
        "**Пример 5.** Сериализация и десериализация словаря:"
      ],
      "metadata": {
        "id": "sPAtqXtbzh1e"
      }
    },
    {
      "cell_type": "code",
      "source": [
        "import pickle\n",
        "\n",
        "dict_data = {\"a\": 1, \"b\": 2, \"c\": 3}\n",
        "\n",
        "# Сериализация словаря\n",
        "with open(\"dict.pickle\", \"wb\") as file:\n",
        "    pickle.dump(dict_data, file)\n",
        "\n",
        "# Десериализация словаря\n",
        "with open(\"dict.pickle\", \"rb\") as file:\n",
        "    deserialized_dict = pickle.load(file)\n",
        "\n",
        "print(deserialized_dict)  # Вывод: {'a': 1, 'b': 2, 'c': 3}"
      ],
      "metadata": {
        "id": "4ZOlw-pu0PnZ",
        "outputId": "c94b6d0c-55ea-44e1-a7b4-af9f79019c18",
        "colab": {
          "base_uri": "https://localhost:8080/"
        }
      },
      "execution_count": null,
      "outputs": [
        {
          "output_type": "stream",
          "name": "stdout",
          "text": [
            "{'a': 1, 'b': 2, 'c': 3}\n"
          ]
        }
      ]
    },
    {
      "cell_type": "markdown",
      "source": [
        "**Пример 6.** Сериализация и десериализация объекта класса:"
      ],
      "metadata": {
        "id": "PNZhIkUGzh5n"
      }
    },
    {
      "cell_type": "code",
      "source": [
        "import pickle\n",
        "\n",
        "class Student:\n",
        "    def __init__(self, name, age, student_id):\n",
        "        self.name = name\n",
        "        self.age = age\n",
        "        self.student_id = student_id\n",
        "\n",
        "    def __str__(self):\n",
        "        return f\"Student(name={self.name}, age={self.age}, student_id={self.student_id})\"\n",
        "\n",
        "# Создание объекта студента\n",
        "student = Student(\"Alice\", 20, \"S12345\")\n",
        "\n",
        "# Сериализация объекта в файл\n",
        "with open(\"student.pickle\", \"wb\") as file:\n",
        "    pickle.dump(student, file)\n",
        "\n",
        "# Десериализация объекта из файла\n",
        "with open(\"student.pickle\", \"rb\") as file:\n",
        "    deserialized_student = pickle.load(file)\n",
        "\n",
        "print(deserialized_student)  # Вывод: Student(name=Alice, age=20, student_id=S12345)"
      ],
      "metadata": {
        "id": "I0vymbzb0Wda",
        "outputId": "3f68c624-5756-41a8-8619-9495ad6fc19e",
        "colab": {
          "base_uri": "https://localhost:8080/"
        }
      },
      "execution_count": null,
      "outputs": [
        {
          "output_type": "stream",
          "name": "stdout",
          "text": [
            "Student(name=Alice, age=20, student_id=S12345)\n"
          ]
        }
      ]
    },
    {
      "cell_type": "markdown",
      "source": [],
      "metadata": {
        "id": "cosG4RNPDblZ"
      }
    },
    {
      "cell_type": "markdown",
      "source": [
        "# SQLite\n",
        "## Подключение к SQLite"
      ],
      "metadata": {
        "id": "p3OcBu7OoMRN"
      }
    },
    {
      "cell_type": "markdown",
      "source": [
        "Python по умолчанию поддерживает работу с базой данных SQLite. Для этого применяется встроенная библиотека sqlite3, которая в python доступна в виде одноименного модуля.\n",
        "\n",
        "Для подключения к бд в этой библиотеке определена функция connect():"
      ],
      "metadata": {
        "id": "60sEreIfoQS0"
      }
    },
    {
      "cell_type": "markdown",
      "source": [
        "\n",
        "\n",
        "```\n",
        "sqlite3.connect(database, timeout=5.0, detect_types=0, isolation_level='DEFERRED', check_same_thread=True, factory=sqlite3.Connection, cached_statements=128, uri=False)\n",
        "\n",
        "```\n",
        "\n"
      ],
      "metadata": {
        "id": "EB4Vcf9hoa-Q"
      }
    },
    {
      "cell_type": "markdown",
      "source": [
        "Она принимает следующие параметры:\n",
        "\n",
        "* database: путь к файлу базы данных. Если база данных расположена в памяти, а не на диске, то для открытия подключения используется \":memory:\"\n",
        "\n",
        "* timeout: период времени в секундах, через который генерируется исключение, если файл бд занят другим процессом\n",
        "\n",
        "* detect_types: управляет сопоставлением типов SQLite с типами Python. Значение 0 отключает сопоставление\n",
        "\n",
        "* isolation_level : устанавливает уровень изоляции подключения и определяет процесс отрытия неявных транзакций. Возможные значения: \"DEFERRED\" (значение по умолчанию), \"EXCLUSIVE\", \"IMMEDIATE\" или None (неявные транзакции отключены)\n",
        "\n",
        "* check_same_thread: если равно True (значение по умолчанию), то только поток, который создал подключение, может его использовать. Если равно False, подключение может использоваться несколькими потоками.\n",
        "\n",
        "* factory: класс фабрики, который применяется для создания подключения. Должен представлять класс, производный от Connection. По умолчанию используется класс sqlite3.Connection\n",
        "\n",
        "* cached_statements: количество SQL-инструкций, которые должны кэшироваться. По умолчанию равно 128.\n",
        "\n",
        "* uri: булевое значение, если равно True, то путь к базе данных рассматривается как адрес URI\n",
        "\n",
        "Обязательным параметром функции является путь к базе данных. Результатом функции является объект подключения (объект класса Connection), через затем можно взаимодействовать с базой данных.\n",
        "\n",
        "Например, подключение к базе данных \"myfirst.db\", которая располагается в той же папке, что и текущий скрипт (если такая база данных отсутствует, то она автоматически создается):"
      ],
      "metadata": {
        "id": "IVnhlkeLoeDo"
      }
    },
    {
      "cell_type": "code",
      "source": [
        "import sqlite3;\n",
        "\n",
        "con = sqlite3.connect(\"myfirst.db\")"
      ],
      "metadata": {
        "id": "CWDONjjYonVF"
      },
      "execution_count": null,
      "outputs": []
    },
    {
      "cell_type": "markdown",
      "source": [
        "## Сопоставление типов SQLite и Python\n",
        "Прежде чем начать работать с базой данных, следует понимать, как сопоставляются типы SQLite и типы Python. По умолчанию применяются следующие сопоставления:"
      ],
      "metadata": {
        "id": "Z_54099Eot8I"
      }
    },
    {
      "cell_type": "markdown",
      "source": [
        "![image.png](data:image/png;base64,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)"
      ],
      "metadata": {
        "id": "rV0g38Psoxlg"
      }
    },
    {
      "cell_type": "markdown",
      "source": [
        "Следует отметить, что при необходимости мы можем переопределять сопоставление, применяя кастомные конвертеры типов.\n",
        "\n",
        "## Получение курсора\n",
        "Для выполнения выражений SQL и получения данных из БД, необходимо создать курсор. Для этого у объекта Connection вызывается метод cursor(). Этот метод возвращает объект Cursor:"
      ],
      "metadata": {
        "id": "WnWu3ibOo3g2"
      }
    },
    {
      "cell_type": "code",
      "source": [
        "import sqlite3;\n",
        "# создаем подключение\n",
        "con = sqlite3.connect(\"firstDB.db\")\n",
        "# получаем курсор\n",
        "cursor = con.cursor()"
      ],
      "metadata": {
        "id": "0n6wLjMHo7zQ"
      },
      "execution_count": null,
      "outputs": []
    },
    {
      "cell_type": "markdown",
      "source": [
        "## Выполнение запросов к базе данных\n",
        "Для выполнения запросов и получения данных класс Cursor предоставляет ряд методов:\n",
        "\n",
        "* execute(sql, parameters=(), /): выполняет одну SQL-инструкцию. Через второй параметр в код SQL можно передать набор параметров в виде списка или словаря\n",
        "\n",
        "* executemany(sql, parameters, /): выполняет параметризованное SQL-инструкцию. Через второй параметр принимает наборы значений, которые передаются в выполняемый код SQL.\n",
        "\n",
        "* executescript(sql_script, /): выполняет SQL-скрипт, который может включать множество SQL-инструкций\n",
        "\n",
        "* fetchone(): возвращает одну строку в виде кортежа из полученного из БД набора строк\n",
        "\n",
        "* fetchmany(size=cursor.arraysize): возвращает набор строк в виде списка. количество возвращаемых строк передается через параметр. Если больше строк нет в наборе, то возвращается пустой список.\n",
        "\n",
        "* fetchall(): возвращает все (оставшиеся) строки в виде списка. При отсутствии строк возвращается пустой список.\n",
        "\n",
        "## Создание таблицы\n",
        "Для создания таблицы в SQLite применяется инструкция CREATE TABLE. Например, создадим в базе данных \"metanit.db\" таблицу people:"
      ],
      "metadata": {
        "id": "uGBTl_0epASi"
      }
    },
    {
      "cell_type": "code",
      "source": [
        "import sqlite3;\n",
        "\n",
        "con = sqlite3.connect(\"firstDB.db\")\n",
        "cursor = con.cursor()\n",
        "\n",
        "# создаем таблицу people\n",
        "cursor.execute(\"\"\"CREATE TABLE people\n",
        "                (id INTEGER PRIMARY KEY AUTOINCREMENT,\n",
        "                name TEXT,\n",
        "                age INTEGER)\n",
        "            \"\"\")"
      ],
      "metadata": {
        "colab": {
          "base_uri": "https://localhost:8080/"
        },
        "id": "DnYMsxxFpOMo",
        "outputId": "f5a0c518-2e64-4d4a-c549-3cb371852190"
      },
      "execution_count": null,
      "outputs": [
        {
          "output_type": "execute_result",
          "data": {
            "text/plain": [
              "<sqlite3.Cursor at 0x7fdebd21e940>"
            ]
          },
          "metadata": {},
          "execution_count": 4
        }
      ]
    },
    {
      "cell_type": "markdown",
      "source": [
        "В метод cursor.execute() передается инструкция CREATE TABLE, которая создает таблицу people с тремя столбцами. Столбец id представляет идентификатор пользователя, хранит данные типа Integer, то есть число, и также представляет первичный ключ, значение которого будет автоматически генерироваться и инкрементироваться с каждой новой строкой. Второй столбец - name представляет строку - имя пользователя. И третий столбец - age представляет возраст пользователя.\n",
        "\n",
        "После выполнения скрипта мы можем открыть базу данных в каком-нибудь браузере баз данных SQLite, например, в DB Browser for SQLite и увидеть созданную таблицу"
      ],
      "metadata": {
        "id": "yiQpCULMpU0x"
      }
    },
    {
      "cell_type": "markdown",
      "source": [
        "## Основные операции с данными в SQLite"
      ],
      "metadata": {
        "id": "wlWbHb3zpVzD"
      }
    },
    {
      "cell_type": "markdown",
      "source": [
        "Рассмотрим основные операции с базой данных SQLite с помощью библиотеки sqlite3 на примере таблицы:"
      ],
      "metadata": {
        "id": "K43v7n7vpZJf"
      }
    },
    {
      "cell_type": "markdown",
      "source": [
        "\n",
        "\n",
        "```\n",
        "CREATE TABLE people (\n",
        "    id INTEGER PRIMARY KEY AUTOINCREMENT,  \n",
        "    name TEXT,\n",
        "    age INTEGER\n",
        ")\n",
        "```\n",
        "\n"
      ],
      "metadata": {
        "id": "HD3V_7YIpfpo"
      }
    },
    {
      "cell_type": "markdown",
      "source": [
        "## Добавление данных\n",
        "Для добавления данных применяется SQL-инструкция INSERT. Для добавления одной строки используем метод execute() объекта Cursor:"
      ],
      "metadata": {
        "id": "ak7Mwl6opkDx"
      }
    },
    {
      "cell_type": "code",
      "source": [
        "import sqlite3;\n",
        "\n",
        "con = sqlite3.connect(\"firstDB.db\")\n",
        "cursor = con.cursor()\n",
        "\n",
        "# Создание таблицы\n",
        "# Создание таблицы \"people\"\n",
        "cursor.execute('''CREATE TABLE IF NOT EXISTS people (\n",
        "                    id INTEGER PRIMARY KEY AUTOINCREMENT,\n",
        "                    name TEXT,\n",
        "                    age INTEGER\n",
        "                )''')\n",
        "\n",
        "# добавляем строку в таблицу people\n",
        "cursor.execute(\"INSERT INTO people (name, age) VALUES ('Tom', 38)\")\n",
        "# выполняем транзакцию\n",
        "con.commit()"
      ],
      "metadata": {
        "id": "F7tjtB85p1Qa"
      },
      "execution_count": null,
      "outputs": []
    },
    {
      "cell_type": "markdown",
      "source": [
        "## Множественная вставка\n",
        "Метод executemany() позволяет вставить набор строк:"
      ],
      "metadata": {
        "id": "KaR7qgELpmZE"
      }
    },
    {
      "cell_type": "code",
      "source": [
        "import sqlite3;\n",
        "\n",
        "con = sqlite3.connect(\"firstDB.db\")\n",
        "cursor = con.cursor()\n",
        "\n",
        "# данные для добавления\n",
        "people = [(\"Sam\", 28), (\"Alice\", 33), (\"Kate\", 25)]\n",
        "cursor.executemany(\"INSERT INTO people (name, age) VALUES (?, ?)\", people)\n",
        "\n",
        "con.commit()"
      ],
      "metadata": {
        "id": "UJ9wCRaDqXnc"
      },
      "execution_count": null,
      "outputs": []
    },
    {
      "cell_type": "markdown",
      "source": [
        "В метод cursor.executemany() по сути передается то же самое выражение SQL, только теперь данные определены в виде списка кортежей people. Фактически каждый кортеж в этом списке представляет отдельную строку - данные отдельного пользователя, и при выполнении метода для каждого кортежа будет создаваться свое выражение INSERT INTO"
      ],
      "metadata": {
        "id": "pNtsoXmFqc7H"
      }
    },
    {
      "cell_type": "markdown",
      "source": [
        "## Получение данных\n",
        "Для получения данных применяется SQL-команда SELECT. После выполнения этой команды курсор получает данные, которые можно получить с помощью одного из методов: fetchall() (возвращает список со всеми строками), fetchmany() (возвращает указанное количество строк) и fetchone() (возвращает одну в наборе строку).\n",
        "\n",
        "### Получение всех строк\n",
        "Например, получим все ранее добавленные данные из таблицы people:"
      ],
      "metadata": {
        "id": "dreXgOOqqiQt"
      }
    },
    {
      "cell_type": "code",
      "source": [
        "import sqlite3;\n",
        "\n",
        "con = sqlite3.connect(\"firstDB.db\")\n",
        "cursor = con.cursor()\n",
        "\n",
        "# получаем все данные из таблицы people\n",
        "cursor.execute(\"SELECT * FROM people\")\n",
        "print(cursor.fetchall())"
      ],
      "metadata": {
        "colab": {
          "base_uri": "https://localhost:8080/"
        },
        "id": "q7mKBVQrqkbe",
        "outputId": "2edd908b-94b0-4a6b-bf59-d0090c557702"
      },
      "execution_count": null,
      "outputs": [
        {
          "output_type": "stream",
          "name": "stdout",
          "text": [
            "[(1, 'Tom', 38), (2, 'Sam', 28), (3, 'Alice', 33), (4, 'Kate', 25)]\n"
          ]
        }
      ]
    },
    {
      "cell_type": "markdown",
      "source": [
        "При необходимости мы можем перебрать список, используя стандартные циклические конструкции:"
      ],
      "metadata": {
        "id": "Zn5_J3xQqpzW"
      }
    },
    {
      "cell_type": "code",
      "source": [
        "import sqlite3;\n",
        "\n",
        "con = sqlite3.connect(\"firstDB.db\")\n",
        "cursor = con.cursor()\n",
        "\n",
        "cursor.execute(\"SELECT * FROM people\")\n",
        "for person in cursor.fetchall():\n",
        "    print(f\"{person[1]} - {person[2]}\")"
      ],
      "metadata": {
        "colab": {
          "base_uri": "https://localhost:8080/"
        },
        "id": "X1R-DLzFqspS",
        "outputId": "14806679-22e6-4e61-8df8-04413b71e818"
      },
      "execution_count": null,
      "outputs": [
        {
          "output_type": "stream",
          "name": "stdout",
          "text": [
            "Tom - 38\n",
            "Sam - 28\n",
            "Alice - 33\n",
            "Kate - 25\n"
          ]
        }
      ]
    },
    {
      "cell_type": "markdown",
      "source": [
        "### Получение части строк\n",
        "Получение части строк с помощью метода fetchmany(), в который передается количество строк:"
      ],
      "metadata": {
        "id": "gujGHw1qq0Lx"
      }
    },
    {
      "cell_type": "code",
      "source": [
        "import sqlite3;\n",
        "\n",
        "con = sqlite3.connect(\"firstDB.db\")\n",
        "cursor = con.cursor()\n",
        "\n",
        "cursor.execute(\"SELECT * FROM people\")\n",
        "# извлекаем первые 3 строки в полученном наборе\n",
        "print(cursor.fetchmany(3))"
      ],
      "metadata": {
        "colab": {
          "base_uri": "https://localhost:8080/"
        },
        "id": "5zmDXcPwq5Ac",
        "outputId": "68268678-5333-4b37-a5ed-c9b94647005f"
      },
      "execution_count": null,
      "outputs": [
        {
          "output_type": "stream",
          "name": "stdout",
          "text": [
            "[(1, 'Tom', 38), (2, 'Sam', 28), (3, 'Alice', 33)]\n"
          ]
        }
      ]
    },
    {
      "cell_type": "markdown",
      "source": [
        "### Получение одной строки\n",
        "Метод fetchone() извлекает следующую строку в виде кортежа значений и возвращает его. Если строк больше нет, то возвращает None:\n",
        "\n"
      ],
      "metadata": {
        "id": "vp98Tg17q-Os"
      }
    },
    {
      "cell_type": "code",
      "source": [
        "import sqlite3;\n",
        "\n",
        "con = sqlite3.connect(\"firstDB.db\")\n",
        "cursor = con.cursor()\n",
        "\n",
        "cursor.execute(\"SELECT * FROM people\")\n",
        "# извлекаем одну строку\n",
        "print(cursor.fetchone())    # (1, 'Tom', 38)"
      ],
      "metadata": {
        "colab": {
          "base_uri": "https://localhost:8080/"
        },
        "id": "QNGW8qOLrELi",
        "outputId": "da88928d-efae-4f20-807c-81962705cbe5"
      },
      "execution_count": null,
      "outputs": [
        {
          "output_type": "stream",
          "name": "stdout",
          "text": [
            "(1, 'Tom', 38)\n"
          ]
        }
      ]
    },
    {
      "cell_type": "markdown",
      "source": [
        "Данный метод удобно применять, когда нам надо извлечь из базы данных только один объект:"
      ],
      "metadata": {
        "id": "BmR6Q6IZrI5A"
      }
    },
    {
      "cell_type": "code",
      "source": [
        "import sqlite3;\n",
        "\n",
        "con = sqlite3.connect(\"firstDB.db\")\n",
        "cursor = con.cursor()\n",
        "\n",
        "cursor.execute(\"SELECT name, age FROM people WHERE id=2\")\n",
        "# раскладываем кортеж на две переменных\n",
        "name, age = cursor.fetchone()\n",
        "print(f\"Name: {name}    Age: {age}\")    # Name: Bob   Age: 42"
      ],
      "metadata": {
        "colab": {
          "base_uri": "https://localhost:8080/"
        },
        "id": "DwNpq4GCrMJN",
        "outputId": "575a4b2d-c77d-48c2-ed00-f2ed72d94560"
      },
      "execution_count": null,
      "outputs": [
        {
          "output_type": "stream",
          "name": "stdout",
          "text": [
            "Name: Sam    Age: 28\n"
          ]
        }
      ]
    },
    {
      "cell_type": "markdown",
      "source": [
        "Здесь получаем из бд строку с id=2, и полученный результат раскладываем на две переменных name и age (так как кортеж в Python можно разложить на отдельные значения)\n",
        "\n",
        "## Обновление\n",
        "Для обновления в SQL выполняется команда UPDATE. Например, заменим у всех пользователей имя с Tom на Tomas:"
      ],
      "metadata": {
        "id": "PgRhXhvtrPJJ"
      }
    },
    {
      "cell_type": "code",
      "source": [
        "import sqlite3;\n",
        "\n",
        "con = sqlite3.connect(\"firstDB.db\")\n",
        "cursor = con.cursor()\n",
        "\n",
        "# обновляем строки, где name = Tom\n",
        "cursor.execute(\"UPDATE people SET name ='Tomas' WHERE name='Tom'\")\n",
        "# вариант с подстановками\n",
        "# cursor.execute(\"UPDATE people SET name =? WHERE name=?\", (\"Tomas\", \"Tom\"))\n",
        "con.commit()\n",
        "\n",
        "# проверяем\n",
        "cursor.execute(\"SELECT * FROM people\")\n",
        "print(cursor.fetchall())    # [(1, 'Tomas', 38), (2, 'Bob', 42), (3, 'Sam', 28), (4, 'Alice', 33), (5, 'Kate', 25)]"
      ],
      "metadata": {
        "colab": {
          "base_uri": "https://localhost:8080/"
        },
        "id": "9GiAs3z6rUHv",
        "outputId": "b7a88d82-788d-45b1-bee0-7c4907a1ae75"
      },
      "execution_count": null,
      "outputs": [
        {
          "output_type": "stream",
          "name": "stdout",
          "text": [
            "[(1, 'Tomas', 38), (2, 'Sam', 28), (3, 'Alice', 33), (4, 'Kate', 25)]\n"
          ]
        }
      ]
    },
    {
      "cell_type": "markdown",
      "source": [
        "Для выполнения обновления также надо выполнять метод con.commit()\n",
        "\n",
        "## Удаление данных\n",
        "Для удаления в SQL выполняется команда DЕLETE. Например, удалим всех пользователей с именем Bob:"
      ],
      "metadata": {
        "id": "X2bvSUv7rbz6"
      }
    },
    {
      "cell_type": "code",
      "source": [
        "import sqlite3;\n",
        "\n",
        "con = sqlite3.connect(\"firstDB.db\")\n",
        "cursor = con.cursor()\n",
        "\n",
        "# обновляем строки, где name = Tom\n",
        "cursor.execute(\"DELETE FROM people WHERE name=?\", (\"Bob\",))\n",
        "con.commit()\n",
        "\n",
        "# проверяем\n",
        "cursor.execute(\"SELECT * FROM people\")\n",
        "print(cursor.fetchall())    # [(1, 'Tomas', 38), (3, 'Sam', 28), (4, 'Alice', 33), (5, 'Kate', 25)]\n"
      ],
      "metadata": {
        "colab": {
          "base_uri": "https://localhost:8080/"
        },
        "id": "NKTGsszGrdq1",
        "outputId": "3bf41803-acdd-43fa-c228-b455caeb9509"
      },
      "execution_count": null,
      "outputs": [
        {
          "output_type": "stream",
          "name": "stdout",
          "text": [
            "[(1, 'Tomas', 38), (2, 'Sam', 28), (3, 'Alice', 33), (4, 'Kate', 25)]\n"
          ]
        }
      ]
    },
    {
      "cell_type": "markdown",
      "source": [
        "Для выполнения удаления также надо выполнять метод con.commit()"
      ],
      "metadata": {
        "id": "6lENywewrjor"
      }
    },
    {
      "cell_type": "markdown",
      "source": [
        "Допустим, у нас есть две таблицы: \"users\" и \"orders\". Мы можем использовать операторы SQL для выполнения запросов, объединяющих данные из обеих таблиц. Ниже приведен пример работы с двумя таблицами:"
      ],
      "metadata": {
        "id": "AxJXOVahrltl"
      }
    },
    {
      "cell_type": "code",
      "source": [
        "import sqlite3\n",
        "\n",
        "# Создание подключения к базе данных\n",
        "conn = sqlite3.connect('example.db')\n",
        "\n",
        "# Создание курсора для выполнения запросов\n",
        "cursor = conn.cursor()\n",
        "\n",
        "# Создание таблицы \"users\"\n",
        "cursor.execute('''CREATE TABLE IF NOT EXISTS users (\n",
        "                    id INTEGER PRIMARY KEY AUTOINCREMENT,\n",
        "                    name TEXT,\n",
        "                    email TEXT\n",
        "                )''')\n",
        "\n",
        "# Создание таблицы \"orders\"\n",
        "cursor.execute('''CREATE TABLE IF NOT EXISTS orders (\n",
        "                    id INTEGER PRIMARY KEY AUTOINCREMENT,\n",
        "                    user_id INTEGER,\n",
        "                    product TEXT,\n",
        "                    FOREIGN KEY (user_id) REFERENCES users(id)\n",
        "                )''')\n",
        "\n",
        "# Вставка данных в таблицу \"users\"\n",
        "cursor.execute(\"INSERT INTO users (name, email) VALUES ('Alice', 'alice@example.com')\")\n",
        "cursor.execute(\"INSERT INTO users (name, email) VALUES ('Bob', 'bob@example.com')\")\n",
        "\n",
        "# Вставка данных в таблицу \"orders\"\n",
        "cursor.execute(\"INSERT INTO orders (user_id, product) VALUES (1, 'Product A')\")\n",
        "cursor.execute(\"INSERT INTO orders (user_id, product) VALUES (2, 'Product B')\")\n",
        "\n",
        "# Выполнение запроса для объединения данных из обеих таблиц\n",
        "cursor.execute(\"SELECT users.name, orders.product FROM users INNER JOIN orders ON users.id = orders.user_id\")\n",
        "\n",
        "# Получение результатов\n",
        "results = cursor.fetchall()\n",
        "print(results)\n",
        "\n",
        "# Закрытие подключения\n",
        "conn.close()\n"
      ],
      "metadata": {
        "colab": {
          "base_uri": "https://localhost:8080/"
        },
        "id": "l3_pdn0wrxu5",
        "outputId": "123eaaf1-2dda-48dc-a8f7-73c5e7e03135"
      },
      "execution_count": null,
      "outputs": [
        {
          "output_type": "stream",
          "name": "stdout",
          "text": [
            "[('Alice', 'Product A'), ('Bob', 'Product B')]\n"
          ]
        }
      ]
    },
    {
      "cell_type": "markdown",
      "source": [
        "Пример 1: Обновление данных в одной таблице на основе данных из другой таблицы:"
      ],
      "metadata": {
        "id": "vM87PnOqsGPi"
      }
    },
    {
      "cell_type": "code",
      "source": [
        "import sqlite3\n",
        "\n",
        "# Создание подключения к базе данных\n",
        "conn = sqlite3.connect('example.db')\n",
        "\n",
        "# Создание курсора для выполнения запросов\n",
        "cursor = conn.cursor()\n",
        "\n",
        "# Обновление данных в одной таблице на основе данных из другой таблицы\n",
        "cursor.execute(\"UPDATE users SET email = (SELECT email FROM orders WHERE orders.user_id = users.id) WHERE id = 1\")\n",
        "\n",
        "# Сохранение изменений\n",
        "conn.commit()\n",
        "\n",
        "# Закрытие подключения\n",
        "conn.close()\n"
      ],
      "metadata": {
        "id": "vMQer5VcsH02"
      },
      "execution_count": null,
      "outputs": []
    },
    {
      "cell_type": "markdown",
      "source": [
        "**Пример 2:** Удаление данных из одной таблицы на основе условия из другой таблицы:"
      ],
      "metadata": {
        "id": "IuGgkm2ysKKk"
      }
    },
    {
      "cell_type": "code",
      "source": [
        "import sqlite3\n",
        "\n",
        "# Создание подключения к базе данных\n",
        "conn = sqlite3.connect('example.db')\n",
        "\n",
        "# Создание курсора для выполнения запросов\n",
        "cursor = conn.cursor()\n",
        "\n",
        "# Удаление данных из одной таблицы на основе условия из другой таблицы\n",
        "cursor.execute(\"DELETE FROM users WHERE id IN (SELECT user_id FROM orders WHERE product = 'Product B')\")\n",
        "\n",
        "# Сохранение изменений\n",
        "conn.commit()\n",
        "\n",
        "# Закрытие подключения\n",
        "conn.close()"
      ],
      "metadata": {
        "id": "zMMhbws8sORC"
      },
      "execution_count": null,
      "outputs": []
    },
    {
      "cell_type": "markdown",
      "source": [
        "В базе данных SQLite вы можете тоже использовать оператор SQL GROUP BY для группировки данных по определенному столбцу или столбцам. Это позволяет вам выполнять агрегатные функции, такие как COUNT, SUM, AVG и другие, для каждой группы значений.\n",
        "\n",
        "Вот пример использования оператора GROUP BY:"
      ],
      "metadata": {
        "id": "QOGkO5vWsbQC"
      }
    },
    {
      "cell_type": "code",
      "source": [
        "import sqlite3\n",
        "\n",
        "# Создание подключения к базе данных\n",
        "conn = sqlite3.connect('example.db')\n",
        "\n",
        "# Создание курсора для выполнения запросов\n",
        "cursor = conn.cursor()\n",
        "\n",
        "# Создание таблицы \"employees\"\n",
        "cursor.execute('''CREATE TABLE IF NOT EXISTS employees (\n",
        "                    id INTEGER PRIMARY KEY AUTOINCREMENT,\n",
        "                    name TEXT,\n",
        "                    department TEXT,\n",
        "                    salary INTEGER\n",
        "                )''')\n",
        "\n",
        "# Вставка данных в таблицу \"employees\"\n",
        "cursor.execute(\"INSERT INTO employees (name, department, salary) VALUES ('Alice', 'HR', 50000)\")\n",
        "cursor.execute(\"INSERT INTO employees (name, department, salary) VALUES ('Bob', 'Sales', 60000)\")\n",
        "cursor.execute(\"INSERT INTO employees (name, department, salary) VALUES ('Charlie', 'HR', 55000)\")\n",
        "cursor.execute(\"INSERT INTO employees (name, department, salary) VALUES ('David', 'IT', 65000)\")\n",
        "\n",
        "# Выполнение запроса и группировка данных по столбцу \"department\"\n",
        "cursor.execute(\"SELECT department, COUNT(*), AVG(salary) FROM employees GROUP BY department\")\n",
        "\n",
        "# Получение результатов\n",
        "results = cursor.fetchall()\n",
        "for row in results:\n",
        "    print(row)\n",
        "\n",
        "# Закрытие подключения\n",
        "conn.close()"
      ],
      "metadata": {
        "colab": {
          "base_uri": "https://localhost:8080/"
        },
        "id": "hzkIwsPOsd8Y",
        "outputId": "f9cb4061-5109-4418-8966-18b9912c41c5"
      },
      "execution_count": null,
      "outputs": [
        {
          "output_type": "stream",
          "name": "stdout",
          "text": [
            "('HR', 2, 52500.0)\n",
            "('IT', 1, 65000.0)\n",
            "('Sales', 1, 60000.0)\n"
          ]
        }
      ]
    },
    {
      "cell_type": "markdown",
      "source": [
        "Для преобразования данных из базы данных SQLite в формат JSON вам потребуется использовать язык программирования, который поддерживает работу с базами данных SQLite и имеет встроенные или сторонние библиотеки для работы с JSON.\n",
        "\n",
        "Вот пример использования Python для выполнения этой задачи:"
      ],
      "metadata": {
        "id": "JGlODYHGs7T2"
      }
    },
    {
      "cell_type": "code",
      "source": [
        "import sqlite3\n",
        "import json\n",
        "\n",
        "# Создание подключения к базе данных\n",
        "conn = sqlite3.connect('example.db')\n",
        "\n",
        "# Создание курсора для выполнения запросов\n",
        "cursor = conn.cursor()\n",
        "\n",
        "# Создание таблицы \"employees\"\n",
        "cursor.execute('''CREATE TABLE IF NOT EXISTS employees (\n",
        "                    id INTEGER PRIMARY KEY AUTOINCREMENT,\n",
        "                    name TEXT,\n",
        "                    department TEXT,\n",
        "                    salary INTEGER\n",
        "                )''')\n",
        "\n",
        "# Вставка данных в таблицу \"employees\"\n",
        "cursor.execute(\"INSERT INTO employees (name, department, salary) VALUES ('Alice', 'HR', 50000)\")\n",
        "cursor.execute(\"INSERT INTO employees (name, department, salary) VALUES ('Bob', 'Sales', 60000)\")\n",
        "cursor.execute(\"INSERT INTO employees (name, department, salary) VALUES ('Charlie', 'HR', 55000)\")\n",
        "cursor.execute(\"INSERT INTO employees (name, department, salary) VALUES ('David', 'IT', 65000)\")\n",
        "\n",
        "# Выполнение запроса для выборки данных из таблицы и преобразование в JSON\n",
        "cursor.execute(\"SELECT * FROM employees\")\n",
        "rows = cursor.fetchall()\n",
        "print(rows)\n",
        "# Преобразование данных в формат JSON\n",
        "result = []\n",
        "for row in rows:\n",
        "    result.append({\n",
        "        \"id\": row[0],\n",
        "        \"name\": row[1],\n",
        "        \"department\": row[2],\n",
        "        \"salary\": row[3]\n",
        "    })\n",
        "\n",
        "json_data = json.dumps(result, indent=4)\n",
        "print(json_data)\n",
        "\n",
        "# Закрытие подключения\n",
        "conn.close()"
      ],
      "metadata": {
        "colab": {
          "base_uri": "https://localhost:8080/"
        },
        "id": "frJdPYQys8As",
        "outputId": "aec79a6f-e399-4153-c694-2a66115da244"
      },
      "execution_count": null,
      "outputs": [
        {
          "output_type": "stream",
          "name": "stdout",
          "text": [
            "[(1, 'Alice', 'HR', 50000), (2, 'Bob', 'Sales', 60000), (3, 'Charlie', 'HR', 55000), (4, 'David', 'IT', 65000)]\n",
            "[\n",
            "    {\n",
            "        \"id\": 1,\n",
            "        \"name\": \"Alice\",\n",
            "        \"department\": \"HR\",\n",
            "        \"salary\": 50000\n",
            "    },\n",
            "    {\n",
            "        \"id\": 2,\n",
            "        \"name\": \"Bob\",\n",
            "        \"department\": \"Sales\",\n",
            "        \"salary\": 60000\n",
            "    },\n",
            "    {\n",
            "        \"id\": 3,\n",
            "        \"name\": \"Charlie\",\n",
            "        \"department\": \"HR\",\n",
            "        \"salary\": 55000\n",
            "    },\n",
            "    {\n",
            "        \"id\": 4,\n",
            "        \"name\": \"David\",\n",
            "        \"department\": \"IT\",\n",
            "        \"salary\": 65000\n",
            "    }\n",
            "]\n"
          ]
        }
      ]
    },
    {
      "cell_type": "markdown",
      "source": [
        "В этом примере мы выбираем данные из таблицы \"employees\" в базе данных SQLite, преобразуем результаты запроса в формат JSON с помощью библиотеки json, и затем выводим полученный JSON.\n"
      ],
      "metadata": {
        "id": "P_r9HQF5tPrq"
      }
    },
    {
      "cell_type": "markdown",
      "source": [
        "Для преобразования данных из формата JSON в базу данных SQLite вы можете использовать язык программирования, такой как Python. Вот пример того, как это можно сделать:"
      ],
      "metadata": {
        "id": "23z2Uts2tcuH"
      }
    },
    {
      "cell_type": "code",
      "source": [
        "import sqlite3\n",
        "import json\n",
        "\n",
        "# JSON данные\n",
        "json_data = '''\n",
        "[\n",
        "    {\n",
        "        \"id\": 1,\n",
        "        \"name\": \"Alice\",\n",
        "        \"department\": \"HR\",\n",
        "        \"salary\": 50000\n",
        "    },\n",
        "    {\n",
        "        \"id\": 2,\n",
        "        \"name\": \"Bob\",\n",
        "        \"department\": \"Sales\",\n",
        "        \"salary\": 60000\n",
        "    },\n",
        "    {\n",
        "        \"id\": 3,\n",
        "        \"name\": \"Charlie\",\n",
        "        \"department\": \"HR\",\n",
        "        \"salary\": 55000\n",
        "    }\n",
        "]\n",
        "'''\n",
        "\n",
        "# Преобразование JSON данных в словарь Python\n",
        "data = json.loads(json_data)\n",
        "\n",
        "# Создание новой базы данных SQLite\n",
        "conn = sqlite3.connect('example.db')\n",
        "cursor = conn.cursor()\n",
        "\n",
        "# Создание таблицы для хранения JSON данных\n",
        "cursor.execute('''CREATE TABLE IF NOT EXISTS employees (\n",
        "                    id INTEGER PRIMARY KEY,\n",
        "                    name TEXT,\n",
        "                    department TEXT,\n",
        "                    salary INTEGER\n",
        "                )''')\n",
        "\n",
        "# Вставка JSON данных в базу данных SQLite\n",
        "for row in data:\n",
        "    cursor.execute(\"INSERT INTO employees (id, name, department, salary) VALUES (?, ?, ?, ?)\", (row['id'], row['name'], row['department'], row['salary']))\n",
        "\n",
        "# Применение изменений и закрытие подключения\n",
        "conn.commit()\n",
        "conn.close()\n"
      ],
      "metadata": {
        "id": "a7oqm2KdtkyP"
      },
      "execution_count": null,
      "outputs": []
    },
    {
      "cell_type": "markdown",
      "source": [
        "Для преобразования данных из базы данных SQLite в формат XML и из формата XML в базу данных SQLite, вы можете использовать язык программирования, такой как Python, совместно с соответствующими библиотеками для работы с SQLite и XML.\n",
        "\n",
        "Вот пример того, как можно преобразовать данные из базы данных SQLite в формат XML и наоборот, используя Python:\n",
        "\n",
        "## Преобразование данных из SQLite в XML:"
      ],
      "metadata": {
        "id": "kLSbYyy2tYd8"
      }
    },
    {
      "cell_type": "code",
      "source": [
        "import sqlite3\n",
        "import xml.etree.ElementTree as ET\n",
        "\n",
        "# Создание подключения к базе данных SQLite\n",
        "conn = sqlite3.connect('example.db')\n",
        "cursor = conn.cursor()\n",
        "\n",
        "# Выборка данных из таблицы и преобразование в XML\n",
        "cursor.execute(\"SELECT * FROM employees\")\n",
        "rows = cursor.fetchall()\n",
        "\n",
        "# Создание корневого элемента XML\n",
        "root = ET.Element(\"employees\")\n",
        "\n",
        "# Добавление данных в XML\n",
        "for row in rows:\n",
        "    employee = ET.SubElement(root, \"employee\")\n",
        "    id = ET.SubElement(employee, \"id\")\n",
        "    id.text = str(row[0])\n",
        "    name = ET.SubElement(employee, \"name\")\n",
        "    name.text = row[1]\n",
        "    department = ET.SubElement(employee, \"department\")\n",
        "    department.text = row[2]\n",
        "    salary = ET.SubElement(employee, \"salary\")\n",
        "    salary.text = str(row[3])\n",
        "\n",
        "# Создание объекта ElementTree и запись в файл\n",
        "tree = ET.ElementTree(root)\n",
        "tree.write(\"employees.xml\")\n",
        "\n",
        "# Закрытие подключения\n",
        "conn.close()"
      ],
      "metadata": {
        "id": "PhOQbR-ht7Tk"
      },
      "execution_count": null,
      "outputs": []
    },
    {
      "cell_type": "markdown",
      "source": [
        "## Преобразование данных из XML в SQLite:"
      ],
      "metadata": {
        "id": "o8BEy2ZMuCjK"
      }
    },
    {
      "cell_type": "code",
      "source": [
        "import sqlite3\n",
        "import xml.etree.ElementTree as ET\n",
        "\n",
        "# Чтение данных из XML файла\n",
        "tree = ET.parse('employees.xml')\n",
        "root = tree.getroot()\n",
        "\n",
        "# Создание подключения к базе данных SQLite\n",
        "conn = sqlite3.connect('example.db')\n",
        "cursor = conn.cursor()\n",
        "\n",
        "# Создание таблицы для хранения данных\n",
        "cursor.execute('''CREATE TABLE IF NOT EXISTS employees (\n",
        "                    id INTEGER PRIMARY KEY,\n",
        "                    name TEXT,\n",
        "                    department TEXT,\n",
        "                    salary INTEGER\n",
        "                )''')\n",
        "\n",
        "# Вставка данных из XML в базу данных SQLite\n",
        "for employee in root.findall('employee'):\n",
        "    id = int(employee.find('id').text)\n",
        "    name = employee.find('name').text\n",
        "    department = employee.find('department').text\n",
        "    salary = int(employee.find('salary').text)\n",
        "\n",
        "    # Проверка наличия записи с таким же id перед вставкой\n",
        "    cursor.execute(\"SELECT * FROM employees WHERE id=?\", (id,))\n",
        "    existing_record = cursor.fetchone()\n",
        "\n",
        "    if existing_record is None:\n",
        "        cursor.execute(\"INSERT INTO employees (id, name, department, salary) VALUES (?, ?, ?, ?)\", (id, name, department, salary))\n",
        "\n",
        "# Применение изменений и закрытие подключения\n",
        "conn.commit()\n",
        "conn.close()"
      ],
      "metadata": {
        "id": "aMpYH-dKuGGl"
      },
      "execution_count": null,
      "outputs": []
    }
  ]
}